{
  "nbformat": 4,
  "nbformat_minor": 0,
  "metadata": {
    "colab": {
      "provenance": [],
      "authorship_tag": "ABX9TyMYSHz9p/EMTvZocjgqkj4h",
      "include_colab_link": true
    },
    "kernelspec": {
      "name": "python3",
      "display_name": "Python 3"
    },
    "language_info": {
      "name": "python"
    }
  },
  "cells": [
    {
      "cell_type": "markdown",
      "metadata": {
        "id": "view-in-github",
        "colab_type": "text"
      },
      "source": [
        "<a href=\"https://colab.research.google.com/github/Harsimran-Dalal/Advance-Python/blob/main/AdvancePython_1Q_6Q.ipynb\" target=\"_parent\"><img src=\"https://colab.research.google.com/assets/colab-badge.svg\" alt=\"Open In Colab\"/></a>"
      ]
    },
    {
      "cell_type": "markdown",
      "source": [
        "### Q1. Create a file that contains 1000 lines of random strings.\n"
      ],
      "metadata": {
        "id": "pbwUf71tWebQ"
      }
    },
    {
      "cell_type": "code",
      "source": [
        "import random as r\n",
        "import string as s\n",
        "\n",
        "file = open('random stings','w')\n",
        "\n",
        "for i in range(1000):\n",
        "  stringSize = r.randint(10,15)\n",
        "  sampleString = r.sample(s.ascii_letters + s.digits, stringSize)\n",
        "  file.write(''.join(sampleString)+ '\\n')\n",
        "\n",
        "print('file created')"
      ],
      "metadata": {
        "colab": {
          "base_uri": "https://localhost:8080/"
        },
        "id": "szWSjAPiWpCy",
        "outputId": "68b3ed7b-d688-4827-93fa-fa5a7bdce4c9"
      },
      "execution_count": null,
      "outputs": [
        {
          "output_type": "stream",
          "name": "stdout",
          "text": [
            "file created\n"
          ]
        }
      ]
    },
    {
      "cell_type": "markdown",
      "source": [
        "### Q2. Create a file that contains multiple lines of random strings and file size must be 5 MB."
      ],
      "metadata": {
        "id": "_0sVR6Q9nARq"
      }
    },
    {
      "cell_type": "code",
      "source": [
        "#imports\n",
        "import random as r\n",
        "import string as s"
      ],
      "metadata": {
        "id": "AHmHVJ_4nCWW"
      },
      "execution_count": null,
      "outputs": []
    },
    {
      "cell_type": "code",
      "source": [
        "#Function definition\n",
        "def GenerateRandomString(stringsize):\n",
        "  #def GenerateRandomString(stringSize):: Defines a function named GenerateRandomString that takes a parameter stringSize.\n",
        "  return ''.join(r.choice(s.ascii_letters + s.digits) for i in range (stringSize))\n",
        "\n",
        "  #'r.choice' to randomly select a character from a combination of ASCII letters ('s.ascii_letters') and digits ('s.digits').\n",
        "  # diff. beteween r.choice and r.sample is that elements selected from a given set can be repeated in r.choice but unique in case of r.sample\n",
        "  # ''.join(... for i in range(stringSize)): Joins the randomly selected characters into a single string of length 'stringSize'."
      ],
      "metadata": {
        "id": "sUmZfHZEqhj7"
      },
      "execution_count": null,
      "outputs": []
    },
    {
      "cell_type": "code",
      "source": [
        "# Parameters and Initialization\n",
        "FileSizeMB = 5   # parameter\n",
        "byteTotal = FileSizeMB * 1024 * 1024  # convert megabytes to bytes\n",
        "bytesWritten = 0  # Initializes"
      ],
      "metadata": {
        "id": "TDQkadf5tXHe"
      },
      "execution_count": null,
      "outputs": []
    },
    {
      "cell_type": "code",
      "source": [
        "# File Writing\n",
        "with open('randomstrings5MB','w') as file:  #  The 'with' statement ensures the file is properly closed after writing.\n",
        "  while bytesWritten <= byteTotal:\n",
        "    stringSize = r.randint(10,15)\n",
        "    sampleString = GenerateRandomString(stringSize)  # Generates a random string of the selected size.\n",
        "    file.write(sampleString + '\\n')  # Writes the generated string to the file, followed by a newline character ('\\n').\n",
        "    bytesWritten += len(sampleString) + 1 # Updates the counter for the total bytes written."
      ],
      "metadata": {
        "id": "l597l-WFuP5L"
      },
      "execution_count": null,
      "outputs": []
    },
    {
      "cell_type": "code",
      "source": [
        "print(\"completed\")"
      ],
      "metadata": {
        "colab": {
          "base_uri": "https://localhost:8080/"
        },
        "id": "LT0T-DbkxUYi",
        "outputId": "23729f3f-f041-4ae3-ebe3-597cd8b9147b"
      },
      "execution_count": null,
      "outputs": [
        {
          "output_type": "stream",
          "name": "stdout",
          "text": [
            "completed\n"
          ]
        }
      ]
    },
    {
      "cell_type": "markdown",
      "source": [
        "### Q3. Create 10 files that contains multiple lines of random strings and file size of each file must be 5 MB."
      ],
      "metadata": {
        "id": "4tPklACdA_vB"
      }
    },
    {
      "cell_type": "code",
      "source": [
        "import random as r\n",
        "import string as s\n",
        "\n",
        "def GenerateRandomString(stringSize):\n",
        "  return ''.join(r.choice(s.ascii_letters + s.digits) for i in range(stringSize))\n",
        "\n",
        "for i in range(10):\n",
        "  FileSizeMB = 5\n",
        "  byteTotal = 5 * 1024 * 1024\n",
        "  bytesWritten = 0\n",
        "\n",
        "  with open(f'randomstrings{i}','w') as file:\n",
        "    while bytesWritten <= byteTotal:\n",
        "      stringSize = r.randint(10,15)\n",
        "      sampleString = GenerateRandomString(stringSize)\n",
        "      file.write(sampleString + '\\n')\n",
        "      bytesWritten += len(sampleString) + 1\n",
        "\n",
        "print(\"Operation Completed\")"
      ],
      "metadata": {
        "colab": {
          "base_uri": "https://localhost:8080/"
        },
        "id": "yWw8iMt6BBd0",
        "outputId": "4453ff6f-2bce-4933-95b3-c9c6e40a4be7"
      },
      "execution_count": null,
      "outputs": [
        {
          "output_type": "stream",
          "name": "stdout",
          "text": [
            "Operation Completed\n"
          ]
        }
      ]
    },
    {
      "cell_type": "code",
      "source": [
        "# On each iteration, this line opens a file with a name that includes the current value of 'i'.\n",
        "# In the first iteration, it opens a file named 'randomStrings0' in write mode.\n",
        "# In the second iteration, it opens a file named 'randomStrings1', and so on, until 'randomStrings4'.\n",
        "#"
      ],
      "metadata": {
        "id": "7EdZJZW_HgyH"
      },
      "execution_count": null,
      "outputs": []
    },
    {
      "cell_type": "markdown",
      "source": [
        "\n",
        "### Q4. Create 5 files of size 1GB, 2GB, 3GB, 4GB and 5GB; file contains multiple lines of random strings.\n",
        "\n"
      ],
      "metadata": {
        "id": "-bIZQUMjEVi6"
      }
    },
    {
      "cell_type": "code",
      "source": [
        "import random as r\n",
        "import string as s\n",
        "import os #   provides functions to interact with the operating system.\n",
        "import base64 #  provides functions for encoding and decoding data using Base64 encoding."
      ],
      "metadata": {
        "id": "He1KzzVpEdno"
      },
      "execution_count": null,
      "outputs": []
    },
    {
      "cell_type": "code",
      "source": [
        "# function definition\n",
        "\n",
        "def GenerateRandomString(stringSize):\n",
        "  randomBytes = os.urandom(stringSize)\n",
        "  # Generates 'stringSize' random bytes using 'os.urandom', which provides cryptographic-quality randomness.\n",
        "  return base64.b64encode(randomBytes).decode('utf-8')\n",
        "  # Encodes the random bytes into a Base64 string and then decodes it into a UTF-8 string. Base64 encoding is used to ensure the random data can be safely written to a text file."
      ],
      "metadata": {
        "id": "3YQUXGyrTf8R"
      },
      "execution_count": null,
      "outputs": []
    },
    {
      "cell_type": "code",
      "source": [
        "# Main Script\n",
        "if __name__ = '__main__':\n",
        "  #Ensures that this block of code only runs if the script is executed directly (not imported as a module).\n",
        "  filesizes = [1,2,3,4,5]\n",
        "  # Defines a list of file sizes in gigabytes (GB) that the script will generate."
      ],
      "metadata": {
        "id": "zKTlNJYzZbmX"
      },
      "execution_count": null,
      "outputs": []
    },
    {
      "cell_type": "code",
      "source": [
        "# Directory Creation\n",
        "os.makedirs('Input', exist_ok=True)\n",
        "#Creates a directory named 'Input'. If the directory already exists, it does nothing (thanks to 'exist_ok=True')."
      ],
      "metadata": {
        "id": "30qLcSh3Z4CC"
      },
      "execution_count": null,
      "outputs": []
    },
    {
      "cell_type": "code",
      "source": [
        "# File Generation Loop\n",
        "for i in filesizes:\n",
        "  filesizeMB = i * 1024\n",
        "  bytesTotal = FileSizeMB * 1024 * 1024\n",
        "  chunkSize = 10 * 1024 * 1024        # 10mb chunk size\n",
        "  bytesWritten = 0\n",
        "\n",
        "  filePath = os.path.join('Input', f'randomStrings{i}GB.txt')\n",
        "  #  Constructs the file path by joining the 'Input' directory with the file name randomStrings{i}GB.txt, where {i} is the current file size in GB.\n",
        "\n",
        "  with open(filePath, 'w') as file:\n",
        "    while bytesWritten < bytesTotal:\n",
        "       remainingBytes = bytesTotal - bytesWritten\n",
        "       currentChuckSize = min(chunkSize, remainingBytes)  # Determines the size of the current chunk to write, which is the smaller of the predefined chunk size and the remaining bytes.\n",
        "       randomChunk = GenerateRandomString(currentChuckSize)\n",
        "       file.write(randomChunk)\n",
        "       bytesWritten += len(randomChunk.encode('utf-8'))\n",
        "\n",
        "  print(f'Operation completed for {i} GB')"
      ],
      "metadata": {
        "id": "EQN0DvWPaPDs"
      },
      "execution_count": null,
      "outputs": []
    },
    {
      "cell_type": "code",
      "source": [
        "print (filePath)"
      ],
      "metadata": {
        "id": "nY-cW5s_kIll"
      },
      "execution_count": null,
      "outputs": []
    },
    {
      "cell_type": "code",
      "source": [
        "import os\n",
        "os.getcwd() #to retrieve the current working directory"
      ],
      "metadata": {
        "id": "yXdNZWzpkJe8"
      },
      "execution_count": null,
      "outputs": []
    },
    {
      "cell_type": "code",
      "source": [
        "# This process ensures that large files are generated efficiently without consuming excessive memory, and the use of Base64 encoding makes sure the random data is safely written to the files."
      ],
      "metadata": {
        "id": "3KGEN0oIjg2w"
      },
      "execution_count": null,
      "outputs": []
    },
    {
      "cell_type": "markdown",
      "source": [
        "### Q5. Convert all the files of Q4 into upper case one by one."
      ],
      "metadata": {
        "id": "eWa12lGWjhYq"
      }
    },
    {
      "cell_type": "code",
      "source": [
        "import os\n",
        "\n",
        "def convertToUpperCase(inputDirectory, outputDirectory):\n",
        "  os.makedirs(outputDirectory, exist_ok = True) #Creates the outputDirectory if it does not already exist.\n",
        "\n",
        "for filename in os.listdir(inputDirectory):\n",
        "  inputFilePath = os.path.join(inputDirectory, filename)\n",
        "  # Constructs the full path to the input file by joining the inputDirectory and fileName.\n",
        "  outputFilePath = os.path,join(outputDirectory, 'Uppercase'+filename)\n",
        "\n",
        "  with open(inputFilePath, 'r') as inputFile:\n",
        "    with open(inputFilePath, 'w') as outputFile:\n",
        "      for line in inputFile:  #Iterates over each line in the input file.\n",
        "        outputFile.write(line.upper())\n",
        "\n",
        "  print(f'conversion of {filename} successful')\n",
        "\n",
        "if __name__ == '__main__':\n",
        "  convertToUpperCase('Input','Output')\n"
      ],
      "metadata": {
        "colab": {
          "base_uri": "https://localhost:8080/",
          "height": 106
        },
        "id": "wqLRVLIYlSA6",
        "outputId": "60eb5feb-236e-46c0-f17e-c3851c699dba"
      },
      "execution_count": null,
      "outputs": [
        {
          "output_type": "error",
          "ename": "SyntaxError",
          "evalue": "incomplete input (<ipython-input-10-b9c6299960af>, line 6)",
          "traceback": [
            "\u001b[0;36m  File \u001b[0;32m\"<ipython-input-10-b9c6299960af>\"\u001b[0;36m, line \u001b[0;32m6\u001b[0m\n\u001b[0;31m    for filename in os.listdir(inputDirectory):\u001b[0m\n\u001b[0m                                               ^\u001b[0m\n\u001b[0;31mSyntaxError\u001b[0m\u001b[0;31m:\u001b[0m incomplete input\n"
          ]
        }
      ]
    },
    {
      "cell_type": "markdown",
      "source": [
        "### Q6. Convert all the files of Q4 into upper case parallel using multi-threading."
      ],
      "metadata": {
        "id": "LQvznYcWuHYt"
      }
    },
    {
      "cell_type": "code",
      "source": [
        "import os\n",
        "import concurrent.features\n",
        "# Imports the 'concurrent.futures' module, which provides a high-level interface for asynchronously executing functions using threads or processes.\n",
        "# In this code, we are using 'ThreadPoolExecutor' from this module to handle multithreading."
      ],
      "metadata": {
        "id": "jkTiy287uKOh"
      },
      "execution_count": null,
      "outputs": []
    },
    {
      "cell_type": "code",
      "source": [
        "def convertFileToUpperCase(inputFileName, outputFileName):\n",
        "  try:\n",
        "\n",
        "    with open(inputFileName, 'r', encoding='utf-8') as inputFile:\n",
        "      with open(outputFileName, 'w', encoding='utf-8') as outputFile:\n",
        "        for line in inputFile:\n",
        "          outputFile.write(line.upper())\n",
        "\n",
        "    print(f'coversion of {inputFileName} Successful')\n",
        "\n",
        "  except Exception as e:\n",
        "    print(f'Conversion of {inputFileName} Failed : {e}')\n",
        "\n",
        "def convertToUpperCase(inputDirectory, outputDirectory):\n",
        "  os.makedirs(outputDirectory, exist_ok = True)\n",
        "\n",
        "  with concurrent.features.ThreadPoolExecuter() as executer:\n",
        "    for fileName in os.listdir(inputDirectory):\n",
        "      inputFilePath = os.path.join(inputDirectory, fileName)\n",
        "      outputFilePath = os.path.join(outputDirectory,'Uppercase',+fileName)\n",
        "      executer.submit(convertFileToUpperCase, inputFilePath, outputFilePath)\n",
        "\n",
        "if __name__=='__main__':\n",
        "  convertToUpperCase('Input', 'Output')\n",
        "  print(\"operation complete\")"
      ],
      "metadata": {
        "id": "QPvU9EsZxjTb"
      },
      "execution_count": null,
      "outputs": []
    }
  ]
}
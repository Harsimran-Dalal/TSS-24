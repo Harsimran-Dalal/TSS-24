{
  "nbformat": 4,
  "nbformat_minor": 0,
  "metadata": {
    "colab": {
      "provenance": [],
      "include_colab_link": true
    },
    "kernelspec": {
      "display_name": "Python 3",
      "language": "python",
      "name": "python3"
    },
    "language_info": {
      "codemirror_mode": {
        "name": "ipython",
        "version": 3
      },
      "file_extension": ".py",
      "mimetype": "text/x-python",
      "name": "python",
      "nbconvert_exporter": "python",
      "pygments_lexer": "ipython3",
      "version": "3.8.5"
    }
  },
  "cells": [
    {
      "cell_type": "markdown",
      "metadata": {
        "id": "view-in-github",
        "colab_type": "text"
      },
      "source": [
        "<a href=\"https://colab.research.google.com/github/Harsimran-Dalal/Subset-Selection/blob/main/Subset_Selection_Problem.ipynb\" target=\"_parent\"><img src=\"https://colab.research.google.com/assets/colab-badge.svg\" alt=\"Open In Colab\"/></a>"
      ]
    },
    {
      "cell_type": "markdown",
      "metadata": {
        "id": "7nQSRI4Dim1Y"
      },
      "source": [
        "  ---\n",
        "# **Subset Selection Problem**\n",
        "---\n",
        "####**1. Problem Statement:**\n",
        "Find all the subsets from a set of numbers whose sum is zero.\n",
        "\n",
        "####**Constraint: Subset size must be 5**\n",
        "Set={-12, -3, -6, 7, 2, -2, 6, 3, 9, -7, -5, -8, 1, 11, -9, -4}\n",
        "\n",
        "---"
      ]
    },
    {
      "cell_type": "markdown",
      "metadata": {
        "id": "A30y-VtNim1h"
      },
      "source": [
        "### **1.1 Library inclusion**"
      ]
    },
    {
      "cell_type": "code",
      "metadata": {
        "id": "cF_mSA9Xim1j"
      },
      "source": [
        "import random as r"
      ],
      "execution_count": null,
      "outputs": []
    },
    {
      "cell_type": "markdown",
      "metadata": {
        "id": "UjvBYy0Lim1m"
      },
      "source": [
        "### **1.2 Parameter Setting**"
      ]
    },
    {
      "cell_type": "code",
      "metadata": {
        "id": "NHB2KMhZim1o"
      },
      "source": [
        "Set         = set([-12, -3, -6, 7, 2, -2, 6, 3, 9, -7, -5, -8, 1, 11, -9, -4])\n",
        "SetSize     = 5\n",
        "ResultList  = set()    # Store Result List i.e. list of sets whose sum is zero\n",
        "Iterations  = 1000    # Number of Inerations"
      ],
      "execution_count": null,
      "outputs": []
    },
    {
      "cell_type": "markdown",
      "metadata": {
        "id": "BTLd3s--im1c"
      },
      "source": [
        "### **1.3 Start Program**\n",
        "\n",
        "\n"
      ]
    },
    {
      "cell_type": "code",
      "metadata": {
        "id": "veBU-f21im1x",
        "colab": {
          "base_uri": "https://localhost:8080/"
        },
        "outputId": "36d6d8e5-0b37-4349-8d5c-3225f35bac46"
      },
      "source": [
        "# Loop till number of Iterations\n",
        "for i in range(Iterations):\n",
        "    # Select number of elements from Set\n",
        "    Chromosome = r.sample(Set,SetSize)\n",
        "\n",
        "    # Sum the number of elements in the Chromosome\n",
        "    if sum(Chromosome) == 0:\n",
        "        ResultList.add(tuple(Chromosome))"
      ],
      "execution_count": null,
      "outputs": [
        {
          "output_type": "stream",
          "name": "stderr",
          "text": [
            "<ipython-input-3-ed7c48dd8d3e>:4: DeprecationWarning: Sampling from a set deprecated\n",
            "since Python 3.9 and will be removed in a subsequent version.\n",
            "  Chromosome = r.sample(Set,SetSize)\n"
          ]
        }
      ]
    },
    {
      "cell_type": "markdown",
      "metadata": {
        "id": "nRWYsJNVim1z"
      },
      "source": [
        "### **1.4 Print the sets and total count**\n"
      ]
    },
    {
      "cell_type": "code",
      "metadata": {
        "colab": {
          "base_uri": "https://localhost:8080/"
        },
        "id": "41abL1k-im10",
        "scrolled": true,
        "outputId": "e9d78fb2-b0fd-4abf-bd6a-ac743291baf8"
      },
      "source": [
        "# Print all the sets whose sum is zero\n",
        "for r in ResultList:\n",
        "\tprint (r)\n",
        "\n",
        "# Print total sets\n",
        "print (\"\\nTotal Sets: \", len(ResultList), \"\\n\")"
      ],
      "execution_count": null,
      "outputs": [
        {
          "output_type": "stream",
          "name": "stdout",
          "text": [
            "(7, 11, -6, -7, -5)\n",
            "(7, -7, -12, 3, 9)\n",
            "(3, 11, 2, -9, -7)\n",
            "(-9, -4, 9, 1, 3)\n",
            "(6, 3, -4, 1, -6)\n",
            "(-2, -6, -5, 6, 7)\n",
            "(6, 1, -6, -12, 11)\n",
            "(-2, 7, -9, 1, 3)\n",
            "(-7, 2, 11, 6, -12)\n",
            "(-2, -4, 11, -6, 1)\n",
            "(-4, 6, -6, 9, -5)\n",
            "(-3, -5, 6, -9, 11)\n",
            "(-9, 9, -3, 1, 2)\n",
            "(-4, 1, 3, 6, -6)\n",
            "(11, 3, 2, -7, -9)\n",
            "(-4, 7, 6, -3, -6)\n",
            "(-9, -12, 1, 9, 11)\n",
            "(9, -4, 3, 1, -9)\n",
            "(-12, 2, 11, -7, 6)\n",
            "(11, 3, -7, 2, -9)\n",
            "(7, 6, -4, 3, -12)\n",
            "(-7, 2, 7, 1, -3)\n",
            "(6, -7, 2, 11, -12)\n",
            "(-12, -9, 11, 7, 3)\n",
            "(-4, -3, -5, 3, 9)\n",
            "(-9, 1, -3, 9, 2)\n",
            "(11, 3, -3, 1, -12)\n",
            "(-4, -3, 11, -6, 2)\n",
            "(3, 1, 9, -9, -4)\n",
            "(-3, -6, 6, 2, 1)\n",
            "(1, -7, -8, 3, 11)\n",
            "(-9, -4, -5, 7, 11)\n",
            "\n",
            "Total Sets:  32 \n",
            "\n"
          ]
        }
      ]
    },
    {
      "cell_type": "markdown",
      "metadata": {
        "id": "E3BNV7YLim12"
      },
      "source": [
        "---\n",
        "### **1.5 Complete Program**\n",
        "---"
      ]
    },
    {
      "cell_type": "code",
      "metadata": {
        "colab": {
          "base_uri": "https://localhost:8080/"
        },
        "id": "c6KthRB9im14",
        "outputId": "b0c45b94-c873-4f96-bb67-e1938877ef43"
      },
      "source": [
        "#-------------------------------------------------------------\n",
        "# Step 1: Library inclusion\n",
        "#-------------------------------------------------------------\n",
        "import random as r\n",
        "\n",
        "\n",
        "#-------------------------------------------------------------\n",
        "# Step 2: Parameter Setting\n",
        "#-------------------------------------------------------------\n",
        "Set         = set([-12, -3, -6, 7, 2, -2, 6, 3, 9, -7, -5, -8, 1, 11, -9, -4])\n",
        "SetSize     = 5\n",
        "ResultList  = set()    # Store Result List i.e. list of sets whose sum is zero\n",
        "Iterations  = 1000   # Number of Inerations\n",
        "\n",
        "\n",
        "#-------------------------------------------------------------\n",
        "# Step3: Start Program\n",
        "#-------------------------------------------------------------\n",
        "\n",
        "# Loop till number of Iterations\n",
        "for i in range(Iterations):\n",
        "    # Select number of elements from Set\n",
        "    Chromosome = r.sample(Set,SetSize)\n",
        "\n",
        "    # Sum the number of elements in the Chromosome\n",
        "    if sum(Chromosome) == 0:\n",
        "        ResultList.add(tuple(Chromosome))\n",
        "\n",
        "# Print all the sets whose sum is zero\n",
        "for r in ResultList:\n",
        "\tprint (r)\n",
        "\n",
        "# Print total sets\n",
        "print (\"\\nTotal Sets: \", len(ResultList))\n"
      ],
      "execution_count": 1,
      "outputs": [
        {
          "output_type": "stream",
          "name": "stdout",
          "text": [
            "(-7, 9, 7, -3, -6)\n",
            "(-9, 2, -6, 6, 7)\n",
            "(11, -9, 3, 7, -12)\n",
            "(2, -7, -4, 6, 3)\n",
            "(-3, -7, 2, 7, 1)\n",
            "(-2, 2, -3, -4, 7)\n",
            "(2, -12, 11, -7, 6)\n",
            "(2, -6, 7, 1, -4)\n",
            "(-3, 11, 7, -8, -7)\n",
            "(-8, 9, -5, 7, -3)\n",
            "(-2, -5, 9, -4, 2)\n",
            "(6, -3, 11, -9, -5)\n",
            "(-4, -2, 1, 3, 2)\n",
            "(1, -2, 11, 2, -12)\n",
            "(9, -2, -6, 11, -12)\n",
            "(7, -9, -4, -5, 11)\n",
            "(1, -3, 3, -8, 7)\n",
            "(3, 1, 6, -3, -7)\n",
            "(2, -4, -2, 11, -7)\n",
            "(-8, 11, -5, -4, 6)\n",
            "\n",
            "Total Sets:  20\n"
          ]
        },
        {
          "output_type": "stream",
          "name": "stderr",
          "text": [
            "<ipython-input-1-e5b06b973959>:23: DeprecationWarning: Sampling from a set deprecated\n",
            "since Python 3.9 and will be removed in a subsequent version.\n",
            "  Chromosome = r.sample(Set,SetSize)\n"
          ]
        }
      ]
    },
    {
      "cell_type": "markdown",
      "metadata": {
        "id": "stxrIcZtk4LT"
      },
      "source": [
        "---\n",
        "### **1.6 Complete Program with sorting**\n",
        "---"
      ]
    },
    {
      "cell_type": "code",
      "metadata": {
        "colab": {
          "base_uri": "https://localhost:8080/"
        },
        "outputId": "144c7f66-79cc-45eb-e97d-a58013619caa",
        "id": "zzblepy0k4LU"
      },
      "source": [
        "#-------------------------------------------------------------\n",
        "# Step 1: Library inclusion\n",
        "#-------------------------------------------------------------\n",
        "import random as r\n",
        "\n",
        "\n",
        "#-------------------------------------------------------------\n",
        "# Step 2: Parameter Setting\n",
        "#-------------------------------------------------------------\n",
        "Set         = set([-12, -3, -6, 7, 2, -2, 6, 3, 9, -7, -5, -8, 1, 11, -9, -4])\n",
        "SetSize     = 5\n",
        "ResultList  = set()    # Store Result List i.e. list of sets whose sum is zero\n",
        "Iterations  = 1000   # Number of Inerations\n",
        "\n",
        "\n",
        "#-------------------------------------------------------------\n",
        "# Step3: Start Program\n",
        "#-------------------------------------------------------------\n",
        "\n",
        "# Loop till number of Iterations\n",
        "for i in range(Iterations):\n",
        "    # Select number of elements from Set\n",
        "    Chromosome = r.sample(Set,SetSize)\n",
        "    Chromosome.sort()\n",
        "\n",
        "    # Sum the number of elements in the Chromosome\n",
        "    if sum(Chromosome) == 0:\n",
        "        ResultList.add(tuple(Chromosome))\n",
        "\n",
        "# Print all the sets whose sum is zero\n",
        "for r in ResultList:\n",
        "\tprint (r)\n",
        "\n",
        "# Print total sets\n",
        "print (\"\\nTotal Sets: \", len(ResultList))\n"
      ],
      "execution_count": null,
      "outputs": [
        {
          "output_type": "stream",
          "name": "stdout",
          "text": [
            "(-12, -6, 2, 7, 9)\n",
            "(-12, -3, 2, 6, 7)\n",
            "(-9, -8, 2, 6, 9)\n",
            "(-7, -4, -3, 3, 11)\n",
            "(-8, -4, -3, 6, 9)\n",
            "(-9, -2, 1, 3, 7)\n",
            "(-7, -6, -2, 6, 9)\n",
            "(-7, -6, 1, 3, 9)\n",
            "(-9, -4, -3, 7, 9)\n",
            "(-9, -5, -4, 7, 11)\n",
            "(-8, -3, -2, 6, 7)\n",
            "(-12, -4, 2, 3, 11)\n",
            "(-6, -5, -3, 3, 11)\n",
            "(-5, -3, -2, 3, 7)\n",
            "(-9, -6, -3, 7, 11)\n",
            "(-7, -4, -2, 2, 11)\n",
            "(-6, -5, 2, 3, 6)\n",
            "(-9, -7, -2, 7, 11)\n",
            "(-6, -3, 1, 2, 6)\n",
            "(-9, -8, 1, 7, 9)\n",
            "(-12, -5, 2, 6, 9)\n",
            "(-9, -7, 1, 6, 9)\n",
            "(-7, -3, -2, 1, 11)\n",
            "(-9, -6, 1, 3, 11)\n",
            "(-9, -6, 2, 6, 7)\n",
            "(-12, -9, 3, 7, 11)\n",
            "(-12, -8, 2, 7, 11)\n",
            "(-9, -4, 1, 3, 9)\n",
            "(-8, -5, -3, 7, 9)\n",
            "\n",
            "Total Sets:  29\n"
          ]
        },
        {
          "output_type": "stream",
          "name": "stderr",
          "text": [
            "<ipython-input-11-74199e36c2e7>:23: DeprecationWarning: Sampling from a set deprecated\n",
            "since Python 3.9 and will be removed in a subsequent version.\n",
            "  Chromosome = r.sample(Set,SetSize)\n"
          ]
        }
      ]
    },
    {
      "cell_type": "markdown",
      "metadata": {
        "id": "Kaevs6ROim18"
      },
      "source": [
        "---\n",
        "####**2. Problem Statement:**\n",
        "Find all the subsets from a set of numbers whose sum is zero.\n",
        "\n",
        "####**Constraint: Subset size must be 3 to 6 only**\n",
        "Set={-12, -3, -6, 7, 2, -2, 6, 3, 9, -7, -5, -8, 1, 11, -9, -4}\n",
        "\n",
        "---"
      ]
    },
    {
      "cell_type": "code",
      "metadata": {
        "colab": {
          "base_uri": "https://localhost:8080/"
        },
        "id": "XmPJbrOXim19",
        "outputId": "2118318d-2c7e-47c5-f542-acb5e978023d"
      },
      "source": [
        "#-------------------------------------------------------------\n",
        "# Step 1: Library inclusion\n",
        "#-------------------------------------------------------------\n",
        "import random as r\n",
        "\n",
        "\n",
        "#-------------------------------------------------------------\n",
        "# Step 2: Parameter Setting\n",
        "#-------------------------------------------------------------\n",
        "Set         = set([-12, -3, -6, 7, 2, -2, 6, 3, 9, -7, -5, -8, 1, 11, -9, -4])\n",
        "SetLB       = 3\n",
        "SetUB       = 6\n",
        "ResultList  = set()    # Store Result List i.e. list of sets whose sum is zero\n",
        "Iterations  = 1000   # Number of Inerations\n",
        "\n",
        "\n",
        "#-------------------------------------------------------------\n",
        "# Step3: Start Program\n",
        "#-------------------------------------------------------------\n",
        "\n",
        "# Loop till number of Iterations\n",
        "for i in range(Iterations):\n",
        "    # Select set size randomly\n",
        "    SetSize = r.randint(SetLB,SetUB)\n",
        "\n",
        "    # Select number of elements from Set\n",
        "    Chromosome = r.sample(Set,SetSize)\n",
        "    Chromosome.sort()\n",
        "\n",
        "    # Sum the number of elements in the Chromosome\n",
        "    if sum(Chromosome) == 0:\n",
        "        ResultList.add(tuple(Chromosome))\n",
        "\n",
        "# Print all the sets whose sum is zero\n",
        "for r in ResultList:\n",
        "\tprint (r)\n",
        "\n",
        "# Print total sets\n",
        "print (\"\\nTotal Sets: \", len(ResultList))\n"
      ],
      "execution_count": 2,
      "outputs": [
        {
          "output_type": "stream",
          "name": "stdout",
          "text": [
            "(-12, -6, 3, 6, 9)\n",
            "(-9, 2, 7)\n",
            "(-8, -5, 6, 7)\n",
            "(-4, 1, 3)\n",
            "(-12, -4, 2, 3, 11)\n",
            "(-4, -2, 1, 2, 3)\n",
            "(-7, -3, -2, 3, 9)\n",
            "(-9, -3, 1, 11)\n",
            "(-4, -2, 6)\n",
            "(-9, -8, -7, 6, 7, 11)\n",
            "(-8, -3, -2, 2, 11)\n",
            "(-12, -4, 1, 2, 6, 7)\n",
            "(-9, -7, 1, 6, 9)\n",
            "(-8, -7, 6, 9)\n",
            "(-7, -6, 2, 11)\n",
            "(-6, -4, -2, 1, 11)\n",
            "(-7, 1, 6)\n",
            "(-4, -3, 1, 6)\n",
            "(-8, -3, 11)\n",
            "(-7, -2, 2, 7)\n",
            "\n",
            "Total Sets:  20\n"
          ]
        },
        {
          "output_type": "stream",
          "name": "stderr",
          "text": [
            "<ipython-input-2-c329ea93fb8b>:27: DeprecationWarning: Sampling from a set deprecated\n",
            "since Python 3.9 and will be removed in a subsequent version.\n",
            "  Chromosome = r.sample(Set,SetSize)\n"
          ]
        }
      ]
    }
  ]
}
{
  "nbformat": 4,
  "nbformat_minor": 0,
  "metadata": {
    "colab": {
      "provenance": [],
      "authorship_tag": "ABX9TyPyblla68xRGPGT7TVLKIEL",
      "include_colab_link": true
    },
    "kernelspec": {
      "name": "python3",
      "display_name": "Python 3"
    },
    "language_info": {
      "name": "python"
    }
  },
  "cells": [
    {
      "cell_type": "markdown",
      "metadata": {
        "id": "view-in-github",
        "colab_type": "text"
      },
      "source": [
        "<a href=\"https://colab.research.google.com/github/Harsimran-Dalal/Python-Assignment/blob/main/Python_Assignment.ipynb\" target=\"_parent\"><img src=\"https://colab.research.google.com/assets/colab-badge.svg\" alt=\"Open In Colab\"/></a>"
      ]
    },
    {
      "cell_type": "markdown",
      "source": [
        "---\n",
        "##Q1. L is a list defined as L= [11, 12, 13, 14].\n",
        "(i) WAP to add 50 and 60 to L.\n",
        "\n",
        "(ii) WAP to remove 11 and 13from L.\n",
        "\n",
        "(iii) WAP to sort L in ascending order.\n",
        "\n",
        "(iv) WAP to sort L in descending order.\n",
        "\n",
        "(v) WAP to search for 13 in L.\n",
        "\n",
        "(vi) WAP to count the number of elements present in L.\n",
        "\n",
        "(vii) WAP to sum all the elements in L.\n",
        "\n",
        "(viii) WAP to sum all ODD numbers in L.\n",
        "\n",
        "(ix) WAP to sum all EVEN numbers in L.\n",
        "\n",
        "(x) WAP to sum all PRIME numbers in L.\n",
        "\n",
        "(xi) WAP to clear all the elements in L.\n",
        "\n",
        "(xii) WAP to delete L.\n",
        "\n",
        "---"
      ],
      "metadata": {
        "id": "MC2dVTtD0BZo"
      }
    },
    {
      "cell_type": "code",
      "source": [
        "L= [11, 12, 13, 14]\n",
        "print (\"List -->\",L)\n",
        "L.append(50)\n",
        "L.append(60)\n",
        "print (\"New List \",L)\n",
        "L.remove(11)\n",
        "L.remove(13)\n",
        "print (\"New List1\",L)\n",
        "L.sort\n",
        "print(L)\n",
        "L.sort(reverse = True)\n",
        "L= [11, 12, 13, 14]\n",
        "print(L)\n",
        "n = L.index(13)\n",
        "print(n)\n",
        "print(\"number of elements present in L=\",len(L))\n",
        "print(\"sum all the elements in L=\",sum(L))\n",
        "print(\"sum all ODD numbers in L=\",sum(i for i in L if i%2))\n",
        "print(\"sum all EVEN numbers in L=\",sum(i for i in L if not i%2))\n",
        "\n",
        "primeSum = 0\n",
        "for j in L:\n",
        "  f=0\n",
        "  for i in range(2, j//2 + 1):\n",
        "    if  j % i == 0:\n",
        "      f=1\n",
        "      break\n",
        "\n",
        "  if f==0:\n",
        "    primeSum = primeSum + j\n",
        "print (\"sum of prime numbers=\",primeSum)\n",
        "\n",
        "L.clear()\n",
        "print(L)\n",
        "del L"
      ],
      "metadata": {
        "colab": {
          "base_uri": "https://localhost:8080/"
        },
        "id": "Bc9YgjPL1M46",
        "outputId": "af3baf8e-e531-47e0-b7be-1fac9b395fe2"
      },
      "execution_count": null,
      "outputs": [
        {
          "output_type": "stream",
          "name": "stdout",
          "text": [
            "List --> [11, 12, 13, 14]\n",
            "New List  [11, 12, 13, 14, 50, 60]\n",
            "New List1 [12, 14, 50, 60]\n",
            "[12, 14, 50, 60]\n",
            "[11, 12, 13, 14]\n",
            "2\n",
            "number of elements present in L= 4\n",
            "sum all the elements in L= 50\n",
            "sum all ODD numbers in L= 24\n",
            "sum all EVEN numbers in L= 26\n",
            "sum of prime numbers= 24\n",
            "[]\n"
          ]
        }
      ]
    },
    {
      "cell_type": "markdown",
      "source": [
        "---\n",
        "#Q2. D is a dictionary defined as D= {1:5.6, 2:7.8, 3:6.6, 4:8.7, 5:7.7}.\n",
        "(i) WAP to add new entry in D; key=8 and value is 8.8\n",
        "\n",
        "(ii)\n",
        "WAP to remove key=2.\n",
        "\n",
        "(iii) WAP to check weather 6 key is present in D.\n",
        "\n",
        "(iv) WAP to count the number of elements present in D.\n",
        "\n",
        "(v)\n",
        "WAP to add all the values present D.\n",
        "\n",
        "(vi) WAP to update the value of 3 to 7.1.\n",
        "\n",
        "(vii) WAP to clear the dictionary.\n",
        "\n",
        "---"
      ],
      "metadata": {
        "id": "58RSMp3vfczq"
      }
    },
    {
      "cell_type": "code",
      "source": [
        "D= {1:5.6, 2:7.8, 3:6.6, 4:8.7, 5:7.7}\n",
        "\n",
        "D[8] = 8.8\n",
        "print(\"Dictionary --> \",D)\n",
        "\n",
        "D= {1:5.6, 2:7.8, 3:6.6, 4:8.7, 5:7.7}\n",
        "\n",
        "del D[2]\n",
        "print(\"Dictionary --> \",D)\n",
        "\n",
        "D= {1:5.6, 2:7.8, 3:6.6, 4:8.7, 5:7.7}\n",
        "\n",
        "for i in D:\n",
        "   if i==6:\n",
        "    print(\"Yes\")\n",
        "else:\n",
        "      print(\"No\")\n",
        "\n",
        "D= {1:5.6, 2:7.8, 3:6.6, 4:8.7, 5:7.7}\n",
        "\n",
        "print(\"number of elements in L --> \",len(D))\n",
        "\n",
        "D= {1:5.6, 2:7.8, 3:6.6, 4:8.7, 5:7.7}\n",
        "\n",
        "sum=0\n",
        "for i in D:\n",
        "  sum = sum + D[i]\n",
        "print(\"sum of elements :\",sum)\n",
        "\n",
        "D= {1:5.6, 2:7.8, 3:6.6, 4:8.7, 5:7.7}\n",
        "\n",
        "D[3] = 7.1\n",
        "print(\"Dictionary -->\",D)\n",
        "\n",
        "D= {1:5.6, 2:7.8, 3:6.6, 4:8.7, 5:7.7}\n",
        "\n",
        "D.clear()\n",
        "print(\"Dictionary -->\",D)"
      ],
      "metadata": {
        "colab": {
          "base_uri": "https://localhost:8080/"
        },
        "id": "S8u7pbljftnY",
        "outputId": "556fabef-771b-4112-f50c-2441503e9508"
      },
      "execution_count": null,
      "outputs": [
        {
          "output_type": "stream",
          "name": "stdout",
          "text": [
            "Dictionary -->  {1: 5.6, 2: 7.8, 3: 6.6, 4: 8.7, 5: 7.7, 8: 8.8}\n",
            "Dictionary -->  {1: 5.6, 3: 6.6, 4: 8.7, 5: 7.7}\n",
            "No\n",
            "number of elements in L -->  5\n",
            "sum of elements : 36.4\n",
            "Dictionary --> {1: 5.6, 2: 7.8, 3: 7.1, 4: 8.7, 5: 7.7}\n",
            "Dictionary --> {}\n"
          ]
        }
      ]
    },
    {
      "cell_type": "markdown",
      "source": [
        "---\n",
        "#Q3. S1 is a set defined as S1= [10, 20, 30, 40, 50, 60]. S2 is a set defined as S2= [40, 50, 60, 70, 80, 90].\n",
        "(i)\n",
        "WAP to add 55 and 66 in Set S1.\n",
        "\n",
        "(ii)\n",
        "WAP to remove 10 and 30 from Set S1.\n",
        "\n",
        "(iii) WAP to check whether 40 is present in S1.\n",
        "\n",
        "(iv) WAP to find the union between S1 and S2.\n",
        "\n",
        "(v)\n",
        "WAP to find the intersection between S1 and S2.\n",
        "\n",
        "(vi) WAP to find the S1 - S2.\n",
        "\n",
        "---"
      ],
      "metadata": {
        "id": "c_joqwSpuXhE"
      }
    },
    {
      "cell_type": "code",
      "source": [
        "S1= set([10, 20, 30, 40, 50, 60])\n",
        "\n",
        "S1.add(55)\n",
        "S1.add(66)\n",
        "print(\"set -->\",S1)\n",
        "\n",
        "S1= set([10, 20, 30, 40, 50, 60])\n",
        "\n",
        "S1.remove(10)\n",
        "S1.remove(30)\n",
        "print(\"set -->\",S1)\n",
        "\n",
        "S1= set([10, 20, 30, 40, 50, 60])\n",
        "\n",
        "for i in S1:\n",
        "  if i==40:\n",
        "    print(\"Yes\")\n",
        "    break\n",
        "else:\n",
        "  print(\"No\")\n",
        "\n",
        "S1= set([10, 20, 30, 40, 50, 60])\n",
        "S2= set([40, 50, 60, 70, 80, 90])\n",
        "\n",
        "print(\"union --> \",S1.union(S2))\n",
        "\n",
        "S1= set([10, 20, 30, 40, 50, 60])\n",
        "S2= set([40, 50, 60, 70, 80, 90])\n",
        "\n",
        "print(\"intersection --> \",S1.intersection(S2))\n",
        "\n",
        "S1= set([10, 20, 30, 40, 50, 60])\n",
        "S2= set([40, 50, 60, 70, 80, 90])\n",
        "\n",
        "print(\"difference --> \",S1-S2)\n"
      ],
      "metadata": {
        "colab": {
          "base_uri": "https://localhost:8080/"
        },
        "id": "vAJqCYnZuiB6",
        "outputId": "3e6ab4fd-7880-46b7-b844-3ca62243da58"
      },
      "execution_count": null,
      "outputs": [
        {
          "output_type": "stream",
          "name": "stdout",
          "text": [
            "set --> {66, 40, 10, 50, 20, 55, 60, 30}\n",
            "set --> {40, 50, 20, 60}\n",
            "Yes\n",
            "union -->  {70, 40, 10, 80, 50, 20, 90, 60, 30}\n",
            "intersection -->  {40, 50, 60}\n",
            "difference -->  {10, 20, 30}\n"
          ]
        }
      ]
    },
    {
      "cell_type": "markdown",
      "source": [
        "---\n",
        "#Q4. Write the following program.\n",
        "(i)\n",
        "WAP to print 100 random strings whose length between 6 and 8.\n",
        "\n",
        "(ii)\n",
        "WAP to print all prime numbers between 600 and 800.\n",
        "\n",
        "(iii) WAP to print all numbers between 100 and 1000 that are divisible by 7 and 9.\n",
        "\n",
        "---"
      ],
      "metadata": {
        "id": "DoVKn4Jjy3Yp"
      }
    },
    {
      "cell_type": "code",
      "source": [
        "import random\n",
        "import string\n",
        "\n",
        "for i in range(100):\n",
        "  k = random.randint(6,8)\n",
        "  for j in range(k):\n",
        "    randomString = random.choice(string.ascii_letters)\n",
        "    print(randomString, end =\"\")\n",
        "  print()\n",
        "\n",
        "print(\"--------------\")\n",
        "\n",
        "for i in range(600,800+1):\n",
        "  f=0\n",
        "  for j in range (2 , i//2 + 1):\n",
        "    if i%j==0:\n",
        "      f=1\n",
        "      break\n",
        "  if f==0:\n",
        "    print(i)\n",
        "\n",
        "print(\"--------------\")\n",
        "\n",
        "for i in range(100,1000+1):\n",
        "  if i%7==0 and i%9==0:\n",
        "    print(i)"
      ],
      "metadata": {
        "colab": {
          "base_uri": "https://localhost:8080/"
        },
        "id": "6FuKqeTgy8v0",
        "outputId": "f0dd262a-035e-4d4b-cf79-c15440069473"
      },
      "execution_count": null,
      "outputs": [
        {
          "output_type": "stream",
          "name": "stdout",
          "text": [
            "iDlJpzCQ\n",
            "iWKgCNL\n",
            "HcwyWbC\n",
            "WYOZef\n",
            "tmMcIE\n",
            "RPzvxilD\n",
            "dYnBId\n",
            "UoRaorn\n",
            "eSTJTvg\n",
            "RCZGRmz\n",
            "QlZxPzWF\n",
            "iReWVzz\n",
            "FlXxPTfC\n",
            "ppYBQuGG\n",
            "LJXrmIfn\n",
            "rKMcml\n",
            "eVSqfco\n",
            "nMfxrp\n",
            "GEiRJV\n",
            "TLrupgTL\n",
            "dPENVK\n",
            "yFaKqzF\n",
            "XGYoEoa\n",
            "VVeoCxUj\n",
            "tebeuj\n",
            "BVnbwg\n",
            "Vfhxbhws\n",
            "hjmOHtZk\n",
            "SDZnqC\n",
            "LRlLJECI\n",
            "xhdCNf\n",
            "duCBwnbZ\n",
            "XwpKBpqg\n",
            "JdsuWxK\n",
            "yRTuxxW\n",
            "KbKkImf\n",
            "sZsWnVv\n",
            "dVFwhTzQ\n",
            "AoCbKp\n",
            "HKVOGPo\n",
            "VfYYbknB\n",
            "TKiFhok\n",
            "wMsYNrjz\n",
            "GguEoorQ\n",
            "jfrToHD\n",
            "hAoCIv\n",
            "rnihiW\n",
            "XsftcVGt\n",
            "eynZZUgx\n",
            "TbFsaXCp\n",
            "edLFTxp\n",
            "GvvKSPbp\n",
            "SIBfZkUb\n",
            "GpczBasv\n",
            "JDZJDph\n",
            "aJjjJPPh\n",
            "SZqeFB\n",
            "UOoTDmV\n",
            "sNyYztz\n",
            "XwacqPZJ\n",
            "NHFPAYHT\n",
            "ZUGrxqfV\n",
            "qiGRzAI\n",
            "XLAoOcsp\n",
            "wCOjBVe\n",
            "mWrNjjoD\n",
            "NGxozY\n",
            "leaBcWRb\n",
            "KuglLRP\n",
            "JupTlSp\n",
            "ldDLUJ\n",
            "vrWWvr\n",
            "XcxxvrO\n",
            "QrIwnE\n",
            "EVTgxxEj\n",
            "HWsLZJj\n",
            "KOmNJCgS\n",
            "lIFdeosB\n",
            "FzFqIL\n",
            "tskAnam\n",
            "TFlYhvt\n",
            "YWVSEt\n",
            "DFYEJO\n",
            "qzEsRid\n",
            "xbnTEO\n",
            "sgYYoq\n",
            "QriRSh\n",
            "BPOMsyb\n",
            "GrajNvQB\n",
            "UAEheQ\n",
            "xpZwrg\n",
            "dDOSAqC\n",
            "pzPbsR\n",
            "aAixtEO\n",
            "FwpnsgE\n",
            "ZQphZy\n",
            "XwHkmEM\n",
            "wQDLkKPv\n",
            "BgdbieC\n",
            "fiiZdiH\n",
            "--------------\n",
            "601\n",
            "607\n",
            "613\n",
            "617\n",
            "619\n",
            "631\n",
            "641\n",
            "643\n",
            "647\n",
            "653\n",
            "659\n",
            "661\n",
            "673\n",
            "677\n",
            "683\n",
            "691\n",
            "701\n",
            "709\n",
            "719\n",
            "727\n",
            "733\n",
            "739\n",
            "743\n",
            "751\n",
            "757\n",
            "761\n",
            "769\n",
            "773\n",
            "787\n",
            "797\n",
            "--------------\n",
            "126\n",
            "189\n",
            "252\n",
            "315\n",
            "378\n",
            "441\n",
            "504\n",
            "567\n",
            "630\n",
            "693\n",
            "756\n",
            "819\n",
            "882\n",
            "945\n"
          ]
        }
      ]
    },
    {
      "cell_type": "markdown",
      "source": [
        "---\n",
        "#Q5. WAP to create two lists of 10 random numbers between 10 and 30; Find  \n",
        "\n",
        "(i)\n",
        "Common numbers in the two lists\n",
        "\n",
        "(ii)\n",
        "Unique numbers in both the list\n",
        "\n",
        "(iii) Minimum in both the list\n",
        "\n",
        "(iv) Maximum in both the list\n",
        "\n",
        "(v)\n",
        "Sum of both the lists\n",
        "\n",
        "---"
      ],
      "metadata": {
        "id": "Pobnpld7CxAI"
      }
    },
    {
      "cell_type": "code",
      "source": [
        "import random as r\n",
        "\n",
        "List1 =[]\n",
        "List2 =[]\n",
        "\n",
        "for i in range(10):\n",
        "  List1.append(r.randint(10,30))\n",
        "  List2.append(r.randint(10,30))\n",
        "\n",
        "print(\"List1 -->\",List1)\n",
        "print(\"List2 -->\",List2)\n",
        "\n",
        "print(\"Common numbers in the list are -->\",set(List1).intersection(set(List2)))\n",
        "\n",
        "print(\"Unique numbers in the list are -->\",set(List1).union(set(List2)))\n",
        "\n",
        "print(\"Minimum in list :\",min(List1))\n",
        "print(\"Minimum in list :\",min(List2))\n",
        "\n",
        "print(\"Maximum in list :\",min(List1))\n",
        "print(\"Maximum in list :\",min(List2))\n",
        "\n",
        "print(\"Sum of List1 -->\",sum(List1))\n",
        "print(\"Sum of List2 -->\",sum(List2))\n",
        "print(\"Sum of both the lists -->\",sum(List1)+sum(List2))"
      ],
      "metadata": {
        "colab": {
          "base_uri": "https://localhost:8080/"
        },
        "id": "__ogOIoADBnn",
        "outputId": "5d2d7eb7-e386-43b6-9c85-e474e22ac156"
      },
      "execution_count": 4,
      "outputs": [
        {
          "output_type": "stream",
          "name": "stdout",
          "text": [
            "List1 --> [17, 23, 24, 30, 27, 25, 13, 24, 16, 14]\n",
            "List2 --> [24, 17, 21, 12, 12, 12, 12, 27, 19, 22]\n",
            "Common numbers in the list are --> {24, 17, 27}\n",
            "Unique numbers in the list are --> {12, 13, 14, 16, 17, 19, 21, 22, 23, 24, 25, 27, 30}\n",
            "Minimum in list : 13\n",
            "Minimum in list : 12\n",
            "Maximum in list : 13\n",
            "Maximum in list : 12\n",
            "Sum of List1 --> 213\n",
            "Sum of List2 --> 178\n",
            "Sum of both the lists --> 391\n"
          ]
        }
      ]
    },
    {
      "cell_type": "markdown",
      "source": [
        "---\n",
        "# Q6. WAP to create a list of 100 random numbers between 100 and 900. Count and print the:  \n",
        "\n",
        "(i)\n",
        "All odd numbers\n",
        "\n",
        "(ii)\n",
        "All even numbers\n",
        "\n",
        "(iii) All prime numbers\n",
        "\n",
        "---"
      ],
      "metadata": {
        "id": "29Urpj0RsgtQ"
      }
    },
    {
      "cell_type": "code",
      "source": [
        "import random as r\n",
        "\n",
        "List=[]\n",
        "\n",
        "for i in range(100):\n",
        "  List.append(r.randint(100,900))\n",
        "\n",
        "print(\"List -->\",List)\n",
        "\n",
        "Odd=[]\n",
        "Even=[]\n",
        "Prime=[]\n",
        "\n",
        "for i in List:\n",
        "  if i%2==0:\n",
        "    Even.append(i)\n",
        "  else:\n",
        "    Odd.append(i)\n",
        "\n",
        "for i in List:\n",
        "  f=0\n",
        "  for j in range(2,i//2 + 1):\n",
        "    if j%i==0:\n",
        "      f==1\n",
        "      break\n",
        "  if f==0:\n",
        "    Prime.append(i)\n",
        "\n",
        "print(\"Odd Numbers are -->\",Odd)\n",
        "print(\"Even Numbers are -->\",Even)\n",
        "print(\"Prime Numbers are -->\",Prime)"
      ],
      "metadata": {
        "colab": {
          "base_uri": "https://localhost:8080/"
        },
        "id": "am7oq7o1sxzT",
        "outputId": "4d488933-2bb5-4cf5-c2b8-0b4954c2babd"
      },
      "execution_count": 8,
      "outputs": [
        {
          "output_type": "stream",
          "name": "stdout",
          "text": [
            "List --> [451, 129, 125, 799, 544, 191, 700, 835, 862, 712, 526, 327, 170, 509, 881, 553, 717, 642, 599, 699, 885, 200, 128, 859, 474, 705, 857, 748, 167, 129, 401, 376, 861, 304, 292, 112, 582, 839, 274, 325, 396, 132, 365, 114, 526, 302, 378, 154, 160, 425, 798, 275, 759, 383, 644, 835, 851, 615, 875, 374, 483, 176, 820, 138, 164, 593, 330, 687, 705, 299, 427, 772, 320, 541, 375, 763, 288, 639, 676, 537, 889, 489, 168, 358, 854, 120, 888, 262, 589, 864, 898, 509, 792, 172, 735, 738, 227, 688, 307, 123]\n",
            "Odd Numbers are --> [451, 129, 125, 799, 191, 835, 327, 509, 881, 553, 717, 599, 699, 885, 859, 705, 857, 167, 129, 401, 861, 839, 325, 365, 425, 275, 759, 383, 835, 851, 615, 875, 483, 593, 687, 705, 299, 427, 541, 375, 763, 639, 537, 889, 489, 589, 509, 735, 227, 307, 123]\n",
            "Even Numbers are --> [544, 700, 862, 712, 526, 170, 642, 200, 128, 474, 748, 376, 304, 292, 112, 582, 274, 396, 132, 114, 526, 302, 378, 154, 160, 798, 644, 374, 176, 820, 138, 164, 330, 772, 320, 288, 676, 168, 358, 854, 120, 888, 262, 864, 898, 792, 172, 738, 688]\n",
            "Prime Numbers are --> [451, 129, 125, 799, 544, 191, 700, 835, 862, 712, 526, 327, 170, 509, 881, 553, 717, 642, 599, 699, 885, 200, 128, 859, 474, 705, 857, 748, 167, 129, 401, 376, 861, 304, 292, 112, 582, 839, 274, 325, 396, 132, 365, 114, 526, 302, 378, 154, 160, 425, 798, 275, 759, 383, 644, 835, 851, 615, 875, 374, 483, 176, 820, 138, 164, 593, 330, 687, 705, 299, 427, 772, 320, 541, 375, 763, 288, 639, 676, 537, 889, 489, 168, 358, 854, 120, 888, 262, 589, 864, 898, 509, 792, 172, 735, 738, 227, 688, 307, 123]\n"
          ]
        }
      ]
    },
    {
      "cell_type": "markdown",
      "source": [
        "---\n",
        "# Q7. D is a dictionary defined as D={1:\"One\",2:\"Two\",3:\"Three\",4:\"Four\", 5:\"Five\"}.\n",
        "\n",
        "WAP to read all the keys and values from dictionary and write to the file in the given below format.\n",
        "\n",
        "Key1, Value1\n",
        "\n",
        "Key2, Value2\n",
        "\n",
        "Key3, Value3\n",
        "\n",
        "---"
      ],
      "metadata": {
        "id": "mdw-sK0gSgqc"
      }
    },
    {
      "cell_type": "code",
      "source": [
        "D={1:\"One\",2:\"Two\",3:\"Three\",4:\"Four\", 5:\"Five\"}\n",
        "\n",
        "file = open(\"Dictionary.txt\",\"w\")\n",
        "for i in D:\n",
        "  string = \"%d, %s\\n\" %(i,D[i])\n",
        "  file.write(string)\n",
        "\n",
        "file.close()"
      ],
      "metadata": {
        "id": "c6HUXlo3SosP"
      },
      "execution_count": 2,
      "outputs": []
    },
    {
      "cell_type": "markdown",
      "source": [
        "---\n",
        "# Q8. L is a list defined as L={\"One\",\"Two\",\"Three\",\"Four\",\"Five\"}.\n",
        "WAP to count the length of reach element from a list and write to the file in the given below format:\n",
        "\n",
        "One, 3\n",
        "\n",
        "Two, 3\n",
        "\n",
        "Four, 4\n",
        "\n",
        "---"
      ],
      "metadata": {
        "id": "EhQI_AYFgpkq"
      }
    },
    {
      "cell_type": "code",
      "source": [
        "L={\"One\",\"Two\",\"Three\",\"Four\",\"Five\"}\n",
        "\n",
        "file = open(\"List.txt\",\"w\")\n",
        "for i in L:\n",
        "  string = \"%s, %d \\n\" %(i,len(i))\n",
        "  file.write(string)\n",
        "\n",
        "file.close()"
      ],
      "metadata": {
        "id": "b_OxriJ0g3Lk"
      },
      "execution_count": 3,
      "outputs": []
    },
    {
      "cell_type": "markdown",
      "source": [
        "---\n",
        "# Q9. Write to the file 100 random strings whose length between 10 and 15.\n",
        "---"
      ],
      "metadata": {
        "id": "GfsCGsa_h5Tv"
      }
    },
    {
      "cell_type": "code",
      "source": [
        "import random as r\n",
        "import string\n",
        "\n",
        "file = open(\"Random Strings.txt\", \"w\")\n",
        "for i in range(100):\n",
        "  k = r.randint(10, 15)\n",
        "  randomString = \"\"\n",
        "  for j in range(k):\n",
        "    randomString = randomString + r.choice(string.ascii_letters)\n",
        "  file.write(randomString + \"\\n\")\n",
        "\n",
        "file.close()"
      ],
      "metadata": {
        "id": "CHHlqsn2h96v"
      },
      "execution_count": 6,
      "outputs": []
    },
    {
      "cell_type": "markdown",
      "source": [],
      "metadata": {
        "id": "ybLdp1Reo2B0"
      }
    },
    {
      "cell_type": "markdown",
      "source": [
        "---\n",
        "# Q10. Write to the file all prime numbers between 600 and 800.\n",
        "---"
      ],
      "metadata": {
        "id": "7bGi3-6im4mn"
      }
    },
    {
      "cell_type": "code",
      "source": [
        "file = open(\"Prime Numbers.txt\",\"w\")\n",
        "for i in range(600, 800+1):\n",
        "  count = 0\n",
        "  for j in range(2, i//2+1):\n",
        "    if i%j == 0:\n",
        "      count = count + 1\n",
        "      break\n",
        "  if count == 0:\n",
        "    file.write(str(i)+\"\\n\")\n",
        "file.close()"
      ],
      "metadata": {
        "id": "3u-9wEOdobPH"
      },
      "execution_count": 5,
      "outputs": []
    },
    {
      "cell_type": "markdown",
      "source": [
        "---\n",
        "# Q11. WAP to calculate the time taken by a program.\n",
        "\n",
        "---"
      ],
      "metadata": {
        "id": "_fM5Y6niogQT"
      }
    },
    {
      "cell_type": "code",
      "source": [
        "import time as t\n",
        "\n",
        "start = t.time()\n",
        "\n",
        "for i in range(10):\n",
        "  print(i)\n",
        "\n",
        "end = t.time()\n",
        "print(\"Time Taken : \", end-start)"
      ],
      "metadata": {
        "colab": {
          "base_uri": "https://localhost:8080/"
        },
        "id": "9AD3IKoZoo1k",
        "outputId": "8e0b4dd9-68b2-4475-c55d-28fa35b72a0e"
      },
      "execution_count": 4,
      "outputs": [
        {
          "output_type": "stream",
          "name": "stdout",
          "text": [
            "0\n",
            "1\n",
            "2\n",
            "3\n",
            "4\n",
            "5\n",
            "6\n",
            "7\n",
            "8\n",
            "9\n",
            "Time Taken :  0.00036716461181640625\n"
          ]
        }
      ]
    },
    {
      "cell_type": "markdown",
      "source": [
        "## Q12. WAP to sort following number of elements in a list, calculate time\n",
        "\n",
        "*   List item\n",
        "*   List item\n",
        "\n",
        "taken and plot the graph.\n",
        "\n",
        "| Number of Elements | Time Taken (s) |\n",
        "|--------------------|----------------|\n",
        "| 5,000              | T1             |\n",
        "| 10,000             | T2             |\n",
        "| 15,000             | T3             |\n",
        "| 20,000             | T4             |\n",
        "| 25,000             | T5             |"
      ],
      "metadata": {
        "id": "DBHHcOe9o9AR"
      }
    },
    {
      "cell_type": "code",
      "source": [
        "import random as r\n",
        "import time as t\n",
        "import matplotlib.pyplot as plt\n",
        "\n",
        "List1 = []\n",
        "List2 = []\n",
        "List3 = []\n",
        "List4 = []\n",
        "List5 = []\n",
        "\n",
        "T = []\n",
        "\n",
        "Sizes = [5000, 10000, 15000, 20000, 25000]\n",
        "\n",
        "T.append(t.time())\n",
        "\n",
        "for i in range(Sizes[0]):\n",
        "  List1.append(r.randint(1, 1000))\n",
        "List1.sort()\n",
        "\n",
        "T.append(t.time())\n",
        "\n",
        "for i in range(Sizes[1]):\n",
        "  List2.append(r.randint(1, 1000))\n",
        "List2.sort()\n",
        "\n",
        "T.append(t.time())\n",
        "\n",
        "for i in range(Sizes[2]):\n",
        "  List3.append(r.randint(1, 1000))\n",
        "List3.sort()\n",
        "\n",
        "T.append(t.time())\n",
        "\n",
        "for i in range(Sizes[3]):\n",
        "  List4.append(r.randint(1, 1000))\n",
        "List4.sort()\n",
        "\n",
        "T.append(t.time())\n",
        "\n",
        "for i in range(Sizes[4]):\n",
        "  List5.append(r.randint(1, 1000))\n",
        "List5.sort()\n",
        "\n",
        "T.append(t.time())\n",
        "\n",
        "Times = []\n",
        "for i in range(len(T) - 1):\n",
        "  Times.append(T[i+1] - T[i])\n",
        "  print(Sizes[i], \" --> \", Times[i])\n",
        "\n"
      ],
      "metadata": {
        "colab": {
          "base_uri": "https://localhost:8080/"
        },
        "id": "dLguEb1DpFp0",
        "outputId": "66a59454-731c-4c19-c034-153ea85068cd"
      },
      "execution_count": 10,
      "outputs": [
        {
          "output_type": "stream",
          "name": "stdout",
          "text": [
            "5000  -->  0.009118795394897461\n",
            "10000  -->  0.0160982608795166\n",
            "15000  -->  0.01682591438293457\n",
            "20000  -->  0.022901058197021484\n",
            "25000  -->  0.029232025146484375\n"
          ]
        }
      ]
    },
    {
      "cell_type": "code",
      "source": [
        "plt.plot(Sizes, Times)\n",
        "plt.xlabel(\"Number of Elements\")\n",
        "plt.ylabel(\"Time Taken (s)\")\n",
        "plt.show"
      ],
      "metadata": {
        "colab": {
          "base_uri": "https://localhost:8080/",
          "height": 620
        },
        "id": "31Jci5q3pPL0",
        "outputId": "fc65a12b-2993-4335-a899-9db51ef93779"
      },
      "execution_count": 11,
      "outputs": [
        {
          "output_type": "execute_result",
          "data": {
            "text/plain": [
              "<function matplotlib.pyplot.show(close=None, block=None)>"
            ],
            "text/html": [
              "<div style=\"max-width:800px; border: 1px solid var(--colab-border-color);\"><style>\n",
              "      pre.function-repr-contents {\n",
              "        overflow-x: auto;\n",
              "        padding: 8px 12px;\n",
              "        max-height: 500px;\n",
              "      }\n",
              "\n",
              "      pre.function-repr-contents.function-repr-contents-collapsed {\n",
              "        cursor: pointer;\n",
              "        max-height: 100px;\n",
              "      }\n",
              "    </style>\n",
              "    <pre style=\"white-space: initial; background:\n",
              "         var(--colab-secondary-surface-color); padding: 8px 12px;\n",
              "         border-bottom: 1px solid var(--colab-border-color);\"><b>matplotlib.pyplot.show</b><br/>def show(*args, **kwargs)</pre><pre class=\"function-repr-contents function-repr-contents-collapsed\" style=\"\"><a class=\"filepath\" style=\"display:none\" href=\"#\">/usr/local/lib/python3.10/dist-packages/matplotlib/pyplot.py</a>Display all open figures.\n",
              "\n",
              "Parameters\n",
              "----------\n",
              "block : bool, optional\n",
              "    Whether to wait for all figures to be closed before returning.\n",
              "\n",
              "    If `True` block and run the GUI main loop until all figure windows\n",
              "    are closed.\n",
              "\n",
              "    If `False` ensure that all figure windows are displayed and return\n",
              "    immediately.  In this case, you are responsible for ensuring\n",
              "    that the event loop is running to have responsive figures.\n",
              "\n",
              "    Defaults to True in non-interactive mode and to False in interactive\n",
              "    mode (see `.pyplot.isinteractive`).\n",
              "\n",
              "See Also\n",
              "--------\n",
              "ion : Enable interactive mode, which shows / updates the figure after\n",
              "      every plotting command, so that calling ``show()`` is not necessary.\n",
              "ioff : Disable interactive mode.\n",
              "savefig : Save the figure to an image file instead of showing it on screen.\n",
              "\n",
              "Notes\n",
              "-----\n",
              "**Saving figures to file and showing a window at the same time**\n",
              "\n",
              "If you want an image file as well as a user interface window, use\n",
              "`.pyplot.savefig` before `.pyplot.show`. At the end of (a blocking)\n",
              "``show()`` the figure is closed and thus unregistered from pyplot. Calling\n",
              "`.pyplot.savefig` afterwards would save a new and thus empty figure. This\n",
              "limitation of command order does not apply if the show is non-blocking or\n",
              "if you keep a reference to the figure and use `.Figure.savefig`.\n",
              "\n",
              "**Auto-show in jupyter notebooks**\n",
              "\n",
              "The jupyter backends (activated via ``%matplotlib inline``,\n",
              "``%matplotlib notebook``, or ``%matplotlib widget``), call ``show()`` at\n",
              "the end of every cell by default. Thus, you usually don&#x27;t have to call it\n",
              "explicitly there.</pre>\n",
              "      <script>\n",
              "      if (google.colab.kernel.accessAllowed && google.colab.files && google.colab.files.view) {\n",
              "        for (const element of document.querySelectorAll('.filepath')) {\n",
              "          element.style.display = 'block'\n",
              "          element.onclick = (event) => {\n",
              "            event.preventDefault();\n",
              "            event.stopPropagation();\n",
              "            google.colab.files.view(element.textContent, 401);\n",
              "          };\n",
              "        }\n",
              "      }\n",
              "      for (const element of document.querySelectorAll('.function-repr-contents')) {\n",
              "        element.onclick = (event) => {\n",
              "          event.preventDefault();\n",
              "          event.stopPropagation();\n",
              "          element.classList.toggle('function-repr-contents-collapsed');\n",
              "        };\n",
              "      }\n",
              "      </script>\n",
              "      </div>"
            ]
          },
          "metadata": {},
          "execution_count": 11
        },
        {
          "output_type": "display_data",
          "data": {
            "text/plain": [
              "<Figure size 640x480 with 1 Axes>"
            ],
            "image/png": "[encoded data removed]"
          },
          "metadata": {}
        }
      ]
    },
    {
      "cell_type": "markdown",
      "source": [
        "---\n",
        "# Q13. WAP to create a dictionary of student marks in five subjects and you have to find the student having maximum and minimum average marks.\n",
        "\n",
        "---"
      ],
      "metadata": {
        "id": "Y7ELRmo4pVUx"
      }
    },
    {
      "cell_type": "code",
      "source": [
        "StudentMarks = {\n",
        "    'Alice': [80, 75, 90, 85, 95],\n",
        "    'Bob': [70, 65, 80, 75, 85],\n",
        "    'Charlie': [60, 55, 70, 65, 75],\n",
        "    'David': [85, 80, 95, 90, 100],\n",
        "    'Eve': [90, 85, 100, 95, 80]\n",
        "}\n",
        "\n",
        "Maximum = 0\n",
        "Minimum = 100\n",
        "for i in StudentMarks:\n",
        "  StudentMarks[i] = sum(StudentMarks[i])/len(StudentMarks[i])\n",
        "  if StudentMarks[i] >= Maximum:\n",
        "    Maximum = StudentMarks[i]\n",
        "    MaxName = i\n",
        "  if StudentMarks[i] < Minimum:\n",
        "    Minimum = StudentMarks[i]\n",
        "    MinName = i\n",
        "\n",
        "print(\"Student with Maximum Average Marks : \", MaxName)\n",
        "print(\"Student with Minimum Average Marks : \", MinName)"
      ],
      "metadata": {
        "colab": {
          "base_uri": "https://localhost:8080/"
        },
        "id": "-2qTBI0Mpdw2",
        "outputId": "64d47c90-61d0-484e-d141-fc1221f3b0f3"
      },
      "execution_count": 12,
      "outputs": [
        {
          "output_type": "stream",
          "name": "stdout",
          "text": [
            "Student with Maximum Average Marks :  Eve\n",
            "Student with Minimum Average Marks :  Charlie\n"
          ]
        }
      ]
    }
  ]
}
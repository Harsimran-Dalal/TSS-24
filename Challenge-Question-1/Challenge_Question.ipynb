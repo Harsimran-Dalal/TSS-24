{
  "nbformat": 4,
  "nbformat_minor": 0,
  "metadata": {
    "colab": {
      "provenance": [],
      "authorship_tag": "ABX9TyNNVniykOjL5DxZK5m3ZXgD",
      "include_colab_link": true
    },
    "kernelspec": {
      "name": "python3",
      "display_name": "Python 3"
    },
    "language_info": {
      "name": "python"
    }
  },
  "cells": [
    {
      "cell_type": "markdown",
      "metadata": {
        "id": "view-in-github",
        "colab_type": "text"
      },
      "source": [
        "<a href=\"https://colab.research.google.com/github/Harsimran-Dalal/Challenge-Question-1/blob/main/Challenge_Question.ipynb\" target=\"_parent\"><img src=\"https://colab.research.google.com/assets/colab-badge.svg\" alt=\"Open In Colab\"/></a>"
      ]
    },
    {
      "cell_type": "markdown",
      "source": [
        "Write a python program to sort the list of heterogeneous data.  \n",
        "e.g.  \n",
        "L = [\"Ram\", 1, \"Shyam\", 2, \"Aman\", 3]\n",
        "\n",
        "print(L)\n",
        "\n",
        "L.sort()\n",
        "\n",
        "print(L)"
      ],
      "metadata": {
        "id": "W0XK6GZKstNE"
      }
    },
    {
      "cell_type": "code",
      "source": [
        "L = [\"Ram\", 1, \"Shyam\", 2, \"Aman\", 3]\n",
        "L = [str(i) for i in L]\n",
        "\n",
        "L.sort()\n",
        "print(L)\n",
        "#converting string values to numeric\n",
        "\n",
        "L1 =[]\n",
        "\n",
        "for i in L:\n",
        "  try:\n",
        "    L1.append(int(i))\n",
        "  except:\n",
        "    L1.append(i)\n",
        "\n",
        "print(L1)"
      ],
      "metadata": {
        "colab": {
          "base_uri": "https://localhost:8080/"
        },
        "id": "5go8BRwcsyni",
        "outputId": "9e289e48-fcde-4dea-e44f-7c42eca93330"
      },
      "execution_count": null,
      "outputs": [
        {
          "output_type": "stream",
          "name": "stdout",
          "text": [
            "['1', '2', '3', 'Aman', 'Ram', 'Shyam']\n",
            "[1, 2, 3, 'Aman', 'Ram', 'Shyam']\n"
          ]
        }
      ]
    },
    {
      "cell_type": "code",
      "source": [
        "import time\n",
        "t1 = time.time()\n",
        "\n",
        "for i in range(100000):\n",
        "  for j in range(100000):\n",
        "    x=900\n",
        "\n",
        "t2 = time.time()\n",
        "\n",
        "print(\"Total TIme\",t2-t1)"
      ],
      "metadata": {
        "id": "e-a89I9wvaI5"
      },
      "execution_count": null,
      "outputs": []
    }
  ]
}
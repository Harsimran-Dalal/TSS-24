{
  "metadata": {
    "kernelspec": {
      "name": "ir",
      "display_name": "R",
      "language": "R"
    },
    "language_info": {
      "name": "R",
      "codemirror_mode": "r",
      "pygments_lexer": "r",
      "mimetype": "text/x-r-source",
      "file_extension": ".r",
      "version": "4.0.5"
    },
    "colab": {
      "provenance": [],
      "include_colab_link": true
    },
    "gpuClass": "standard"
  },
  "nbformat_minor": 0,
  "nbformat": 4,
  "cells": [
    {
      "cell_type": "markdown",
      "metadata": {
        "id": "view-in-github",
        "colab_type": "text"
      },
      "source": [
        "<a href=\"https://colab.research.google.com/github/Harsimran-Dalal/R-Programming/blob/main/R_Programming.ipynb\" target=\"_parent\"><img src=\"https://colab.research.google.com/assets/colab-badge.svg\" alt=\"Open In Colab\"/></a>"
      ]
    },
    {
      "cell_type": "markdown",
      "source": [
        "---\n",
        "# **Learn R Programming**\n",
        "---\n",
        " - Basics Example to Understand R\n",
        " - Reading and Writing to File\n",
        " - Simple plotting\n",
        " - Multi-criteria decision making (MCDM) using Topsis\n",
        " - Model Evaluation Parameters for Regression and Classification using R\n",
        "\n",
        "### **Self learning resource**\n",
        "- Tutorial on R **<a href=\"https://www.w3schools.com/r/\" target=\"_blank\"> Click Here</a>**\n",
        "\n",
        "\n"
      ],
      "metadata": {
        "id": "xsVvMZdV2NCK"
      }
    },
    {
      "cell_type": "markdown",
      "source": [
        "---\n",
        "# **1. Simple Examples**\n",
        "---\n",
        "## **1.1 Addition of two numbers**\n",
        "---"
      ],
      "metadata": {
        "id": "aA5v8sqBvBmy"
      }
    },
    {
      "cell_type": "code",
      "source": [
        "2 + 2                 # Addition"
      ],
      "metadata": {
        "_uuid": "d202d55d-794d-4414-b7a6-ec8ae7d6c92d",
        "_cell_guid": "f1f2ef93-39e3-4c32-bb5e-1d7e671a2644",
        "jupyter": {
          "outputs_hidden": false
        },
        "execution": {
          "iopub.status.busy": "2022-07-03T15:25:28.124907Z",
          "iopub.execute_input": "2022-07-03T15:25:28.126357Z",
          "iopub.status.idle": "2022-07-03T15:25:28.146639Z"
        },
        "trusted": true,
        "id": "e61rTaX2vBm8",
        "colab": {
          "base_uri": "https://localhost:8080/",
          "height": 34
        },
        "outputId": "c1d695d6-f53f-4253-db06-6ea77ab3fc20"
      },
      "execution_count": 57,
      "outputs": [
        {
          "output_type": "display_data",
          "data": {
            "text/html": [
              "4"
            ],
            "text/markdown": "4",
            "text/latex": "4",
            "text/plain": [
              "[1] 4"
            ]
          },
          "metadata": {}
        }
      ]
    },
    {
      "cell_type": "markdown",
      "source": [
        "---\n",
        "## **1.2 Addition of two numbers**\n",
        "---"
      ],
      "metadata": {
        "id": "UerZIS2PE7aN"
      }
    },
    {
      "cell_type": "code",
      "source": [
        "a = 10                  # To assign\n",
        "b = 20\n",
        "c = a + b                 # Addition\n",
        "c"
      ],
      "metadata": {
        "_uuid": "d202d55d-794d-4414-b7a6-ec8ae7d6c92d",
        "_cell_guid": "f1f2ef93-39e3-4c32-bb5e-1d7e671a2644",
        "jupyter": {
          "outputs_hidden": false
        },
        "execution": {
          "iopub.status.busy": "2022-07-03T15:25:28.124907Z",
          "iopub.execute_input": "2022-07-03T15:25:28.126357Z",
          "iopub.status.idle": "2022-07-03T15:25:28.146639Z"
        },
        "trusted": true,
        "colab": {
          "base_uri": "https://localhost:8080/",
          "height": 34
        },
        "outputId": "c19bd046-bab1-4bbb-b0ec-9d177b0c0db5",
        "id": "vHsnOVDbE7aQ"
      },
      "execution_count": 58,
      "outputs": [
        {
          "output_type": "display_data",
          "data": {
            "text/html": [
              "30"
            ],
            "text/markdown": "30",
            "text/latex": "30",
            "text/plain": [
              "[1] 30"
            ]
          },
          "metadata": {}
        }
      ]
    },
    {
      "cell_type": "code",
      "source": [
        "# To Print\n",
        "cat(c)"
      ],
      "metadata": {
        "colab": {
          "base_uri": "https://localhost:8080/"
        },
        "id": "bRPesdkVFFMV",
        "outputId": "1d6eaac2-1dff-4fc8-a789-7a57a0f1824c"
      },
      "execution_count": 59,
      "outputs": [
        {
          "output_type": "stream",
          "name": "stdout",
          "text": [
            "30"
          ]
        }
      ]
    },
    {
      "cell_type": "code",
      "source": [
        "# To Print\n",
        "print(c)"
      ],
      "metadata": {
        "colab": {
          "base_uri": "https://localhost:8080/"
        },
        "id": "QHN8sw8aFNFQ",
        "outputId": "79f153e8-d672-4a5c-ff18-a2f255f5f4d6"
      },
      "execution_count": 60,
      "outputs": [
        {
          "output_type": "stream",
          "name": "stdout",
          "text": [
            "[1] 30\n"
          ]
        }
      ]
    },
    {
      "cell_type": "markdown",
      "source": [
        "---\n",
        "## **1.3 Use of function**\n",
        "---"
      ],
      "metadata": {
        "id": "JwohCs39vBm_"
      }
    },
    {
      "cell_type": "code",
      "source": [
        "# Exponential function\n",
        "exp(-200)\n"
      ],
      "metadata": {
        "colab": {
          "base_uri": "https://localhost:8080/",
          "height": 34
        },
        "id": "_OvXKGC7Xe69",
        "outputId": "2f2fbbba-4650-4997-dbdc-138a505b892f"
      },
      "execution_count": 61,
      "outputs": [
        {
          "output_type": "display_data",
          "data": {
            "text/html": [
              "1.38389652673674e-87"
            ],
            "text/markdown": "1.38389652673674e-87",
            "text/latex": "1.38389652673674e-87",
            "text/plain": [
              "[1] 1.383897e-87"
            ]
          },
          "metadata": {}
        }
      ]
    },
    {
      "cell_type": "code",
      "source": [
        "# Log Function\n",
        "log(100, base = 10)"
      ],
      "metadata": {
        "colab": {
          "base_uri": "https://localhost:8080/",
          "height": 34
        },
        "id": "njSiEp4nXgo9",
        "outputId": "cab1e47b-84da-47dd-e5a9-33b6e3a70b33"
      },
      "execution_count": 62,
      "outputs": [
        {
          "output_type": "display_data",
          "data": {
            "text/html": [
              "2"
            ],
            "text/markdown": "2",
            "text/latex": "2",
            "text/plain": [
              "[1] 2"
            ]
          },
          "metadata": {}
        }
      ]
    },
    {
      "cell_type": "markdown",
      "source": [
        "---\n",
        "## **1.4 Generate Random Number**\n",
        "---"
      ],
      "metadata": {
        "id": "OW4cP0u4yCFF"
      }
    },
    {
      "cell_type": "code",
      "source": [
        "# Generate one random numbers between 0 and 1\n",
        "runif(1)"
      ],
      "metadata": {
        "_uuid": "affe3387-ab90-45ea-845c-dfa84c74994a",
        "_cell_guid": "7e2d1105-9816-472c-8ba1-a340f4a5c326",
        "jupyter": {
          "outputs_hidden": false
        },
        "execution": {
          "iopub.status.busy": "2022-07-03T15:25:28.149057Z",
          "iopub.execute_input": "2022-07-03T15:25:28.150464Z",
          "iopub.status.idle": "2022-07-03T15:25:28.178352Z"
        },
        "trusted": true,
        "colab": {
          "base_uri": "https://localhost:8080/",
          "height": 34
        },
        "id": "DUEzfl2WvBnA",
        "outputId": "ad4873f7-ec4b-4cea-80a6-e851dbfa5b9b"
      },
      "execution_count": 63,
      "outputs": [
        {
          "output_type": "display_data",
          "data": {
            "text/html": [
              "0.275561737827957"
            ],
            "text/markdown": "0.275561737827957",
            "text/latex": "0.275561737827957",
            "text/plain": [
              "[1] 0.2755617"
            ]
          },
          "metadata": {}
        }
      ]
    },
    {
      "cell_type": "code",
      "source": [
        "# Generate five random numbers between 0 and 1\n",
        "round(runif(5),3)"
      ],
      "metadata": {
        "colab": {
          "base_uri": "https://localhost:8080/",
          "height": 34
        },
        "id": "l5UJWITabIdF",
        "outputId": "56d936f5-cd69-4b38-b792-fbbe3280ecaa"
      },
      "execution_count": 64,
      "outputs": [
        {
          "output_type": "display_data",
          "data": {
            "text/html": [
              "<style>\n",
              ".list-inline {list-style: none; margin:0; padding: 0}\n",
              ".list-inline>li {display: inline-block}\n",
              ".list-inline>li:not(:last-child)::after {content: \"\\00b7\"; padding: 0 .5ex}\n",
              "</style>\n",
              "<ol class=list-inline><li>0.943</li><li>0.581</li><li>0.573</li><li>0.947</li><li>0.839</li></ol>\n"
            ],
            "text/markdown": "1. 0.943\n2. 0.581\n3. 0.573\n4. 0.947\n5. 0.839\n\n\n",
            "text/latex": "\\begin{enumerate*}\n\\item 0.943\n\\item 0.581\n\\item 0.573\n\\item 0.947\n\\item 0.839\n\\end{enumerate*}\n",
            "text/plain": [
              "[1] 0.943 0.581 0.573 0.947 0.839"
            ]
          },
          "metadata": {}
        }
      ]
    },
    {
      "cell_type": "code",
      "source": [
        "# Generate five random numbers between 1 and 5\n",
        "runif(5, min = 1, max = 5)"
      ],
      "metadata": {
        "colab": {
          "base_uri": "https://localhost:8080/",
          "height": 34
        },
        "id": "txvmuDTHbRvV",
        "outputId": "4aa3ad46-03b2-4a62-e525-ef9e399291be"
      },
      "execution_count": 65,
      "outputs": [
        {
          "output_type": "display_data",
          "data": {
            "text/html": [
              "<style>\n",
              ".list-inline {list-style: none; margin:0; padding: 0}\n",
              ".list-inline>li {display: inline-block}\n",
              ".list-inline>li:not(:last-child)::after {content: \"\\00b7\"; padding: 0 .5ex}\n",
              "</style>\n",
              "<ol class=list-inline><li>2.91232129838318</li><li>4.64612257760018</li><li>1.15534110739827</li><li>1.1016931431368</li><li>4.31772448122501</li></ol>\n"
            ],
            "text/markdown": "1. 2.91232129838318\n2. 4.64612257760018\n3. 1.15534110739827\n4. 1.1016931431368\n5. 4.31772448122501\n\n\n",
            "text/latex": "\\begin{enumerate*}\n\\item 2.91232129838318\n\\item 4.64612257760018\n\\item 1.15534110739827\n\\item 1.1016931431368\n\\item 4.31772448122501\n\\end{enumerate*}\n",
            "text/plain": [
              "[1] 2.912321 4.646123 1.155341 1.101693 4.317724"
            ]
          },
          "metadata": {}
        }
      ]
    },
    {
      "cell_type": "code",
      "source": [
        "# Get the type of a variable\n",
        "N <- runif(5)\n",
        "N\n",
        "class(N)"
      ],
      "metadata": {
        "colab": {
          "base_uri": "https://localhost:8080/",
          "height": 52
        },
        "id": "jkEoE4bMbbWQ",
        "outputId": "36dc38b2-4b88-40a0-8608-c20f521460b2"
      },
      "execution_count": 66,
      "outputs": [
        {
          "output_type": "display_data",
          "data": {
            "text/html": [
              "<style>\n",
              ".list-inline {list-style: none; margin:0; padding: 0}\n",
              ".list-inline>li {display: inline-block}\n",
              ".list-inline>li:not(:last-child)::after {content: \"\\00b7\"; padding: 0 .5ex}\n",
              "</style>\n",
              "<ol class=list-inline><li>0.195048813940957</li><li>0.911424606340006</li><li>0.444273664150387</li><li>0.609955220948905</li><li>0.649138115579262</li></ol>\n"
            ],
            "text/markdown": "1. 0.195048813940957\n2. 0.911424606340006\n3. 0.444273664150387\n4. 0.609955220948905\n5. 0.649138115579262\n\n\n",
            "text/latex": "\\begin{enumerate*}\n\\item 0.195048813940957\n\\item 0.911424606340006\n\\item 0.444273664150387\n\\item 0.609955220948905\n\\item 0.649138115579262\n\\end{enumerate*}\n",
            "text/plain": [
              "[1] 0.1950488 0.9114246 0.4442737 0.6099552 0.6491381"
            ]
          },
          "metadata": {}
        },
        {
          "output_type": "display_data",
          "data": {
            "text/html": [
              "'numeric'"
            ],
            "text/markdown": "'numeric'",
            "text/latex": "'numeric'",
            "text/plain": [
              "[1] \"numeric\""
            ]
          },
          "metadata": {}
        }
      ]
    },
    {
      "cell_type": "markdown",
      "source": [
        "---\n",
        "## **1.5 Basics operations**\n",
        "---"
      ],
      "metadata": {
        "id": "c4Vga_B4b8b6"
      }
    },
    {
      "cell_type": "code",
      "source": [
        "cat(\"N   : \",N)\n",
        "cat(\"\\nMin : \",min(N))          # Min\n",
        "cat(\"\\nMax : \",max(N))          # Max\n",
        "cat(\"\\nSum : \",sum(N))          # Sum\n",
        "cat(\"\\nMean: \",mean(N))         # Mean\n",
        "cat(\"\\nSD  : \",sd(N))           # Standad Deviation"
      ],
      "metadata": {
        "colab": {
          "base_uri": "https://localhost:8080/"
        },
        "id": "xWHdHMlZbuQe",
        "outputId": "e0233ea9-4f34-4a8f-b233-7c13e86b2228"
      },
      "execution_count": 67,
      "outputs": [
        {
          "output_type": "stream",
          "name": "stdout",
          "text": [
            "N   :  0.1950488 0.9114246 0.4442737 0.6099552 0.6491381\n",
            "Min :  0.1950488\n",
            "Max :  0.9114246\n",
            "Sum :  2.80984\n",
            "Mean:  0.5619681\n",
            "SD  :  0.2648127"
          ]
        }
      ]
    },
    {
      "cell_type": "markdown",
      "source": [
        "---\n",
        "## **1.6 Loop**\n",
        "---"
      ],
      "metadata": {
        "id": "5zyzrToXvBnB"
      }
    },
    {
      "cell_type": "code",
      "source": [
        "# Print 1 to 10\n",
        "for ( i in 1:10){\n",
        "  cat (i,\"\\n\")\n",
        "}"
      ],
      "metadata": {
        "_uuid": "6efe8de2-e55c-4db6-ba2b-0c4e1b9d0dad",
        "_cell_guid": "30d53597-98b7-4aeb-9d88-375f55b9f343",
        "jupyter": {
          "outputs_hidden": false
        },
        "execution": {
          "iopub.status.busy": "2022-07-03T15:25:28.180769Z",
          "iopub.execute_input": "2022-07-03T15:25:28.182207Z",
          "iopub.status.idle": "2022-07-03T15:25:28.203551Z"
        },
        "trusted": true,
        "colab": {
          "base_uri": "https://localhost:8080/"
        },
        "id": "BqmdotlVvBnB",
        "outputId": "ee31d808-f29f-44bc-f6b8-80c1f23d807e"
      },
      "execution_count": 68,
      "outputs": [
        {
          "output_type": "stream",
          "name": "stdout",
          "text": [
            "1 \n",
            "2 \n",
            "3 \n",
            "4 \n",
            "5 \n",
            "6 \n",
            "7 \n",
            "8 \n",
            "9 \n",
            "10 \n"
          ]
        }
      ]
    },
    {
      "cell_type": "code",
      "source": [
        "# Print 10 random number between 1 and 100 using loop\n",
        "for ( i in 1:10){\n",
        "  cat (i, \"-->\", round(runif(1,min=1,max=100),0), \"\\n\")\n",
        "}"
      ],
      "metadata": {
        "colab": {
          "base_uri": "https://localhost:8080/"
        },
        "id": "xnRY3MW4d3dp",
        "outputId": "613d273c-6878-4ac9-dcd3-c7eb9bcf84ec"
      },
      "execution_count": 69,
      "outputs": [
        {
          "output_type": "stream",
          "name": "stdout",
          "text": [
            "1 --> 23 \n",
            "2 --> 60 \n",
            "3 --> 65 \n",
            "4 --> 59 \n",
            "5 --> 29 \n",
            "6 --> 72 \n",
            "7 --> 66 \n",
            "8 --> 76 \n",
            "9 --> 18 \n",
            "10 --> 76 \n"
          ]
        }
      ]
    },
    {
      "cell_type": "code",
      "source": [
        "# Print 10 random number between 1 and 100\n",
        "N = round(runif(10, min=1, max=100), 0)\n",
        "cat(N)"
      ],
      "metadata": {
        "colab": {
          "base_uri": "https://localhost:8080/"
        },
        "id": "6qACur_9d1_A",
        "outputId": "0e67f00c-e87a-4a74-8b83-f85bd41f85c7"
      },
      "execution_count": 70,
      "outputs": [
        {
          "output_type": "stream",
          "name": "stdout",
          "text": [
            "56 15 40 12 62 59 53 45 10 29"
          ]
        }
      ]
    },
    {
      "cell_type": "markdown",
      "source": [
        "---\n",
        "## **1.7 If-Else**\n",
        "---"
      ],
      "metadata": {
        "id": "FQiGjcqdvBnC"
      }
    },
    {
      "cell_type": "code",
      "source": [
        "# If-else\n",
        "i=20\n",
        "if (i==20){\n",
        "  cat(\"Yes\")\n",
        "}else{\n",
        "  cat(\"NO\")\n",
        "}"
      ],
      "metadata": {
        "_uuid": "5decaca5-4ec3-4bcd-8d22-a3c19a348c8a",
        "_cell_guid": "85e24367-9083-445b-a3a0-12d74a158155",
        "jupyter": {
          "outputs_hidden": false
        },
        "execution": {
          "iopub.status.busy": "2022-07-03T15:25:28.205883Z",
          "iopub.execute_input": "2022-07-03T15:25:28.207300Z",
          "iopub.status.idle": "2022-07-03T15:25:28.239570Z"
        },
        "trusted": true,
        "colab": {
          "base_uri": "https://localhost:8080/"
        },
        "id": "QXxGJZZxvBnD",
        "outputId": "5ce0a29b-074c-4f81-88b1-670f4f72b791"
      },
      "execution_count": 71,
      "outputs": [
        {
          "output_type": "stream",
          "name": "stdout",
          "text": [
            "Yes"
          ]
        }
      ]
    },
    {
      "cell_type": "code",
      "source": [
        "# Error: If-else\n",
        "i=20\n",
        "if (i==20){\n",
        "  cat(\"Yes\")\n",
        "}\n",
        "else{\n",
        "  cat(\"NO\")\n",
        "}"
      ],
      "metadata": {
        "colab": {
          "base_uri": "https://localhost:8080/",
          "height": 124
        },
        "id": "qFKez7TNecHk",
        "outputId": "a2626583-0723-404a-86b0-5545f6c5c8b0"
      },
      "execution_count": 73,
      "outputs": [
        {
          "output_type": "error",
          "ename": "ERROR",
          "evalue": "Error in parse(text = x, srcfile = src): <text>:6:1: unexpected 'else'\n5: }\n6: else\n   ^\n",
          "traceback": [
            "Error in parse(text = x, srcfile = src): <text>:6:1: unexpected 'else'\n5: }\n6: else\n   ^\nTraceback:\n"
          ]
        }
      ]
    },
    {
      "cell_type": "code",
      "source": [
        "# If-else\n",
        "a = 10\n",
        "b = 20\n",
        "if (a > b){\n",
        "  cat(a, \" is Greater\")\n",
        "}else{\n",
        "  cat(b, \" is Greater\")\n",
        "}"
      ],
      "metadata": {
        "colab": {
          "base_uri": "https://localhost:8080/"
        },
        "id": "5HCHtEq-egfh",
        "outputId": "1b5668c4-d3ea-4bb8-9d91-45a2db892f98"
      },
      "execution_count": 74,
      "outputs": [
        {
          "output_type": "stream",
          "name": "stdout",
          "text": [
            "20  is Greater"
          ]
        }
      ]
    },
    {
      "cell_type": "markdown",
      "source": [
        "---\n",
        "## **1.8 Some More Examples**\n",
        "---"
      ],
      "metadata": {
        "id": "eu3Np3XmvBnG"
      }
    },
    {
      "cell_type": "code",
      "source": [
        "# Actual\n",
        "Actual <- round(runif(100, min = 1, max = 5),2)\n",
        "Actual\n",
        "class(Actual)"
      ],
      "metadata": {
        "_uuid": "b1b42519-6c1f-41f1-9209-ec2fff912ec6",
        "_cell_guid": "e653392a-adc7-41b5-a5b3-cfd62b40d3b7",
        "jupyter": {
          "outputs_hidden": false
        },
        "execution": {
          "iopub.status.busy": "2022-07-03T15:25:28.268022Z",
          "iopub.execute_input": "2022-07-03T15:25:28.270850Z",
          "iopub.status.idle": "2022-07-03T15:25:28.304475Z"
        },
        "trusted": true,
        "colab": {
          "base_uri": "https://localhost:8080/",
          "height": 104
        },
        "id": "x7ry5J4uvBnG",
        "outputId": "3c991364-0788-40a7-9f34-373b0ac3b0d3"
      },
      "execution_count": 75,
      "outputs": [
        {
          "output_type": "display_data",
          "data": {
            "text/html": [
              "<style>\n",
              ".list-inline {list-style: none; margin:0; padding: 0}\n",
              ".list-inline>li {display: inline-block}\n",
              ".list-inline>li:not(:last-child)::after {content: \"\\00b7\"; padding: 0 .5ex}\n",
              "</style>\n",
              "<ol class=list-inline><li>3.86</li><li>2.8</li><li>4.92</li><li>2.41</li><li>2.27</li><li>4.27</li><li>3.76</li><li>4.97</li><li>1.71</li><li>2.09</li><li>3.82</li><li>1.88</li><li>1.74</li><li>4.32</li><li>4.62</li><li>2.94</li><li>1</li><li>4.83</li><li>1.03</li><li>1.99</li><li>2.76</li><li>1.02</li><li>4.38</li><li>4.2</li><li>1.29</li><li>2.48</li><li>4.54</li><li>1.65</li><li>1.98</li><li>3.7</li><li>2.58</li><li>4.92</li><li>4.65</li><li>2.48</li><li>2.98</li><li>1.38</li><li>2.51</li><li>3.74</li><li>4.78</li><li>2.64</li><li>4.55</li><li>3.75</li><li>4.16</li><li>3.54</li><li>4.71</li><li>3.8</li><li>4.17</li><li>4.36</li><li>1.95</li><li>3.48</li><li>4.48</li><li>2.65</li><li>4.08</li><li>4.19</li><li>2.17</li><li>1.84</li><li>3.79</li><li>1.68</li><li>2.91</li><li>3.52</li><li>1.24</li><li>3.47</li><li>4.22</li><li>2.61</li><li>2.83</li><li>2.45</li><li>2.75</li><li>4.9</li><li>4.02</li><li>1.14</li><li>4.32</li><li>1.11</li><li>2.28</li><li>1.26</li><li>2.59</li><li>4.34</li><li>2.43</li><li>1.5</li><li>3.14</li><li>2.38</li><li>1.38</li><li>1.22</li><li>1.37</li><li>1.67</li><li>2.05</li><li>2.2</li><li>1.8</li><li>3.39</li><li>1.79</li><li>4.18</li><li>2.26</li><li>2.85</li><li>2.69</li><li>4.22</li><li>2.75</li><li>3.58</li><li>4.6</li><li>4.52</li><li>3.09</li><li>3.03</li></ol>\n"
            ],
            "text/markdown": "1. 3.86\n2. 2.8\n3. 4.92\n4. 2.41\n5. 2.27\n6. 4.27\n7. 3.76\n8. 4.97\n9. 1.71\n10. 2.09\n11. 3.82\n12. 1.88\n13. 1.74\n14. 4.32\n15. 4.62\n16. 2.94\n17. 1\n18. 4.83\n19. 1.03\n20. 1.99\n21. 2.76\n22. 1.02\n23. 4.38\n24. 4.2\n25. 1.29\n26. 2.48\n27. 4.54\n28. 1.65\n29. 1.98\n30. 3.7\n31. 2.58\n32. 4.92\n33. 4.65\n34. 2.48\n35. 2.98\n36. 1.38\n37. 2.51\n38. 3.74\n39. 4.78\n40. 2.64\n41. 4.55\n42. 3.75\n43. 4.16\n44. 3.54\n45. 4.71\n46. 3.8\n47. 4.17\n48. 4.36\n49. 1.95\n50. 3.48\n51. 4.48\n52. 2.65\n53. 4.08\n54. 4.19\n55. 2.17\n56. 1.84\n57. 3.79\n58. 1.68\n59. 2.91\n60. 3.52\n61. 1.24\n62. 3.47\n63. 4.22\n64. 2.61\n65. 2.83\n66. 2.45\n67. 2.75\n68. 4.9\n69. 4.02\n70. 1.14\n71. 4.32\n72. 1.11\n73. 2.28\n74. 1.26\n75. 2.59\n76. 4.34\n77. 2.43\n78. 1.5\n79. 3.14\n80. 2.38\n81. 1.38\n82. 1.22\n83. 1.37\n84. 1.67\n85. 2.05\n86. 2.2\n87. 1.8\n88. 3.39\n89. 1.79\n90. 4.18\n91. 2.26\n92. 2.85\n93. 2.69\n94. 4.22\n95. 2.75\n96. 3.58\n97. 4.6\n98. 4.52\n99. 3.09\n100. 3.03\n\n\n",
            "text/latex": "\\begin{enumerate*}\n\\item 3.86\n\\item 2.8\n\\item 4.92\n\\item 2.41\n\\item 2.27\n\\item 4.27\n\\item 3.76\n\\item 4.97\n\\item 1.71\n\\item 2.09\n\\item 3.82\n\\item 1.88\n\\item 1.74\n\\item 4.32\n\\item 4.62\n\\item 2.94\n\\item 1\n\\item 4.83\n\\item 1.03\n\\item 1.99\n\\item 2.76\n\\item 1.02\n\\item 4.38\n\\item 4.2\n\\item 1.29\n\\item 2.48\n\\item 4.54\n\\item 1.65\n\\item 1.98\n\\item 3.7\n\\item 2.58\n\\item 4.92\n\\item 4.65\n\\item 2.48\n\\item 2.98\n\\item 1.38\n\\item 2.51\n\\item 3.74\n\\item 4.78\n\\item 2.64\n\\item 4.55\n\\item 3.75\n\\item 4.16\n\\item 3.54\n\\item 4.71\n\\item 3.8\n\\item 4.17\n\\item 4.36\n\\item 1.95\n\\item 3.48\n\\item 4.48\n\\item 2.65\n\\item 4.08\n\\item 4.19\n\\item 2.17\n\\item 1.84\n\\item 3.79\n\\item 1.68\n\\item 2.91\n\\item 3.52\n\\item 1.24\n\\item 3.47\n\\item 4.22\n\\item 2.61\n\\item 2.83\n\\item 2.45\n\\item 2.75\n\\item 4.9\n\\item 4.02\n\\item 1.14\n\\item 4.32\n\\item 1.11\n\\item 2.28\n\\item 1.26\n\\item 2.59\n\\item 4.34\n\\item 2.43\n\\item 1.5\n\\item 3.14\n\\item 2.38\n\\item 1.38\n\\item 1.22\n\\item 1.37\n\\item 1.67\n\\item 2.05\n\\item 2.2\n\\item 1.8\n\\item 3.39\n\\item 1.79\n\\item 4.18\n\\item 2.26\n\\item 2.85\n\\item 2.69\n\\item 4.22\n\\item 2.75\n\\item 3.58\n\\item 4.6\n\\item 4.52\n\\item 3.09\n\\item 3.03\n\\end{enumerate*}\n",
            "text/plain": [
              "  [1] 3.86 2.80 4.92 2.41 2.27 4.27 3.76 4.97 1.71 2.09 3.82 1.88 1.74 4.32 4.62\n",
              " [16] 2.94 1.00 4.83 1.03 1.99 2.76 1.02 4.38 4.20 1.29 2.48 4.54 1.65 1.98 3.70\n",
              " [31] 2.58 4.92 4.65 2.48 2.98 1.38 2.51 3.74 4.78 2.64 4.55 3.75 4.16 3.54 4.71\n",
              " [46] 3.80 4.17 4.36 1.95 3.48 4.48 2.65 4.08 4.19 2.17 1.84 3.79 1.68 2.91 3.52\n",
              " [61] 1.24 3.47 4.22 2.61 2.83 2.45 2.75 4.90 4.02 1.14 4.32 1.11 2.28 1.26 2.59\n",
              " [76] 4.34 2.43 1.50 3.14 2.38 1.38 1.22 1.37 1.67 2.05 2.20 1.80 3.39 1.79 4.18\n",
              " [91] 2.26 2.85 2.69 4.22 2.75 3.58 4.60 4.52 3.09 3.03"
            ]
          },
          "metadata": {}
        },
        {
          "output_type": "display_data",
          "data": {
            "text/html": [
              "'numeric'"
            ],
            "text/markdown": "'numeric'",
            "text/latex": "'numeric'",
            "text/plain": [
              "[1] \"numeric\""
            ]
          },
          "metadata": {}
        }
      ]
    },
    {
      "cell_type": "code",
      "source": [
        "# Use of Head\n",
        "head(Actual)\n",
        "head(Actual,10)\n",
        "head(Actual,20)\n"
      ],
      "metadata": {
        "colab": {
          "base_uri": "https://localhost:8080/",
          "height": 69
        },
        "id": "N7fUlhnXCbVR",
        "outputId": "b50ece93-a425-41de-b2db-a35110b2dbe2"
      },
      "execution_count": 76,
      "outputs": [
        {
          "output_type": "display_data",
          "data": {
            "text/html": [
              "<style>\n",
              ".list-inline {list-style: none; margin:0; padding: 0}\n",
              ".list-inline>li {display: inline-block}\n",
              ".list-inline>li:not(:last-child)::after {content: \"\\00b7\"; padding: 0 .5ex}\n",
              "</style>\n",
              "<ol class=list-inline><li>3.86</li><li>2.8</li><li>4.92</li><li>2.41</li><li>2.27</li><li>4.27</li></ol>\n"
            ],
            "text/markdown": "1. 3.86\n2. 2.8\n3. 4.92\n4. 2.41\n5. 2.27\n6. 4.27\n\n\n",
            "text/latex": "\\begin{enumerate*}\n\\item 3.86\n\\item 2.8\n\\item 4.92\n\\item 2.41\n\\item 2.27\n\\item 4.27\n\\end{enumerate*}\n",
            "text/plain": [
              "[1] 3.86 2.80 4.92 2.41 2.27 4.27"
            ]
          },
          "metadata": {}
        },
        {
          "output_type": "display_data",
          "data": {
            "text/html": [
              "<style>\n",
              ".list-inline {list-style: none; margin:0; padding: 0}\n",
              ".list-inline>li {display: inline-block}\n",
              ".list-inline>li:not(:last-child)::after {content: \"\\00b7\"; padding: 0 .5ex}\n",
              "</style>\n",
              "<ol class=list-inline><li>3.86</li><li>2.8</li><li>4.92</li><li>2.41</li><li>2.27</li><li>4.27</li><li>3.76</li><li>4.97</li><li>1.71</li><li>2.09</li></ol>\n"
            ],
            "text/markdown": "1. 3.86\n2. 2.8\n3. 4.92\n4. 2.41\n5. 2.27\n6. 4.27\n7. 3.76\n8. 4.97\n9. 1.71\n10. 2.09\n\n\n",
            "text/latex": "\\begin{enumerate*}\n\\item 3.86\n\\item 2.8\n\\item 4.92\n\\item 2.41\n\\item 2.27\n\\item 4.27\n\\item 3.76\n\\item 4.97\n\\item 1.71\n\\item 2.09\n\\end{enumerate*}\n",
            "text/plain": [
              " [1] 3.86 2.80 4.92 2.41 2.27 4.27 3.76 4.97 1.71 2.09"
            ]
          },
          "metadata": {}
        },
        {
          "output_type": "display_data",
          "data": {
            "text/html": [
              "<style>\n",
              ".list-inline {list-style: none; margin:0; padding: 0}\n",
              ".list-inline>li {display: inline-block}\n",
              ".list-inline>li:not(:last-child)::after {content: \"\\00b7\"; padding: 0 .5ex}\n",
              "</style>\n",
              "<ol class=list-inline><li>3.86</li><li>2.8</li><li>4.92</li><li>2.41</li><li>2.27</li><li>4.27</li><li>3.76</li><li>4.97</li><li>1.71</li><li>2.09</li><li>3.82</li><li>1.88</li><li>1.74</li><li>4.32</li><li>4.62</li><li>2.94</li><li>1</li><li>4.83</li><li>1.03</li><li>1.99</li></ol>\n"
            ],
            "text/markdown": "1. 3.86\n2. 2.8\n3. 4.92\n4. 2.41\n5. 2.27\n6. 4.27\n7. 3.76\n8. 4.97\n9. 1.71\n10. 2.09\n11. 3.82\n12. 1.88\n13. 1.74\n14. 4.32\n15. 4.62\n16. 2.94\n17. 1\n18. 4.83\n19. 1.03\n20. 1.99\n\n\n",
            "text/latex": "\\begin{enumerate*}\n\\item 3.86\n\\item 2.8\n\\item 4.92\n\\item 2.41\n\\item 2.27\n\\item 4.27\n\\item 3.76\n\\item 4.97\n\\item 1.71\n\\item 2.09\n\\item 3.82\n\\item 1.88\n\\item 1.74\n\\item 4.32\n\\item 4.62\n\\item 2.94\n\\item 1\n\\item 4.83\n\\item 1.03\n\\item 1.99\n\\end{enumerate*}\n",
            "text/plain": [
              " [1] 3.86 2.80 4.92 2.41 2.27 4.27 3.76 4.97 1.71 2.09 3.82 1.88 1.74 4.32 4.62\n",
              "[16] 2.94 1.00 4.83 1.03 1.99"
            ]
          },
          "metadata": {}
        }
      ]
    },
    {
      "cell_type": "code",
      "source": [
        "# Use of Head\n",
        "tail(Actual)\n",
        "tail(Actual,10)\n",
        "tail(Actual,20)"
      ],
      "metadata": {
        "colab": {
          "base_uri": "https://localhost:8080/",
          "height": 69
        },
        "id": "5dr-_jZALIpw",
        "outputId": "5a7223a4-66ad-42a8-9761-f52df2bbef7a"
      },
      "execution_count": 77,
      "outputs": [
        {
          "output_type": "display_data",
          "data": {
            "text/html": [
              "<style>\n",
              ".list-inline {list-style: none; margin:0; padding: 0}\n",
              ".list-inline>li {display: inline-block}\n",
              ".list-inline>li:not(:last-child)::after {content: \"\\00b7\"; padding: 0 .5ex}\n",
              "</style>\n",
              "<ol class=list-inline><li>2.75</li><li>3.58</li><li>4.6</li><li>4.52</li><li>3.09</li><li>3.03</li></ol>\n"
            ],
            "text/markdown": "1. 2.75\n2. 3.58\n3. 4.6\n4. 4.52\n5. 3.09\n6. 3.03\n\n\n",
            "text/latex": "\\begin{enumerate*}\n\\item 2.75\n\\item 3.58\n\\item 4.6\n\\item 4.52\n\\item 3.09\n\\item 3.03\n\\end{enumerate*}\n",
            "text/plain": [
              "[1] 2.75 3.58 4.60 4.52 3.09 3.03"
            ]
          },
          "metadata": {}
        },
        {
          "output_type": "display_data",
          "data": {
            "text/html": [
              "<style>\n",
              ".list-inline {list-style: none; margin:0; padding: 0}\n",
              ".list-inline>li {display: inline-block}\n",
              ".list-inline>li:not(:last-child)::after {content: \"\\00b7\"; padding: 0 .5ex}\n",
              "</style>\n",
              "<ol class=list-inline><li>2.26</li><li>2.85</li><li>2.69</li><li>4.22</li><li>2.75</li><li>3.58</li><li>4.6</li><li>4.52</li><li>3.09</li><li>3.03</li></ol>\n"
            ],
            "text/markdown": "1. 2.26\n2. 2.85\n3. 2.69\n4. 4.22\n5. 2.75\n6. 3.58\n7. 4.6\n8. 4.52\n9. 3.09\n10. 3.03\n\n\n",
            "text/latex": "\\begin{enumerate*}\n\\item 2.26\n\\item 2.85\n\\item 2.69\n\\item 4.22\n\\item 2.75\n\\item 3.58\n\\item 4.6\n\\item 4.52\n\\item 3.09\n\\item 3.03\n\\end{enumerate*}\n",
            "text/plain": [
              " [1] 2.26 2.85 2.69 4.22 2.75 3.58 4.60 4.52 3.09 3.03"
            ]
          },
          "metadata": {}
        },
        {
          "output_type": "display_data",
          "data": {
            "text/html": [
              "<style>\n",
              ".list-inline {list-style: none; margin:0; padding: 0}\n",
              ".list-inline>li {display: inline-block}\n",
              ".list-inline>li:not(:last-child)::after {content: \"\\00b7\"; padding: 0 .5ex}\n",
              "</style>\n",
              "<ol class=list-inline><li>1.38</li><li>1.22</li><li>1.37</li><li>1.67</li><li>2.05</li><li>2.2</li><li>1.8</li><li>3.39</li><li>1.79</li><li>4.18</li><li>2.26</li><li>2.85</li><li>2.69</li><li>4.22</li><li>2.75</li><li>3.58</li><li>4.6</li><li>4.52</li><li>3.09</li><li>3.03</li></ol>\n"
            ],
            "text/markdown": "1. 1.38\n2. 1.22\n3. 1.37\n4. 1.67\n5. 2.05\n6. 2.2\n7. 1.8\n8. 3.39\n9. 1.79\n10. 4.18\n11. 2.26\n12. 2.85\n13. 2.69\n14. 4.22\n15. 2.75\n16. 3.58\n17. 4.6\n18. 4.52\n19. 3.09\n20. 3.03\n\n\n",
            "text/latex": "\\begin{enumerate*}\n\\item 1.38\n\\item 1.22\n\\item 1.37\n\\item 1.67\n\\item 2.05\n\\item 2.2\n\\item 1.8\n\\item 3.39\n\\item 1.79\n\\item 4.18\n\\item 2.26\n\\item 2.85\n\\item 2.69\n\\item 4.22\n\\item 2.75\n\\item 3.58\n\\item 4.6\n\\item 4.52\n\\item 3.09\n\\item 3.03\n\\end{enumerate*}\n",
            "text/plain": [
              " [1] 1.38 1.22 1.37 1.67 2.05 2.20 1.80 3.39 1.79 4.18 2.26 2.85 2.69 4.22 2.75\n",
              "[16] 3.58 4.60 4.52 3.09 3.03"
            ]
          },
          "metadata": {}
        }
      ]
    },
    {
      "cell_type": "code",
      "source": [
        "# Predicted\n",
        "Predicted <- round(runif(100, min = 1, max = 5),2)\n",
        "head(Predicted)"
      ],
      "metadata": {
        "colab": {
          "base_uri": "https://localhost:8080/",
          "height": 34
        },
        "id": "wmY6BXVSCtNF",
        "outputId": "596745fb-73c9-4e6f-b67b-2ab7eedf04ce"
      },
      "execution_count": 78,
      "outputs": [
        {
          "output_type": "display_data",
          "data": {
            "text/html": [
              "<style>\n",
              ".list-inline {list-style: none; margin:0; padding: 0}\n",
              ".list-inline>li {display: inline-block}\n",
              ".list-inline>li:not(:last-child)::after {content: \"\\00b7\"; padding: 0 .5ex}\n",
              "</style>\n",
              "<ol class=list-inline><li>4.07</li><li>1.25</li><li>3.51</li><li>1.17</li><li>4.2</li><li>1.95</li></ol>\n"
            ],
            "text/markdown": "1. 4.07\n2. 1.25\n3. 3.51\n4. 1.17\n5. 4.2\n6. 1.95\n\n\n",
            "text/latex": "\\begin{enumerate*}\n\\item 4.07\n\\item 1.25\n\\item 3.51\n\\item 1.17\n\\item 4.2\n\\item 1.95\n\\end{enumerate*}\n",
            "text/plain": [
              "[1] 4.07 1.25 3.51 1.17 4.20 1.95"
            ]
          },
          "metadata": {}
        }
      ]
    },
    {
      "cell_type": "markdown",
      "source": [
        "---\n",
        "## **1.9 Basic Operations (Difference, SOD, MAE, Correlation)**\n",
        "---"
      ],
      "metadata": {
        "id": "vb3jXEyLC8NW"
      }
    },
    {
      "cell_type": "code",
      "source": [
        "# Difference\n",
        "D = Actual - Predicted\n",
        "cat(D)"
      ],
      "metadata": {
        "_uuid": "b1b42519-6c1f-41f1-9209-ec2fff912ec6",
        "_cell_guid": "e653392a-adc7-41b5-a5b3-cfd62b40d3b7",
        "jupyter": {
          "outputs_hidden": false
        },
        "execution": {
          "iopub.status.busy": "2022-07-03T15:25:28.268022Z",
          "iopub.execute_input": "2022-07-03T15:25:28.270850Z",
          "iopub.status.idle": "2022-07-03T15:25:28.304475Z"
        },
        "trusted": true,
        "colab": {
          "base_uri": "https://localhost:8080/"
        },
        "outputId": "e6f2069a-4b22-4986-a711-1336464dc169",
        "id": "qUwdCNajC8NY"
      },
      "execution_count": 79,
      "outputs": [
        {
          "output_type": "stream",
          "name": "stdout",
          "text": [
            "-0.21 1.55 1.41 1.24 -1.93 2.32 -0.7 1.61 -1.55 -1.57 1.95 -0.74 -2.6 2.43 1.85 -0.89 -2.25 1.79 -2.64 -0.7 -1.81 -2.41 0.9 -0.5 -2.98 0.02 0.1 -0.96 -1 -0.13 1 1.29 3.22 -1.89 0.3 -0.61 1.44 2.04 2.26 -1.02 2.51 -1.22 0.64 -0.77 0.9 1.48 1.91 0.42 -2.25 -1.01 2.71 -1.76 0.21 0.89 -2.82 -1 -0.93 -2.83 1.41 -0.97 -1.43 1.85 -0.39 -1.92 -0.95 -1.7 -0.55 2.71 1.6 -2.33 -0.18 -0.6 -1.93 -1.63 -1.2 2.03 -1.34 -1.29 1.14 -1.25 -2.59 -1.01 -2.99 -1.3 -0.17 -0.46 -3.15 1.31 -1.8 1.09 -2.39 -0.78 -0.93 1.85 1.6 0.09 1.28 3.11 0.47 0.41"
          ]
        }
      ]
    },
    {
      "cell_type": "code",
      "source": [
        "# Sum of Difference (SOD)\n",
        "SOD = sum(Actual-Predicted)\n",
        "cat(SOD)"
      ],
      "metadata": {
        "colab": {
          "base_uri": "https://localhost:8080/"
        },
        "id": "cSyDHGRkDbli",
        "outputId": "f6f7029b-5494-4b3c-c068-fab9911189fc"
      },
      "execution_count": 80,
      "outputs": [
        {
          "output_type": "stream",
          "name": "stdout",
          "text": [
            "-18.57"
          ]
        }
      ]
    },
    {
      "cell_type": "code",
      "source": [
        "# Correlation\n",
        "COR = cor(Actual, Predicted)\n",
        "cat(COR)"
      ],
      "metadata": {
        "colab": {
          "base_uri": "https://localhost:8080/"
        },
        "id": "q0JhhmW8DmHY",
        "outputId": "f9c62c5e-059c-40fd-922c-533450cfd63e"
      },
      "execution_count": 81,
      "outputs": [
        {
          "output_type": "stream",
          "name": "stdout",
          "text": [
            "-0.08889747"
          ]
        }
      ]
    },
    {
      "cell_type": "code",
      "source": [
        "# Mean Absolute Error (MAE)\n",
        "MAE = mean(abs(Actual-Predicted))\n",
        "cat(MAE)"
      ],
      "metadata": {
        "colab": {
          "base_uri": "https://localhost:8080/"
        },
        "id": "93VZP6YXDhuE",
        "outputId": "e87dcdf5-577f-47d4-f8c7-edde24ce391c"
      },
      "execution_count": 82,
      "outputs": [
        {
          "output_type": "stream",
          "name": "stdout",
          "text": [
            "1.4325"
          ]
        }
      ]
    },
    {
      "cell_type": "code",
      "source": [
        "# Accuracy with 0.1 acceptable error\n",
        "Accuracy = abs(Actual-Predicted) > 0.1\n",
        "cat(Accuracy)\n",
        "\n",
        "Accuracy = mean(Accuracy)*100\n",
        "Accuracy"
      ],
      "metadata": {
        "colab": {
          "base_uri": "https://localhost:8080/",
          "height": 72
        },
        "id": "4DoFCRdZHw60",
        "outputId": "542f2180-c011-48a4-e4fa-63ffea4acdef"
      },
      "execution_count": 83,
      "outputs": [
        {
          "output_type": "stream",
          "name": "stdout",
          "text": [
            "TRUE TRUE TRUE TRUE TRUE TRUE TRUE TRUE TRUE TRUE TRUE TRUE TRUE TRUE TRUE TRUE TRUE TRUE TRUE TRUE TRUE TRUE TRUE TRUE TRUE FALSE FALSE TRUE TRUE TRUE TRUE TRUE TRUE TRUE TRUE TRUE TRUE TRUE TRUE TRUE TRUE TRUE TRUE TRUE TRUE TRUE TRUE TRUE TRUE TRUE TRUE TRUE TRUE TRUE TRUE TRUE TRUE TRUE TRUE TRUE TRUE TRUE TRUE TRUE TRUE TRUE TRUE TRUE TRUE TRUE TRUE TRUE TRUE TRUE TRUE TRUE TRUE TRUE TRUE TRUE TRUE TRUE TRUE TRUE TRUE TRUE TRUE TRUE TRUE TRUE TRUE TRUE TRUE TRUE TRUE FALSE TRUE TRUE TRUE TRUE"
          ]
        },
        {
          "output_type": "display_data",
          "data": {
            "text/html": [
              "97"
            ],
            "text/markdown": "97",
            "text/latex": "97",
            "text/plain": [
              "[1] 97"
            ]
          },
          "metadata": {}
        }
      ]
    },
    {
      "cell_type": "markdown",
      "source": [
        "---\n",
        "## **1.10 Writing to the file**\n",
        "---"
      ],
      "metadata": {
        "id": "GFcbickjD0R7"
      }
    },
    {
      "cell_type": "code",
      "source": [
        "# Get the Current Working Directory, Similar to pwd in linux\n",
        "getwd()"
      ],
      "metadata": {
        "_uuid": "b1b42519-6c1f-41f1-9209-ec2fff912ec6",
        "_cell_guid": "e653392a-adc7-41b5-a5b3-cfd62b40d3b7",
        "jupyter": {
          "outputs_hidden": false
        },
        "execution": {
          "iopub.status.busy": "2022-07-03T15:25:28.268022Z",
          "iopub.execute_input": "2022-07-03T15:25:28.270850Z",
          "iopub.status.idle": "2022-07-03T15:25:28.304475Z"
        },
        "trusted": true,
        "colab": {
          "base_uri": "https://localhost:8080/",
          "height": 34
        },
        "outputId": "87890aee-91c8-44b2-a381-872d2325ccae",
        "id": "i8sT9FcQD0R8"
      },
      "execution_count": 84,
      "outputs": [
        {
          "output_type": "display_data",
          "data": {
            "text/html": [
              "'/content'"
            ],
            "text/markdown": "'/content'",
            "text/latex": "'/content'",
            "text/plain": [
              "[1] \"/content\""
            ]
          },
          "metadata": {}
        }
      ]
    },
    {
      "cell_type": "code",
      "source": [
        "# Writing actual and predicted to a file\n",
        "write.csv(data.frame(Actual,Predicted), file=\"SampleData.csv\", row.names=FALSE)\n",
        "# Go to the path and check for file"
      ],
      "metadata": {
        "id": "7Fd_4t7eD_vu"
      },
      "execution_count": 85,
      "outputs": []
    },
    {
      "cell_type": "code",
      "source": [
        "data.frame(Actual,Predicted)"
      ],
      "metadata": {
        "colab": {
          "base_uri": "https://localhost:8080/",
          "height": 1000
        },
        "id": "ltkiQLtzNRmX",
        "outputId": "af185c2a-ce2b-4a10-e074-8ac1f4ecddad"
      },
      "execution_count": 86,
      "outputs": [
        {
          "output_type": "display_data",
          "data": {
            "text/html": [
              "<table class=\"dataframe\">\n",
              "<caption>A data.frame: 100 × 2</caption>\n",
              "<thead>\n",
              "\t<tr><th scope=col>Actual</th><th scope=col>Predicted</th></tr>\n",
              "\t<tr><th scope=col>&lt;dbl&gt;</th><th scope=col>&lt;dbl&gt;</th></tr>\n",
              "</thead>\n",
              "<tbody>\n",
              "\t<tr><td>3.86</td><td>4.07</td></tr>\n",
              "\t<tr><td>2.80</td><td>1.25</td></tr>\n",
              "\t<tr><td>4.92</td><td>3.51</td></tr>\n",
              "\t<tr><td>2.41</td><td>1.17</td></tr>\n",
              "\t<tr><td>2.27</td><td>4.20</td></tr>\n",
              "\t<tr><td>4.27</td><td>1.95</td></tr>\n",
              "\t<tr><td>3.76</td><td>4.46</td></tr>\n",
              "\t<tr><td>4.97</td><td>3.36</td></tr>\n",
              "\t<tr><td>1.71</td><td>3.26</td></tr>\n",
              "\t<tr><td>2.09</td><td>3.66</td></tr>\n",
              "\t<tr><td>3.82</td><td>1.87</td></tr>\n",
              "\t<tr><td>1.88</td><td>2.62</td></tr>\n",
              "\t<tr><td>1.74</td><td>4.34</td></tr>\n",
              "\t<tr><td>4.32</td><td>1.89</td></tr>\n",
              "\t<tr><td>4.62</td><td>2.77</td></tr>\n",
              "\t<tr><td>2.94</td><td>3.83</td></tr>\n",
              "\t<tr><td>1.00</td><td>3.25</td></tr>\n",
              "\t<tr><td>4.83</td><td>3.04</td></tr>\n",
              "\t<tr><td>1.03</td><td>3.67</td></tr>\n",
              "\t<tr><td>1.99</td><td>2.69</td></tr>\n",
              "\t<tr><td>2.76</td><td>4.57</td></tr>\n",
              "\t<tr><td>1.02</td><td>3.43</td></tr>\n",
              "\t<tr><td>4.38</td><td>3.48</td></tr>\n",
              "\t<tr><td>4.20</td><td>4.70</td></tr>\n",
              "\t<tr><td>1.29</td><td>4.27</td></tr>\n",
              "\t<tr><td>2.48</td><td>2.46</td></tr>\n",
              "\t<tr><td>4.54</td><td>4.44</td></tr>\n",
              "\t<tr><td>1.65</td><td>2.61</td></tr>\n",
              "\t<tr><td>1.98</td><td>2.98</td></tr>\n",
              "\t<tr><td>3.70</td><td>3.83</td></tr>\n",
              "\t<tr><td>⋮</td><td>⋮</td></tr>\n",
              "\t<tr><td>4.32</td><td>4.50</td></tr>\n",
              "\t<tr><td>1.11</td><td>1.71</td></tr>\n",
              "\t<tr><td>2.28</td><td>4.21</td></tr>\n",
              "\t<tr><td>1.26</td><td>2.89</td></tr>\n",
              "\t<tr><td>2.59</td><td>3.79</td></tr>\n",
              "\t<tr><td>4.34</td><td>2.31</td></tr>\n",
              "\t<tr><td>2.43</td><td>3.77</td></tr>\n",
              "\t<tr><td>1.50</td><td>2.79</td></tr>\n",
              "\t<tr><td>3.14</td><td>2.00</td></tr>\n",
              "\t<tr><td>2.38</td><td>3.63</td></tr>\n",
              "\t<tr><td>1.38</td><td>3.97</td></tr>\n",
              "\t<tr><td>1.22</td><td>2.23</td></tr>\n",
              "\t<tr><td>1.37</td><td>4.36</td></tr>\n",
              "\t<tr><td>1.67</td><td>2.97</td></tr>\n",
              "\t<tr><td>2.05</td><td>2.22</td></tr>\n",
              "\t<tr><td>2.20</td><td>2.66</td></tr>\n",
              "\t<tr><td>1.80</td><td>4.95</td></tr>\n",
              "\t<tr><td>3.39</td><td>2.08</td></tr>\n",
              "\t<tr><td>1.79</td><td>3.59</td></tr>\n",
              "\t<tr><td>4.18</td><td>3.09</td></tr>\n",
              "\t<tr><td>2.26</td><td>4.65</td></tr>\n",
              "\t<tr><td>2.85</td><td>3.63</td></tr>\n",
              "\t<tr><td>2.69</td><td>3.62</td></tr>\n",
              "\t<tr><td>4.22</td><td>2.37</td></tr>\n",
              "\t<tr><td>2.75</td><td>1.15</td></tr>\n",
              "\t<tr><td>3.58</td><td>3.49</td></tr>\n",
              "\t<tr><td>4.60</td><td>3.32</td></tr>\n",
              "\t<tr><td>4.52</td><td>1.41</td></tr>\n",
              "\t<tr><td>3.09</td><td>2.62</td></tr>\n",
              "\t<tr><td>3.03</td><td>2.62</td></tr>\n",
              "</tbody>\n",
              "</table>\n"
            ],
            "text/markdown": "\nA data.frame: 100 × 2\n\n| Actual &lt;dbl&gt; | Predicted &lt;dbl&gt; |\n|---|---|\n| 3.86 | 4.07 |\n| 2.80 | 1.25 |\n| 4.92 | 3.51 |\n| 2.41 | 1.17 |\n| 2.27 | 4.20 |\n| 4.27 | 1.95 |\n| 3.76 | 4.46 |\n| 4.97 | 3.36 |\n| 1.71 | 3.26 |\n| 2.09 | 3.66 |\n| 3.82 | 1.87 |\n| 1.88 | 2.62 |\n| 1.74 | 4.34 |\n| 4.32 | 1.89 |\n| 4.62 | 2.77 |\n| 2.94 | 3.83 |\n| 1.00 | 3.25 |\n| 4.83 | 3.04 |\n| 1.03 | 3.67 |\n| 1.99 | 2.69 |\n| 2.76 | 4.57 |\n| 1.02 | 3.43 |\n| 4.38 | 3.48 |\n| 4.20 | 4.70 |\n| 1.29 | 4.27 |\n| 2.48 | 2.46 |\n| 4.54 | 4.44 |\n| 1.65 | 2.61 |\n| 1.98 | 2.98 |\n| 3.70 | 3.83 |\n| ⋮ | ⋮ |\n| 4.32 | 4.50 |\n| 1.11 | 1.71 |\n| 2.28 | 4.21 |\n| 1.26 | 2.89 |\n| 2.59 | 3.79 |\n| 4.34 | 2.31 |\n| 2.43 | 3.77 |\n| 1.50 | 2.79 |\n| 3.14 | 2.00 |\n| 2.38 | 3.63 |\n| 1.38 | 3.97 |\n| 1.22 | 2.23 |\n| 1.37 | 4.36 |\n| 1.67 | 2.97 |\n| 2.05 | 2.22 |\n| 2.20 | 2.66 |\n| 1.80 | 4.95 |\n| 3.39 | 2.08 |\n| 1.79 | 3.59 |\n| 4.18 | 3.09 |\n| 2.26 | 4.65 |\n| 2.85 | 3.63 |\n| 2.69 | 3.62 |\n| 4.22 | 2.37 |\n| 2.75 | 1.15 |\n| 3.58 | 3.49 |\n| 4.60 | 3.32 |\n| 4.52 | 1.41 |\n| 3.09 | 2.62 |\n| 3.03 | 2.62 |\n\n",
            "text/latex": "A data.frame: 100 × 2\n\\begin{tabular}{ll}\n Actual & Predicted\\\\\n <dbl> & <dbl>\\\\\n\\hline\n\t 3.86 & 4.07\\\\\n\t 2.80 & 1.25\\\\\n\t 4.92 & 3.51\\\\\n\t 2.41 & 1.17\\\\\n\t 2.27 & 4.20\\\\\n\t 4.27 & 1.95\\\\\n\t 3.76 & 4.46\\\\\n\t 4.97 & 3.36\\\\\n\t 1.71 & 3.26\\\\\n\t 2.09 & 3.66\\\\\n\t 3.82 & 1.87\\\\\n\t 1.88 & 2.62\\\\\n\t 1.74 & 4.34\\\\\n\t 4.32 & 1.89\\\\\n\t 4.62 & 2.77\\\\\n\t 2.94 & 3.83\\\\\n\t 1.00 & 3.25\\\\\n\t 4.83 & 3.04\\\\\n\t 1.03 & 3.67\\\\\n\t 1.99 & 2.69\\\\\n\t 2.76 & 4.57\\\\\n\t 1.02 & 3.43\\\\\n\t 4.38 & 3.48\\\\\n\t 4.20 & 4.70\\\\\n\t 1.29 & 4.27\\\\\n\t 2.48 & 2.46\\\\\n\t 4.54 & 4.44\\\\\n\t 1.65 & 2.61\\\\\n\t 1.98 & 2.98\\\\\n\t 3.70 & 3.83\\\\\n\t ⋮ & ⋮\\\\\n\t 4.32 & 4.50\\\\\n\t 1.11 & 1.71\\\\\n\t 2.28 & 4.21\\\\\n\t 1.26 & 2.89\\\\\n\t 2.59 & 3.79\\\\\n\t 4.34 & 2.31\\\\\n\t 2.43 & 3.77\\\\\n\t 1.50 & 2.79\\\\\n\t 3.14 & 2.00\\\\\n\t 2.38 & 3.63\\\\\n\t 1.38 & 3.97\\\\\n\t 1.22 & 2.23\\\\\n\t 1.37 & 4.36\\\\\n\t 1.67 & 2.97\\\\\n\t 2.05 & 2.22\\\\\n\t 2.20 & 2.66\\\\\n\t 1.80 & 4.95\\\\\n\t 3.39 & 2.08\\\\\n\t 1.79 & 3.59\\\\\n\t 4.18 & 3.09\\\\\n\t 2.26 & 4.65\\\\\n\t 2.85 & 3.63\\\\\n\t 2.69 & 3.62\\\\\n\t 4.22 & 2.37\\\\\n\t 2.75 & 1.15\\\\\n\t 3.58 & 3.49\\\\\n\t 4.60 & 3.32\\\\\n\t 4.52 & 1.41\\\\\n\t 3.09 & 2.62\\\\\n\t 3.03 & 2.62\\\\\n\\end{tabular}\n",
            "text/plain": [
              "    Actual Predicted\n",
              "1   3.86   4.07     \n",
              "2   2.80   1.25     \n",
              "3   4.92   3.51     \n",
              "4   2.41   1.17     \n",
              "5   2.27   4.20     \n",
              "6   4.27   1.95     \n",
              "7   3.76   4.46     \n",
              "8   4.97   3.36     \n",
              "9   1.71   3.26     \n",
              "10  2.09   3.66     \n",
              "11  3.82   1.87     \n",
              "12  1.88   2.62     \n",
              "13  1.74   4.34     \n",
              "14  4.32   1.89     \n",
              "15  4.62   2.77     \n",
              "16  2.94   3.83     \n",
              "17  1.00   3.25     \n",
              "18  4.83   3.04     \n",
              "19  1.03   3.67     \n",
              "20  1.99   2.69     \n",
              "21  2.76   4.57     \n",
              "22  1.02   3.43     \n",
              "23  4.38   3.48     \n",
              "24  4.20   4.70     \n",
              "25  1.29   4.27     \n",
              "26  2.48   2.46     \n",
              "27  4.54   4.44     \n",
              "28  1.65   2.61     \n",
              "29  1.98   2.98     \n",
              "30  3.70   3.83     \n",
              "⋮   ⋮      ⋮        \n",
              "71  4.32   4.50     \n",
              "72  1.11   1.71     \n",
              "73  2.28   4.21     \n",
              "74  1.26   2.89     \n",
              "75  2.59   3.79     \n",
              "76  4.34   2.31     \n",
              "77  2.43   3.77     \n",
              "78  1.50   2.79     \n",
              "79  3.14   2.00     \n",
              "80  2.38   3.63     \n",
              "81  1.38   3.97     \n",
              "82  1.22   2.23     \n",
              "83  1.37   4.36     \n",
              "84  1.67   2.97     \n",
              "85  2.05   2.22     \n",
              "86  2.20   2.66     \n",
              "87  1.80   4.95     \n",
              "88  3.39   2.08     \n",
              "89  1.79   3.59     \n",
              "90  4.18   3.09     \n",
              "91  2.26   4.65     \n",
              "92  2.85   3.63     \n",
              "93  2.69   3.62     \n",
              "94  4.22   2.37     \n",
              "95  2.75   1.15     \n",
              "96  3.58   3.49     \n",
              "97  4.60   3.32     \n",
              "98  4.52   1.41     \n",
              "99  3.09   2.62     \n",
              "100 3.03   2.62     "
            ]
          },
          "metadata": {}
        }
      ]
    },
    {
      "cell_type": "markdown",
      "source": [
        "---\n",
        "## **1.11 Read Actual/Predicted file and calculate the model evaluation parameters**\n",
        "---"
      ],
      "metadata": {
        "id": "KWvVDq0iEsGs"
      }
    },
    {
      "cell_type": "code",
      "source": [
        "# Get the Current Working Directory, Similar to pwd in linux\n",
        "getwd()"
      ],
      "metadata": {
        "_uuid": "b1b42519-6c1f-41f1-9209-ec2fff912ec6",
        "_cell_guid": "e653392a-adc7-41b5-a5b3-cfd62b40d3b7",
        "jupyter": {
          "outputs_hidden": false
        },
        "execution": {
          "iopub.status.busy": "2022-07-03T15:25:28.268022Z",
          "iopub.execute_input": "2022-07-03T15:25:28.270850Z",
          "iopub.status.idle": "2022-07-03T15:25:28.304475Z"
        },
        "trusted": true,
        "colab": {
          "base_uri": "https://localhost:8080/",
          "height": 34
        },
        "outputId": "2ee9e19f-0edf-4853-be1c-c2f622ba02d6",
        "id": "cbFTBCSkEsGu"
      },
      "execution_count": 87,
      "outputs": [
        {
          "output_type": "display_data",
          "data": {
            "text/html": [
              "'/content'"
            ],
            "text/markdown": "'/content'",
            "text/latex": "'/content'",
            "text/plain": [
              "[1] \"/content\""
            ]
          },
          "metadata": {}
        }
      ]
    },
    {
      "cell_type": "code",
      "source": [
        "# Read the datafile\n",
        "dataset <- read.csv(\"SampleData.csv\")\n",
        "print(head(dataset))"
      ],
      "metadata": {
        "colab": {
          "base_uri": "https://localhost:8080/"
        },
        "id": "roPbwEmsFuS0",
        "outputId": "f1c605fc-adfb-4f18-c169-461209e329fe"
      },
      "execution_count": 88,
      "outputs": [
        {
          "output_type": "stream",
          "name": "stdout",
          "text": [
            "  Actual Predicted\n",
            "1   3.86      4.07\n",
            "2   2.80      1.25\n",
            "3   4.92      3.51\n",
            "4   2.41      1.17\n",
            "5   2.27      4.20\n",
            "6   4.27      1.95\n"
          ]
        }
      ]
    },
    {
      "cell_type": "code",
      "source": [
        "# Get the column data from datafile\n",
        "cat (\"Actual-->\", head(dataset$Actual))\n",
        "cat (\"\\nPredicted-->\", head(dataset$Predicted))\n"
      ],
      "metadata": {
        "colab": {
          "base_uri": "https://localhost:8080/"
        },
        "id": "KW2_Ppn9GAfY",
        "outputId": "a4935878-8d36-4e1a-edd5-6ad708d019af"
      },
      "execution_count": 89,
      "outputs": [
        {
          "output_type": "stream",
          "name": "stdout",
          "text": [
            "Actual--> 3.86 2.8 4.92 2.41 2.27 4.27\n",
            "Predicted--> 4.07 1.25 3.51 1.17 4.2 1.95"
          ]
        }
      ]
    },
    {
      "cell_type": "code",
      "source": [
        "# Calcuate the model evaluation parameters and write to file\n",
        "\n",
        "# Correlation\n",
        "COR = round(cor(Actual,Predicted),2)\n",
        "\n",
        "# R_Square\n",
        "R_Square = round(COR * COR,2)\n",
        "\n",
        "# Mean Absolute Error (MAE)\n",
        "MAE = round(mean(abs(Actual-Predicted)),2)\n",
        "\n",
        "# Accuracy with 0.1 acceptable error\n",
        "Accuracy = round(mean(abs(Actual-Predicted) > 0.1),2)*100\n",
        "\n",
        "# Writing the modle evaluation parameters to a file\n",
        "write.csv(data.frame(COR, R_Square, MAE, Accuracy), file=\"ResultFile.csv\", row.names=FALSE)\n",
        "# Go to the path and check for file"
      ],
      "metadata": {
        "id": "zeq4X63vHCUZ"
      },
      "execution_count": 90,
      "outputs": []
    },
    {
      "cell_type": "markdown",
      "source": [
        "---\n",
        "# **2. Basics of Data frame**\n",
        "---\n",
        "## **2.1 Generate random matrices**\n",
        "---"
      ],
      "metadata": {
        "id": "N6OvLgPd5CM3"
      }
    },
    {
      "cell_type": "code",
      "source": [
        "# Generate a matrix of 100 by 3\n",
        "\n",
        "NRows = 100\n",
        "NCols = 3\n",
        "\n",
        "m1 <- matrix(runif(NCols * NRows, min=1, max=10), ncol=NCols)\n",
        "class(m1)\n",
        "head(m1)\n",
        "\n",
        "write.csv(data)"
      ],
      "metadata": {
        "_uuid": "b1b42519-6c1f-41f1-9209-ec2fff912ec6",
        "_cell_guid": "e653392a-adc7-41b5-a5b3-cfd62b40d3b7",
        "jupyter": {
          "outputs_hidden": false
        },
        "execution": {
          "iopub.status.busy": "2022-07-03T15:25:28.268022Z",
          "iopub.execute_input": "2022-07-03T15:25:28.270850Z",
          "iopub.status.idle": "2022-07-03T15:25:28.304475Z"
        },
        "trusted": true,
        "colab": {
          "base_uri": "https://localhost:8080/",
          "height": 503
        },
        "outputId": "2ebde11d-09fc-4570-fb08-04587549489e",
        "id": "tJa2HiId5CM4"
      },
      "execution_count": 91,
      "outputs": [
        {
          "output_type": "display_data",
          "data": {
            "text/html": [
              "<style>\n",
              ".list-inline {list-style: none; margin:0; padding: 0}\n",
              ".list-inline>li {display: inline-block}\n",
              ".list-inline>li:not(:last-child)::after {content: \"\\00b7\"; padding: 0 .5ex}\n",
              "</style>\n",
              "<ol class=list-inline><li>'matrix'</li><li>'array'</li></ol>\n"
            ],
            "text/markdown": "1. 'matrix'\n2. 'array'\n\n\n",
            "text/latex": "\\begin{enumerate*}\n\\item 'matrix'\n\\item 'array'\n\\end{enumerate*}\n",
            "text/plain": [
              "[1] \"matrix\" \"array\" "
            ]
          },
          "metadata": {}
        },
        {
          "output_type": "display_data",
          "data": {
            "text/html": [
              "<table class=\"dataframe\">\n",
              "<caption>A matrix: 6 × 3 of type dbl</caption>\n",
              "<tbody>\n",
              "\t<tr><td>6.770544</td><td>3.826753</td><td>5.085541</td></tr>\n",
              "\t<tr><td>2.062614</td><td>6.103825</td><td>7.813469</td></tr>\n",
              "\t<tr><td>1.512615</td><td>3.137805</td><td>6.929874</td></tr>\n",
              "\t<tr><td>7.069329</td><td>8.928071</td><td>6.998703</td></tr>\n",
              "\t<tr><td>5.459251</td><td>4.998827</td><td>4.548443</td></tr>\n",
              "\t<tr><td>5.390270</td><td>5.569889</td><td>2.392675</td></tr>\n",
              "</tbody>\n",
              "</table>\n"
            ],
            "text/markdown": "\nA matrix: 6 × 3 of type dbl\n\n| 6.770544 | 3.826753 | 5.085541 |\n| 2.062614 | 6.103825 | 7.813469 |\n| 1.512615 | 3.137805 | 6.929874 |\n| 7.069329 | 8.928071 | 6.998703 |\n| 5.459251 | 4.998827 | 4.548443 |\n| 5.390270 | 5.569889 | 2.392675 |\n\n",
            "text/latex": "A matrix: 6 × 3 of type dbl\n\\begin{tabular}{lll}\n\t 6.770544 & 3.826753 & 5.085541\\\\\n\t 2.062614 & 6.103825 & 7.813469\\\\\n\t 1.512615 & 3.137805 & 6.929874\\\\\n\t 7.069329 & 8.928071 & 6.998703\\\\\n\t 5.459251 & 4.998827 & 4.548443\\\\\n\t 5.390270 & 5.569889 & 2.392675\\\\\n\\end{tabular}\n",
            "text/plain": [
              "     [,1]     [,2]     [,3]    \n",
              "[1,] 6.770544 3.826753 5.085541\n",
              "[2,] 2.062614 6.103825 7.813469\n",
              "[3,] 1.512615 3.137805 6.929874\n",
              "[4,] 7.069329 8.928071 6.998703\n",
              "[5,] 5.459251 4.998827 4.548443\n",
              "[6,] 5.390270 5.569889 2.392675"
            ]
          },
          "metadata": {}
        },
        {
          "output_type": "error",
          "ename": "ERROR",
          "evalue": "Error in as.data.frame.default(x[[i]], optional = TRUE): cannot coerce class ‘\"function\"’ to a data.frame\n",
          "traceback": [
            "Error in as.data.frame.default(x[[i]], optional = TRUE): cannot coerce class ‘\"function\"’ to a data.frame\nTraceback:\n",
            "1. write.csv(data)",
            "2. eval.parent(Call)",
            "3. eval(expr, p)",
            "4. eval(expr, p)",
            "5. utils::write.table(data, col.names = NA, sep = \",\", dec = \".\", \n .     qmethod = \"double\")",
            "6. data.frame(x)",
            "7. as.data.frame(x[[i]], optional = TRUE)",
            "8. as.data.frame.default(x[[i]], optional = TRUE)",
            "9. stop(gettextf(\"cannot coerce class %s to a data.frame\", sQuote(deparse(class(x))[1L])), \n .     domain = NA)"
          ]
        }
      ]
    },
    {
      "cell_type": "code",
      "source": [
        "# Generate two more matrices\n",
        "NCols = 4\n",
        "m2 <- matrix(runif(NCols*NRows, min=10, max=50), ncol=NCols)\n",
        "class(m2)\n",
        "print(head(m2))\n",
        "\n",
        "NCols = 3\n",
        "m3 <- matrix(runif(NCols*NRows, min=100, max=200), ncol=NCols)\n",
        "class(m3)\n",
        "print(head(m3))"
      ],
      "metadata": {
        "colab": {
          "base_uri": "https://localhost:8080/",
          "height": 295
        },
        "id": "5AadulcNQeOw",
        "outputId": "2712e594-b105-45f4-9b3d-988d0cb65fcc"
      },
      "execution_count": 92,
      "outputs": [
        {
          "output_type": "display_data",
          "data": {
            "text/html": [
              "<style>\n",
              ".list-inline {list-style: none; margin:0; padding: 0}\n",
              ".list-inline>li {display: inline-block}\n",
              ".list-inline>li:not(:last-child)::after {content: \"\\00b7\"; padding: 0 .5ex}\n",
              "</style>\n",
              "<ol class=list-inline><li>'matrix'</li><li>'array'</li></ol>\n"
            ],
            "text/markdown": "1. 'matrix'\n2. 'array'\n\n\n",
            "text/latex": "\\begin{enumerate*}\n\\item 'matrix'\n\\item 'array'\n\\end{enumerate*}\n",
            "text/plain": [
              "[1] \"matrix\" \"array\" "
            ]
          },
          "metadata": {}
        },
        {
          "output_type": "stream",
          "name": "stdout",
          "text": [
            "         [,1]     [,2]     [,3]     [,4]\n",
            "[1,] 20.65656 12.43051 20.17453 24.24444\n",
            "[2,] 45.49886 23.48939 15.46686 31.68675\n",
            "[3,] 43.19909 42.79524 23.11165 49.17735\n",
            "[4,] 20.16951 39.74736 39.59376 33.64079\n",
            "[5,] 36.27563 37.79556 10.09599 47.44842\n",
            "[6,] 32.70838 13.74859 26.06737 33.03675\n"
          ]
        },
        {
          "output_type": "display_data",
          "data": {
            "text/html": [
              "<style>\n",
              ".list-inline {list-style: none; margin:0; padding: 0}\n",
              ".list-inline>li {display: inline-block}\n",
              ".list-inline>li:not(:last-child)::after {content: \"\\00b7\"; padding: 0 .5ex}\n",
              "</style>\n",
              "<ol class=list-inline><li>'matrix'</li><li>'array'</li></ol>\n"
            ],
            "text/markdown": "1. 'matrix'\n2. 'array'\n\n\n",
            "text/latex": "\\begin{enumerate*}\n\\item 'matrix'\n\\item 'array'\n\\end{enumerate*}\n",
            "text/plain": [
              "[1] \"matrix\" \"array\" "
            ]
          },
          "metadata": {}
        },
        {
          "output_type": "stream",
          "name": "stdout",
          "text": [
            "         [,1]     [,2]     [,3]\n",
            "[1,] 102.6761 156.4849 170.8511\n",
            "[2,] 127.8600 115.9055 120.5260\n",
            "[3,] 181.7622 103.4409 140.4135\n",
            "[4,] 101.5755 191.3883 115.2172\n",
            "[5,] 184.0501 140.8579 119.3723\n",
            "[6,] 115.3291 187.8892 177.7331\n"
          ]
        }
      ]
    },
    {
      "cell_type": "markdown",
      "source": [
        "---\n",
        "## **2.2 Merging matrices**\n",
        "---"
      ],
      "metadata": {
        "id": "9McnAgh_Q3Ey"
      }
    },
    {
      "cell_type": "code",
      "source": [
        "# Merging matrices\n",
        "dataset <- round(data.frame(m1, m2, m3),2)\n",
        "print(head(dataset))"
      ],
      "metadata": {
        "_uuid": "b1b42519-6c1f-41f1-9209-ec2fff912ec6",
        "_cell_guid": "e653392a-adc7-41b5-a5b3-cfd62b40d3b7",
        "jupyter": {
          "outputs_hidden": false
        },
        "execution": {
          "iopub.status.busy": "2022-07-03T15:25:28.268022Z",
          "iopub.execute_input": "2022-07-03T15:25:28.270850Z",
          "iopub.status.idle": "2022-07-03T15:25:28.304475Z"
        },
        "trusted": true,
        "colab": {
          "base_uri": "https://localhost:8080/"
        },
        "outputId": "a0976ebc-8abb-419f-d48d-4e90408ae75f",
        "id": "R5G55EleQ3E0"
      },
      "execution_count": 93,
      "outputs": [
        {
          "output_type": "stream",
          "name": "stdout",
          "text": [
            "    X1   X2   X3  X1.1  X2.1  X3.1    X4   X1.2   X2.2   X3.2\n",
            "1 6.77 3.83 5.09 20.66 12.43 20.17 24.24 102.68 156.48 170.85\n",
            "2 2.06 6.10 7.81 45.50 23.49 15.47 31.69 127.86 115.91 120.53\n",
            "3 1.51 3.14 6.93 43.20 42.80 23.11 49.18 181.76 103.44 140.41\n",
            "4 7.07 8.93 7.00 20.17 39.75 39.59 33.64 101.58 191.39 115.22\n",
            "5 5.46 5.00 4.55 36.28 37.80 10.10 47.45 184.05 140.86 119.37\n",
            "6 5.39 5.57 2.39 32.71 13.75 26.07 33.04 115.33 187.89 177.73\n"
          ]
        }
      ]
    },
    {
      "cell_type": "markdown",
      "source": [
        "---\n",
        "## **2.3 Get the column names**\n",
        "---"
      ],
      "metadata": {
        "id": "ohPUPDWsRfcc"
      }
    },
    {
      "cell_type": "code",
      "source": [
        "# Column names\n",
        "names(dataset)\n"
      ],
      "metadata": {
        "_uuid": "b1b42519-6c1f-41f1-9209-ec2fff912ec6",
        "_cell_guid": "e653392a-adc7-41b5-a5b3-cfd62b40d3b7",
        "jupyter": {
          "outputs_hidden": false
        },
        "execution": {
          "iopub.status.busy": "2022-07-03T15:25:28.268022Z",
          "iopub.execute_input": "2022-07-03T15:25:28.270850Z",
          "iopub.status.idle": "2022-07-03T15:25:28.304475Z"
        },
        "trusted": true,
        "colab": {
          "base_uri": "https://localhost:8080/",
          "height": 34
        },
        "outputId": "de70bd41-a400-41cd-98b4-3c1e62051140",
        "id": "8XpzFriqRfcf"
      },
      "execution_count": 94,
      "outputs": [
        {
          "output_type": "display_data",
          "data": {
            "text/html": [
              "<style>\n",
              ".list-inline {list-style: none; margin:0; padding: 0}\n",
              ".list-inline>li {display: inline-block}\n",
              ".list-inline>li:not(:last-child)::after {content: \"\\00b7\"; padding: 0 .5ex}\n",
              "</style>\n",
              "<ol class=list-inline><li>'X1'</li><li>'X2'</li><li>'X3'</li><li>'X1.1'</li><li>'X2.1'</li><li>'X3.1'</li><li>'X4'</li><li>'X1.2'</li><li>'X2.2'</li><li>'X3.2'</li></ol>\n"
            ],
            "text/markdown": "1. 'X1'\n2. 'X2'\n3. 'X3'\n4. 'X1.1'\n5. 'X2.1'\n6. 'X3.1'\n7. 'X4'\n8. 'X1.2'\n9. 'X2.2'\n10. 'X3.2'\n\n\n",
            "text/latex": "\\begin{enumerate*}\n\\item 'X1'\n\\item 'X2'\n\\item 'X3'\n\\item 'X1.1'\n\\item 'X2.1'\n\\item 'X3.1'\n\\item 'X4'\n\\item 'X1.2'\n\\item 'X2.2'\n\\item 'X3.2'\n\\end{enumerate*}\n",
            "text/plain": [
              " [1] \"X1\"   \"X2\"   \"X3\"   \"X1.1\" \"X2.1\" \"X3.1\" \"X4\"   \"X1.2\" \"X2.2\" \"X3.2\""
            ]
          },
          "metadata": {}
        }
      ]
    },
    {
      "cell_type": "markdown",
      "source": [
        "---\n",
        "## **2.4 Get the total number of columns**\n",
        "---"
      ],
      "metadata": {
        "id": "gzcexeRoSs0d"
      }
    },
    {
      "cell_type": "code",
      "source": [
        "# Total number of columns\n",
        "NCols = ncol(m1) + ncol(m2) + ncol(m3)\n",
        "NCols"
      ],
      "metadata": {
        "_uuid": "b1b42519-6c1f-41f1-9209-ec2fff912ec6",
        "_cell_guid": "e653392a-adc7-41b5-a5b3-cfd62b40d3b7",
        "jupyter": {
          "outputs_hidden": false
        },
        "execution": {
          "iopub.status.busy": "2022-07-03T15:25:28.268022Z",
          "iopub.execute_input": "2022-07-03T15:25:28.270850Z",
          "iopub.status.idle": "2022-07-03T15:25:28.304475Z"
        },
        "trusted": true,
        "colab": {
          "base_uri": "https://localhost:8080/",
          "height": 34
        },
        "outputId": "7642de26-1281-4664-a956-5f05ceab743a",
        "id": "uLCTH1znSs0f"
      },
      "execution_count": 95,
      "outputs": [
        {
          "output_type": "display_data",
          "data": {
            "text/html": [
              "10"
            ],
            "text/markdown": "10",
            "text/latex": "10",
            "text/plain": [
              "[1] 10"
            ]
          },
          "metadata": {}
        }
      ]
    },
    {
      "cell_type": "code",
      "source": [
        "# Total number of columns in dataset\n",
        "NCols = length(names(dataset))\n",
        "NCols"
      ],
      "metadata": {
        "colab": {
          "base_uri": "https://localhost:8080/",
          "height": 34
        },
        "id": "pBSvInzlS92M",
        "outputId": "b14a7047-fba3-4ba9-f8da-f83f3f007fc8"
      },
      "execution_count": 96,
      "outputs": [
        {
          "output_type": "display_data",
          "data": {
            "text/html": [
              "10"
            ],
            "text/markdown": "10",
            "text/latex": "10",
            "text/plain": [
              "[1] 10"
            ]
          },
          "metadata": {}
        }
      ]
    },
    {
      "cell_type": "markdown",
      "source": [
        "---\n",
        "## **2.5 Rename of columns**\n",
        "---"
      ],
      "metadata": {
        "id": "l39aheYFbaJ4"
      }
    },
    {
      "cell_type": "code",
      "source": [
        "# Generate the sequence of numbers\n",
        "c(1:NCols)"
      ],
      "metadata": {
        "_uuid": "b1b42519-6c1f-41f1-9209-ec2fff912ec6",
        "_cell_guid": "e653392a-adc7-41b5-a5b3-cfd62b40d3b7",
        "jupyter": {
          "outputs_hidden": false
        },
        "execution": {
          "iopub.status.busy": "2022-07-03T15:25:28.268022Z",
          "iopub.execute_input": "2022-07-03T15:25:28.270850Z",
          "iopub.status.idle": "2022-07-03T15:25:28.304475Z"
        },
        "trusted": true,
        "colab": {
          "base_uri": "https://localhost:8080/",
          "height": 34
        },
        "outputId": "659d18a5-62c6-4366-d084-164b8264a86b",
        "id": "4bqDgcBIbaJ7"
      },
      "execution_count": 97,
      "outputs": [
        {
          "output_type": "display_data",
          "data": {
            "text/html": [
              "<style>\n",
              ".list-inline {list-style: none; margin:0; padding: 0}\n",
              ".list-inline>li {display: inline-block}\n",
              ".list-inline>li:not(:last-child)::after {content: \"\\00b7\"; padding: 0 .5ex}\n",
              "</style>\n",
              "<ol class=list-inline><li>1</li><li>2</li><li>3</li><li>4</li><li>5</li><li>6</li><li>7</li><li>8</li><li>9</li><li>10</li></ol>\n"
            ],
            "text/markdown": "1. 1\n2. 2\n3. 3\n4. 4\n5. 5\n6. 6\n7. 7\n8. 8\n9. 9\n10. 10\n\n\n",
            "text/latex": "\\begin{enumerate*}\n\\item 1\n\\item 2\n\\item 3\n\\item 4\n\\item 5\n\\item 6\n\\item 7\n\\item 8\n\\item 9\n\\item 10\n\\end{enumerate*}\n",
            "text/plain": [
              " [1]  1  2  3  4  5  6  7  8  9 10"
            ]
          },
          "metadata": {}
        }
      ]
    },
    {
      "cell_type": "code",
      "source": [
        "# Concatinate with sequence\n",
        "paste(\"F\", c(1:NCols),sep='')"
      ],
      "metadata": {
        "colab": {
          "base_uri": "https://localhost:8080/",
          "height": 34
        },
        "id": "t32jRfXib6av",
        "outputId": "683b6762-b954-485e-c7c5-376b1bfbd919"
      },
      "execution_count": 98,
      "outputs": [
        {
          "output_type": "display_data",
          "data": {
            "text/html": [
              "<style>\n",
              ".list-inline {list-style: none; margin:0; padding: 0}\n",
              ".list-inline>li {display: inline-block}\n",
              ".list-inline>li:not(:last-child)::after {content: \"\\00b7\"; padding: 0 .5ex}\n",
              "</style>\n",
              "<ol class=list-inline><li>'F1'</li><li>'F2'</li><li>'F3'</li><li>'F4'</li><li>'F5'</li><li>'F6'</li><li>'F7'</li><li>'F8'</li><li>'F9'</li><li>'F10'</li></ol>\n"
            ],
            "text/markdown": "1. 'F1'\n2. 'F2'\n3. 'F3'\n4. 'F4'\n5. 'F5'\n6. 'F6'\n7. 'F7'\n8. 'F8'\n9. 'F9'\n10. 'F10'\n\n\n",
            "text/latex": "\\begin{enumerate*}\n\\item 'F1'\n\\item 'F2'\n\\item 'F3'\n\\item 'F4'\n\\item 'F5'\n\\item 'F6'\n\\item 'F7'\n\\item 'F8'\n\\item 'F9'\n\\item 'F10'\n\\end{enumerate*}\n",
            "text/plain": [
              " [1] \"F1\"  \"F2\"  \"F3\"  \"F4\"  \"F5\"  \"F6\"  \"F7\"  \"F8\"  \"F9\"  \"F10\""
            ]
          },
          "metadata": {}
        }
      ]
    },
    {
      "cell_type": "code",
      "source": [
        "# Rename of columns\n",
        "names(dataset)<- paste(\"F\",c(1:NCols),sep='')\n",
        "print(head(dataset))"
      ],
      "metadata": {
        "colab": {
          "base_uri": "https://localhost:8080/"
        },
        "id": "F3dKKSxrbwDd",
        "outputId": "c2d531b4-5704-42b7-aaf2-b637f9d556bf"
      },
      "execution_count": 99,
      "outputs": [
        {
          "output_type": "stream",
          "name": "stdout",
          "text": [
            "    F1   F2   F3    F4    F5    F6    F7     F8     F9    F10\n",
            "1 6.77 3.83 5.09 20.66 12.43 20.17 24.24 102.68 156.48 170.85\n",
            "2 2.06 6.10 7.81 45.50 23.49 15.47 31.69 127.86 115.91 120.53\n",
            "3 1.51 3.14 6.93 43.20 42.80 23.11 49.18 181.76 103.44 140.41\n",
            "4 7.07 8.93 7.00 20.17 39.75 39.59 33.64 101.58 191.39 115.22\n",
            "5 5.46 5.00 4.55 36.28 37.80 10.10 47.45 184.05 140.86 119.37\n",
            "6 5.39 5.57 2.39 32.71 13.75 26.07 33.04 115.33 187.89 177.73\n"
          ]
        }
      ]
    },
    {
      "cell_type": "markdown",
      "source": [
        "---\n",
        "## **2.6 Writing dataset to the file**\n",
        "---"
      ],
      "metadata": {
        "id": "S-ittO-V4hmc"
      }
    },
    {
      "cell_type": "code",
      "source": [
        "# Writing to the file\n",
        "write.csv(dataset, file=\"NewDataset.csv\", row.names=FALSE)\n",
        "# Go to the path and check for file"
      ],
      "metadata": {
        "id": "k6mJFXijceP5"
      },
      "execution_count": 100,
      "outputs": []
    },
    {
      "cell_type": "markdown",
      "source": [
        "---\n",
        "## **2.7 Plotting the dataset**\n",
        "---"
      ],
      "metadata": {
        "id": "rxFs4cFU1jGo"
      }
    },
    {
      "cell_type": "code",
      "source": [
        "# Plot the dataset\n",
        "plot(dataset)"
      ],
      "metadata": {
        "colab": {
          "base_uri": "https://localhost:8080/",
          "height": 437
        },
        "id": "4gDptFzS1TyN",
        "outputId": "cecb4396-6308-4960-9d65-b7b7ae49fd26"
      },
      "execution_count": 101,
      "outputs": [
        {
          "output_type": "display_data",
          "data": {
            "text/plain": [
              "plot without title"
            ],
            "image/png": "[encoded data removed]"
          },
          "metadata": {
            "image/png": {
              "width": 420,
              "height": 420
            }
          }
        }
      ]
    },
    {
      "cell_type": "markdown",
      "source": [
        "---\n",
        "## **2.8 Summary the dataset**\n",
        "---"
      ],
      "metadata": {
        "id": "2k5OSHs-4QOT"
      }
    },
    {
      "cell_type": "code",
      "source": [
        "summary(dataset)"
      ],
      "metadata": {
        "colab": {
          "base_uri": "https://localhost:8080/",
          "height": 381
        },
        "outputId": "2b4c1552-95dd-4ecf-c511-cc91be529054",
        "id": "ineeMPZ54QOX"
      },
      "execution_count": 102,
      "outputs": [
        {
          "output_type": "display_data",
          "data": {
            "text/plain": [
              "       F1              F2              F3              F4       \n",
              " Min.   :1.010   Min.   :1.050   Min.   :1.080   Min.   :10.66  \n",
              " 1st Qu.:3.145   1st Qu.:3.350   1st Qu.:3.533   1st Qu.:22.10  \n",
              " Median :5.100   Median :5.550   Median :6.315   Median :31.61  \n",
              " Mean   :5.331   Mean   :5.460   Mean   :5.803   Mean   :31.00  \n",
              " 3rd Qu.:7.223   3rd Qu.:7.825   3rd Qu.:7.810   3rd Qu.:40.34  \n",
              " Max.   :9.920   Max.   :9.970   Max.   :9.940   Max.   :50.00  \n",
              "       F5              F6              F7              F8       \n",
              " Min.   :10.07   Min.   :10.10   Min.   :10.03   Min.   :100.2  \n",
              " 1st Qu.:22.42   1st Qu.:19.35   1st Qu.:18.06   1st Qu.:124.2  \n",
              " Median :32.20   Median :30.80   Median :31.82   Median :148.1  \n",
              " Mean   :30.70   Mean   :30.01   Mean   :29.50   Mean   :147.0  \n",
              " 3rd Qu.:39.80   3rd Qu.:39.65   3rd Qu.:38.83   3rd Qu.:170.6  \n",
              " Max.   :49.89   Max.   :49.98   Max.   :49.73   Max.   :199.7  \n",
              "       F9             F10       \n",
              " Min.   :101.1   Min.   :100.4  \n",
              " 1st Qu.:125.5   1st Qu.:120.3  \n",
              " Median :157.0   Median :143.7  \n",
              " Mean   :152.5   Mean   :146.5  \n",
              " 3rd Qu.:175.1   3rd Qu.:171.8  \n",
              " Max.   :197.3   Max.   :199.3  "
            ]
          },
          "metadata": {}
        }
      ]
    },
    {
      "cell_type": "markdown",
      "source": [
        "---\n",
        "# **3. Data selection in dataframe**\n",
        "---\n",
        "## **3.1 Read and head the dataset**\n",
        "---"
      ],
      "metadata": {
        "id": "fTYn7cZw1zMB"
      }
    },
    {
      "cell_type": "code",
      "source": [
        "# Read the dataset file\n",
        "dataset = read.csv(\"NewDataset.csv\")\n",
        "head(dataset)"
      ],
      "metadata": {
        "colab": {
          "base_uri": "https://localhost:8080/",
          "height": 286
        },
        "outputId": "f50ed90e-3669-4d16-e3c9-a97bbf710115",
        "id": "dhAYzwTW1zMD"
      },
      "execution_count": 106,
      "outputs": [
        {
          "output_type": "display_data",
          "data": {
            "text/html": [
              "<table class=\"dataframe\">\n",
              "<caption>A data.frame: 6 × 10</caption>\n",
              "<thead>\n",
              "\t<tr><th></th><th scope=col>F1</th><th scope=col>F2</th><th scope=col>F3</th><th scope=col>F4</th><th scope=col>F5</th><th scope=col>F6</th><th scope=col>F7</th><th scope=col>F8</th><th scope=col>F9</th><th scope=col>F10</th></tr>\n",
              "\t<tr><th></th><th scope=col>&lt;dbl&gt;</th><th scope=col>&lt;dbl&gt;</th><th scope=col>&lt;dbl&gt;</th><th scope=col>&lt;dbl&gt;</th><th scope=col>&lt;dbl&gt;</th><th scope=col>&lt;dbl&gt;</th><th scope=col>&lt;dbl&gt;</th><th scope=col>&lt;dbl&gt;</th><th scope=col>&lt;dbl&gt;</th><th scope=col>&lt;dbl&gt;</th></tr>\n",
              "</thead>\n",
              "<tbody>\n",
              "\t<tr><th scope=row>1</th><td>6.77</td><td>3.83</td><td>5.09</td><td>20.66</td><td>12.43</td><td>20.17</td><td>24.24</td><td>102.68</td><td>156.48</td><td>170.85</td></tr>\n",
              "\t<tr><th scope=row>2</th><td>2.06</td><td>6.10</td><td>7.81</td><td>45.50</td><td>23.49</td><td>15.47</td><td>31.69</td><td>127.86</td><td>115.91</td><td>120.53</td></tr>\n",
              "\t<tr><th scope=row>3</th><td>1.51</td><td>3.14</td><td>6.93</td><td>43.20</td><td>42.80</td><td>23.11</td><td>49.18</td><td>181.76</td><td>103.44</td><td>140.41</td></tr>\n",
              "\t<tr><th scope=row>4</th><td>7.07</td><td>8.93</td><td>7.00</td><td>20.17</td><td>39.75</td><td>39.59</td><td>33.64</td><td>101.58</td><td>191.39</td><td>115.22</td></tr>\n",
              "\t<tr><th scope=row>5</th><td>5.46</td><td>5.00</td><td>4.55</td><td>36.28</td><td>37.80</td><td>10.10</td><td>47.45</td><td>184.05</td><td>140.86</td><td>119.37</td></tr>\n",
              "\t<tr><th scope=row>6</th><td>5.39</td><td>5.57</td><td>2.39</td><td>32.71</td><td>13.75</td><td>26.07</td><td>33.04</td><td>115.33</td><td>187.89</td><td>177.73</td></tr>\n",
              "</tbody>\n",
              "</table>\n"
            ],
            "text/markdown": "\nA data.frame: 6 × 10\n\n| <!--/--> | F1 &lt;dbl&gt; | F2 &lt;dbl&gt; | F3 &lt;dbl&gt; | F4 &lt;dbl&gt; | F5 &lt;dbl&gt; | F6 &lt;dbl&gt; | F7 &lt;dbl&gt; | F8 &lt;dbl&gt; | F9 &lt;dbl&gt; | F10 &lt;dbl&gt; |\n|---|---|---|---|---|---|---|---|---|---|---|\n| 1 | 6.77 | 3.83 | 5.09 | 20.66 | 12.43 | 20.17 | 24.24 | 102.68 | 156.48 | 170.85 |\n| 2 | 2.06 | 6.10 | 7.81 | 45.50 | 23.49 | 15.47 | 31.69 | 127.86 | 115.91 | 120.53 |\n| 3 | 1.51 | 3.14 | 6.93 | 43.20 | 42.80 | 23.11 | 49.18 | 181.76 | 103.44 | 140.41 |\n| 4 | 7.07 | 8.93 | 7.00 | 20.17 | 39.75 | 39.59 | 33.64 | 101.58 | 191.39 | 115.22 |\n| 5 | 5.46 | 5.00 | 4.55 | 36.28 | 37.80 | 10.10 | 47.45 | 184.05 | 140.86 | 119.37 |\n| 6 | 5.39 | 5.57 | 2.39 | 32.71 | 13.75 | 26.07 | 33.04 | 115.33 | 187.89 | 177.73 |\n\n",
            "text/latex": "A data.frame: 6 × 10\n\\begin{tabular}{r|llllllllll}\n  & F1 & F2 & F3 & F4 & F5 & F6 & F7 & F8 & F9 & F10\\\\\n  & <dbl> & <dbl> & <dbl> & <dbl> & <dbl> & <dbl> & <dbl> & <dbl> & <dbl> & <dbl>\\\\\n\\hline\n\t1 & 6.77 & 3.83 & 5.09 & 20.66 & 12.43 & 20.17 & 24.24 & 102.68 & 156.48 & 170.85\\\\\n\t2 & 2.06 & 6.10 & 7.81 & 45.50 & 23.49 & 15.47 & 31.69 & 127.86 & 115.91 & 120.53\\\\\n\t3 & 1.51 & 3.14 & 6.93 & 43.20 & 42.80 & 23.11 & 49.18 & 181.76 & 103.44 & 140.41\\\\\n\t4 & 7.07 & 8.93 & 7.00 & 20.17 & 39.75 & 39.59 & 33.64 & 101.58 & 191.39 & 115.22\\\\\n\t5 & 5.46 & 5.00 & 4.55 & 36.28 & 37.80 & 10.10 & 47.45 & 184.05 & 140.86 & 119.37\\\\\n\t6 & 5.39 & 5.57 & 2.39 & 32.71 & 13.75 & 26.07 & 33.04 & 115.33 & 187.89 & 177.73\\\\\n\\end{tabular}\n",
            "text/plain": [
              "  F1   F2   F3   F4    F5    F6    F7    F8     F9     F10   \n",
              "1 6.77 3.83 5.09 20.66 12.43 20.17 24.24 102.68 156.48 170.85\n",
              "2 2.06 6.10 7.81 45.50 23.49 15.47 31.69 127.86 115.91 120.53\n",
              "3 1.51 3.14 6.93 43.20 42.80 23.11 49.18 181.76 103.44 140.41\n",
              "4 7.07 8.93 7.00 20.17 39.75 39.59 33.64 101.58 191.39 115.22\n",
              "5 5.46 5.00 4.55 36.28 37.80 10.10 47.45 184.05 140.86 119.37\n",
              "6 5.39 5.57 2.39 32.71 13.75 26.07 33.04 115.33 187.89 177.73"
            ]
          },
          "metadata": {}
        }
      ]
    },
    {
      "cell_type": "markdown",
      "source": [
        "---\n",
        "### **3.2 Select top 10 rows of F4, F6, F7 columns**\n",
        "---"
      ],
      "metadata": {
        "id": "gcurfyvr4_gU"
      }
    },
    {
      "cell_type": "code",
      "source": [
        "dataset[1:10,c(\"F4\",\"F6\",\"F7\")]  # returns a data.frame"
      ],
      "metadata": {
        "colab": {
          "base_uri": "https://localhost:8080/",
          "height": 411
        },
        "id": "Tzutd7rM2Byu",
        "outputId": "ab04a7e1-f570-4c5c-c498-3f1fb06a4797"
      },
      "execution_count": 104,
      "outputs": [
        {
          "output_type": "display_data",
          "data": {
            "text/html": [
              "<table class=\"dataframe\">\n",
              "<caption>A data.frame: 10 × 3</caption>\n",
              "<thead>\n",
              "\t<tr><th></th><th scope=col>F4</th><th scope=col>F6</th><th scope=col>F7</th></tr>\n",
              "\t<tr><th></th><th scope=col>&lt;dbl&gt;</th><th scope=col>&lt;dbl&gt;</th><th scope=col>&lt;dbl&gt;</th></tr>\n",
              "</thead>\n",
              "<tbody>\n",
              "\t<tr><th scope=row>1</th><td>20.66</td><td>20.17</td><td>24.24</td></tr>\n",
              "\t<tr><th scope=row>2</th><td>45.50</td><td>15.47</td><td>31.69</td></tr>\n",
              "\t<tr><th scope=row>3</th><td>43.20</td><td>23.11</td><td>49.18</td></tr>\n",
              "\t<tr><th scope=row>4</th><td>20.17</td><td>39.59</td><td>33.64</td></tr>\n",
              "\t<tr><th scope=row>5</th><td>36.28</td><td>10.10</td><td>47.45</td></tr>\n",
              "\t<tr><th scope=row>6</th><td>32.71</td><td>26.07</td><td>33.04</td></tr>\n",
              "\t<tr><th scope=row>7</th><td>42.07</td><td>35.97</td><td>39.73</td></tr>\n",
              "\t<tr><th scope=row>8</th><td>26.23</td><td>33.36</td><td>27.18</td></tr>\n",
              "\t<tr><th scope=row>9</th><td>14.29</td><td>19.52</td><td>17.71</td></tr>\n",
              "\t<tr><th scope=row>10</th><td>31.91</td><td>21.88</td><td>49.02</td></tr>\n",
              "</tbody>\n",
              "</table>\n"
            ],
            "text/markdown": "\nA data.frame: 10 × 3\n\n| <!--/--> | F4 &lt;dbl&gt; | F6 &lt;dbl&gt; | F7 &lt;dbl&gt; |\n|---|---|---|---|\n| 1 | 20.66 | 20.17 | 24.24 |\n| 2 | 45.50 | 15.47 | 31.69 |\n| 3 | 43.20 | 23.11 | 49.18 |\n| 4 | 20.17 | 39.59 | 33.64 |\n| 5 | 36.28 | 10.10 | 47.45 |\n| 6 | 32.71 | 26.07 | 33.04 |\n| 7 | 42.07 | 35.97 | 39.73 |\n| 8 | 26.23 | 33.36 | 27.18 |\n| 9 | 14.29 | 19.52 | 17.71 |\n| 10 | 31.91 | 21.88 | 49.02 |\n\n",
            "text/latex": "A data.frame: 10 × 3\n\\begin{tabular}{r|lll}\n  & F4 & F6 & F7\\\\\n  & <dbl> & <dbl> & <dbl>\\\\\n\\hline\n\t1 & 20.66 & 20.17 & 24.24\\\\\n\t2 & 45.50 & 15.47 & 31.69\\\\\n\t3 & 43.20 & 23.11 & 49.18\\\\\n\t4 & 20.17 & 39.59 & 33.64\\\\\n\t5 & 36.28 & 10.10 & 47.45\\\\\n\t6 & 32.71 & 26.07 & 33.04\\\\\n\t7 & 42.07 & 35.97 & 39.73\\\\\n\t8 & 26.23 & 33.36 & 27.18\\\\\n\t9 & 14.29 & 19.52 & 17.71\\\\\n\t10 & 31.91 & 21.88 & 49.02\\\\\n\\end{tabular}\n",
            "text/plain": [
              "   F4    F6    F7   \n",
              "1  20.66 20.17 24.24\n",
              "2  45.50 15.47 31.69\n",
              "3  43.20 23.11 49.18\n",
              "4  20.17 39.59 33.64\n",
              "5  36.28 10.10 47.45\n",
              "6  32.71 26.07 33.04\n",
              "7  42.07 35.97 39.73\n",
              "8  26.23 33.36 27.18\n",
              "9  14.29 19.52 17.71\n",
              "10 31.91 21.88 49.02"
            ]
          },
          "metadata": {}
        }
      ]
    },
    {
      "cell_type": "markdown",
      "source": [
        "---\n",
        "### **3.3 Select bottom 10 rows of F4, F6, F7 columns**\n",
        "---"
      ],
      "metadata": {
        "id": "7mFj_c9XBMIO"
      }
    },
    {
      "cell_type": "code",
      "source": [
        "n = 10\n",
        "s = (nrow(dataset)-n+1):nrow(dataset)\n",
        "s"
      ],
      "metadata": {
        "colab": {
          "base_uri": "https://localhost:8080/",
          "height": 34
        },
        "outputId": "8d0e61a2-48b3-432a-891d-b8dff4e3bfc2",
        "id": "yIkwnvG_BMIQ"
      },
      "execution_count": 105,
      "outputs": [
        {
          "output_type": "display_data",
          "data": {
            "text/html": [
              "<style>\n",
              ".list-inline {list-style: none; margin:0; padding: 0}\n",
              ".list-inline>li {display: inline-block}\n",
              ".list-inline>li:not(:last-child)::after {content: \"\\00b7\"; padding: 0 .5ex}\n",
              "</style>\n",
              "<ol class=list-inline><li>91</li><li>92</li><li>93</li><li>94</li><li>95</li><li>96</li><li>97</li><li>98</li><li>99</li><li>100</li></ol>\n"
            ],
            "text/markdown": "1. 91\n2. 92\n3. 93\n4. 94\n5. 95\n6. 96\n7. 97\n8. 98\n9. 99\n10. 100\n\n\n",
            "text/latex": "\\begin{enumerate*}\n\\item 91\n\\item 92\n\\item 93\n\\item 94\n\\item 95\n\\item 96\n\\item 97\n\\item 98\n\\item 99\n\\item 100\n\\end{enumerate*}\n",
            "text/plain": [
              " [1]  91  92  93  94  95  96  97  98  99 100"
            ]
          },
          "metadata": {}
        }
      ]
    },
    {
      "cell_type": "code",
      "source": [
        "dataset[s,c(\"F4\",\"F6\",\"F7\")]  # returns a data.frame"
      ],
      "metadata": {
        "colab": {
          "base_uri": "https://localhost:8080/",
          "height": 411
        },
        "id": "Ovjt2yBbJLkQ",
        "outputId": "86ea081e-90e4-4e7e-c592-281f33695904"
      },
      "execution_count": 107,
      "outputs": [
        {
          "output_type": "display_data",
          "data": {
            "text/html": [
              "<table class=\"dataframe\">\n",
              "<caption>A data.frame: 10 × 3</caption>\n",
              "<thead>\n",
              "\t<tr><th></th><th scope=col>F4</th><th scope=col>F6</th><th scope=col>F7</th></tr>\n",
              "\t<tr><th></th><th scope=col>&lt;dbl&gt;</th><th scope=col>&lt;dbl&gt;</th><th scope=col>&lt;dbl&gt;</th></tr>\n",
              "</thead>\n",
              "<tbody>\n",
              "\t<tr><th scope=row>91</th><td>46.22</td><td>18.41</td><td>40.72</td></tr>\n",
              "\t<tr><th scope=row>92</th><td>18.42</td><td>16.50</td><td>42.16</td></tr>\n",
              "\t<tr><th scope=row>93</th><td>11.59</td><td>15.08</td><td>34.88</td></tr>\n",
              "\t<tr><th scope=row>94</th><td>18.19</td><td>18.87</td><td>12.32</td></tr>\n",
              "\t<tr><th scope=row>95</th><td>48.31</td><td>40.68</td><td>23.38</td></tr>\n",
              "\t<tr><th scope=row>96</th><td>36.37</td><td>19.37</td><td>23.89</td></tr>\n",
              "\t<tr><th scope=row>97</th><td>45.82</td><td>30.40</td><td>34.75</td></tr>\n",
              "\t<tr><th scope=row>98</th><td>26.40</td><td>34.41</td><td>25.01</td></tr>\n",
              "\t<tr><th scope=row>99</th><td>25.77</td><td>32.79</td><td>28.89</td></tr>\n",
              "\t<tr><th scope=row>100</th><td>49.97</td><td>31.17</td><td>29.61</td></tr>\n",
              "</tbody>\n",
              "</table>\n"
            ],
            "text/markdown": "\nA data.frame: 10 × 3\n\n| <!--/--> | F4 &lt;dbl&gt; | F6 &lt;dbl&gt; | F7 &lt;dbl&gt; |\n|---|---|---|---|\n| 91 | 46.22 | 18.41 | 40.72 |\n| 92 | 18.42 | 16.50 | 42.16 |\n| 93 | 11.59 | 15.08 | 34.88 |\n| 94 | 18.19 | 18.87 | 12.32 |\n| 95 | 48.31 | 40.68 | 23.38 |\n| 96 | 36.37 | 19.37 | 23.89 |\n| 97 | 45.82 | 30.40 | 34.75 |\n| 98 | 26.40 | 34.41 | 25.01 |\n| 99 | 25.77 | 32.79 | 28.89 |\n| 100 | 49.97 | 31.17 | 29.61 |\n\n",
            "text/latex": "A data.frame: 10 × 3\n\\begin{tabular}{r|lll}\n  & F4 & F6 & F7\\\\\n  & <dbl> & <dbl> & <dbl>\\\\\n\\hline\n\t91 & 46.22 & 18.41 & 40.72\\\\\n\t92 & 18.42 & 16.50 & 42.16\\\\\n\t93 & 11.59 & 15.08 & 34.88\\\\\n\t94 & 18.19 & 18.87 & 12.32\\\\\n\t95 & 48.31 & 40.68 & 23.38\\\\\n\t96 & 36.37 & 19.37 & 23.89\\\\\n\t97 & 45.82 & 30.40 & 34.75\\\\\n\t98 & 26.40 & 34.41 & 25.01\\\\\n\t99 & 25.77 & 32.79 & 28.89\\\\\n\t100 & 49.97 & 31.17 & 29.61\\\\\n\\end{tabular}\n",
            "text/plain": [
              "    F4    F6    F7   \n",
              "91  46.22 18.41 40.72\n",
              "92  18.42 16.50 42.16\n",
              "93  11.59 15.08 34.88\n",
              "94  18.19 18.87 12.32\n",
              "95  48.31 40.68 23.38\n",
              "96  36.37 19.37 23.89\n",
              "97  45.82 30.40 34.75\n",
              "98  26.40 34.41 25.01\n",
              "99  25.77 32.79 28.89\n",
              "100 49.97 31.17 29.61"
            ]
          },
          "metadata": {}
        }
      ]
    },
    {
      "cell_type": "markdown",
      "source": [
        "---\n",
        "### **3.4 Select random columns in dataframe**\n",
        "---"
      ],
      "metadata": {
        "id": "kruEiHfQ4GF-"
      }
    },
    {
      "cell_type": "code",
      "source": [
        "head(sample(dataset,3))\n",
        "# Run the code again 2-3 times"
      ],
      "metadata": {
        "colab": {
          "base_uri": "https://localhost:8080/",
          "height": 286
        },
        "id": "EYY3TbhT2kcE",
        "outputId": "db57b6bb-b15d-4cd9-9815-84d28896de29"
      },
      "execution_count": 108,
      "outputs": [
        {
          "output_type": "display_data",
          "data": {
            "text/html": [
              "<table class=\"dataframe\">\n",
              "<caption>A data.frame: 6 × 3</caption>\n",
              "<thead>\n",
              "\t<tr><th></th><th scope=col>F3</th><th scope=col>F8</th><th scope=col>F4</th></tr>\n",
              "\t<tr><th></th><th scope=col>&lt;dbl&gt;</th><th scope=col>&lt;dbl&gt;</th><th scope=col>&lt;dbl&gt;</th></tr>\n",
              "</thead>\n",
              "<tbody>\n",
              "\t<tr><th scope=row>1</th><td>5.09</td><td>102.68</td><td>20.66</td></tr>\n",
              "\t<tr><th scope=row>2</th><td>7.81</td><td>127.86</td><td>45.50</td></tr>\n",
              "\t<tr><th scope=row>3</th><td>6.93</td><td>181.76</td><td>43.20</td></tr>\n",
              "\t<tr><th scope=row>4</th><td>7.00</td><td>101.58</td><td>20.17</td></tr>\n",
              "\t<tr><th scope=row>5</th><td>4.55</td><td>184.05</td><td>36.28</td></tr>\n",
              "\t<tr><th scope=row>6</th><td>2.39</td><td>115.33</td><td>32.71</td></tr>\n",
              "</tbody>\n",
              "</table>\n"
            ],
            "text/markdown": "\nA data.frame: 6 × 3\n\n| <!--/--> | F3 &lt;dbl&gt; | F8 &lt;dbl&gt; | F4 &lt;dbl&gt; |\n|---|---|---|---|\n| 1 | 5.09 | 102.68 | 20.66 |\n| 2 | 7.81 | 127.86 | 45.50 |\n| 3 | 6.93 | 181.76 | 43.20 |\n| 4 | 7.00 | 101.58 | 20.17 |\n| 5 | 4.55 | 184.05 | 36.28 |\n| 6 | 2.39 | 115.33 | 32.71 |\n\n",
            "text/latex": "A data.frame: 6 × 3\n\\begin{tabular}{r|lll}\n  & F3 & F8 & F4\\\\\n  & <dbl> & <dbl> & <dbl>\\\\\n\\hline\n\t1 & 5.09 & 102.68 & 20.66\\\\\n\t2 & 7.81 & 127.86 & 45.50\\\\\n\t3 & 6.93 & 181.76 & 43.20\\\\\n\t4 & 7.00 & 101.58 & 20.17\\\\\n\t5 & 4.55 & 184.05 & 36.28\\\\\n\t6 & 2.39 & 115.33 & 32.71\\\\\n\\end{tabular}\n",
            "text/plain": [
              "  F3   F8     F4   \n",
              "1 5.09 102.68 20.66\n",
              "2 7.81 127.86 45.50\n",
              "3 6.93 181.76 43.20\n",
              "4 7.00 101.58 20.17\n",
              "5 4.55 184.05 36.28\n",
              "6 2.39 115.33 32.71"
            ]
          },
          "metadata": {}
        }
      ]
    },
    {
      "cell_type": "code",
      "source": [
        "#To return 5 random rows\n",
        "index <- sample(1:nrow(dataset), 5)\n",
        "index\n",
        "dataset[index,]\n",
        "\n",
        "# Run the code again 2-3 times"
      ],
      "metadata": {
        "colab": {
          "base_uri": "https://localhost:8080/",
          "height": 272
        },
        "id": "vnH7VCJj5q-k",
        "outputId": "e945ae5b-5d07-43d3-8b1f-2ebb9fb0131f"
      },
      "execution_count": 109,
      "outputs": [
        {
          "output_type": "display_data",
          "data": {
            "text/html": [
              "<style>\n",
              ".list-inline {list-style: none; margin:0; padding: 0}\n",
              ".list-inline>li {display: inline-block}\n",
              ".list-inline>li:not(:last-child)::after {content: \"\\00b7\"; padding: 0 .5ex}\n",
              "</style>\n",
              "<ol class=list-inline><li>83</li><li>90</li><li>89</li><li>11</li><li>63</li></ol>\n"
            ],
            "text/markdown": "1. 83\n2. 90\n3. 89\n4. 11\n5. 63\n\n\n",
            "text/latex": "\\begin{enumerate*}\n\\item 83\n\\item 90\n\\item 89\n\\item 11\n\\item 63\n\\end{enumerate*}\n",
            "text/plain": [
              "[1] 83 90 89 11 63"
            ]
          },
          "metadata": {}
        },
        {
          "output_type": "display_data",
          "data": {
            "text/html": [
              "<table class=\"dataframe\">\n",
              "<caption>A data.frame: 5 × 10</caption>\n",
              "<thead>\n",
              "\t<tr><th></th><th scope=col>F1</th><th scope=col>F2</th><th scope=col>F3</th><th scope=col>F4</th><th scope=col>F5</th><th scope=col>F6</th><th scope=col>F7</th><th scope=col>F8</th><th scope=col>F9</th><th scope=col>F10</th></tr>\n",
              "\t<tr><th></th><th scope=col>&lt;dbl&gt;</th><th scope=col>&lt;dbl&gt;</th><th scope=col>&lt;dbl&gt;</th><th scope=col>&lt;dbl&gt;</th><th scope=col>&lt;dbl&gt;</th><th scope=col>&lt;dbl&gt;</th><th scope=col>&lt;dbl&gt;</th><th scope=col>&lt;dbl&gt;</th><th scope=col>&lt;dbl&gt;</th><th scope=col>&lt;dbl&gt;</th></tr>\n",
              "</thead>\n",
              "<tbody>\n",
              "\t<tr><th scope=row>83</th><td>6.23</td><td>5.42</td><td>6.44</td><td>19.97</td><td>37.64</td><td>13.08</td><td>38.94</td><td>148.14</td><td>105.29</td><td>181.70</td></tr>\n",
              "\t<tr><th scope=row>90</th><td>6.05</td><td>6.13</td><td>2.64</td><td>44.09</td><td>10.79</td><td>48.87</td><td>31.18</td><td>117.29</td><td>193.47</td><td>137.97</td></tr>\n",
              "\t<tr><th scope=row>89</th><td>2.03</td><td>4.19</td><td>9.28</td><td>12.19</td><td>22.06</td><td>38.06</td><td>23.80</td><td>112.70</td><td>146.79</td><td>141.88</td></tr>\n",
              "\t<tr><th scope=row>11</th><td>1.02</td><td>5.23</td><td>5.75</td><td>49.32</td><td>37.79</td><td>17.37</td><td>10.58</td><td>155.95</td><td>150.44</td><td>173.38</td></tr>\n",
              "\t<tr><th scope=row>63</th><td>3.00</td><td>7.21</td><td>3.61</td><td>25.38</td><td>19.26</td><td>30.52</td><td>24.14</td><td>171.77</td><td>144.94</td><td>191.39</td></tr>\n",
              "</tbody>\n",
              "</table>\n"
            ],
            "text/markdown": "\nA data.frame: 5 × 10\n\n| <!--/--> | F1 &lt;dbl&gt; | F2 &lt;dbl&gt; | F3 &lt;dbl&gt; | F4 &lt;dbl&gt; | F5 &lt;dbl&gt; | F6 &lt;dbl&gt; | F7 &lt;dbl&gt; | F8 &lt;dbl&gt; | F9 &lt;dbl&gt; | F10 &lt;dbl&gt; |\n|---|---|---|---|---|---|---|---|---|---|---|\n| 83 | 6.23 | 5.42 | 6.44 | 19.97 | 37.64 | 13.08 | 38.94 | 148.14 | 105.29 | 181.70 |\n| 90 | 6.05 | 6.13 | 2.64 | 44.09 | 10.79 | 48.87 | 31.18 | 117.29 | 193.47 | 137.97 |\n| 89 | 2.03 | 4.19 | 9.28 | 12.19 | 22.06 | 38.06 | 23.80 | 112.70 | 146.79 | 141.88 |\n| 11 | 1.02 | 5.23 | 5.75 | 49.32 | 37.79 | 17.37 | 10.58 | 155.95 | 150.44 | 173.38 |\n| 63 | 3.00 | 7.21 | 3.61 | 25.38 | 19.26 | 30.52 | 24.14 | 171.77 | 144.94 | 191.39 |\n\n",
            "text/latex": "A data.frame: 5 × 10\n\\begin{tabular}{r|llllllllll}\n  & F1 & F2 & F3 & F4 & F5 & F6 & F7 & F8 & F9 & F10\\\\\n  & <dbl> & <dbl> & <dbl> & <dbl> & <dbl> & <dbl> & <dbl> & <dbl> & <dbl> & <dbl>\\\\\n\\hline\n\t83 & 6.23 & 5.42 & 6.44 & 19.97 & 37.64 & 13.08 & 38.94 & 148.14 & 105.29 & 181.70\\\\\n\t90 & 6.05 & 6.13 & 2.64 & 44.09 & 10.79 & 48.87 & 31.18 & 117.29 & 193.47 & 137.97\\\\\n\t89 & 2.03 & 4.19 & 9.28 & 12.19 & 22.06 & 38.06 & 23.80 & 112.70 & 146.79 & 141.88\\\\\n\t11 & 1.02 & 5.23 & 5.75 & 49.32 & 37.79 & 17.37 & 10.58 & 155.95 & 150.44 & 173.38\\\\\n\t63 & 3.00 & 7.21 & 3.61 & 25.38 & 19.26 & 30.52 & 24.14 & 171.77 & 144.94 & 191.39\\\\\n\\end{tabular}\n",
            "text/plain": [
              "   F1   F2   F3   F4    F5    F6    F7    F8     F9     F10   \n",
              "83 6.23 5.42 6.44 19.97 37.64 13.08 38.94 148.14 105.29 181.70\n",
              "90 6.05 6.13 2.64 44.09 10.79 48.87 31.18 117.29 193.47 137.97\n",
              "89 2.03 4.19 9.28 12.19 22.06 38.06 23.80 112.70 146.79 141.88\n",
              "11 1.02 5.23 5.75 49.32 37.79 17.37 10.58 155.95 150.44 173.38\n",
              "63 3.00 7.21 3.61 25.38 19.26 30.52 24.14 171.77 144.94 191.39"
            ]
          },
          "metadata": {}
        }
      ]
    },
    {
      "cell_type": "markdown",
      "source": [
        "---\n",
        "### **3.5 Shuffle the data row wise.**\n",
        "---"
      ],
      "metadata": {
        "id": "V-ZGHyAsNZ4-"
      }
    },
    {
      "cell_type": "code",
      "source": [
        "dataset <- dataset[sample(nrow(dataset)),]\n",
        "head(dataset)\n",
        "# Run the code again 2-3 times"
      ],
      "metadata": {
        "colab": {
          "base_uri": "https://localhost:8080/",
          "height": 286
        },
        "outputId": "ee2d33d7-d8bb-46be-cd46-8182baa18570",
        "id": "x-WXgH2VNZ4_"
      },
      "execution_count": 111,
      "outputs": [
        {
          "output_type": "display_data",
          "data": {
            "text/html": [
              "<table class=\"dataframe\">\n",
              "<caption>A data.frame: 6 × 10</caption>\n",
              "<thead>\n",
              "\t<tr><th></th><th scope=col>F1</th><th scope=col>F2</th><th scope=col>F3</th><th scope=col>F4</th><th scope=col>F5</th><th scope=col>F6</th><th scope=col>F7</th><th scope=col>F8</th><th scope=col>F9</th><th scope=col>F10</th></tr>\n",
              "\t<tr><th></th><th scope=col>&lt;dbl&gt;</th><th scope=col>&lt;dbl&gt;</th><th scope=col>&lt;dbl&gt;</th><th scope=col>&lt;dbl&gt;</th><th scope=col>&lt;dbl&gt;</th><th scope=col>&lt;dbl&gt;</th><th scope=col>&lt;dbl&gt;</th><th scope=col>&lt;dbl&gt;</th><th scope=col>&lt;dbl&gt;</th><th scope=col>&lt;dbl&gt;</th></tr>\n",
              "</thead>\n",
              "<tbody>\n",
              "\t<tr><th scope=row>89</th><td>2.03</td><td>4.19</td><td>9.28</td><td>12.19</td><td>22.06</td><td>38.06</td><td>23.80</td><td>112.70</td><td>146.79</td><td>141.88</td></tr>\n",
              "\t<tr><th scope=row>90</th><td>6.05</td><td>6.13</td><td>2.64</td><td>44.09</td><td>10.79</td><td>48.87</td><td>31.18</td><td>117.29</td><td>193.47</td><td>137.97</td></tr>\n",
              "\t<tr><th scope=row>96</th><td>3.27</td><td>8.97</td><td>9.55</td><td>36.37</td><td>17.08</td><td>19.37</td><td>23.89</td><td>110.00</td><td>122.56</td><td>114.38</td></tr>\n",
              "\t<tr><th scope=row>25</th><td>4.56</td><td>7.84</td><td>4.27</td><td>14.05</td><td>15.97</td><td>37.94</td><td>12.47</td><td>192.51</td><td>158.00</td><td>162.65</td></tr>\n",
              "\t<tr><th scope=row>23</th><td>4.07</td><td>9.23</td><td>9.78</td><td>13.40</td><td>45.24</td><td>46.70</td><td>36.20</td><td>105.28</td><td>146.36</td><td>175.12</td></tr>\n",
              "\t<tr><th scope=row>67</th><td>5.66</td><td>1.48</td><td>3.09</td><td>22.47</td><td>25.52</td><td>21.32</td><td>10.03</td><td>146.39</td><td>148.59</td><td>184.60</td></tr>\n",
              "</tbody>\n",
              "</table>\n"
            ],
            "text/markdown": "\nA data.frame: 6 × 10\n\n| <!--/--> | F1 &lt;dbl&gt; | F2 &lt;dbl&gt; | F3 &lt;dbl&gt; | F4 &lt;dbl&gt; | F5 &lt;dbl&gt; | F6 &lt;dbl&gt; | F7 &lt;dbl&gt; | F8 &lt;dbl&gt; | F9 &lt;dbl&gt; | F10 &lt;dbl&gt; |\n|---|---|---|---|---|---|---|---|---|---|---|\n| 89 | 2.03 | 4.19 | 9.28 | 12.19 | 22.06 | 38.06 | 23.80 | 112.70 | 146.79 | 141.88 |\n| 90 | 6.05 | 6.13 | 2.64 | 44.09 | 10.79 | 48.87 | 31.18 | 117.29 | 193.47 | 137.97 |\n| 96 | 3.27 | 8.97 | 9.55 | 36.37 | 17.08 | 19.37 | 23.89 | 110.00 | 122.56 | 114.38 |\n| 25 | 4.56 | 7.84 | 4.27 | 14.05 | 15.97 | 37.94 | 12.47 | 192.51 | 158.00 | 162.65 |\n| 23 | 4.07 | 9.23 | 9.78 | 13.40 | 45.24 | 46.70 | 36.20 | 105.28 | 146.36 | 175.12 |\n| 67 | 5.66 | 1.48 | 3.09 | 22.47 | 25.52 | 21.32 | 10.03 | 146.39 | 148.59 | 184.60 |\n\n",
            "text/latex": "A data.frame: 6 × 10\n\\begin{tabular}{r|llllllllll}\n  & F1 & F2 & F3 & F4 & F5 & F6 & F7 & F8 & F9 & F10\\\\\n  & <dbl> & <dbl> & <dbl> & <dbl> & <dbl> & <dbl> & <dbl> & <dbl> & <dbl> & <dbl>\\\\\n\\hline\n\t89 & 2.03 & 4.19 & 9.28 & 12.19 & 22.06 & 38.06 & 23.80 & 112.70 & 146.79 & 141.88\\\\\n\t90 & 6.05 & 6.13 & 2.64 & 44.09 & 10.79 & 48.87 & 31.18 & 117.29 & 193.47 & 137.97\\\\\n\t96 & 3.27 & 8.97 & 9.55 & 36.37 & 17.08 & 19.37 & 23.89 & 110.00 & 122.56 & 114.38\\\\\n\t25 & 4.56 & 7.84 & 4.27 & 14.05 & 15.97 & 37.94 & 12.47 & 192.51 & 158.00 & 162.65\\\\\n\t23 & 4.07 & 9.23 & 9.78 & 13.40 & 45.24 & 46.70 & 36.20 & 105.28 & 146.36 & 175.12\\\\\n\t67 & 5.66 & 1.48 & 3.09 & 22.47 & 25.52 & 21.32 & 10.03 & 146.39 & 148.59 & 184.60\\\\\n\\end{tabular}\n",
            "text/plain": [
              "   F1   F2   F3   F4    F5    F6    F7    F8     F9     F10   \n",
              "89 2.03 4.19 9.28 12.19 22.06 38.06 23.80 112.70 146.79 141.88\n",
              "90 6.05 6.13 2.64 44.09 10.79 48.87 31.18 117.29 193.47 137.97\n",
              "96 3.27 8.97 9.55 36.37 17.08 19.37 23.89 110.00 122.56 114.38\n",
              "25 4.56 7.84 4.27 14.05 15.97 37.94 12.47 192.51 158.00 162.65\n",
              "23 4.07 9.23 9.78 13.40 45.24 46.70 36.20 105.28 146.36 175.12\n",
              "67 5.66 1.48 3.09 22.47 25.52 21.32 10.03 146.39 148.59 184.60"
            ]
          },
          "metadata": {}
        }
      ]
    },
    {
      "cell_type": "markdown",
      "source": [
        "---\n",
        "### **3.6 Divide the data into train and test**\n",
        "---"
      ],
      "metadata": {
        "id": "yjtU5agDv0Rt"
      }
    },
    {
      "cell_type": "code",
      "source": [
        "dataset = read.csv(\"NewDataset.csv\")\n",
        "totalDataset = nrow(dataset)\n",
        "totalDataset\n",
        "training = 70\n",
        "training"
      ],
      "metadata": {
        "colab": {
          "base_uri": "https://localhost:8080/",
          "height": 52
        },
        "outputId": "4e2dd6fb-abf0-4c1d-c201-857980866103",
        "id": "x2OlMkhpv0Rv"
      },
      "execution_count": 112,
      "outputs": [
        {
          "output_type": "display_data",
          "data": {
            "text/html": [
              "100"
            ],
            "text/markdown": "100",
            "text/latex": "100",
            "text/plain": [
              "[1] 100"
            ]
          },
          "metadata": {}
        },
        {
          "output_type": "display_data",
          "data": {
            "text/html": [
              "70"
            ],
            "text/markdown": "70",
            "text/latex": "70",
            "text/plain": [
              "[1] 70"
            ]
          },
          "metadata": {}
        }
      ]
    },
    {
      "cell_type": "code",
      "source": [
        "trainDataset <- dataset[1:(totalDataset * training/100),]\n",
        "nrow(trainDataset)\n",
        "head(trainDataset)"
      ],
      "metadata": {
        "colab": {
          "base_uri": "https://localhost:8080/",
          "height": 303
        },
        "id": "WsrvBTeszGri",
        "outputId": "e2214909-8756-479b-8906-6ca5248df275"
      },
      "execution_count": 113,
      "outputs": [
        {
          "output_type": "display_data",
          "data": {
            "text/html": [
              "70"
            ],
            "text/markdown": "70",
            "text/latex": "70",
            "text/plain": [
              "[1] 70"
            ]
          },
          "metadata": {}
        },
        {
          "output_type": "display_data",
          "data": {
            "text/html": [
              "<table class=\"dataframe\">\n",
              "<caption>A data.frame: 6 × 10</caption>\n",
              "<thead>\n",
              "\t<tr><th></th><th scope=col>F1</th><th scope=col>F2</th><th scope=col>F3</th><th scope=col>F4</th><th scope=col>F5</th><th scope=col>F6</th><th scope=col>F7</th><th scope=col>F8</th><th scope=col>F9</th><th scope=col>F10</th></tr>\n",
              "\t<tr><th></th><th scope=col>&lt;dbl&gt;</th><th scope=col>&lt;dbl&gt;</th><th scope=col>&lt;dbl&gt;</th><th scope=col>&lt;dbl&gt;</th><th scope=col>&lt;dbl&gt;</th><th scope=col>&lt;dbl&gt;</th><th scope=col>&lt;dbl&gt;</th><th scope=col>&lt;dbl&gt;</th><th scope=col>&lt;dbl&gt;</th><th scope=col>&lt;dbl&gt;</th></tr>\n",
              "</thead>\n",
              "<tbody>\n",
              "\t<tr><th scope=row>1</th><td>6.77</td><td>3.83</td><td>5.09</td><td>20.66</td><td>12.43</td><td>20.17</td><td>24.24</td><td>102.68</td><td>156.48</td><td>170.85</td></tr>\n",
              "\t<tr><th scope=row>2</th><td>2.06</td><td>6.10</td><td>7.81</td><td>45.50</td><td>23.49</td><td>15.47</td><td>31.69</td><td>127.86</td><td>115.91</td><td>120.53</td></tr>\n",
              "\t<tr><th scope=row>3</th><td>1.51</td><td>3.14</td><td>6.93</td><td>43.20</td><td>42.80</td><td>23.11</td><td>49.18</td><td>181.76</td><td>103.44</td><td>140.41</td></tr>\n",
              "\t<tr><th scope=row>4</th><td>7.07</td><td>8.93</td><td>7.00</td><td>20.17</td><td>39.75</td><td>39.59</td><td>33.64</td><td>101.58</td><td>191.39</td><td>115.22</td></tr>\n",
              "\t<tr><th scope=row>5</th><td>5.46</td><td>5.00</td><td>4.55</td><td>36.28</td><td>37.80</td><td>10.10</td><td>47.45</td><td>184.05</td><td>140.86</td><td>119.37</td></tr>\n",
              "\t<tr><th scope=row>6</th><td>5.39</td><td>5.57</td><td>2.39</td><td>32.71</td><td>13.75</td><td>26.07</td><td>33.04</td><td>115.33</td><td>187.89</td><td>177.73</td></tr>\n",
              "</tbody>\n",
              "</table>\n"
            ],
            "text/markdown": "\nA data.frame: 6 × 10\n\n| <!--/--> | F1 &lt;dbl&gt; | F2 &lt;dbl&gt; | F3 &lt;dbl&gt; | F4 &lt;dbl&gt; | F5 &lt;dbl&gt; | F6 &lt;dbl&gt; | F7 &lt;dbl&gt; | F8 &lt;dbl&gt; | F9 &lt;dbl&gt; | F10 &lt;dbl&gt; |\n|---|---|---|---|---|---|---|---|---|---|---|\n| 1 | 6.77 | 3.83 | 5.09 | 20.66 | 12.43 | 20.17 | 24.24 | 102.68 | 156.48 | 170.85 |\n| 2 | 2.06 | 6.10 | 7.81 | 45.50 | 23.49 | 15.47 | 31.69 | 127.86 | 115.91 | 120.53 |\n| 3 | 1.51 | 3.14 | 6.93 | 43.20 | 42.80 | 23.11 | 49.18 | 181.76 | 103.44 | 140.41 |\n| 4 | 7.07 | 8.93 | 7.00 | 20.17 | 39.75 | 39.59 | 33.64 | 101.58 | 191.39 | 115.22 |\n| 5 | 5.46 | 5.00 | 4.55 | 36.28 | 37.80 | 10.10 | 47.45 | 184.05 | 140.86 | 119.37 |\n| 6 | 5.39 | 5.57 | 2.39 | 32.71 | 13.75 | 26.07 | 33.04 | 115.33 | 187.89 | 177.73 |\n\n",
            "text/latex": "A data.frame: 6 × 10\n\\begin{tabular}{r|llllllllll}\n  & F1 & F2 & F3 & F4 & F5 & F6 & F7 & F8 & F9 & F10\\\\\n  & <dbl> & <dbl> & <dbl> & <dbl> & <dbl> & <dbl> & <dbl> & <dbl> & <dbl> & <dbl>\\\\\n\\hline\n\t1 & 6.77 & 3.83 & 5.09 & 20.66 & 12.43 & 20.17 & 24.24 & 102.68 & 156.48 & 170.85\\\\\n\t2 & 2.06 & 6.10 & 7.81 & 45.50 & 23.49 & 15.47 & 31.69 & 127.86 & 115.91 & 120.53\\\\\n\t3 & 1.51 & 3.14 & 6.93 & 43.20 & 42.80 & 23.11 & 49.18 & 181.76 & 103.44 & 140.41\\\\\n\t4 & 7.07 & 8.93 & 7.00 & 20.17 & 39.75 & 39.59 & 33.64 & 101.58 & 191.39 & 115.22\\\\\n\t5 & 5.46 & 5.00 & 4.55 & 36.28 & 37.80 & 10.10 & 47.45 & 184.05 & 140.86 & 119.37\\\\\n\t6 & 5.39 & 5.57 & 2.39 & 32.71 & 13.75 & 26.07 & 33.04 & 115.33 & 187.89 & 177.73\\\\\n\\end{tabular}\n",
            "text/plain": [
              "  F1   F2   F3   F4    F5    F6    F7    F8     F9     F10   \n",
              "1 6.77 3.83 5.09 20.66 12.43 20.17 24.24 102.68 156.48 170.85\n",
              "2 2.06 6.10 7.81 45.50 23.49 15.47 31.69 127.86 115.91 120.53\n",
              "3 1.51 3.14 6.93 43.20 42.80 23.11 49.18 181.76 103.44 140.41\n",
              "4 7.07 8.93 7.00 20.17 39.75 39.59 33.64 101.58 191.39 115.22\n",
              "5 5.46 5.00 4.55 36.28 37.80 10.10 47.45 184.05 140.86 119.37\n",
              "6 5.39 5.57 2.39 32.71 13.75 26.07 33.04 115.33 187.89 177.73"
            ]
          },
          "metadata": {}
        }
      ]
    },
    {
      "cell_type": "code",
      "source": [
        "testDataset <- dataset[(totalDataset * training/100):totalDataset,]\n",
        "nrow(testDataset)\n",
        "head(testDataset)"
      ],
      "metadata": {
        "colab": {
          "base_uri": "https://localhost:8080/",
          "height": 303
        },
        "id": "ve9rSAwOzyWK",
        "outputId": "8c4beb13-a0c4-424b-d822-b3adfe26be55"
      },
      "execution_count": 114,
      "outputs": [
        {
          "output_type": "display_data",
          "data": {
            "text/html": [
              "31"
            ],
            "text/markdown": "31",
            "text/latex": "31",
            "text/plain": [
              "[1] 31"
            ]
          },
          "metadata": {}
        },
        {
          "output_type": "display_data",
          "data": {
            "text/html": [
              "<table class=\"dataframe\">\n",
              "<caption>A data.frame: 6 × 10</caption>\n",
              "<thead>\n",
              "\t<tr><th></th><th scope=col>F1</th><th scope=col>F2</th><th scope=col>F3</th><th scope=col>F4</th><th scope=col>F5</th><th scope=col>F6</th><th scope=col>F7</th><th scope=col>F8</th><th scope=col>F9</th><th scope=col>F10</th></tr>\n",
              "\t<tr><th></th><th scope=col>&lt;dbl&gt;</th><th scope=col>&lt;dbl&gt;</th><th scope=col>&lt;dbl&gt;</th><th scope=col>&lt;dbl&gt;</th><th scope=col>&lt;dbl&gt;</th><th scope=col>&lt;dbl&gt;</th><th scope=col>&lt;dbl&gt;</th><th scope=col>&lt;dbl&gt;</th><th scope=col>&lt;dbl&gt;</th><th scope=col>&lt;dbl&gt;</th></tr>\n",
              "</thead>\n",
              "<tbody>\n",
              "\t<tr><th scope=row>70</th><td>9.31</td><td>6.56</td><td>3.67</td><td>29.95</td><td>21.26</td><td>13.46</td><td>31.99</td><td>102.64</td><td>113.58</td><td>180.62</td></tr>\n",
              "\t<tr><th scope=row>71</th><td>1.01</td><td>6.78</td><td>5.12</td><td>16.28</td><td>13.17</td><td>46.16</td><td>44.02</td><td>100.35</td><td>168.06</td><td>124.56</td></tr>\n",
              "\t<tr><th scope=row>72</th><td>3.59</td><td>3.97</td><td>8.68</td><td>12.57</td><td>36.53</td><td>15.20</td><td>48.31</td><td>161.17</td><td>166.28</td><td>138.76</td></tr>\n",
              "\t<tr><th scope=row>73</th><td>8.99</td><td>9.47</td><td>7.17</td><td>49.50</td><td>20.61</td><td>17.32</td><td>31.85</td><td>161.99</td><td>124.25</td><td>100.44</td></tr>\n",
              "\t<tr><th scope=row>74</th><td>3.64</td><td>7.82</td><td>9.15</td><td>17.27</td><td>48.15</td><td>46.14</td><td>48.94</td><td>142.06</td><td>147.24</td><td>176.01</td></tr>\n",
              "\t<tr><th scope=row>75</th><td>6.63</td><td>7.86</td><td>6.54</td><td>32.10</td><td>33.52</td><td>39.90</td><td>15.47</td><td>158.52</td><td>156.35</td><td>162.11</td></tr>\n",
              "</tbody>\n",
              "</table>\n"
            ],
            "text/markdown": "\nA data.frame: 6 × 10\n\n| <!--/--> | F1 &lt;dbl&gt; | F2 &lt;dbl&gt; | F3 &lt;dbl&gt; | F4 &lt;dbl&gt; | F5 &lt;dbl&gt; | F6 &lt;dbl&gt; | F7 &lt;dbl&gt; | F8 &lt;dbl&gt; | F9 &lt;dbl&gt; | F10 &lt;dbl&gt; |\n|---|---|---|---|---|---|---|---|---|---|---|\n| 70 | 9.31 | 6.56 | 3.67 | 29.95 | 21.26 | 13.46 | 31.99 | 102.64 | 113.58 | 180.62 |\n| 71 | 1.01 | 6.78 | 5.12 | 16.28 | 13.17 | 46.16 | 44.02 | 100.35 | 168.06 | 124.56 |\n| 72 | 3.59 | 3.97 | 8.68 | 12.57 | 36.53 | 15.20 | 48.31 | 161.17 | 166.28 | 138.76 |\n| 73 | 8.99 | 9.47 | 7.17 | 49.50 | 20.61 | 17.32 | 31.85 | 161.99 | 124.25 | 100.44 |\n| 74 | 3.64 | 7.82 | 9.15 | 17.27 | 48.15 | 46.14 | 48.94 | 142.06 | 147.24 | 176.01 |\n| 75 | 6.63 | 7.86 | 6.54 | 32.10 | 33.52 | 39.90 | 15.47 | 158.52 | 156.35 | 162.11 |\n\n",
            "text/latex": "A data.frame: 6 × 10\n\\begin{tabular}{r|llllllllll}\n  & F1 & F2 & F3 & F4 & F5 & F6 & F7 & F8 & F9 & F10\\\\\n  & <dbl> & <dbl> & <dbl> & <dbl> & <dbl> & <dbl> & <dbl> & <dbl> & <dbl> & <dbl>\\\\\n\\hline\n\t70 & 9.31 & 6.56 & 3.67 & 29.95 & 21.26 & 13.46 & 31.99 & 102.64 & 113.58 & 180.62\\\\\n\t71 & 1.01 & 6.78 & 5.12 & 16.28 & 13.17 & 46.16 & 44.02 & 100.35 & 168.06 & 124.56\\\\\n\t72 & 3.59 & 3.97 & 8.68 & 12.57 & 36.53 & 15.20 & 48.31 & 161.17 & 166.28 & 138.76\\\\\n\t73 & 8.99 & 9.47 & 7.17 & 49.50 & 20.61 & 17.32 & 31.85 & 161.99 & 124.25 & 100.44\\\\\n\t74 & 3.64 & 7.82 & 9.15 & 17.27 & 48.15 & 46.14 & 48.94 & 142.06 & 147.24 & 176.01\\\\\n\t75 & 6.63 & 7.86 & 6.54 & 32.10 & 33.52 & 39.90 & 15.47 & 158.52 & 156.35 & 162.11\\\\\n\\end{tabular}\n",
            "text/plain": [
              "   F1   F2   F3   F4    F5    F6    F7    F8     F9     F10   \n",
              "70 9.31 6.56 3.67 29.95 21.26 13.46 31.99 102.64 113.58 180.62\n",
              "71 1.01 6.78 5.12 16.28 13.17 46.16 44.02 100.35 168.06 124.56\n",
              "72 3.59 3.97 8.68 12.57 36.53 15.20 48.31 161.17 166.28 138.76\n",
              "73 8.99 9.47 7.17 49.50 20.61 17.32 31.85 161.99 124.25 100.44\n",
              "74 3.64 7.82 9.15 17.27 48.15 46.14 48.94 142.06 147.24 176.01\n",
              "75 6.63 7.86 6.54 32.10 33.52 39.90 15.47 158.52 156.35 162.11"
            ]
          },
          "metadata": {}
        }
      ]
    },
    {
      "cell_type": "markdown",
      "source": [
        "---\n",
        "# **4. Plotting**\n",
        "---\n",
        "## **4.1 Basics of Plotting**"
      ],
      "metadata": {
        "id": "tTSP9BbtdD07"
      }
    },
    {
      "cell_type": "code",
      "source": [
        "# Generate random nubers\n",
        "x <- round(runif(100, min = 1, max = 5),2)\n",
        "x"
      ],
      "metadata": {
        "_uuid": "b1b42519-6c1f-41f1-9209-ec2fff912ec6",
        "_cell_guid": "e653392a-adc7-41b5-a5b3-cfd62b40d3b7",
        "jupyter": {
          "outputs_hidden": false
        },
        "execution": {
          "iopub.status.busy": "2022-07-03T15:25:28.268022Z",
          "iopub.execute_input": "2022-07-03T15:25:28.270850Z",
          "iopub.status.idle": "2022-07-03T15:25:28.304475Z"
        },
        "trusted": true,
        "colab": {
          "base_uri": "https://localhost:8080/",
          "height": 86
        },
        "outputId": "58166c98-4878-4083-94a0-8704fb24cc67",
        "id": "9i3gFlY3dD08"
      },
      "execution_count": 118,
      "outputs": [
        {
          "output_type": "display_data",
          "data": {
            "text/html": [
              "<style>\n",
              ".list-inline {list-style: none; margin:0; padding: 0}\n",
              ".list-inline>li {display: inline-block}\n",
              ".list-inline>li:not(:last-child)::after {content: \"\\00b7\"; padding: 0 .5ex}\n",
              "</style>\n",
              "<ol class=list-inline><li>2.14</li><li>1.2</li><li>4.23</li><li>1.75</li><li>1.45</li><li>3.61</li><li>2.16</li><li>4.37</li><li>3.87</li><li>2.29</li><li>4.54</li><li>2.04</li><li>2.43</li><li>4.74</li><li>2.63</li><li>3.22</li><li>2.79</li><li>3.98</li><li>2.84</li><li>3.28</li><li>2.55</li><li>2.07</li><li>1.13</li><li>3.49</li><li>3.51</li><li>3.49</li><li>4.1</li><li>1.48</li><li>3.98</li><li>2.2</li><li>1.05</li><li>4.29</li><li>4.78</li><li>2.18</li><li>4.13</li><li>2.35</li><li>1.18</li><li>1.45</li><li>4.53</li><li>2.97</li><li>2.06</li><li>4.96</li><li>1.37</li><li>2.97</li><li>4.56</li><li>1.96</li><li>2.31</li><li>3.56</li><li>3.99</li><li>4.65</li><li>3.9</li><li>2.67</li><li>2.57</li><li>4.09</li><li>2.41</li><li>2.92</li><li>1.56</li><li>1.82</li><li>1.65</li><li>2.93</li><li>1.11</li><li>4.37</li><li>2.34</li><li>3.95</li><li>2.57</li><li>4.18</li><li>4.71</li><li>4.1</li><li>4.22</li><li>4.18</li><li>2.66</li><li>3.25</li><li>4.67</li><li>3.76</li><li>3.19</li><li>3.47</li><li>4.75</li><li>2.88</li><li>1.87</li><li>3.28</li><li>1.41</li><li>3.03</li><li>4.97</li><li>1.83</li><li>3.9</li><li>3.48</li><li>4.15</li><li>3.62</li><li>4.04</li><li>4.37</li><li>2.92</li><li>3.1</li><li>4.97</li><li>1.47</li><li>2.56</li><li>2.45</li><li>2.84</li><li>3.28</li><li>3.35</li><li>3.06</li></ol>\n"
            ],
            "text/markdown": "1. 2.14\n2. 1.2\n3. 4.23\n4. 1.75\n5. 1.45\n6. 3.61\n7. 2.16\n8. 4.37\n9. 3.87\n10. 2.29\n11. 4.54\n12. 2.04\n13. 2.43\n14. 4.74\n15. 2.63\n16. 3.22\n17. 2.79\n18. 3.98\n19. 2.84\n20. 3.28\n21. 2.55\n22. 2.07\n23. 1.13\n24. 3.49\n25. 3.51\n26. 3.49\n27. 4.1\n28. 1.48\n29. 3.98\n30. 2.2\n31. 1.05\n32. 4.29\n33. 4.78\n34. 2.18\n35. 4.13\n36. 2.35\n37. 1.18\n38. 1.45\n39. 4.53\n40. 2.97\n41. 2.06\n42. 4.96\n43. 1.37\n44. 2.97\n45. 4.56\n46. 1.96\n47. 2.31\n48. 3.56\n49. 3.99\n50. 4.65\n51. 3.9\n52. 2.67\n53. 2.57\n54. 4.09\n55. 2.41\n56. 2.92\n57. 1.56\n58. 1.82\n59. 1.65\n60. 2.93\n61. 1.11\n62. 4.37\n63. 2.34\n64. 3.95\n65. 2.57\n66. 4.18\n67. 4.71\n68. 4.1\n69. 4.22\n70. 4.18\n71. 2.66\n72. 3.25\n73. 4.67\n74. 3.76\n75. 3.19\n76. 3.47\n77. 4.75\n78. 2.88\n79. 1.87\n80. 3.28\n81. 1.41\n82. 3.03\n83. 4.97\n84. 1.83\n85. 3.9\n86. 3.48\n87. 4.15\n88. 3.62\n89. 4.04\n90. 4.37\n91. 2.92\n92. 3.1\n93. 4.97\n94. 1.47\n95. 2.56\n96. 2.45\n97. 2.84\n98. 3.28\n99. 3.35\n100. 3.06\n\n\n",
            "text/latex": "\\begin{enumerate*}\n\\item 2.14\n\\item 1.2\n\\item 4.23\n\\item 1.75\n\\item 1.45\n\\item 3.61\n\\item 2.16\n\\item 4.37\n\\item 3.87\n\\item 2.29\n\\item 4.54\n\\item 2.04\n\\item 2.43\n\\item 4.74\n\\item 2.63\n\\item 3.22\n\\item 2.79\n\\item 3.98\n\\item 2.84\n\\item 3.28\n\\item 2.55\n\\item 2.07\n\\item 1.13\n\\item 3.49\n\\item 3.51\n\\item 3.49\n\\item 4.1\n\\item 1.48\n\\item 3.98\n\\item 2.2\n\\item 1.05\n\\item 4.29\n\\item 4.78\n\\item 2.18\n\\item 4.13\n\\item 2.35\n\\item 1.18\n\\item 1.45\n\\item 4.53\n\\item 2.97\n\\item 2.06\n\\item 4.96\n\\item 1.37\n\\item 2.97\n\\item 4.56\n\\item 1.96\n\\item 2.31\n\\item 3.56\n\\item 3.99\n\\item 4.65\n\\item 3.9\n\\item 2.67\n\\item 2.57\n\\item 4.09\n\\item 2.41\n\\item 2.92\n\\item 1.56\n\\item 1.82\n\\item 1.65\n\\item 2.93\n\\item 1.11\n\\item 4.37\n\\item 2.34\n\\item 3.95\n\\item 2.57\n\\item 4.18\n\\item 4.71\n\\item 4.1\n\\item 4.22\n\\item 4.18\n\\item 2.66\n\\item 3.25\n\\item 4.67\n\\item 3.76\n\\item 3.19\n\\item 3.47\n\\item 4.75\n\\item 2.88\n\\item 1.87\n\\item 3.28\n\\item 1.41\n\\item 3.03\n\\item 4.97\n\\item 1.83\n\\item 3.9\n\\item 3.48\n\\item 4.15\n\\item 3.62\n\\item 4.04\n\\item 4.37\n\\item 2.92\n\\item 3.1\n\\item 4.97\n\\item 1.47\n\\item 2.56\n\\item 2.45\n\\item 2.84\n\\item 3.28\n\\item 3.35\n\\item 3.06\n\\end{enumerate*}\n",
            "text/plain": [
              "  [1] 2.14 1.20 4.23 1.75 1.45 3.61 2.16 4.37 3.87 2.29 4.54 2.04 2.43 4.74 2.63\n",
              " [16] 3.22 2.79 3.98 2.84 3.28 2.55 2.07 1.13 3.49 3.51 3.49 4.10 1.48 3.98 2.20\n",
              " [31] 1.05 4.29 4.78 2.18 4.13 2.35 1.18 1.45 4.53 2.97 2.06 4.96 1.37 2.97 4.56\n",
              " [46] 1.96 2.31 3.56 3.99 4.65 3.90 2.67 2.57 4.09 2.41 2.92 1.56 1.82 1.65 2.93\n",
              " [61] 1.11 4.37 2.34 3.95 2.57 4.18 4.71 4.10 4.22 4.18 2.66 3.25 4.67 3.76 3.19\n",
              " [76] 3.47 4.75 2.88 1.87 3.28 1.41 3.03 4.97 1.83 3.90 3.48 4.15 3.62 4.04 4.37\n",
              " [91] 2.92 3.10 4.97 1.47 2.56 2.45 2.84 3.28 3.35 3.06"
            ]
          },
          "metadata": {}
        }
      ]
    },
    {
      "cell_type": "code",
      "source": [
        "# Plot\n",
        "plot(x)"
      ],
      "metadata": {
        "colab": {
          "base_uri": "https://localhost:8080/",
          "height": 437
        },
        "id": "BWHMMGU7dmah",
        "outputId": "1e196eea-9a8f-44c3-d936-b659141b4947"
      },
      "execution_count": 119,
      "outputs": [
        {
          "output_type": "display_data",
          "data": {
            "text/plain": [
              "plot without title"
            ],
            "image/png": "[encoded data removed]"
          },
          "metadata": {
            "image/png": {
              "width": 420,
              "height": 420
            }
          }
        }
      ]
    },
    {
      "cell_type": "code",
      "source": [
        "# Title in Plot\n",
        "plot(x, main = \"Plot of x against index 1, 2, ..., length(x)\")\n"
      ],
      "metadata": {
        "colab": {
          "base_uri": "https://localhost:8080/",
          "height": 437
        },
        "id": "g8QUQY50dnb6",
        "outputId": "85174c43-71ec-4c31-c85a-f07c754b0ae9"
      },
      "execution_count": 120,
      "outputs": [
        {
          "output_type": "display_data",
          "data": {
            "text/plain": [
              "Plot with title “Plot of x against index 1, 2, ..., length(x)”"
            ],
            "image/png": "[encoded data removed]"
          },
          "metadata": {
            "image/png": {
              "width": 420,
              "height": 420
            }
          }
        }
      ]
    },
    {
      "cell_type": "code",
      "source": [
        "# X,Y Labels\n",
        "plot(x, main = \"Plot of x against index 1, 2, ..., length(x)\", xlab = \"X Axis\", ylab=\"Y Axis\")"
      ],
      "metadata": {
        "colab": {
          "base_uri": "https://localhost:8080/",
          "height": 437
        },
        "id": "eLEpS_bedoNv",
        "outputId": "76815708-8d88-4ae5-adca-cf8761a5f061"
      },
      "execution_count": 121,
      "outputs": [
        {
          "output_type": "display_data",
          "data": {
            "text/plain": [
              "Plot with title “Plot of x against index 1, 2, ..., length(x)”"
            ],
            "image/png": "[encoded data removed]"
          },
          "metadata": {
            "image/png": {
              "width": 420,
              "height": 420
            }
          }
        }
      ]
    },
    {
      "cell_type": "markdown",
      "source": [
        "---\n",
        "## **4.2 Bivariate Plot**\n",
        "---"
      ],
      "metadata": {
        "id": "VVUc7MDpgIo3"
      }
    },
    {
      "cell_type": "code",
      "source": [
        "# Bivariate 'scatter plot' of y vs x\n",
        "y <- x^2 + runif(100)\n",
        "plot(x, y, main = \"Bivariate 'scatter plot' of y vs x\")"
      ],
      "metadata": {
        "colab": {
          "base_uri": "https://localhost:8080/",
          "height": 437
        },
        "id": "aTmnfhNZgD5e",
        "outputId": "4bfbd35e-bba4-433a-a4e9-9482bb44395f"
      },
      "execution_count": 122,
      "outputs": [
        {
          "output_type": "display_data",
          "data": {
            "text/plain": [
              "Plot with title “Bivariate 'scatter plot' of y vs x”"
            ],
            "image/png": "[encoded data removed]"
          },
          "metadata": {
            "image/png": {
              "width": 420,
              "height": 420
            }
          }
        }
      ]
    },
    {
      "cell_type": "markdown",
      "source": [
        "---\n",
        "## **4.3 Saving the Plot**\n",
        "---"
      ],
      "metadata": {
        "id": "Q1-97_ABgsWD"
      }
    },
    {
      "cell_type": "code",
      "source": [
        "# Saving the Plot to a file\n",
        "getwd()   # Get the Current Working Directory, Similar to pwd in linux\n",
        "png(filename=\"MyPlot.png\")\n",
        "plot(x, y, main = \"Bivariate 'scatter plot' of y vs x\",xlab = \"X Axis\", ylab=\"Y Axis\")\n",
        "dev.off()\n",
        "# Go to the path and check for file"
      ],
      "metadata": {
        "colab": {
          "base_uri": "https://localhost:8080/",
          "height": 52
        },
        "outputId": "5222a389-f619-4ce9-f51f-01bd7ffa238a",
        "id": "nPOG3XJsgsWF"
      },
      "execution_count": 123,
      "outputs": [
        {
          "output_type": "display_data",
          "data": {
            "text/html": [
              "'/content'"
            ],
            "text/markdown": "'/content'",
            "text/latex": "'/content'",
            "text/plain": [
              "[1] \"/content\""
            ]
          },
          "metadata": {}
        },
        {
          "output_type": "display_data",
          "data": {
            "text/html": [
              "<strong>png:</strong> 2"
            ],
            "text/markdown": "**png:** 2",
            "text/latex": "\\textbf{png:} 2",
            "text/plain": [
              "png \n",
              "  2 "
            ]
          },
          "metadata": {}
        }
      ]
    },
    {
      "cell_type": "markdown",
      "source": [
        "---\n",
        "## **4.4 Other Plots**\n",
        "---"
      ],
      "metadata": {
        "id": "vMQamf8vhQtj"
      }
    },
    {
      "cell_type": "code",
      "source": [
        "z1 <- list(x = x, y = y)\n",
        "z1\n",
        "class(z1)"
      ],
      "metadata": {
        "colab": {
          "base_uri": "https://localhost:8080/",
          "height": 392
        },
        "outputId": "fedbe014-f161-465e-ee5e-86ee1512d4a3",
        "id": "l4wviAT-hQtm"
      },
      "execution_count": 124,
      "outputs": [
        {
          "output_type": "display_data",
          "data": {
            "text/html": [
              "<dl>\n",
              "\t<dt>$x</dt>\n",
              "\t\t<dd><style>\n",
              ".list-inline {list-style: none; margin:0; padding: 0}\n",
              ".list-inline>li {display: inline-block}\n",
              ".list-inline>li:not(:last-child)::after {content: \"\\00b7\"; padding: 0 .5ex}\n",
              "</style>\n",
              "<ol class=list-inline><li>2.14</li><li>1.2</li><li>4.23</li><li>1.75</li><li>1.45</li><li>3.61</li><li>2.16</li><li>4.37</li><li>3.87</li><li>2.29</li><li>4.54</li><li>2.04</li><li>2.43</li><li>4.74</li><li>2.63</li><li>3.22</li><li>2.79</li><li>3.98</li><li>2.84</li><li>3.28</li><li>2.55</li><li>2.07</li><li>1.13</li><li>3.49</li><li>3.51</li><li>3.49</li><li>4.1</li><li>1.48</li><li>3.98</li><li>2.2</li><li>1.05</li><li>4.29</li><li>4.78</li><li>2.18</li><li>4.13</li><li>2.35</li><li>1.18</li><li>1.45</li><li>4.53</li><li>2.97</li><li>2.06</li><li>4.96</li><li>1.37</li><li>2.97</li><li>4.56</li><li>1.96</li><li>2.31</li><li>3.56</li><li>3.99</li><li>4.65</li><li>3.9</li><li>2.67</li><li>2.57</li><li>4.09</li><li>2.41</li><li>2.92</li><li>1.56</li><li>1.82</li><li>1.65</li><li>2.93</li><li>1.11</li><li>4.37</li><li>2.34</li><li>3.95</li><li>2.57</li><li>4.18</li><li>4.71</li><li>4.1</li><li>4.22</li><li>4.18</li><li>2.66</li><li>3.25</li><li>4.67</li><li>3.76</li><li>3.19</li><li>3.47</li><li>4.75</li><li>2.88</li><li>1.87</li><li>3.28</li><li>1.41</li><li>3.03</li><li>4.97</li><li>1.83</li><li>3.9</li><li>3.48</li><li>4.15</li><li>3.62</li><li>4.04</li><li>4.37</li><li>2.92</li><li>3.1</li><li>4.97</li><li>1.47</li><li>2.56</li><li>2.45</li><li>2.84</li><li>3.28</li><li>3.35</li><li>3.06</li></ol>\n",
              "</dd>\n",
              "\t<dt>$y</dt>\n",
              "\t\t<dd><style>\n",
              ".list-inline {list-style: none; margin:0; padding: 0}\n",
              ".list-inline>li {display: inline-block}\n",
              ".list-inline>li:not(:last-child)::after {content: \"\\00b7\"; padding: 0 .5ex}\n",
              "</style>\n",
              "<ol class=list-inline><li>4.86752219492607</li><li>2.16444610670209</li><li>18.1775058260184</li><li>3.09904889040627</li><li>2.38888575715013</li><li>13.2090902044907</li><li>5.49907339020111</li><li>19.5332293973729</li><li>15.0866628697753</li><li>5.83454514852576</li><li>21.5104568738569</li><li>4.44805974793471</li><li>5.93286413796023</li><li>22.8551496322289</li><li>7.18705972370282</li><li>11.2366119038422</li><li>8.0096287237931</li><li>16.6421367303837</li><li>8.24113245578893</li><li>11.6520329130083</li><li>7.46660695067607</li><li>5.19981986159235</li><li>2.22630930651501</li><li>12.3247158539038</li><li>12.4154830045182</li><li>12.2048544446029</li><li>17.0785024831444</li><li>2.72411749445796</li><li>16.2827468336463</li><li>5.35374241244048</li><li>1.10851068022661</li><li>18.8782764771752</li><li>22.9006999884561</li><li>5.02370215778016</li><li>17.2356678191904</li><li>6.08771835410968</li><li>1.87302495538034</li><li>2.94313853370026</li><li>21.2039918337218</li><li>9.08394086623714</li><li>4.74274058297873</li><li>25.5652069871485</li><li>2.05673811860904</li><li>9.62826284283921</li><li>20.7954204196822</li><li>4.13591208362803</li><li>6.23004636452198</li><li>13.4458951711621</li><li>16.1999668376636</li><li>21.9749444096256</li><li>15.2389897986222</li><li>7.6180160398256</li><li>7.52928699887134</li><li>16.844804546148</li><li>5.92422160247751</li><li>9.51344250366427</li><li>2.98773365550339</li><li>3.89576423151195</li><li>3.45950006655417</li><li>8.82288799770884</li><li>1.77019527819976</li><li>19.67646097438</li><li>5.67048345971331</li><li>15.9360713297129</li><li>6.89136208718419</li><li>17.5993900933839</li><li>22.4822142918579</li><li>17.6565614926536</li><li>17.8281920321953</li><li>18.1237563839253</li><li>7.08315415624008</li><li>10.8312466086354</li><li>22.103084184866</li><li>14.7089750815485</li><li>10.8088255363576</li><li>12.3665888019387</li><li>23.1222596508451</li><li>8.85359281253591</li><li>4.41025649113171</li><li>10.9760707820035</li><li>2.7715666671697</li><li>9.88318776358999</li><li>24.8699038002562</li><li>3.71375450156033</li><li>16.1727307341434</li><li>12.9686055736333</li><li>17.6673724628892</li><li>13.219150895882</li><li>16.7378355349399</li><li>19.8456082045991</li><li>9.06280316263772</li><li>10.4719893819559</li><li>25.3944905104037</li><li>2.32871081166118</li><li>7.31466774690561</li><li>6.23390651918948</li><li>8.45669170739539</li><li>11.4700193047259</li><li>11.8221429075021</li><li>9.84526845436208</li></ol>\n",
              "</dd>\n",
              "</dl>\n"
            ],
            "text/markdown": "$x\n:   1. 2.14\n2. 1.2\n3. 4.23\n4. 1.75\n5. 1.45\n6. 3.61\n7. 2.16\n8. 4.37\n9. 3.87\n10. 2.29\n11. 4.54\n12. 2.04\n13. 2.43\n14. 4.74\n15. 2.63\n16. 3.22\n17. 2.79\n18. 3.98\n19. 2.84\n20. 3.28\n21. 2.55\n22. 2.07\n23. 1.13\n24. 3.49\n25. 3.51\n26. 3.49\n27. 4.1\n28. 1.48\n29. 3.98\n30. 2.2\n31. 1.05\n32. 4.29\n33. 4.78\n34. 2.18\n35. 4.13\n36. 2.35\n37. 1.18\n38. 1.45\n39. 4.53\n40. 2.97\n41. 2.06\n42. 4.96\n43. 1.37\n44. 2.97\n45. 4.56\n46. 1.96\n47. 2.31\n48. 3.56\n49. 3.99\n50. 4.65\n51. 3.9\n52. 2.67\n53. 2.57\n54. 4.09\n55. 2.41\n56. 2.92\n57. 1.56\n58. 1.82\n59. 1.65\n60. 2.93\n61. 1.11\n62. 4.37\n63. 2.34\n64. 3.95\n65. 2.57\n66. 4.18\n67. 4.71\n68. 4.1\n69. 4.22\n70. 4.18\n71. 2.66\n72. 3.25\n73. 4.67\n74. 3.76\n75. 3.19\n76. 3.47\n77. 4.75\n78. 2.88\n79. 1.87\n80. 3.28\n81. 1.41\n82. 3.03\n83. 4.97\n84. 1.83\n85. 3.9\n86. 3.48\n87. 4.15\n88. 3.62\n89. 4.04\n90. 4.37\n91. 2.92\n92. 3.1\n93. 4.97\n94. 1.47\n95. 2.56\n96. 2.45\n97. 2.84\n98. 3.28\n99. 3.35\n100. 3.06\n\n\n\n$y\n:   1. 4.86752219492607\n2. 2.16444610670209\n3. 18.1775058260184\n4. 3.09904889040627\n5. 2.38888575715013\n6. 13.2090902044907\n7. 5.49907339020111\n8. 19.5332293973729\n9. 15.0866628697753\n10. 5.83454514852576\n11. 21.5104568738569\n12. 4.44805974793471\n13. 5.93286413796023\n14. 22.8551496322289\n15. 7.18705972370282\n16. 11.2366119038422\n17. 8.0096287237931\n18. 16.6421367303837\n19. 8.24113245578893\n20. 11.6520329130083\n21. 7.46660695067607\n22. 5.19981986159235\n23. 2.22630930651501\n24. 12.3247158539038\n25. 12.4154830045182\n26. 12.2048544446029\n27. 17.0785024831444\n28. 2.72411749445796\n29. 16.2827468336463\n30. 5.35374241244048\n31. 1.10851068022661\n32. 18.8782764771752\n33. 22.9006999884561\n34. 5.02370215778016\n35. 17.2356678191904\n36. 6.08771835410968\n37. 1.87302495538034\n38. 2.94313853370026\n39. 21.2039918337218\n40. 9.08394086623714\n41. 4.74274058297873\n42. 25.5652069871485\n43. 2.05673811860904\n44. 9.62826284283921\n45. 20.7954204196822\n46. 4.13591208362803\n47. 6.23004636452198\n48. 13.4458951711621\n49. 16.1999668376636\n50. 21.9749444096256\n51. 15.2389897986222\n52. 7.6180160398256\n53. 7.52928699887134\n54. 16.844804546148\n55. 5.92422160247751\n56. 9.51344250366427\n57. 2.98773365550339\n58. 3.89576423151195\n59. 3.45950006655417\n60. 8.82288799770884\n61. 1.77019527819976\n62. 19.67646097438\n63. 5.67048345971331\n64. 15.9360713297129\n65. 6.89136208718419\n66. 17.5993900933839\n67. 22.4822142918579\n68. 17.6565614926536\n69. 17.8281920321953\n70. 18.1237563839253\n71. 7.08315415624008\n72. 10.8312466086354\n73. 22.103084184866\n74. 14.7089750815485\n75. 10.8088255363576\n76. 12.3665888019387\n77. 23.1222596508451\n78. 8.85359281253591\n79. 4.41025649113171\n80. 10.9760707820035\n81. 2.7715666671697\n82. 9.88318776358999\n83. 24.8699038002562\n84. 3.71375450156033\n85. 16.1727307341434\n86. 12.9686055736333\n87. 17.6673724628892\n88. 13.219150895882\n89. 16.7378355349399\n90. 19.8456082045991\n91. 9.06280316263772\n92. 10.4719893819559\n93. 25.3944905104037\n94. 2.32871081166118\n95. 7.31466774690561\n96. 6.23390651918948\n97. 8.45669170739539\n98. 11.4700193047259\n99. 11.8221429075021\n100. 9.84526845436208\n\n\n\n\n\n",
            "text/latex": "\\begin{description}\n\\item[\\$x] \\begin{enumerate*}\n\\item 2.14\n\\item 1.2\n\\item 4.23\n\\item 1.75\n\\item 1.45\n\\item 3.61\n\\item 2.16\n\\item 4.37\n\\item 3.87\n\\item 2.29\n\\item 4.54\n\\item 2.04\n\\item 2.43\n\\item 4.74\n\\item 2.63\n\\item 3.22\n\\item 2.79\n\\item 3.98\n\\item 2.84\n\\item 3.28\n\\item 2.55\n\\item 2.07\n\\item 1.13\n\\item 3.49\n\\item 3.51\n\\item 3.49\n\\item 4.1\n\\item 1.48\n\\item 3.98\n\\item 2.2\n\\item 1.05\n\\item 4.29\n\\item 4.78\n\\item 2.18\n\\item 4.13\n\\item 2.35\n\\item 1.18\n\\item 1.45\n\\item 4.53\n\\item 2.97\n\\item 2.06\n\\item 4.96\n\\item 1.37\n\\item 2.97\n\\item 4.56\n\\item 1.96\n\\item 2.31\n\\item 3.56\n\\item 3.99\n\\item 4.65\n\\item 3.9\n\\item 2.67\n\\item 2.57\n\\item 4.09\n\\item 2.41\n\\item 2.92\n\\item 1.56\n\\item 1.82\n\\item 1.65\n\\item 2.93\n\\item 1.11\n\\item 4.37\n\\item 2.34\n\\item 3.95\n\\item 2.57\n\\item 4.18\n\\item 4.71\n\\item 4.1\n\\item 4.22\n\\item 4.18\n\\item 2.66\n\\item 3.25\n\\item 4.67\n\\item 3.76\n\\item 3.19\n\\item 3.47\n\\item 4.75\n\\item 2.88\n\\item 1.87\n\\item 3.28\n\\item 1.41\n\\item 3.03\n\\item 4.97\n\\item 1.83\n\\item 3.9\n\\item 3.48\n\\item 4.15\n\\item 3.62\n\\item 4.04\n\\item 4.37\n\\item 2.92\n\\item 3.1\n\\item 4.97\n\\item 1.47\n\\item 2.56\n\\item 2.45\n\\item 2.84\n\\item 3.28\n\\item 3.35\n\\item 3.06\n\\end{enumerate*}\n\n\\item[\\$y] \\begin{enumerate*}\n\\item 4.86752219492607\n\\item 2.16444610670209\n\\item 18.1775058260184\n\\item 3.09904889040627\n\\item 2.38888575715013\n\\item 13.2090902044907\n\\item 5.49907339020111\n\\item 19.5332293973729\n\\item 15.0866628697753\n\\item 5.83454514852576\n\\item 21.5104568738569\n\\item 4.44805974793471\n\\item 5.93286413796023\n\\item 22.8551496322289\n\\item 7.18705972370282\n\\item 11.2366119038422\n\\item 8.0096287237931\n\\item 16.6421367303837\n\\item 8.24113245578893\n\\item 11.6520329130083\n\\item 7.46660695067607\n\\item 5.19981986159235\n\\item 2.22630930651501\n\\item 12.3247158539038\n\\item 12.4154830045182\n\\item 12.2048544446029\n\\item 17.0785024831444\n\\item 2.72411749445796\n\\item 16.2827468336463\n\\item 5.35374241244048\n\\item 1.10851068022661\n\\item 18.8782764771752\n\\item 22.9006999884561\n\\item 5.02370215778016\n\\item 17.2356678191904\n\\item 6.08771835410968\n\\item 1.87302495538034\n\\item 2.94313853370026\n\\item 21.2039918337218\n\\item 9.08394086623714\n\\item 4.74274058297873\n\\item 25.5652069871485\n\\item 2.05673811860904\n\\item 9.62826284283921\n\\item 20.7954204196822\n\\item 4.13591208362803\n\\item 6.23004636452198\n\\item 13.4458951711621\n\\item 16.1999668376636\n\\item 21.9749444096256\n\\item 15.2389897986222\n\\item 7.6180160398256\n\\item 7.52928699887134\n\\item 16.844804546148\n\\item 5.92422160247751\n\\item 9.51344250366427\n\\item 2.98773365550339\n\\item 3.89576423151195\n\\item 3.45950006655417\n\\item 8.82288799770884\n\\item 1.77019527819976\n\\item 19.67646097438\n\\item 5.67048345971331\n\\item 15.9360713297129\n\\item 6.89136208718419\n\\item 17.5993900933839\n\\item 22.4822142918579\n\\item 17.6565614926536\n\\item 17.8281920321953\n\\item 18.1237563839253\n\\item 7.08315415624008\n\\item 10.8312466086354\n\\item 22.103084184866\n\\item 14.7089750815485\n\\item 10.8088255363576\n\\item 12.3665888019387\n\\item 23.1222596508451\n\\item 8.85359281253591\n\\item 4.41025649113171\n\\item 10.9760707820035\n\\item 2.7715666671697\n\\item 9.88318776358999\n\\item 24.8699038002562\n\\item 3.71375450156033\n\\item 16.1727307341434\n\\item 12.9686055736333\n\\item 17.6673724628892\n\\item 13.219150895882\n\\item 16.7378355349399\n\\item 19.8456082045991\n\\item 9.06280316263772\n\\item 10.4719893819559\n\\item 25.3944905104037\n\\item 2.32871081166118\n\\item 7.31466774690561\n\\item 6.23390651918948\n\\item 8.45669170739539\n\\item 11.4700193047259\n\\item 11.8221429075021\n\\item 9.84526845436208\n\\end{enumerate*}\n\n\\end{description}\n",
            "text/plain": [
              "$x\n",
              "  [1] 2.14 1.20 4.23 1.75 1.45 3.61 2.16 4.37 3.87 2.29 4.54 2.04 2.43 4.74 2.63\n",
              " [16] 3.22 2.79 3.98 2.84 3.28 2.55 2.07 1.13 3.49 3.51 3.49 4.10 1.48 3.98 2.20\n",
              " [31] 1.05 4.29 4.78 2.18 4.13 2.35 1.18 1.45 4.53 2.97 2.06 4.96 1.37 2.97 4.56\n",
              " [46] 1.96 2.31 3.56 3.99 4.65 3.90 2.67 2.57 4.09 2.41 2.92 1.56 1.82 1.65 2.93\n",
              " [61] 1.11 4.37 2.34 3.95 2.57 4.18 4.71 4.10 4.22 4.18 2.66 3.25 4.67 3.76 3.19\n",
              " [76] 3.47 4.75 2.88 1.87 3.28 1.41 3.03 4.97 1.83 3.90 3.48 4.15 3.62 4.04 4.37\n",
              " [91] 2.92 3.10 4.97 1.47 2.56 2.45 2.84 3.28 3.35 3.06\n",
              "\n",
              "$y\n",
              "  [1]  4.867522  2.164446 18.177506  3.099049  2.388886 13.209090  5.499073\n",
              "  [8] 19.533229 15.086663  5.834545 21.510457  4.448060  5.932864 22.855150\n",
              " [15]  7.187060 11.236612  8.009629 16.642137  8.241132 11.652033  7.466607\n",
              " [22]  5.199820  2.226309 12.324716 12.415483 12.204854 17.078502  2.724117\n",
              " [29] 16.282747  5.353742  1.108511 18.878276 22.900700  5.023702 17.235668\n",
              " [36]  6.087718  1.873025  2.943139 21.203992  9.083941  4.742741 25.565207\n",
              " [43]  2.056738  9.628263 20.795420  4.135912  6.230046 13.445895 16.199967\n",
              " [50] 21.974944 15.238990  7.618016  7.529287 16.844805  5.924222  9.513443\n",
              " [57]  2.987734  3.895764  3.459500  8.822888  1.770195 19.676461  5.670483\n",
              " [64] 15.936071  6.891362 17.599390 22.482214 17.656561 17.828192 18.123756\n",
              " [71]  7.083154 10.831247 22.103084 14.708975 10.808826 12.366589 23.122260\n",
              " [78]  8.853593  4.410256 10.976071  2.771567  9.883188 24.869904  3.713755\n",
              " [85] 16.172731 12.968606 17.667372 13.219151 16.737836 19.845608  9.062803\n",
              " [92] 10.471989 25.394491  2.328711  7.314668  6.233907  8.456692 11.470019\n",
              " [99] 11.822143  9.845268\n"
            ]
          },
          "metadata": {}
        },
        {
          "output_type": "display_data",
          "data": {
            "text/html": [
              "'list'"
            ],
            "text/markdown": "'list'",
            "text/latex": "'list'",
            "text/plain": [
              "[1] \"list\""
            ]
          },
          "metadata": {}
        }
      ]
    },
    {
      "cell_type": "code",
      "source": [
        "# Plot\n",
        "plot(z1)"
      ],
      "metadata": {
        "colab": {
          "base_uri": "https://localhost:8080/",
          "height": 437
        },
        "id": "4nH9C8TqhYst",
        "outputId": "3fb39941-4b04-4116-e469-3ff066b65647"
      },
      "execution_count": 125,
      "outputs": [
        {
          "output_type": "display_data",
          "data": {
            "text/plain": [
              "plot without title"
            ],
            "image/png": "[encoded data removed]"
          },
          "metadata": {
            "image/png": {
              "width": 420,
              "height": 420
            }
          }
        }
      ]
    },
    {
      "cell_type": "code",
      "source": [
        "# Variation in Plot\n",
        "plot(z1, type = \"l\")  # l is for lines\n"
      ],
      "metadata": {
        "colab": {
          "base_uri": "https://localhost:8080/",
          "height": 437
        },
        "id": "Qdbzq4DRiGa_",
        "outputId": "8ff14a36-cde2-4cc5-9ccf-c81b387e2046"
      },
      "execution_count": 126,
      "outputs": [
        {
          "output_type": "display_data",
          "data": {
            "text/plain": [
              "plot without title"
            ],
            "image/png": "[encoded data removed]"
          },
          "metadata": {
            "image/png": {
              "width": 420,
              "height": 420
            }
          }
        }
      ]
    },
    {
      "cell_type": "markdown",
      "source": [
        "---\n",
        "## **4.5 Increasing Order Plotting**\n",
        "---"
      ],
      "metadata": {
        "id": "xTGItQo7iVkQ"
      }
    },
    {
      "cell_type": "code",
      "source": [
        "# Generate ording\n",
        "print(x)\n",
        "ord <- order(x)\n",
        "print(ord)"
      ],
      "metadata": {
        "colab": {
          "base_uri": "https://localhost:8080/"
        },
        "id": "pTGg0ARmiVG6",
        "outputId": "5c4c3696-0bf3-4d20-a04d-95cfbe7e48dc"
      },
      "execution_count": 127,
      "outputs": [
        {
          "output_type": "stream",
          "name": "stdout",
          "text": [
            "  [1] 2.14 1.20 4.23 1.75 1.45 3.61 2.16 4.37 3.87 2.29 4.54 2.04 2.43 4.74 2.63\n",
            " [16] 3.22 2.79 3.98 2.84 3.28 2.55 2.07 1.13 3.49 3.51 3.49 4.10 1.48 3.98 2.20\n",
            " [31] 1.05 4.29 4.78 2.18 4.13 2.35 1.18 1.45 4.53 2.97 2.06 4.96 1.37 2.97 4.56\n",
            " [46] 1.96 2.31 3.56 3.99 4.65 3.90 2.67 2.57 4.09 2.41 2.92 1.56 1.82 1.65 2.93\n",
            " [61] 1.11 4.37 2.34 3.95 2.57 4.18 4.71 4.10 4.22 4.18 2.66 3.25 4.67 3.76 3.19\n",
            " [76] 3.47 4.75 2.88 1.87 3.28 1.41 3.03 4.97 1.83 3.90 3.48 4.15 3.62 4.04 4.37\n",
            " [91] 2.92 3.10 4.97 1.47 2.56 2.45 2.84 3.28 3.35 3.06\n",
            "  [1]  31  61  23  37   2  43  81   5  38  94  28  57  59   4  58  84  79  46\n",
            " [19]  12  41  22   1   7  34  30  10  47  63  36  55  13  96  21  95  53  65\n",
            " [37]  15  71  52  17  19  97  78  56  91  60  40  44  82 100  92  75  16  72\n",
            " [55]  20  80  98  99  76  86  24  26  25  48   6  88  74   9  51  85  64  18\n",
            " [73]  29  49  89  54  27  68  35  87  66  70  69   3  32   8  62  90  39  11\n",
            " [91]  45  50  73  67  14  77  33  42  83  93\n"
          ]
        }
      ]
    },
    {
      "cell_type": "code",
      "source": [
        "# Merge x, y\n",
        "z <- list(x = x[ord], y = y[ord])\n",
        "z"
      ],
      "metadata": {
        "colab": {
          "base_uri": "https://localhost:8080/",
          "height": 375
        },
        "id": "yOnahCRLitOb",
        "outputId": "4b104267-69eb-4354-b872-63c3a0023da5"
      },
      "execution_count": 128,
      "outputs": [
        {
          "output_type": "display_data",
          "data": {
            "text/html": [
              "<dl>\n",
              "\t<dt>$x</dt>\n",
              "\t\t<dd><style>\n",
              ".list-inline {list-style: none; margin:0; padding: 0}\n",
              ".list-inline>li {display: inline-block}\n",
              ".list-inline>li:not(:last-child)::after {content: \"\\00b7\"; padding: 0 .5ex}\n",
              "</style>\n",
              "<ol class=list-inline><li>1.05</li><li>1.11</li><li>1.13</li><li>1.18</li><li>1.2</li><li>1.37</li><li>1.41</li><li>1.45</li><li>1.45</li><li>1.47</li><li>1.48</li><li>1.56</li><li>1.65</li><li>1.75</li><li>1.82</li><li>1.83</li><li>1.87</li><li>1.96</li><li>2.04</li><li>2.06</li><li>2.07</li><li>2.14</li><li>2.16</li><li>2.18</li><li>2.2</li><li>2.29</li><li>2.31</li><li>2.34</li><li>2.35</li><li>2.41</li><li>2.43</li><li>2.45</li><li>2.55</li><li>2.56</li><li>2.57</li><li>2.57</li><li>2.63</li><li>2.66</li><li>2.67</li><li>2.79</li><li>2.84</li><li>2.84</li><li>2.88</li><li>2.92</li><li>2.92</li><li>2.93</li><li>2.97</li><li>2.97</li><li>3.03</li><li>3.06</li><li>3.1</li><li>3.19</li><li>3.22</li><li>3.25</li><li>3.28</li><li>3.28</li><li>3.28</li><li>3.35</li><li>3.47</li><li>3.48</li><li>3.49</li><li>3.49</li><li>3.51</li><li>3.56</li><li>3.61</li><li>3.62</li><li>3.76</li><li>3.87</li><li>3.9</li><li>3.9</li><li>3.95</li><li>3.98</li><li>3.98</li><li>3.99</li><li>4.04</li><li>4.09</li><li>4.1</li><li>4.1</li><li>4.13</li><li>4.15</li><li>4.18</li><li>4.18</li><li>4.22</li><li>4.23</li><li>4.29</li><li>4.37</li><li>4.37</li><li>4.37</li><li>4.53</li><li>4.54</li><li>4.56</li><li>4.65</li><li>4.67</li><li>4.71</li><li>4.74</li><li>4.75</li><li>4.78</li><li>4.96</li><li>4.97</li><li>4.97</li></ol>\n",
              "</dd>\n",
              "\t<dt>$y</dt>\n",
              "\t\t<dd><style>\n",
              ".list-inline {list-style: none; margin:0; padding: 0}\n",
              ".list-inline>li {display: inline-block}\n",
              ".list-inline>li:not(:last-child)::after {content: \"\\00b7\"; padding: 0 .5ex}\n",
              "</style>\n",
              "<ol class=list-inline><li>1.10851068022661</li><li>1.77019527819976</li><li>2.22630930651501</li><li>1.87302495538034</li><li>2.16444610670209</li><li>2.05673811860904</li><li>2.7715666671697</li><li>2.38888575715013</li><li>2.94313853370026</li><li>2.32871081166118</li><li>2.72411749445796</li><li>2.98773365550339</li><li>3.45950006655417</li><li>3.09904889040627</li><li>3.89576423151195</li><li>3.71375450156033</li><li>4.41025649113171</li><li>4.13591208362803</li><li>4.44805974793471</li><li>4.74274058297873</li><li>5.19981986159235</li><li>4.86752219492607</li><li>5.49907339020111</li><li>5.02370215778016</li><li>5.35374241244048</li><li>5.83454514852576</li><li>6.23004636452198</li><li>5.67048345971331</li><li>6.08771835410968</li><li>5.92422160247751</li><li>5.93286413796023</li><li>6.23390651918948</li><li>7.46660695067607</li><li>7.31466774690561</li><li>7.52928699887134</li><li>6.89136208718419</li><li>7.18705972370282</li><li>7.08315415624008</li><li>7.6180160398256</li><li>8.0096287237931</li><li>8.24113245578893</li><li>8.45669170739539</li><li>8.85359281253591</li><li>9.51344250366427</li><li>9.06280316263772</li><li>8.82288799770884</li><li>9.08394086623714</li><li>9.62826284283921</li><li>9.88318776358999</li><li>9.84526845436208</li><li>10.4719893819559</li><li>10.8088255363576</li><li>11.2366119038422</li><li>10.8312466086354</li><li>11.6520329130083</li><li>10.9760707820035</li><li>11.4700193047259</li><li>11.8221429075021</li><li>12.3665888019387</li><li>12.9686055736333</li><li>12.3247158539038</li><li>12.2048544446029</li><li>12.4154830045182</li><li>13.4458951711621</li><li>13.2090902044907</li><li>13.219150895882</li><li>14.7089750815485</li><li>15.0866628697753</li><li>15.2389897986222</li><li>16.1727307341434</li><li>15.9360713297129</li><li>16.6421367303837</li><li>16.2827468336463</li><li>16.1999668376636</li><li>16.7378355349399</li><li>16.844804546148</li><li>17.0785024831444</li><li>17.6565614926536</li><li>17.2356678191904</li><li>17.6673724628892</li><li>17.5993900933839</li><li>18.1237563839253</li><li>17.8281920321953</li><li>18.1775058260184</li><li>18.8782764771752</li><li>19.5332293973729</li><li>19.67646097438</li><li>19.8456082045991</li><li>21.2039918337218</li><li>21.5104568738569</li><li>20.7954204196822</li><li>21.9749444096256</li><li>22.103084184866</li><li>22.4822142918579</li><li>22.8551496322289</li><li>23.1222596508451</li><li>22.9006999884561</li><li>25.5652069871485</li><li>24.8699038002562</li><li>25.3944905104037</li></ol>\n",
              "</dd>\n",
              "</dl>\n"
            ],
            "text/markdown": "$x\n:   1. 1.05\n2. 1.11\n3. 1.13\n4. 1.18\n5. 1.2\n6. 1.37\n7. 1.41\n8. 1.45\n9. 1.45\n10. 1.47\n11. 1.48\n12. 1.56\n13. 1.65\n14. 1.75\n15. 1.82\n16. 1.83\n17. 1.87\n18. 1.96\n19. 2.04\n20. 2.06\n21. 2.07\n22. 2.14\n23. 2.16\n24. 2.18\n25. 2.2\n26. 2.29\n27. 2.31\n28. 2.34\n29. 2.35\n30. 2.41\n31. 2.43\n32. 2.45\n33. 2.55\n34. 2.56\n35. 2.57\n36. 2.57\n37. 2.63\n38. 2.66\n39. 2.67\n40. 2.79\n41. 2.84\n42. 2.84\n43. 2.88\n44. 2.92\n45. 2.92\n46. 2.93\n47. 2.97\n48. 2.97\n49. 3.03\n50. 3.06\n51. 3.1\n52. 3.19\n53. 3.22\n54. 3.25\n55. 3.28\n56. 3.28\n57. 3.28\n58. 3.35\n59. 3.47\n60. 3.48\n61. 3.49\n62. 3.49\n63. 3.51\n64. 3.56\n65. 3.61\n66. 3.62\n67. 3.76\n68. 3.87\n69. 3.9\n70. 3.9\n71. 3.95\n72. 3.98\n73. 3.98\n74. 3.99\n75. 4.04\n76. 4.09\n77. 4.1\n78. 4.1\n79. 4.13\n80. 4.15\n81. 4.18\n82. 4.18\n83. 4.22\n84. 4.23\n85. 4.29\n86. 4.37\n87. 4.37\n88. 4.37\n89. 4.53\n90. 4.54\n91. 4.56\n92. 4.65\n93. 4.67\n94. 4.71\n95. 4.74\n96. 4.75\n97. 4.78\n98. 4.96\n99. 4.97\n100. 4.97\n\n\n\n$y\n:   1. 1.10851068022661\n2. 1.77019527819976\n3. 2.22630930651501\n4. 1.87302495538034\n5. 2.16444610670209\n6. 2.05673811860904\n7. 2.7715666671697\n8. 2.38888575715013\n9. 2.94313853370026\n10. 2.32871081166118\n11. 2.72411749445796\n12. 2.98773365550339\n13. 3.45950006655417\n14. 3.09904889040627\n15. 3.89576423151195\n16. 3.71375450156033\n17. 4.41025649113171\n18. 4.13591208362803\n19. 4.44805974793471\n20. 4.74274058297873\n21. 5.19981986159235\n22. 4.86752219492607\n23. 5.49907339020111\n24. 5.02370215778016\n25. 5.35374241244048\n26. 5.83454514852576\n27. 6.23004636452198\n28. 5.67048345971331\n29. 6.08771835410968\n30. 5.92422160247751\n31. 5.93286413796023\n32. 6.23390651918948\n33. 7.46660695067607\n34. 7.31466774690561\n35. 7.52928699887134\n36. 6.89136208718419\n37. 7.18705972370282\n38. 7.08315415624008\n39. 7.6180160398256\n40. 8.0096287237931\n41. 8.24113245578893\n42. 8.45669170739539\n43. 8.85359281253591\n44. 9.51344250366427\n45. 9.06280316263772\n46. 8.82288799770884\n47. 9.08394086623714\n48. 9.62826284283921\n49. 9.88318776358999\n50. 9.84526845436208\n51. 10.4719893819559\n52. 10.8088255363576\n53. 11.2366119038422\n54. 10.8312466086354\n55. 11.6520329130083\n56. 10.9760707820035\n57. 11.4700193047259\n58. 11.8221429075021\n59. 12.3665888019387\n60. 12.9686055736333\n61. 12.3247158539038\n62. 12.2048544446029\n63. 12.4154830045182\n64. 13.4458951711621\n65. 13.2090902044907\n66. 13.219150895882\n67. 14.7089750815485\n68. 15.0866628697753\n69. 15.2389897986222\n70. 16.1727307341434\n71. 15.9360713297129\n72. 16.6421367303837\n73. 16.2827468336463\n74. 16.1999668376636\n75. 16.7378355349399\n76. 16.844804546148\n77. 17.0785024831444\n78. 17.6565614926536\n79. 17.2356678191904\n80. 17.6673724628892\n81. 17.5993900933839\n82. 18.1237563839253\n83. 17.8281920321953\n84. 18.1775058260184\n85. 18.8782764771752\n86. 19.5332293973729\n87. 19.67646097438\n88. 19.8456082045991\n89. 21.2039918337218\n90. 21.5104568738569\n91. 20.7954204196822\n92. 21.9749444096256\n93. 22.103084184866\n94. 22.4822142918579\n95. 22.8551496322289\n96. 23.1222596508451\n97. 22.9006999884561\n98. 25.5652069871485\n99. 24.8699038002562\n100. 25.3944905104037\n\n\n\n\n\n",
            "text/latex": "\\begin{description}\n\\item[\\$x] \\begin{enumerate*}\n\\item 1.05\n\\item 1.11\n\\item 1.13\n\\item 1.18\n\\item 1.2\n\\item 1.37\n\\item 1.41\n\\item 1.45\n\\item 1.45\n\\item 1.47\n\\item 1.48\n\\item 1.56\n\\item 1.65\n\\item 1.75\n\\item 1.82\n\\item 1.83\n\\item 1.87\n\\item 1.96\n\\item 2.04\n\\item 2.06\n\\item 2.07\n\\item 2.14\n\\item 2.16\n\\item 2.18\n\\item 2.2\n\\item 2.29\n\\item 2.31\n\\item 2.34\n\\item 2.35\n\\item 2.41\n\\item 2.43\n\\item 2.45\n\\item 2.55\n\\item 2.56\n\\item 2.57\n\\item 2.57\n\\item 2.63\n\\item 2.66\n\\item 2.67\n\\item 2.79\n\\item 2.84\n\\item 2.84\n\\item 2.88\n\\item 2.92\n\\item 2.92\n\\item 2.93\n\\item 2.97\n\\item 2.97\n\\item 3.03\n\\item 3.06\n\\item 3.1\n\\item 3.19\n\\item 3.22\n\\item 3.25\n\\item 3.28\n\\item 3.28\n\\item 3.28\n\\item 3.35\n\\item 3.47\n\\item 3.48\n\\item 3.49\n\\item 3.49\n\\item 3.51\n\\item 3.56\n\\item 3.61\n\\item 3.62\n\\item 3.76\n\\item 3.87\n\\item 3.9\n\\item 3.9\n\\item 3.95\n\\item 3.98\n\\item 3.98\n\\item 3.99\n\\item 4.04\n\\item 4.09\n\\item 4.1\n\\item 4.1\n\\item 4.13\n\\item 4.15\n\\item 4.18\n\\item 4.18\n\\item 4.22\n\\item 4.23\n\\item 4.29\n\\item 4.37\n\\item 4.37\n\\item 4.37\n\\item 4.53\n\\item 4.54\n\\item 4.56\n\\item 4.65\n\\item 4.67\n\\item 4.71\n\\item 4.74\n\\item 4.75\n\\item 4.78\n\\item 4.96\n\\item 4.97\n\\item 4.97\n\\end{enumerate*}\n\n\\item[\\$y] \\begin{enumerate*}\n\\item 1.10851068022661\n\\item 1.77019527819976\n\\item 2.22630930651501\n\\item 1.87302495538034\n\\item 2.16444610670209\n\\item 2.05673811860904\n\\item 2.7715666671697\n\\item 2.38888575715013\n\\item 2.94313853370026\n\\item 2.32871081166118\n\\item 2.72411749445796\n\\item 2.98773365550339\n\\item 3.45950006655417\n\\item 3.09904889040627\n\\item 3.89576423151195\n\\item 3.71375450156033\n\\item 4.41025649113171\n\\item 4.13591208362803\n\\item 4.44805974793471\n\\item 4.74274058297873\n\\item 5.19981986159235\n\\item 4.86752219492607\n\\item 5.49907339020111\n\\item 5.02370215778016\n\\item 5.35374241244048\n\\item 5.83454514852576\n\\item 6.23004636452198\n\\item 5.67048345971331\n\\item 6.08771835410968\n\\item 5.92422160247751\n\\item 5.93286413796023\n\\item 6.23390651918948\n\\item 7.46660695067607\n\\item 7.31466774690561\n\\item 7.52928699887134\n\\item 6.89136208718419\n\\item 7.18705972370282\n\\item 7.08315415624008\n\\item 7.6180160398256\n\\item 8.0096287237931\n\\item 8.24113245578893\n\\item 8.45669170739539\n\\item 8.85359281253591\n\\item 9.51344250366427\n\\item 9.06280316263772\n\\item 8.82288799770884\n\\item 9.08394086623714\n\\item 9.62826284283921\n\\item 9.88318776358999\n\\item 9.84526845436208\n\\item 10.4719893819559\n\\item 10.8088255363576\n\\item 11.2366119038422\n\\item 10.8312466086354\n\\item 11.6520329130083\n\\item 10.9760707820035\n\\item 11.4700193047259\n\\item 11.8221429075021\n\\item 12.3665888019387\n\\item 12.9686055736333\n\\item 12.3247158539038\n\\item 12.2048544446029\n\\item 12.4154830045182\n\\item 13.4458951711621\n\\item 13.2090902044907\n\\item 13.219150895882\n\\item 14.7089750815485\n\\item 15.0866628697753\n\\item 15.2389897986222\n\\item 16.1727307341434\n\\item 15.9360713297129\n\\item 16.6421367303837\n\\item 16.2827468336463\n\\item 16.1999668376636\n\\item 16.7378355349399\n\\item 16.844804546148\n\\item 17.0785024831444\n\\item 17.6565614926536\n\\item 17.2356678191904\n\\item 17.6673724628892\n\\item 17.5993900933839\n\\item 18.1237563839253\n\\item 17.8281920321953\n\\item 18.1775058260184\n\\item 18.8782764771752\n\\item 19.5332293973729\n\\item 19.67646097438\n\\item 19.8456082045991\n\\item 21.2039918337218\n\\item 21.5104568738569\n\\item 20.7954204196822\n\\item 21.9749444096256\n\\item 22.103084184866\n\\item 22.4822142918579\n\\item 22.8551496322289\n\\item 23.1222596508451\n\\item 22.9006999884561\n\\item 25.5652069871485\n\\item 24.8699038002562\n\\item 25.3944905104037\n\\end{enumerate*}\n\n\\end{description}\n",
            "text/plain": [
              "$x\n",
              "  [1] 1.05 1.11 1.13 1.18 1.20 1.37 1.41 1.45 1.45 1.47 1.48 1.56 1.65 1.75 1.82\n",
              " [16] 1.83 1.87 1.96 2.04 2.06 2.07 2.14 2.16 2.18 2.20 2.29 2.31 2.34 2.35 2.41\n",
              " [31] 2.43 2.45 2.55 2.56 2.57 2.57 2.63 2.66 2.67 2.79 2.84 2.84 2.88 2.92 2.92\n",
              " [46] 2.93 2.97 2.97 3.03 3.06 3.10 3.19 3.22 3.25 3.28 3.28 3.28 3.35 3.47 3.48\n",
              " [61] 3.49 3.49 3.51 3.56 3.61 3.62 3.76 3.87 3.90 3.90 3.95 3.98 3.98 3.99 4.04\n",
              " [76] 4.09 4.10 4.10 4.13 4.15 4.18 4.18 4.22 4.23 4.29 4.37 4.37 4.37 4.53 4.54\n",
              " [91] 4.56 4.65 4.67 4.71 4.74 4.75 4.78 4.96 4.97 4.97\n",
              "\n",
              "$y\n",
              "  [1]  1.108511  1.770195  2.226309  1.873025  2.164446  2.056738  2.771567\n",
              "  [8]  2.388886  2.943139  2.328711  2.724117  2.987734  3.459500  3.099049\n",
              " [15]  3.895764  3.713755  4.410256  4.135912  4.448060  4.742741  5.199820\n",
              " [22]  4.867522  5.499073  5.023702  5.353742  5.834545  6.230046  5.670483\n",
              " [29]  6.087718  5.924222  5.932864  6.233907  7.466607  7.314668  7.529287\n",
              " [36]  6.891362  7.187060  7.083154  7.618016  8.009629  8.241132  8.456692\n",
              " [43]  8.853593  9.513443  9.062803  8.822888  9.083941  9.628263  9.883188\n",
              " [50]  9.845268 10.471989 10.808826 11.236612 10.831247 11.652033 10.976071\n",
              " [57] 11.470019 11.822143 12.366589 12.968606 12.324716 12.204854 12.415483\n",
              " [64] 13.445895 13.209090 13.219151 14.708975 15.086663 15.238990 16.172731\n",
              " [71] 15.936071 16.642137 16.282747 16.199967 16.737836 16.844805 17.078502\n",
              " [78] 17.656561 17.235668 17.667372 17.599390 18.123756 17.828192 18.177506\n",
              " [85] 18.878276 19.533229 19.676461 19.845608 21.203992 21.510457 20.795420\n",
              " [92] 21.974944 22.103084 22.482214 22.855150 23.122260 22.900700 25.565207\n",
              " [99] 24.869904 25.394491\n"
            ]
          },
          "metadata": {}
        }
      ]
    },
    {
      "cell_type": "code",
      "source": [
        "# lines\n",
        "plot(z, type = \"l\", main= \"X vs Y\", xlab = \"X Axis\", ylab=\"Y Axis\")"
      ],
      "metadata": {
        "colab": {
          "base_uri": "https://localhost:8080/",
          "height": 437
        },
        "id": "GspBEDpGjQUS",
        "outputId": "eed4fdc6-fe07-4f00-d9cd-35e547519dc4"
      },
      "execution_count": 129,
      "outputs": [
        {
          "output_type": "display_data",
          "data": {
            "text/plain": [
              "Plot with title “X vs Y”"
            ],
            "image/png": "[encoded data removed]"
          },
          "metadata": {
            "image/png": {
              "width": 420,
              "height": 420
            }
          }
        }
      ]
    },
    {
      "cell_type": "code",
      "source": [
        "# Points and lines overlayed\n",
        "plot(z, type = \"o\")"
      ],
      "metadata": {
        "colab": {
          "base_uri": "https://localhost:8080/",
          "height": 437
        },
        "id": "hfofER2XjVIa",
        "outputId": "44d8d64f-0734-4823-de6d-110d09a89590"
      },
      "execution_count": 130,
      "outputs": [
        {
          "output_type": "display_data",
          "data": {
            "text/plain": [
              "plot without title"
            ],
            "image/png": "[encoded data removed]"
          },
          "metadata": {
            "image/png": {
              "width": 420,
              "height": 420
            }
          }
        }
      ]
    },
    {
      "cell_type": "code",
      "source": [
        "# steps\n",
        "plot(z, type = \"s\")"
      ],
      "metadata": {
        "colab": {
          "base_uri": "https://localhost:8080/",
          "height": 437
        },
        "id": "kFVLleUdjYI-",
        "outputId": "9242e824-0c08-40ec-bb0a-677cb062f69f"
      },
      "execution_count": 131,
      "outputs": [
        {
          "output_type": "display_data",
          "data": {
            "text/plain": [
              "plot without title"
            ],
            "image/png": "[encoded data removed]"
          },
          "metadata": {
            "image/png": {
              "width": 420,
              "height": 420
            }
          }
        }
      ]
    },
    {
      "cell_type": "code",
      "source": [
        "# histogram-like\n",
        "plot(z, type = \"h\")"
      ],
      "metadata": {
        "colab": {
          "base_uri": "https://localhost:8080/",
          "height": 437
        },
        "id": "sD0VeFQJjbda",
        "outputId": "e463c729-ac01-4104-bd5c-5163f49d9633"
      },
      "execution_count": 132,
      "outputs": [
        {
          "output_type": "display_data",
          "data": {
            "text/plain": [
              "plot without title"
            ],
            "image/png": "[encoded data removed]"
          },
          "metadata": {
            "image/png": {
              "width": 420,
              "height": 420
            }
          }
        }
      ]
    },
    {
      "cell_type": "markdown",
      "source": [
        "---\n",
        "## **4.6 Grid and a curve plotting**\n",
        "---"
      ],
      "metadata": {
        "id": "euka8QYrkG8T"
      }
    },
    {
      "cell_type": "code",
      "source": [
        "plot(z, type = \"n\")\n",
        "\n",
        "# Uncomment each line and run\n",
        "#grid(lty = 1, lwd = 2)\n",
        "#curve(x^2, col = \"blue\", add = TRUE)\n",
        "#curve(x^2 + 1, col = \"blue\", add = TRUE)\n",
        "#points(z, pch = 20)"
      ],
      "metadata": {
        "colab": {
          "base_uri": "https://localhost:8080/",
          "height": 437
        },
        "id": "uphm2QDrkH0L",
        "outputId": "7adb869b-4756-4e7b-afdb-54074e95079a"
      },
      "execution_count": 133,
      "outputs": [
        {
          "output_type": "display_data",
          "data": {
            "text/plain": [
              "plot without title"
            ],
            "image/png": "[encoded data removed]"
          },
          "metadata": {
            "image/png": {
              "width": 420,
              "height": 420
            }
          }
        }
      ]
    },
    {
      "cell_type": "markdown",
      "source": [
        "---\n",
        "## **4.7 Grphical Parameters**\n",
        "---"
      ],
      "metadata": {
        "id": "acu3PS-ZlGrP"
      }
    },
    {
      "cell_type": "code",
      "source": [
        "plot(z, type = \"o\", col = 'red', pch = 16, cex = 2)"
      ],
      "metadata": {
        "colab": {
          "base_uri": "https://localhost:8080/",
          "height": 437
        },
        "outputId": "5f843a2f-3054-453a-cf0b-5f14c4e28d50",
        "id": "KyGBskshlGrR"
      },
      "execution_count": 134,
      "outputs": [
        {
          "output_type": "display_data",
          "data": {
            "text/plain": [
              "plot without title"
            ],
            "image/png": "[encoded data removed]"
          },
          "metadata": {
            "image/png": {
              "width": 420,
              "height": 420
            }
          }
        }
      ]
    },
    {
      "cell_type": "code",
      "source": [
        "plot(z, col = c('red', 'blue'), pch = \"+\", cex = 2)"
      ],
      "metadata": {
        "colab": {
          "base_uri": "https://localhost:8080/",
          "height": 437
        },
        "id": "blddhIrrlORk",
        "outputId": "abd5b174-b2c3-4049-d2ee-efd621e53e52"
      },
      "execution_count": 135,
      "outputs": [
        {
          "output_type": "display_data",
          "data": {
            "text/plain": [
              "plot without title"
            ],
            "image/png": "[encoded data removed]"
          },
          "metadata": {
            "image/png": {
              "width": 420,
              "height": 420
            }
          }
        }
      ]
    },
    {
      "cell_type": "markdown",
      "source": [
        "---\n",
        "## **4.8 Colors Plotting**\n",
        "---"
      ],
      "metadata": {
        "id": "hwDoZv-ulW4i"
      }
    },
    {
      "cell_type": "code",
      "source": [
        "# List of colors\n",
        "colors()"
      ],
      "metadata": {
        "colab": {
          "base_uri": "https://localhost:8080/",
          "height": 485
        },
        "outputId": "c322bd7d-213a-43b2-d021-2929ea7e71f4",
        "id": "YgWuOuqzlW4k"
      },
      "execution_count": 136,
      "outputs": [
        {
          "output_type": "display_data",
          "data": {
            "text/html": [
              "<style>\n",
              ".list-inline {list-style: none; margin:0; padding: 0}\n",
              ".list-inline>li {display: inline-block}\n",
              ".list-inline>li:not(:last-child)::after {content: \"\\00b7\"; padding: 0 .5ex}\n",
              "</style>\n",
              "<ol class=list-inline><li>'white'</li><li>'aliceblue'</li><li>'antiquewhite'</li><li>'antiquewhite1'</li><li>'antiquewhite2'</li><li>'antiquewhite3'</li><li>'antiquewhite4'</li><li>'aquamarine'</li><li>'aquamarine1'</li><li>'aquamarine2'</li><li>'aquamarine3'</li><li>'aquamarine4'</li><li>'azure'</li><li>'azure1'</li><li>'azure2'</li><li>'azure3'</li><li>'azure4'</li><li>'beige'</li><li>'bisque'</li><li>'bisque1'</li><li>'bisque2'</li><li>'bisque3'</li><li>'bisque4'</li><li>'black'</li><li>'blanchedalmond'</li><li>'blue'</li><li>'blue1'</li><li>'blue2'</li><li>'blue3'</li><li>'blue4'</li><li>'blueviolet'</li><li>'brown'</li><li>'brown1'</li><li>'brown2'</li><li>'brown3'</li><li>'brown4'</li><li>'burlywood'</li><li>'burlywood1'</li><li>'burlywood2'</li><li>'burlywood3'</li><li>'burlywood4'</li><li>'cadetblue'</li><li>'cadetblue1'</li><li>'cadetblue2'</li><li>'cadetblue3'</li><li>'cadetblue4'</li><li>'chartreuse'</li><li>'chartreuse1'</li><li>'chartreuse2'</li><li>'chartreuse3'</li><li>'chartreuse4'</li><li>'chocolate'</li><li>'chocolate1'</li><li>'chocolate2'</li><li>'chocolate3'</li><li>'chocolate4'</li><li>'coral'</li><li>'coral1'</li><li>'coral2'</li><li>'coral3'</li><li>'coral4'</li><li>'cornflowerblue'</li><li>'cornsilk'</li><li>'cornsilk1'</li><li>'cornsilk2'</li><li>'cornsilk3'</li><li>'cornsilk4'</li><li>'cyan'</li><li>'cyan1'</li><li>'cyan2'</li><li>'cyan3'</li><li>'cyan4'</li><li>'darkblue'</li><li>'darkcyan'</li><li>'darkgoldenrod'</li><li>'darkgoldenrod1'</li><li>'darkgoldenrod2'</li><li>'darkgoldenrod3'</li><li>'darkgoldenrod4'</li><li>'darkgray'</li><li>'darkgreen'</li><li>'darkgrey'</li><li>'darkkhaki'</li><li>'darkmagenta'</li><li>'darkolivegreen'</li><li>'darkolivegreen1'</li><li>'darkolivegreen2'</li><li>'darkolivegreen3'</li><li>'darkolivegreen4'</li><li>'darkorange'</li><li>'darkorange1'</li><li>'darkorange2'</li><li>'darkorange3'</li><li>'darkorange4'</li><li>'darkorchid'</li><li>'darkorchid1'</li><li>'darkorchid2'</li><li>'darkorchid3'</li><li>'darkorchid4'</li><li>'darkred'</li><li>'darksalmon'</li><li>'darkseagreen'</li><li>'darkseagreen1'</li><li>'darkseagreen2'</li><li>'darkseagreen3'</li><li>'darkseagreen4'</li><li>'darkslateblue'</li><li>'darkslategray'</li><li>'darkslategray1'</li><li>'darkslategray2'</li><li>'darkslategray3'</li><li>'darkslategray4'</li><li>'darkslategrey'</li><li>'darkturquoise'</li><li>'darkviolet'</li><li>'deeppink'</li><li>'deeppink1'</li><li>'deeppink2'</li><li>'deeppink3'</li><li>'deeppink4'</li><li>'deepskyblue'</li><li>'deepskyblue1'</li><li>'deepskyblue2'</li><li>'deepskyblue3'</li><li>'deepskyblue4'</li><li>'dimgray'</li><li>'dimgrey'</li><li>'dodgerblue'</li><li>'dodgerblue1'</li><li>'dodgerblue2'</li><li>'dodgerblue3'</li><li>'dodgerblue4'</li><li>'firebrick'</li><li>'firebrick1'</li><li>'firebrick2'</li><li>'firebrick3'</li><li>'firebrick4'</li><li>'floralwhite'</li><li>'forestgreen'</li><li>'gainsboro'</li><li>'ghostwhite'</li><li>'gold'</li><li>'gold1'</li><li>'gold2'</li><li>'gold3'</li><li>'gold4'</li><li>'goldenrod'</li><li>'goldenrod1'</li><li>'goldenrod2'</li><li>'goldenrod3'</li><li>'goldenrod4'</li><li>'gray'</li><li>'gray0'</li><li>'gray1'</li><li>'gray2'</li><li>'gray3'</li><li>'gray4'</li><li>'gray5'</li><li>'gray6'</li><li>'gray7'</li><li>'gray8'</li><li>'gray9'</li><li>'gray10'</li><li>'gray11'</li><li>'gray12'</li><li>'gray13'</li><li>'gray14'</li><li>'gray15'</li><li>'gray16'</li><li>'gray17'</li><li>'gray18'</li><li>'gray19'</li><li>'gray20'</li><li>'gray21'</li><li>'gray22'</li><li>'gray23'</li><li>'gray24'</li><li>'gray25'</li><li>'gray26'</li><li>'gray27'</li><li>'gray28'</li><li>'gray29'</li><li>'gray30'</li><li>'gray31'</li><li>'gray32'</li><li>'gray33'</li><li>'gray34'</li><li>'gray35'</li><li>'gray36'</li><li>'gray37'</li><li>'gray38'</li><li>'gray39'</li><li>'gray40'</li><li>'gray41'</li><li>'gray42'</li><li>'gray43'</li><li>'gray44'</li><li>'gray45'</li><li>'gray46'</li><li>'gray47'</li><li>⋯</li><li>'maroon3'</li><li>'maroon4'</li><li>'mediumaquamarine'</li><li>'mediumblue'</li><li>'mediumorchid'</li><li>'mediumorchid1'</li><li>'mediumorchid2'</li><li>'mediumorchid3'</li><li>'mediumorchid4'</li><li>'mediumpurple'</li><li>'mediumpurple1'</li><li>'mediumpurple2'</li><li>'mediumpurple3'</li><li>'mediumpurple4'</li><li>'mediumseagreen'</li><li>'mediumslateblue'</li><li>'mediumspringgreen'</li><li>'mediumturquoise'</li><li>'mediumvioletred'</li><li>'midnightblue'</li><li>'mintcream'</li><li>'mistyrose'</li><li>'mistyrose1'</li><li>'mistyrose2'</li><li>'mistyrose3'</li><li>'mistyrose4'</li><li>'moccasin'</li><li>'navajowhite'</li><li>'navajowhite1'</li><li>'navajowhite2'</li><li>'navajowhite3'</li><li>'navajowhite4'</li><li>'navy'</li><li>'navyblue'</li><li>'oldlace'</li><li>'olivedrab'</li><li>'olivedrab1'</li><li>'olivedrab2'</li><li>'olivedrab3'</li><li>'olivedrab4'</li><li>'orange'</li><li>'orange1'</li><li>'orange2'</li><li>'orange3'</li><li>'orange4'</li><li>'orangered'</li><li>'orangered1'</li><li>'orangered2'</li><li>'orangered3'</li><li>'orangered4'</li><li>'orchid'</li><li>'orchid1'</li><li>'orchid2'</li><li>'orchid3'</li><li>'orchid4'</li><li>'palegoldenrod'</li><li>'palegreen'</li><li>'palegreen1'</li><li>'palegreen2'</li><li>'palegreen3'</li><li>'palegreen4'</li><li>'paleturquoise'</li><li>'paleturquoise1'</li><li>'paleturquoise2'</li><li>'paleturquoise3'</li><li>'paleturquoise4'</li><li>'palevioletred'</li><li>'palevioletred1'</li><li>'palevioletred2'</li><li>'palevioletred3'</li><li>'palevioletred4'</li><li>'papayawhip'</li><li>'peachpuff'</li><li>'peachpuff1'</li><li>'peachpuff2'</li><li>'peachpuff3'</li><li>'peachpuff4'</li><li>'peru'</li><li>'pink'</li><li>'pink1'</li><li>'pink2'</li><li>'pink3'</li><li>'pink4'</li><li>'plum'</li><li>'plum1'</li><li>'plum2'</li><li>'plum3'</li><li>'plum4'</li><li>'powderblue'</li><li>'purple'</li><li>'purple1'</li><li>'purple2'</li><li>'purple3'</li><li>'purple4'</li><li>'red'</li><li>'red1'</li><li>'red2'</li><li>'red3'</li><li>'red4'</li><li>'rosybrown'</li><li>'rosybrown1'</li><li>'rosybrown2'</li><li>'rosybrown3'</li><li>'rosybrown4'</li><li>'royalblue'</li><li>'royalblue1'</li><li>'royalblue2'</li><li>'royalblue3'</li><li>'royalblue4'</li><li>'saddlebrown'</li><li>'salmon'</li><li>'salmon1'</li><li>'salmon2'</li><li>'salmon3'</li><li>'salmon4'</li><li>'sandybrown'</li><li>'seagreen'</li><li>'seagreen1'</li><li>'seagreen2'</li><li>'seagreen3'</li><li>'seagreen4'</li><li>'seashell'</li><li>'seashell1'</li><li>'seashell2'</li><li>'seashell3'</li><li>'seashell4'</li><li>'sienna'</li><li>'sienna1'</li><li>'sienna2'</li><li>'sienna3'</li><li>'sienna4'</li><li>'skyblue'</li><li>'skyblue1'</li><li>'skyblue2'</li><li>'skyblue3'</li><li>'skyblue4'</li><li>'slateblue'</li><li>'slateblue1'</li><li>'slateblue2'</li><li>'slateblue3'</li><li>'slateblue4'</li><li>'slategray'</li><li>'slategray1'</li><li>'slategray2'</li><li>'slategray3'</li><li>'slategray4'</li><li>'slategrey'</li><li>'snow'</li><li>'snow1'</li><li>'snow2'</li><li>'snow3'</li><li>'snow4'</li><li>'springgreen'</li><li>'springgreen1'</li><li>'springgreen2'</li><li>'springgreen3'</li><li>'springgreen4'</li><li>'steelblue'</li><li>'steelblue1'</li><li>'steelblue2'</li><li>'steelblue3'</li><li>'steelblue4'</li><li>'tan'</li><li>'tan1'</li><li>'tan2'</li><li>'tan3'</li><li>'tan4'</li><li>'thistle'</li><li>'thistle1'</li><li>'thistle2'</li><li>'thistle3'</li><li>'thistle4'</li><li>'tomato'</li><li>'tomato1'</li><li>'tomato2'</li><li>'tomato3'</li><li>'tomato4'</li><li>'turquoise'</li><li>'turquoise1'</li><li>'turquoise2'</li><li>'turquoise3'</li><li>'turquoise4'</li><li>'violet'</li><li>'violetred'</li><li>'violetred1'</li><li>'violetred2'</li><li>'violetred3'</li><li>'violetred4'</li><li>'wheat'</li><li>'wheat1'</li><li>'wheat2'</li><li>'wheat3'</li><li>'wheat4'</li><li>'whitesmoke'</li><li>'yellow'</li><li>'yellow1'</li><li>'yellow2'</li><li>'yellow3'</li><li>'yellow4'</li><li>'yellowgreen'</li></ol>\n"
            ],
            "text/markdown": "1. 'white'\n2. 'aliceblue'\n3. 'antiquewhite'\n4. 'antiquewhite1'\n5. 'antiquewhite2'\n6. 'antiquewhite3'\n7. 'antiquewhite4'\n8. 'aquamarine'\n9. 'aquamarine1'\n10. 'aquamarine2'\n11. 'aquamarine3'\n12. 'aquamarine4'\n13. 'azure'\n14. 'azure1'\n15. 'azure2'\n16. 'azure3'\n17. 'azure4'\n18. 'beige'\n19. 'bisque'\n20. 'bisque1'\n21. 'bisque2'\n22. 'bisque3'\n23. 'bisque4'\n24. 'black'\n25. 'blanchedalmond'\n26. 'blue'\n27. 'blue1'\n28. 'blue2'\n29. 'blue3'\n30. 'blue4'\n31. 'blueviolet'\n32. 'brown'\n33. 'brown1'\n34. 'brown2'\n35. 'brown3'\n36. 'brown4'\n37. 'burlywood'\n38. 'burlywood1'\n39. 'burlywood2'\n40. 'burlywood3'\n41. 'burlywood4'\n42. 'cadetblue'\n43. 'cadetblue1'\n44. 'cadetblue2'\n45. 'cadetblue3'\n46. 'cadetblue4'\n47. 'chartreuse'\n48. 'chartreuse1'\n49. 'chartreuse2'\n50. 'chartreuse3'\n51. 'chartreuse4'\n52. 'chocolate'\n53. 'chocolate1'\n54. 'chocolate2'\n55. 'chocolate3'\n56. 'chocolate4'\n57. 'coral'\n58. 'coral1'\n59. 'coral2'\n60. 'coral3'\n61. 'coral4'\n62. 'cornflowerblue'\n63. 'cornsilk'\n64. 'cornsilk1'\n65. 'cornsilk2'\n66. 'cornsilk3'\n67. 'cornsilk4'\n68. 'cyan'\n69. 'cyan1'\n70. 'cyan2'\n71. 'cyan3'\n72. 'cyan4'\n73. 'darkblue'\n74. 'darkcyan'\n75. 'darkgoldenrod'\n76. 'darkgoldenrod1'\n77. 'darkgoldenrod2'\n78. 'darkgoldenrod3'\n79. 'darkgoldenrod4'\n80. 'darkgray'\n81. 'darkgreen'\n82. 'darkgrey'\n83. 'darkkhaki'\n84. 'darkmagenta'\n85. 'darkolivegreen'\n86. 'darkolivegreen1'\n87. 'darkolivegreen2'\n88. 'darkolivegreen3'\n89. 'darkolivegreen4'\n90. 'darkorange'\n91. 'darkorange1'\n92. 'darkorange2'\n93. 'darkorange3'\n94. 'darkorange4'\n95. 'darkorchid'\n96. 'darkorchid1'\n97. 'darkorchid2'\n98. 'darkorchid3'\n99. 'darkorchid4'\n100. 'darkred'\n101. 'darksalmon'\n102. 'darkseagreen'\n103. 'darkseagreen1'\n104. 'darkseagreen2'\n105. 'darkseagreen3'\n106. 'darkseagreen4'\n107. 'darkslateblue'\n108. 'darkslategray'\n109. 'darkslategray1'\n110. 'darkslategray2'\n111. 'darkslategray3'\n112. 'darkslategray4'\n113. 'darkslategrey'\n114. 'darkturquoise'\n115. 'darkviolet'\n116. 'deeppink'\n117. 'deeppink1'\n118. 'deeppink2'\n119. 'deeppink3'\n120. 'deeppink4'\n121. 'deepskyblue'\n122. 'deepskyblue1'\n123. 'deepskyblue2'\n124. 'deepskyblue3'\n125. 'deepskyblue4'\n126. 'dimgray'\n127. 'dimgrey'\n128. 'dodgerblue'\n129. 'dodgerblue1'\n130. 'dodgerblue2'\n131. 'dodgerblue3'\n132. 'dodgerblue4'\n133. 'firebrick'\n134. 'firebrick1'\n135. 'firebrick2'\n136. 'firebrick3'\n137. 'firebrick4'\n138. 'floralwhite'\n139. 'forestgreen'\n140. 'gainsboro'\n141. 'ghostwhite'\n142. 'gold'\n143. 'gold1'\n144. 'gold2'\n145. 'gold3'\n146. 'gold4'\n147. 'goldenrod'\n148. 'goldenrod1'\n149. 'goldenrod2'\n150. 'goldenrod3'\n151. 'goldenrod4'\n152. 'gray'\n153. 'gray0'\n154. 'gray1'\n155. 'gray2'\n156. 'gray3'\n157. 'gray4'\n158. 'gray5'\n159. 'gray6'\n160. 'gray7'\n161. 'gray8'\n162. 'gray9'\n163. 'gray10'\n164. 'gray11'\n165. 'gray12'\n166. 'gray13'\n167. 'gray14'\n168. 'gray15'\n169. 'gray16'\n170. 'gray17'\n171. 'gray18'\n172. 'gray19'\n173. 'gray20'\n174. 'gray21'\n175. 'gray22'\n176. 'gray23'\n177. 'gray24'\n178. 'gray25'\n179. 'gray26'\n180. 'gray27'\n181. 'gray28'\n182. 'gray29'\n183. 'gray30'\n184. 'gray31'\n185. 'gray32'\n186. 'gray33'\n187. 'gray34'\n188. 'gray35'\n189. 'gray36'\n190. 'gray37'\n191. 'gray38'\n192. 'gray39'\n193. 'gray40'\n194. 'gray41'\n195. 'gray42'\n196. 'gray43'\n197. 'gray44'\n198. 'gray45'\n199. 'gray46'\n200. 'gray47'\n201. ⋯\n202. 'maroon3'\n203. 'maroon4'\n204. 'mediumaquamarine'\n205. 'mediumblue'\n206. 'mediumorchid'\n207. 'mediumorchid1'\n208. 'mediumorchid2'\n209. 'mediumorchid3'\n210. 'mediumorchid4'\n211. 'mediumpurple'\n212. 'mediumpurple1'\n213. 'mediumpurple2'\n214. 'mediumpurple3'\n215. 'mediumpurple4'\n216. 'mediumseagreen'\n217. 'mediumslateblue'\n218. 'mediumspringgreen'\n219. 'mediumturquoise'\n220. 'mediumvioletred'\n221. 'midnightblue'\n222. 'mintcream'\n223. 'mistyrose'\n224. 'mistyrose1'\n225. 'mistyrose2'\n226. 'mistyrose3'\n227. 'mistyrose4'\n228. 'moccasin'\n229. 'navajowhite'\n230. 'navajowhite1'\n231. 'navajowhite2'\n232. 'navajowhite3'\n233. 'navajowhite4'\n234. 'navy'\n235. 'navyblue'\n236. 'oldlace'\n237. 'olivedrab'\n238. 'olivedrab1'\n239. 'olivedrab2'\n240. 'olivedrab3'\n241. 'olivedrab4'\n242. 'orange'\n243. 'orange1'\n244. 'orange2'\n245. 'orange3'\n246. 'orange4'\n247. 'orangered'\n248. 'orangered1'\n249. 'orangered2'\n250. 'orangered3'\n251. 'orangered4'\n252. 'orchid'\n253. 'orchid1'\n254. 'orchid2'\n255. 'orchid3'\n256. 'orchid4'\n257. 'palegoldenrod'\n258. 'palegreen'\n259. 'palegreen1'\n260. 'palegreen2'\n261. 'palegreen3'\n262. 'palegreen4'\n263. 'paleturquoise'\n264. 'paleturquoise1'\n265. 'paleturquoise2'\n266. 'paleturquoise3'\n267. 'paleturquoise4'\n268. 'palevioletred'\n269. 'palevioletred1'\n270. 'palevioletred2'\n271. 'palevioletred3'\n272. 'palevioletred4'\n273. 'papayawhip'\n274. 'peachpuff'\n275. 'peachpuff1'\n276. 'peachpuff2'\n277. 'peachpuff3'\n278. 'peachpuff4'\n279. 'peru'\n280. 'pink'\n281. 'pink1'\n282. 'pink2'\n283. 'pink3'\n284. 'pink4'\n285. 'plum'\n286. 'plum1'\n287. 'plum2'\n288. 'plum3'\n289. 'plum4'\n290. 'powderblue'\n291. 'purple'\n292. 'purple1'\n293. 'purple2'\n294. 'purple3'\n295. 'purple4'\n296. 'red'\n297. 'red1'\n298. 'red2'\n299. 'red3'\n300. 'red4'\n301. 'rosybrown'\n302. 'rosybrown1'\n303. 'rosybrown2'\n304. 'rosybrown3'\n305. 'rosybrown4'\n306. 'royalblue'\n307. 'royalblue1'\n308. 'royalblue2'\n309. 'royalblue3'\n310. 'royalblue4'\n311. 'saddlebrown'\n312. 'salmon'\n313. 'salmon1'\n314. 'salmon2'\n315. 'salmon3'\n316. 'salmon4'\n317. 'sandybrown'\n318. 'seagreen'\n319. 'seagreen1'\n320. 'seagreen2'\n321. 'seagreen3'\n322. 'seagreen4'\n323. 'seashell'\n324. 'seashell1'\n325. 'seashell2'\n326. 'seashell3'\n327. 'seashell4'\n328. 'sienna'\n329. 'sienna1'\n330. 'sienna2'\n331. 'sienna3'\n332. 'sienna4'\n333. 'skyblue'\n334. 'skyblue1'\n335. 'skyblue2'\n336. 'skyblue3'\n337. 'skyblue4'\n338. 'slateblue'\n339. 'slateblue1'\n340. 'slateblue2'\n341. 'slateblue3'\n342. 'slateblue4'\n343. 'slategray'\n344. 'slategray1'\n345. 'slategray2'\n346. 'slategray3'\n347. 'slategray4'\n348. 'slategrey'\n349. 'snow'\n350. 'snow1'\n351. 'snow2'\n352. 'snow3'\n353. 'snow4'\n354. 'springgreen'\n355. 'springgreen1'\n356. 'springgreen2'\n357. 'springgreen3'\n358. 'springgreen4'\n359. 'steelblue'\n360. 'steelblue1'\n361. 'steelblue2'\n362. 'steelblue3'\n363. 'steelblue4'\n364. 'tan'\n365. 'tan1'\n366. 'tan2'\n367. 'tan3'\n368. 'tan4'\n369. 'thistle'\n370. 'thistle1'\n371. 'thistle2'\n372. 'thistle3'\n373. 'thistle4'\n374. 'tomato'\n375. 'tomato1'\n376. 'tomato2'\n377. 'tomato3'\n378. 'tomato4'\n379. 'turquoise'\n380. 'turquoise1'\n381. 'turquoise2'\n382. 'turquoise3'\n383. 'turquoise4'\n384. 'violet'\n385. 'violetred'\n386. 'violetred1'\n387. 'violetred2'\n388. 'violetred3'\n389. 'violetred4'\n390. 'wheat'\n391. 'wheat1'\n392. 'wheat2'\n393. 'wheat3'\n394. 'wheat4'\n395. 'whitesmoke'\n396. 'yellow'\n397. 'yellow1'\n398. 'yellow2'\n399. 'yellow3'\n400. 'yellow4'\n401. 'yellowgreen'\n\n\n",
            "text/latex": "\\begin{enumerate*}\n\\item 'white'\n\\item 'aliceblue'\n\\item 'antiquewhite'\n\\item 'antiquewhite1'\n\\item 'antiquewhite2'\n\\item 'antiquewhite3'\n\\item 'antiquewhite4'\n\\item 'aquamarine'\n\\item 'aquamarine1'\n\\item 'aquamarine2'\n\\item 'aquamarine3'\n\\item 'aquamarine4'\n\\item 'azure'\n\\item 'azure1'\n\\item 'azure2'\n\\item 'azure3'\n\\item 'azure4'\n\\item 'beige'\n\\item 'bisque'\n\\item 'bisque1'\n\\item 'bisque2'\n\\item 'bisque3'\n\\item 'bisque4'\n\\item 'black'\n\\item 'blanchedalmond'\n\\item 'blue'\n\\item 'blue1'\n\\item 'blue2'\n\\item 'blue3'\n\\item 'blue4'\n\\item 'blueviolet'\n\\item 'brown'\n\\item 'brown1'\n\\item 'brown2'\n\\item 'brown3'\n\\item 'brown4'\n\\item 'burlywood'\n\\item 'burlywood1'\n\\item 'burlywood2'\n\\item 'burlywood3'\n\\item 'burlywood4'\n\\item 'cadetblue'\n\\item 'cadetblue1'\n\\item 'cadetblue2'\n\\item 'cadetblue3'\n\\item 'cadetblue4'\n\\item 'chartreuse'\n\\item 'chartreuse1'\n\\item 'chartreuse2'\n\\item 'chartreuse3'\n\\item 'chartreuse4'\n\\item 'chocolate'\n\\item 'chocolate1'\n\\item 'chocolate2'\n\\item 'chocolate3'\n\\item 'chocolate4'\n\\item 'coral'\n\\item 'coral1'\n\\item 'coral2'\n\\item 'coral3'\n\\item 'coral4'\n\\item 'cornflowerblue'\n\\item 'cornsilk'\n\\item 'cornsilk1'\n\\item 'cornsilk2'\n\\item 'cornsilk3'\n\\item 'cornsilk4'\n\\item 'cyan'\n\\item 'cyan1'\n\\item 'cyan2'\n\\item 'cyan3'\n\\item 'cyan4'\n\\item 'darkblue'\n\\item 'darkcyan'\n\\item 'darkgoldenrod'\n\\item 'darkgoldenrod1'\n\\item 'darkgoldenrod2'\n\\item 'darkgoldenrod3'\n\\item 'darkgoldenrod4'\n\\item 'darkgray'\n\\item 'darkgreen'\n\\item 'darkgrey'\n\\item 'darkkhaki'\n\\item 'darkmagenta'\n\\item 'darkolivegreen'\n\\item 'darkolivegreen1'\n\\item 'darkolivegreen2'\n\\item 'darkolivegreen3'\n\\item 'darkolivegreen4'\n\\item 'darkorange'\n\\item 'darkorange1'\n\\item 'darkorange2'\n\\item 'darkorange3'\n\\item 'darkorange4'\n\\item 'darkorchid'\n\\item 'darkorchid1'\n\\item 'darkorchid2'\n\\item 'darkorchid3'\n\\item 'darkorchid4'\n\\item 'darkred'\n\\item 'darksalmon'\n\\item 'darkseagreen'\n\\item 'darkseagreen1'\n\\item 'darkseagreen2'\n\\item 'darkseagreen3'\n\\item 'darkseagreen4'\n\\item 'darkslateblue'\n\\item 'darkslategray'\n\\item 'darkslategray1'\n\\item 'darkslategray2'\n\\item 'darkslategray3'\n\\item 'darkslategray4'\n\\item 'darkslategrey'\n\\item 'darkturquoise'\n\\item 'darkviolet'\n\\item 'deeppink'\n\\item 'deeppink1'\n\\item 'deeppink2'\n\\item 'deeppink3'\n\\item 'deeppink4'\n\\item 'deepskyblue'\n\\item 'deepskyblue1'\n\\item 'deepskyblue2'\n\\item 'deepskyblue3'\n\\item 'deepskyblue4'\n\\item 'dimgray'\n\\item 'dimgrey'\n\\item 'dodgerblue'\n\\item 'dodgerblue1'\n\\item 'dodgerblue2'\n\\item 'dodgerblue3'\n\\item 'dodgerblue4'\n\\item 'firebrick'\n\\item 'firebrick1'\n\\item 'firebrick2'\n\\item 'firebrick3'\n\\item 'firebrick4'\n\\item 'floralwhite'\n\\item 'forestgreen'\n\\item 'gainsboro'\n\\item 'ghostwhite'\n\\item 'gold'\n\\item 'gold1'\n\\item 'gold2'\n\\item 'gold3'\n\\item 'gold4'\n\\item 'goldenrod'\n\\item 'goldenrod1'\n\\item 'goldenrod2'\n\\item 'goldenrod3'\n\\item 'goldenrod4'\n\\item 'gray'\n\\item 'gray0'\n\\item 'gray1'\n\\item 'gray2'\n\\item 'gray3'\n\\item 'gray4'\n\\item 'gray5'\n\\item 'gray6'\n\\item 'gray7'\n\\item 'gray8'\n\\item 'gray9'\n\\item 'gray10'\n\\item 'gray11'\n\\item 'gray12'\n\\item 'gray13'\n\\item 'gray14'\n\\item 'gray15'\n\\item 'gray16'\n\\item 'gray17'\n\\item 'gray18'\n\\item 'gray19'\n\\item 'gray20'\n\\item 'gray21'\n\\item 'gray22'\n\\item 'gray23'\n\\item 'gray24'\n\\item 'gray25'\n\\item 'gray26'\n\\item 'gray27'\n\\item 'gray28'\n\\item 'gray29'\n\\item 'gray30'\n\\item 'gray31'\n\\item 'gray32'\n\\item 'gray33'\n\\item 'gray34'\n\\item 'gray35'\n\\item 'gray36'\n\\item 'gray37'\n\\item 'gray38'\n\\item 'gray39'\n\\item 'gray40'\n\\item 'gray41'\n\\item 'gray42'\n\\item 'gray43'\n\\item 'gray44'\n\\item 'gray45'\n\\item 'gray46'\n\\item 'gray47'\n\\item ⋯\n\\item 'maroon3'\n\\item 'maroon4'\n\\item 'mediumaquamarine'\n\\item 'mediumblue'\n\\item 'mediumorchid'\n\\item 'mediumorchid1'\n\\item 'mediumorchid2'\n\\item 'mediumorchid3'\n\\item 'mediumorchid4'\n\\item 'mediumpurple'\n\\item 'mediumpurple1'\n\\item 'mediumpurple2'\n\\item 'mediumpurple3'\n\\item 'mediumpurple4'\n\\item 'mediumseagreen'\n\\item 'mediumslateblue'\n\\item 'mediumspringgreen'\n\\item 'mediumturquoise'\n\\item 'mediumvioletred'\n\\item 'midnightblue'\n\\item 'mintcream'\n\\item 'mistyrose'\n\\item 'mistyrose1'\n\\item 'mistyrose2'\n\\item 'mistyrose3'\n\\item 'mistyrose4'\n\\item 'moccasin'\n\\item 'navajowhite'\n\\item 'navajowhite1'\n\\item 'navajowhite2'\n\\item 'navajowhite3'\n\\item 'navajowhite4'\n\\item 'navy'\n\\item 'navyblue'\n\\item 'oldlace'\n\\item 'olivedrab'\n\\item 'olivedrab1'\n\\item 'olivedrab2'\n\\item 'olivedrab3'\n\\item 'olivedrab4'\n\\item 'orange'\n\\item 'orange1'\n\\item 'orange2'\n\\item 'orange3'\n\\item 'orange4'\n\\item 'orangered'\n\\item 'orangered1'\n\\item 'orangered2'\n\\item 'orangered3'\n\\item 'orangered4'\n\\item 'orchid'\n\\item 'orchid1'\n\\item 'orchid2'\n\\item 'orchid3'\n\\item 'orchid4'\n\\item 'palegoldenrod'\n\\item 'palegreen'\n\\item 'palegreen1'\n\\item 'palegreen2'\n\\item 'palegreen3'\n\\item 'palegreen4'\n\\item 'paleturquoise'\n\\item 'paleturquoise1'\n\\item 'paleturquoise2'\n\\item 'paleturquoise3'\n\\item 'paleturquoise4'\n\\item 'palevioletred'\n\\item 'palevioletred1'\n\\item 'palevioletred2'\n\\item 'palevioletred3'\n\\item 'palevioletred4'\n\\item 'papayawhip'\n\\item 'peachpuff'\n\\item 'peachpuff1'\n\\item 'peachpuff2'\n\\item 'peachpuff3'\n\\item 'peachpuff4'\n\\item 'peru'\n\\item 'pink'\n\\item 'pink1'\n\\item 'pink2'\n\\item 'pink3'\n\\item 'pink4'\n\\item 'plum'\n\\item 'plum1'\n\\item 'plum2'\n\\item 'plum3'\n\\item 'plum4'\n\\item 'powderblue'\n\\item 'purple'\n\\item 'purple1'\n\\item 'purple2'\n\\item 'purple3'\n\\item 'purple4'\n\\item 'red'\n\\item 'red1'\n\\item 'red2'\n\\item 'red3'\n\\item 'red4'\n\\item 'rosybrown'\n\\item 'rosybrown1'\n\\item 'rosybrown2'\n\\item 'rosybrown3'\n\\item 'rosybrown4'\n\\item 'royalblue'\n\\item 'royalblue1'\n\\item 'royalblue2'\n\\item 'royalblue3'\n\\item 'royalblue4'\n\\item 'saddlebrown'\n\\item 'salmon'\n\\item 'salmon1'\n\\item 'salmon2'\n\\item 'salmon3'\n\\item 'salmon4'\n\\item 'sandybrown'\n\\item 'seagreen'\n\\item 'seagreen1'\n\\item 'seagreen2'\n\\item 'seagreen3'\n\\item 'seagreen4'\n\\item 'seashell'\n\\item 'seashell1'\n\\item 'seashell2'\n\\item 'seashell3'\n\\item 'seashell4'\n\\item 'sienna'\n\\item 'sienna1'\n\\item 'sienna2'\n\\item 'sienna3'\n\\item 'sienna4'\n\\item 'skyblue'\n\\item 'skyblue1'\n\\item 'skyblue2'\n\\item 'skyblue3'\n\\item 'skyblue4'\n\\item 'slateblue'\n\\item 'slateblue1'\n\\item 'slateblue2'\n\\item 'slateblue3'\n\\item 'slateblue4'\n\\item 'slategray'\n\\item 'slategray1'\n\\item 'slategray2'\n\\item 'slategray3'\n\\item 'slategray4'\n\\item 'slategrey'\n\\item 'snow'\n\\item 'snow1'\n\\item 'snow2'\n\\item 'snow3'\n\\item 'snow4'\n\\item 'springgreen'\n\\item 'springgreen1'\n\\item 'springgreen2'\n\\item 'springgreen3'\n\\item 'springgreen4'\n\\item 'steelblue'\n\\item 'steelblue1'\n\\item 'steelblue2'\n\\item 'steelblue3'\n\\item 'steelblue4'\n\\item 'tan'\n\\item 'tan1'\n\\item 'tan2'\n\\item 'tan3'\n\\item 'tan4'\n\\item 'thistle'\n\\item 'thistle1'\n\\item 'thistle2'\n\\item 'thistle3'\n\\item 'thistle4'\n\\item 'tomato'\n\\item 'tomato1'\n\\item 'tomato2'\n\\item 'tomato3'\n\\item 'tomato4'\n\\item 'turquoise'\n\\item 'turquoise1'\n\\item 'turquoise2'\n\\item 'turquoise3'\n\\item 'turquoise4'\n\\item 'violet'\n\\item 'violetred'\n\\item 'violetred1'\n\\item 'violetred2'\n\\item 'violetred3'\n\\item 'violetred4'\n\\item 'wheat'\n\\item 'wheat1'\n\\item 'wheat2'\n\\item 'wheat3'\n\\item 'wheat4'\n\\item 'whitesmoke'\n\\item 'yellow'\n\\item 'yellow1'\n\\item 'yellow2'\n\\item 'yellow3'\n\\item 'yellow4'\n\\item 'yellowgreen'\n\\end{enumerate*}\n",
            "text/plain": [
              "  [1] \"white\"                \"aliceblue\"            \"antiquewhite\"        \n",
              "  [4] \"antiquewhite1\"        \"antiquewhite2\"        \"antiquewhite3\"       \n",
              "  [7] \"antiquewhite4\"        \"aquamarine\"           \"aquamarine1\"         \n",
              " [10] \"aquamarine2\"          \"aquamarine3\"          \"aquamarine4\"         \n",
              " [13] \"azure\"                \"azure1\"               \"azure2\"              \n",
              " [16] \"azure3\"               \"azure4\"               \"beige\"               \n",
              " [19] \"bisque\"               \"bisque1\"              \"bisque2\"             \n",
              " [22] \"bisque3\"              \"bisque4\"              \"black\"               \n",
              " [25] \"blanchedalmond\"       \"blue\"                 \"blue1\"               \n",
              " [28] \"blue2\"                \"blue3\"                \"blue4\"               \n",
              " [31] \"blueviolet\"           \"brown\"                \"brown1\"              \n",
              " [34] \"brown2\"               \"brown3\"               \"brown4\"              \n",
              " [37] \"burlywood\"            \"burlywood1\"           \"burlywood2\"          \n",
              " [40] \"burlywood3\"           \"burlywood4\"           \"cadetblue\"           \n",
              " [43] \"cadetblue1\"           \"cadetblue2\"           \"cadetblue3\"          \n",
              " [46] \"cadetblue4\"           \"chartreuse\"           \"chartreuse1\"         \n",
              " [49] \"chartreuse2\"          \"chartreuse3\"          \"chartreuse4\"         \n",
              " [52] \"chocolate\"            \"chocolate1\"           \"chocolate2\"          \n",
              " [55] \"chocolate3\"           \"chocolate4\"           \"coral\"               \n",
              " [58] \"coral1\"               \"coral2\"               \"coral3\"              \n",
              " [61] \"coral4\"               \"cornflowerblue\"       \"cornsilk\"            \n",
              " [64] \"cornsilk1\"            \"cornsilk2\"            \"cornsilk3\"           \n",
              " [67] \"cornsilk4\"            \"cyan\"                 \"cyan1\"               \n",
              " [70] \"cyan2\"                \"cyan3\"                \"cyan4\"               \n",
              " [73] \"darkblue\"             \"darkcyan\"             \"darkgoldenrod\"       \n",
              " [76] \"darkgoldenrod1\"       \"darkgoldenrod2\"       \"darkgoldenrod3\"      \n",
              " [79] \"darkgoldenrod4\"       \"darkgray\"             \"darkgreen\"           \n",
              " [82] \"darkgrey\"             \"darkkhaki\"            \"darkmagenta\"         \n",
              " [85] \"darkolivegreen\"       \"darkolivegreen1\"      \"darkolivegreen2\"     \n",
              " [88] \"darkolivegreen3\"      \"darkolivegreen4\"      \"darkorange\"          \n",
              " [91] \"darkorange1\"          \"darkorange2\"          \"darkorange3\"         \n",
              " [94] \"darkorange4\"          \"darkorchid\"           \"darkorchid1\"         \n",
              " [97] \"darkorchid2\"          \"darkorchid3\"          \"darkorchid4\"         \n",
              "[100] \"darkred\"              \"darksalmon\"           \"darkseagreen\"        \n",
              "[103] \"darkseagreen1\"        \"darkseagreen2\"        \"darkseagreen3\"       \n",
              "[106] \"darkseagreen4\"        \"darkslateblue\"        \"darkslategray\"       \n",
              "[109] \"darkslategray1\"       \"darkslategray2\"       \"darkslategray3\"      \n",
              "[112] \"darkslategray4\"       \"darkslategrey\"        \"darkturquoise\"       \n",
              "[115] \"darkviolet\"           \"deeppink\"             \"deeppink1\"           \n",
              "[118] \"deeppink2\"            \"deeppink3\"            \"deeppink4\"           \n",
              "[121] \"deepskyblue\"          \"deepskyblue1\"         \"deepskyblue2\"        \n",
              "[124] \"deepskyblue3\"         \"deepskyblue4\"         \"dimgray\"             \n",
              "[127] \"dimgrey\"              \"dodgerblue\"           \"dodgerblue1\"         \n",
              "[130] \"dodgerblue2\"          \"dodgerblue3\"          \"dodgerblue4\"         \n",
              "[133] \"firebrick\"            \"firebrick1\"           \"firebrick2\"          \n",
              "[136] \"firebrick3\"           \"firebrick4\"           \"floralwhite\"         \n",
              "[139] \"forestgreen\"          \"gainsboro\"            \"ghostwhite\"          \n",
              "[142] \"gold\"                 \"gold1\"                \"gold2\"               \n",
              "[145] \"gold3\"                \"gold4\"                \"goldenrod\"           \n",
              "[148] \"goldenrod1\"           \"goldenrod2\"           \"goldenrod3\"          \n",
              "[151] \"goldenrod4\"           \"gray\"                 \"gray0\"               \n",
              "[154] \"gray1\"                \"gray2\"                \"gray3\"               \n",
              "[157] \"gray4\"                \"gray5\"                \"gray6\"               \n",
              "[160] \"gray7\"                \"gray8\"                \"gray9\"               \n",
              "[163] \"gray10\"               \"gray11\"               \"gray12\"              \n",
              "[166] \"gray13\"               \"gray14\"               \"gray15\"              \n",
              "[169] \"gray16\"               \"gray17\"               \"gray18\"              \n",
              "[172] \"gray19\"               \"gray20\"               \"gray21\"              \n",
              "[175] \"gray22\"               \"gray23\"               \"gray24\"              \n",
              "[178] \"gray25\"               \"gray26\"               \"gray27\"              \n",
              "[181] \"gray28\"               \"gray29\"               \"gray30\"              \n",
              "[184] \"gray31\"               \"gray32\"               \"gray33\"              \n",
              "[187] \"gray34\"               \"gray35\"               \"gray36\"              \n",
              "[190] \"gray37\"               \"gray38\"               \"gray39\"              \n",
              "[193] \"gray40\"               \"gray41\"               \"gray42\"              \n",
              "[196] \"gray43\"               \"gray44\"               \"gray45\"              \n",
              "[199] \"gray46\"               \"gray47\"               \"gray48\"              \n",
              "[202] \"gray49\"               \"gray50\"               \"gray51\"              \n",
              "[205] \"gray52\"               \"gray53\"               \"gray54\"              \n",
              "[208] \"gray55\"               \"gray56\"               \"gray57\"              \n",
              "[211] \"gray58\"               \"gray59\"               \"gray60\"              \n",
              "[214] \"gray61\"               \"gray62\"               \"gray63\"              \n",
              "[217] \"gray64\"               \"gray65\"               \"gray66\"              \n",
              "[220] \"gray67\"               \"gray68\"               \"gray69\"              \n",
              "[223] \"gray70\"               \"gray71\"               \"gray72\"              \n",
              "[226] \"gray73\"               \"gray74\"               \"gray75\"              \n",
              "[229] \"gray76\"               \"gray77\"               \"gray78\"              \n",
              "[232] \"gray79\"               \"gray80\"               \"gray81\"              \n",
              "[235] \"gray82\"               \"gray83\"               \"gray84\"              \n",
              "[238] \"gray85\"               \"gray86\"               \"gray87\"              \n",
              "[241] \"gray88\"               \"gray89\"               \"gray90\"              \n",
              "[244] \"gray91\"               \"gray92\"               \"gray93\"              \n",
              "[247] \"gray94\"               \"gray95\"               \"gray96\"              \n",
              "[250] \"gray97\"               \"gray98\"               \"gray99\"              \n",
              "[253] \"gray100\"              \"green\"                \"green1\"              \n",
              "[256] \"green2\"               \"green3\"               \"green4\"              \n",
              "[259] \"greenyellow\"          \"grey\"                 \"grey0\"               \n",
              "[262] \"grey1\"                \"grey2\"                \"grey3\"               \n",
              "[265] \"grey4\"                \"grey5\"                \"grey6\"               \n",
              "[268] \"grey7\"                \"grey8\"                \"grey9\"               \n",
              "[271] \"grey10\"               \"grey11\"               \"grey12\"              \n",
              "[274] \"grey13\"               \"grey14\"               \"grey15\"              \n",
              "[277] \"grey16\"               \"grey17\"               \"grey18\"              \n",
              "[280] \"grey19\"               \"grey20\"               \"grey21\"              \n",
              "[283] \"grey22\"               \"grey23\"               \"grey24\"              \n",
              "[286] \"grey25\"               \"grey26\"               \"grey27\"              \n",
              "[289] \"grey28\"               \"grey29\"               \"grey30\"              \n",
              "[292] \"grey31\"               \"grey32\"               \"grey33\"              \n",
              "[295] \"grey34\"               \"grey35\"               \"grey36\"              \n",
              "[298] \"grey37\"               \"grey38\"               \"grey39\"              \n",
              "[301] \"grey40\"               \"grey41\"               \"grey42\"              \n",
              "[304] \"grey43\"               \"grey44\"               \"grey45\"              \n",
              "[307] \"grey46\"               \"grey47\"               \"grey48\"              \n",
              "[310] \"grey49\"               \"grey50\"               \"grey51\"              \n",
              "[313] \"grey52\"               \"grey53\"               \"grey54\"              \n",
              "[316] \"grey55\"               \"grey56\"               \"grey57\"              \n",
              "[319] \"grey58\"               \"grey59\"               \"grey60\"              \n",
              "[322] \"grey61\"               \"grey62\"               \"grey63\"              \n",
              "[325] \"grey64\"               \"grey65\"               \"grey66\"              \n",
              "[328] \"grey67\"               \"grey68\"               \"grey69\"              \n",
              "[331] \"grey70\"               \"grey71\"               \"grey72\"              \n",
              "[334] \"grey73\"               \"grey74\"               \"grey75\"              \n",
              "[337] \"grey76\"               \"grey77\"               \"grey78\"              \n",
              "[340] \"grey79\"               \"grey80\"               \"grey81\"              \n",
              "[343] \"grey82\"               \"grey83\"               \"grey84\"              \n",
              "[346] \"grey85\"               \"grey86\"               \"grey87\"              \n",
              "[349] \"grey88\"               \"grey89\"               \"grey90\"              \n",
              "[352] \"grey91\"               \"grey92\"               \"grey93\"              \n",
              "[355] \"grey94\"               \"grey95\"               \"grey96\"              \n",
              "[358] \"grey97\"               \"grey98\"               \"grey99\"              \n",
              "[361] \"grey100\"              \"honeydew\"             \"honeydew1\"           \n",
              "[364] \"honeydew2\"            \"honeydew3\"            \"honeydew4\"           \n",
              "[367] \"hotpink\"              \"hotpink1\"             \"hotpink2\"            \n",
              "[370] \"hotpink3\"             \"hotpink4\"             \"indianred\"           \n",
              "[373] \"indianred1\"           \"indianred2\"           \"indianred3\"          \n",
              "[376] \"indianred4\"           \"ivory\"                \"ivory1\"              \n",
              "[379] \"ivory2\"               \"ivory3\"               \"ivory4\"              \n",
              "[382] \"khaki\"                \"khaki1\"               \"khaki2\"              \n",
              "[385] \"khaki3\"               \"khaki4\"               \"lavender\"            \n",
              "[388] \"lavenderblush\"        \"lavenderblush1\"       \"lavenderblush2\"      \n",
              "[391] \"lavenderblush3\"       \"lavenderblush4\"       \"lawngreen\"           \n",
              "[394] \"lemonchiffon\"         \"lemonchiffon1\"        \"lemonchiffon2\"       \n",
              "[397] \"lemonchiffon3\"        \"lemonchiffon4\"        \"lightblue\"           \n",
              "[400] \"lightblue1\"           \"lightblue2\"           \"lightblue3\"          \n",
              "[403] \"lightblue4\"           \"lightcoral\"           \"lightcyan\"           \n",
              "[406] \"lightcyan1\"           \"lightcyan2\"           \"lightcyan3\"          \n",
              "[409] \"lightcyan4\"           \"lightgoldenrod\"       \"lightgoldenrod1\"     \n",
              "[412] \"lightgoldenrod2\"      \"lightgoldenrod3\"      \"lightgoldenrod4\"     \n",
              "[415] \"lightgoldenrodyellow\" \"lightgray\"            \"lightgreen\"          \n",
              "[418] \"lightgrey\"            \"lightpink\"            \"lightpink1\"          \n",
              "[421] \"lightpink2\"           \"lightpink3\"           \"lightpink4\"          \n",
              "[424] \"lightsalmon\"          \"lightsalmon1\"         \"lightsalmon2\"        \n",
              "[427] \"lightsalmon3\"         \"lightsalmon4\"         \"lightseagreen\"       \n",
              "[430] \"lightskyblue\"         \"lightskyblue1\"        \"lightskyblue2\"       \n",
              "[433] \"lightskyblue3\"        \"lightskyblue4\"        \"lightslateblue\"      \n",
              "[436] \"lightslategray\"       \"lightslategrey\"       \"lightsteelblue\"      \n",
              "[439] \"lightsteelblue1\"      \"lightsteelblue2\"      \"lightsteelblue3\"     \n",
              "[442] \"lightsteelblue4\"      \"lightyellow\"          \"lightyellow1\"        \n",
              "[445] \"lightyellow2\"         \"lightyellow3\"         \"lightyellow4\"        \n",
              "[448] \"limegreen\"            \"linen\"                \"magenta\"             \n",
              "[451] \"magenta1\"             \"magenta2\"             \"magenta3\"            \n",
              "[454] \"magenta4\"             \"maroon\"               \"maroon1\"             \n",
              "[457] \"maroon2\"              \"maroon3\"              \"maroon4\"             \n",
              "[460] \"mediumaquamarine\"     \"mediumblue\"           \"mediumorchid\"        \n",
              "[463] \"mediumorchid1\"        \"mediumorchid2\"        \"mediumorchid3\"       \n",
              "[466] \"mediumorchid4\"        \"mediumpurple\"         \"mediumpurple1\"       \n",
              "[469] \"mediumpurple2\"        \"mediumpurple3\"        \"mediumpurple4\"       \n",
              "[472] \"mediumseagreen\"       \"mediumslateblue\"      \"mediumspringgreen\"   \n",
              "[475] \"mediumturquoise\"      \"mediumvioletred\"      \"midnightblue\"        \n",
              "[478] \"mintcream\"            \"mistyrose\"            \"mistyrose1\"          \n",
              "[481] \"mistyrose2\"           \"mistyrose3\"           \"mistyrose4\"          \n",
              "[484] \"moccasin\"             \"navajowhite\"          \"navajowhite1\"        \n",
              "[487] \"navajowhite2\"         \"navajowhite3\"         \"navajowhite4\"        \n",
              "[490] \"navy\"                 \"navyblue\"             \"oldlace\"             \n",
              "[493] \"olivedrab\"            \"olivedrab1\"           \"olivedrab2\"          \n",
              "[496] \"olivedrab3\"           \"olivedrab4\"           \"orange\"              \n",
              "[499] \"orange1\"              \"orange2\"              \"orange3\"             \n",
              "[502] \"orange4\"              \"orangered\"            \"orangered1\"          \n",
              "[505] \"orangered2\"           \"orangered3\"           \"orangered4\"          \n",
              "[508] \"orchid\"               \"orchid1\"              \"orchid2\"             \n",
              "[511] \"orchid3\"              \"orchid4\"              \"palegoldenrod\"       \n",
              "[514] \"palegreen\"            \"palegreen1\"           \"palegreen2\"          \n",
              "[517] \"palegreen3\"           \"palegreen4\"           \"paleturquoise\"       \n",
              "[520] \"paleturquoise1\"       \"paleturquoise2\"       \"paleturquoise3\"      \n",
              "[523] \"paleturquoise4\"       \"palevioletred\"        \"palevioletred1\"      \n",
              "[526] \"palevioletred2\"       \"palevioletred3\"       \"palevioletred4\"      \n",
              "[529] \"papayawhip\"           \"peachpuff\"            \"peachpuff1\"          \n",
              "[532] \"peachpuff2\"           \"peachpuff3\"           \"peachpuff4\"          \n",
              "[535] \"peru\"                 \"pink\"                 \"pink1\"               \n",
              "[538] \"pink2\"                \"pink3\"                \"pink4\"               \n",
              "[541] \"plum\"                 \"plum1\"                \"plum2\"               \n",
              "[544] \"plum3\"                \"plum4\"                \"powderblue\"          \n",
              "[547] \"purple\"               \"purple1\"              \"purple2\"             \n",
              "[550] \"purple3\"              \"purple4\"              \"red\"                 \n",
              "[553] \"red1\"                 \"red2\"                 \"red3\"                \n",
              "[556] \"red4\"                 \"rosybrown\"            \"rosybrown1\"          \n",
              "[559] \"rosybrown2\"           \"rosybrown3\"           \"rosybrown4\"          \n",
              "[562] \"royalblue\"            \"royalblue1\"           \"royalblue2\"          \n",
              "[565] \"royalblue3\"           \"royalblue4\"           \"saddlebrown\"         \n",
              "[568] \"salmon\"               \"salmon1\"              \"salmon2\"             \n",
              "[571] \"salmon3\"              \"salmon4\"              \"sandybrown\"          \n",
              "[574] \"seagreen\"             \"seagreen1\"            \"seagreen2\"           \n",
              "[577] \"seagreen3\"            \"seagreen4\"            \"seashell\"            \n",
              "[580] \"seashell1\"            \"seashell2\"            \"seashell3\"           \n",
              "[583] \"seashell4\"            \"sienna\"               \"sienna1\"             \n",
              "[586] \"sienna2\"              \"sienna3\"              \"sienna4\"             \n",
              "[589] \"skyblue\"              \"skyblue1\"             \"skyblue2\"            \n",
              "[592] \"skyblue3\"             \"skyblue4\"             \"slateblue\"           \n",
              "[595] \"slateblue1\"           \"slateblue2\"           \"slateblue3\"          \n",
              "[598] \"slateblue4\"           \"slategray\"            \"slategray1\"          \n",
              "[601] \"slategray2\"           \"slategray3\"           \"slategray4\"          \n",
              "[604] \"slategrey\"            \"snow\"                 \"snow1\"               \n",
              "[607] \"snow2\"                \"snow3\"                \"snow4\"               \n",
              "[610] \"springgreen\"          \"springgreen1\"         \"springgreen2\"        \n",
              "[613] \"springgreen3\"         \"springgreen4\"         \"steelblue\"           \n",
              "[616] \"steelblue1\"           \"steelblue2\"           \"steelblue3\"          \n",
              "[619] \"steelblue4\"           \"tan\"                  \"tan1\"                \n",
              "[622] \"tan2\"                 \"tan3\"                 \"tan4\"                \n",
              "[625] \"thistle\"              \"thistle1\"             \"thistle2\"            \n",
              "[628] \"thistle3\"             \"thistle4\"             \"tomato\"              \n",
              "[631] \"tomato1\"              \"tomato2\"              \"tomato3\"             \n",
              "[634] \"tomato4\"              \"turquoise\"            \"turquoise1\"          \n",
              "[637] \"turquoise2\"           \"turquoise3\"           \"turquoise4\"          \n",
              "[640] \"violet\"               \"violetred\"            \"violetred1\"          \n",
              "[643] \"violetred2\"           \"violetred3\"           \"violetred4\"          \n",
              "[646] \"wheat\"                \"wheat1\"               \"wheat2\"              \n",
              "[649] \"wheat3\"               \"wheat4\"               \"whitesmoke\"          \n",
              "[652] \"yellow\"               \"yellow1\"              \"yellow2\"             \n",
              "[655] \"yellow3\"              \"yellow4\"              \"yellowgreen\"         "
            ]
          },
          "metadata": {}
        }
      ]
    },
    {
      "cell_type": "code",
      "source": [
        "# default colours (palette)\n",
        "palette()"
      ],
      "metadata": {
        "colab": {
          "base_uri": "https://localhost:8080/",
          "height": 34
        },
        "id": "EkhEbkfQlg7m",
        "outputId": "61ac85cf-08f7-48df-f807-ef964c334b2c"
      },
      "execution_count": 137,
      "outputs": [
        {
          "output_type": "display_data",
          "data": {
            "text/html": [
              "<style>\n",
              ".list-inline {list-style: none; margin:0; padding: 0}\n",
              ".list-inline>li {display: inline-block}\n",
              ".list-inline>li:not(:last-child)::after {content: \"\\00b7\"; padding: 0 .5ex}\n",
              "</style>\n",
              "<ol class=list-inline><li>'black'</li><li>'#DF536B'</li><li>'#61D04F'</li><li>'#2297E6'</li><li>'#28E2E5'</li><li>'#CD0BBC'</li><li>'#F5C710'</li><li>'gray62'</li></ol>\n"
            ],
            "text/markdown": "1. 'black'\n2. '#DF536B'\n3. '#61D04F'\n4. '#2297E6'\n5. '#28E2E5'\n6. '#CD0BBC'\n7. '#F5C710'\n8. 'gray62'\n\n\n",
            "text/latex": "\\begin{enumerate*}\n\\item 'black'\n\\item '\\#DF536B'\n\\item '\\#61D04F'\n\\item '\\#2297E6'\n\\item '\\#28E2E5'\n\\item '\\#CD0BBC'\n\\item '\\#F5C710'\n\\item 'gray62'\n\\end{enumerate*}\n",
            "text/plain": [
              "[1] \"black\"   \"#DF536B\" \"#61D04F\" \"#2297E6\" \"#28E2E5\" \"#CD0BBC\" \"#F5C710\"\n",
              "[8] \"gray62\" "
            ]
          },
          "metadata": {}
        }
      ]
    },
    {
      "cell_type": "code",
      "source": [
        "# Change palette colors\n",
        "palette(sample(colors(), 10))\n",
        "plot(runif(50), col = rep(1:10, each = 5), pch = 16, cex = 2)\n",
        "\n",
        "# Re-run the code again"
      ],
      "metadata": {
        "colab": {
          "base_uri": "https://localhost:8080/",
          "height": 437
        },
        "id": "kc208SGWlh5h",
        "outputId": "b8e67da9-342d-4a36-e4d3-d20d7181198b"
      },
      "execution_count": 149,
      "outputs": [
        {
          "output_type": "display_data",
          "data": {
            "text/plain": [
              "plot without title"
            ],
            "image/png": "[encoded data removed]"
          },
          "metadata": {
            "image/png": {
              "width": 420,
              "height": 420
            }
          }
        }
      ]
    },
    {
      "cell_type": "markdown",
      "source": [
        "---\n",
        "## **4.9 Histogram Plotting - Frequency Plotting**\n",
        "---"
      ],
      "metadata": {
        "id": "392yti5To-R1"
      }
    },
    {
      "cell_type": "code",
      "source": [
        "# create a grouping variable of length 100\n",
        "a <- factor(sample(1:5, 100, replace = TRUE), levels = 1:5)\n",
        "a\n",
        "levels(a) <- LETTERS[1:5]\n",
        "a"
      ],
      "metadata": {
        "colab": {
          "base_uri": "https://localhost:8080/",
          "height": 121
        },
        "outputId": "750fe838-32a0-4e48-b5c2-92f4ec6a8e20",
        "id": "KvMaUf7Po-R3"
      },
      "execution_count": 139,
      "outputs": [
        {
          "output_type": "display_data",
          "data": {
            "text/html": [
              "<style>\n",
              ".list-inline {list-style: none; margin:0; padding: 0}\n",
              ".list-inline>li {display: inline-block}\n",
              ".list-inline>li:not(:last-child)::after {content: \"\\00b7\"; padding: 0 .5ex}\n",
              "</style>\n",
              "<ol class=list-inline><li>4</li><li>1</li><li>3</li><li>4</li><li>1</li><li>4</li><li>2</li><li>3</li><li>3</li><li>4</li><li>1</li><li>3</li><li>1</li><li>2</li><li>2</li><li>3</li><li>3</li><li>1</li><li>3</li><li>4</li><li>2</li><li>4</li><li>3</li><li>2</li><li>1</li><li>5</li><li>1</li><li>3</li><li>3</li><li>1</li><li>4</li><li>3</li><li>2</li><li>4</li><li>2</li><li>2</li><li>1</li><li>2</li><li>4</li><li>5</li><li>4</li><li>2</li><li>1</li><li>2</li><li>3</li><li>1</li><li>3</li><li>2</li><li>5</li><li>4</li><li>1</li><li>1</li><li>2</li><li>1</li><li>5</li><li>5</li><li>2</li><li>4</li><li>4</li><li>5</li><li>4</li><li>1</li><li>5</li><li>3</li><li>4</li><li>5</li><li>5</li><li>2</li><li>2</li><li>2</li><li>1</li><li>5</li><li>5</li><li>3</li><li>2</li><li>5</li><li>2</li><li>4</li><li>4</li><li>3</li><li>5</li><li>4</li><li>3</li><li>1</li><li>5</li><li>1</li><li>1</li><li>1</li><li>4</li><li>1</li><li>2</li><li>1</li><li>3</li><li>4</li><li>3</li><li>2</li><li>1</li><li>4</li><li>5</li><li>5</li></ol>\n",
              "\n",
              "<details>\n",
              "\t<summary style=display:list-item;cursor:pointer>\n",
              "\t\t<strong>Levels</strong>:\n",
              "\t</summary>\n",
              "\t<style>\n",
              "\t.list-inline {list-style: none; margin:0; padding: 0}\n",
              "\t.list-inline>li {display: inline-block}\n",
              "\t.list-inline>li:not(:last-child)::after {content: \"\\00b7\"; padding: 0 .5ex}\n",
              "\t</style>\n",
              "\t<ol class=list-inline><li>'1'</li><li>'2'</li><li>'3'</li><li>'4'</li><li>'5'</li></ol>\n",
              "</details>"
            ],
            "text/markdown": "1. 4\n2. 1\n3. 3\n4. 4\n5. 1\n6. 4\n7. 2\n8. 3\n9. 3\n10. 4\n11. 1\n12. 3\n13. 1\n14. 2\n15. 2\n16. 3\n17. 3\n18. 1\n19. 3\n20. 4\n21. 2\n22. 4\n23. 3\n24. 2\n25. 1\n26. 5\n27. 1\n28. 3\n29. 3\n30. 1\n31. 4\n32. 3\n33. 2\n34. 4\n35. 2\n36. 2\n37. 1\n38. 2\n39. 4\n40. 5\n41. 4\n42. 2\n43. 1\n44. 2\n45. 3\n46. 1\n47. 3\n48. 2\n49. 5\n50. 4\n51. 1\n52. 1\n53. 2\n54. 1\n55. 5\n56. 5\n57. 2\n58. 4\n59. 4\n60. 5\n61. 4\n62. 1\n63. 5\n64. 3\n65. 4\n66. 5\n67. 5\n68. 2\n69. 2\n70. 2\n71. 1\n72. 5\n73. 5\n74. 3\n75. 2\n76. 5\n77. 2\n78. 4\n79. 4\n80. 3\n81. 5\n82. 4\n83. 3\n84. 1\n85. 5\n86. 1\n87. 1\n88. 1\n89. 4\n90. 1\n91. 2\n92. 1\n93. 3\n94. 4\n95. 3\n96. 2\n97. 1\n98. 4\n99. 5\n100. 5\n\n\n\n**Levels**: 1. '1'\n2. '2'\n3. '3'\n4. '4'\n5. '5'\n\n\n",
            "text/latex": "\\begin{enumerate*}\n\\item 4\n\\item 1\n\\item 3\n\\item 4\n\\item 1\n\\item 4\n\\item 2\n\\item 3\n\\item 3\n\\item 4\n\\item 1\n\\item 3\n\\item 1\n\\item 2\n\\item 2\n\\item 3\n\\item 3\n\\item 1\n\\item 3\n\\item 4\n\\item 2\n\\item 4\n\\item 3\n\\item 2\n\\item 1\n\\item 5\n\\item 1\n\\item 3\n\\item 3\n\\item 1\n\\item 4\n\\item 3\n\\item 2\n\\item 4\n\\item 2\n\\item 2\n\\item 1\n\\item 2\n\\item 4\n\\item 5\n\\item 4\n\\item 2\n\\item 1\n\\item 2\n\\item 3\n\\item 1\n\\item 3\n\\item 2\n\\item 5\n\\item 4\n\\item 1\n\\item 1\n\\item 2\n\\item 1\n\\item 5\n\\item 5\n\\item 2\n\\item 4\n\\item 4\n\\item 5\n\\item 4\n\\item 1\n\\item 5\n\\item 3\n\\item 4\n\\item 5\n\\item 5\n\\item 2\n\\item 2\n\\item 2\n\\item 1\n\\item 5\n\\item 5\n\\item 3\n\\item 2\n\\item 5\n\\item 2\n\\item 4\n\\item 4\n\\item 3\n\\item 5\n\\item 4\n\\item 3\n\\item 1\n\\item 5\n\\item 1\n\\item 1\n\\item 1\n\\item 4\n\\item 1\n\\item 2\n\\item 1\n\\item 3\n\\item 4\n\\item 3\n\\item 2\n\\item 1\n\\item 4\n\\item 5\n\\item 5\n\\end{enumerate*}\n\n\\emph{Levels}: \\begin{enumerate*}\n\\item '1'\n\\item '2'\n\\item '3'\n\\item '4'\n\\item '5'\n\\end{enumerate*}\n",
            "text/plain": [
              "  [1] 4 1 3 4 1 4 2 3 3 4 1 3 1 2 2 3 3 1 3 4 2 4 3 2 1 5 1 3 3 1 4 3 2 4 2 2 1\n",
              " [38] 2 4 5 4 2 1 2 3 1 3 2 5 4 1 1 2 1 5 5 2 4 4 5 4 1 5 3 4 5 5 2 2 2 1 5 5 3\n",
              " [75] 2 5 2 4 4 3 5 4 3 1 5 1 1 1 4 1 2 1 3 4 3 2 1 4 5 5\n",
              "Levels: 1 2 3 4 5"
            ]
          },
          "metadata": {}
        },
        {
          "output_type": "display_data",
          "data": {
            "text/html": [
              "<style>\n",
              ".list-inline {list-style: none; margin:0; padding: 0}\n",
              ".list-inline>li {display: inline-block}\n",
              ".list-inline>li:not(:last-child)::after {content: \"\\00b7\"; padding: 0 .5ex}\n",
              "</style>\n",
              "<ol class=list-inline><li>D</li><li>A</li><li>C</li><li>D</li><li>A</li><li>D</li><li>B</li><li>C</li><li>C</li><li>D</li><li>A</li><li>C</li><li>A</li><li>B</li><li>B</li><li>C</li><li>C</li><li>A</li><li>C</li><li>D</li><li>B</li><li>D</li><li>C</li><li>B</li><li>A</li><li>E</li><li>A</li><li>C</li><li>C</li><li>A</li><li>D</li><li>C</li><li>B</li><li>D</li><li>B</li><li>B</li><li>A</li><li>B</li><li>D</li><li>E</li><li>D</li><li>B</li><li>A</li><li>B</li><li>C</li><li>A</li><li>C</li><li>B</li><li>E</li><li>D</li><li>A</li><li>A</li><li>B</li><li>A</li><li>E</li><li>E</li><li>B</li><li>D</li><li>D</li><li>E</li><li>D</li><li>A</li><li>E</li><li>C</li><li>D</li><li>E</li><li>E</li><li>B</li><li>B</li><li>B</li><li>A</li><li>E</li><li>E</li><li>C</li><li>B</li><li>E</li><li>B</li><li>D</li><li>D</li><li>C</li><li>E</li><li>D</li><li>C</li><li>A</li><li>E</li><li>A</li><li>A</li><li>A</li><li>D</li><li>A</li><li>B</li><li>A</li><li>C</li><li>D</li><li>C</li><li>B</li><li>A</li><li>D</li><li>E</li><li>E</li></ol>\n",
              "\n",
              "<details>\n",
              "\t<summary style=display:list-item;cursor:pointer>\n",
              "\t\t<strong>Levels</strong>:\n",
              "\t</summary>\n",
              "\t<style>\n",
              "\t.list-inline {list-style: none; margin:0; padding: 0}\n",
              "\t.list-inline>li {display: inline-block}\n",
              "\t.list-inline>li:not(:last-child)::after {content: \"\\00b7\"; padding: 0 .5ex}\n",
              "\t</style>\n",
              "\t<ol class=list-inline><li>'A'</li><li>'B'</li><li>'C'</li><li>'D'</li><li>'E'</li></ol>\n",
              "</details>"
            ],
            "text/markdown": "1. D\n2. A\n3. C\n4. D\n5. A\n6. D\n7. B\n8. C\n9. C\n10. D\n11. A\n12. C\n13. A\n14. B\n15. B\n16. C\n17. C\n18. A\n19. C\n20. D\n21. B\n22. D\n23. C\n24. B\n25. A\n26. E\n27. A\n28. C\n29. C\n30. A\n31. D\n32. C\n33. B\n34. D\n35. B\n36. B\n37. A\n38. B\n39. D\n40. E\n41. D\n42. B\n43. A\n44. B\n45. C\n46. A\n47. C\n48. B\n49. E\n50. D\n51. A\n52. A\n53. B\n54. A\n55. E\n56. E\n57. B\n58. D\n59. D\n60. E\n61. D\n62. A\n63. E\n64. C\n65. D\n66. E\n67. E\n68. B\n69. B\n70. B\n71. A\n72. E\n73. E\n74. C\n75. B\n76. E\n77. B\n78. D\n79. D\n80. C\n81. E\n82. D\n83. C\n84. A\n85. E\n86. A\n87. A\n88. A\n89. D\n90. A\n91. B\n92. A\n93. C\n94. D\n95. C\n96. B\n97. A\n98. D\n99. E\n100. E\n\n\n\n**Levels**: 1. 'A'\n2. 'B'\n3. 'C'\n4. 'D'\n5. 'E'\n\n\n",
            "text/latex": "\\begin{enumerate*}\n\\item D\n\\item A\n\\item C\n\\item D\n\\item A\n\\item D\n\\item B\n\\item C\n\\item C\n\\item D\n\\item A\n\\item C\n\\item A\n\\item B\n\\item B\n\\item C\n\\item C\n\\item A\n\\item C\n\\item D\n\\item B\n\\item D\n\\item C\n\\item B\n\\item A\n\\item E\n\\item A\n\\item C\n\\item C\n\\item A\n\\item D\n\\item C\n\\item B\n\\item D\n\\item B\n\\item B\n\\item A\n\\item B\n\\item D\n\\item E\n\\item D\n\\item B\n\\item A\n\\item B\n\\item C\n\\item A\n\\item C\n\\item B\n\\item E\n\\item D\n\\item A\n\\item A\n\\item B\n\\item A\n\\item E\n\\item E\n\\item B\n\\item D\n\\item D\n\\item E\n\\item D\n\\item A\n\\item E\n\\item C\n\\item D\n\\item E\n\\item E\n\\item B\n\\item B\n\\item B\n\\item A\n\\item E\n\\item E\n\\item C\n\\item B\n\\item E\n\\item B\n\\item D\n\\item D\n\\item C\n\\item E\n\\item D\n\\item C\n\\item A\n\\item E\n\\item A\n\\item A\n\\item A\n\\item D\n\\item A\n\\item B\n\\item A\n\\item C\n\\item D\n\\item C\n\\item B\n\\item A\n\\item D\n\\item E\n\\item E\n\\end{enumerate*}\n\n\\emph{Levels}: \\begin{enumerate*}\n\\item 'A'\n\\item 'B'\n\\item 'C'\n\\item 'D'\n\\item 'E'\n\\end{enumerate*}\n",
            "text/plain": [
              "  [1] D A C D A D B C C D A C A B B C C A C D B D C B A E A C C A D C B D B B A\n",
              " [38] B D E D B A B C A C B E D A A B A E E B D D E D A E C D E E B B B A E E C\n",
              " [75] B E B D D C E D C A E A A A D A B A C D C B A D E E\n",
              "Levels: A B C D E"
            ]
          },
          "metadata": {}
        }
      ]
    },
    {
      "cell_type": "code",
      "source": [
        "# Histogram\n",
        "plot(a)"
      ],
      "metadata": {
        "colab": {
          "base_uri": "https://localhost:8080/",
          "height": 437
        },
        "id": "YZWG-Zz7pJeq",
        "outputId": "05b8a17b-530b-4f27-97e8-912f53990d65"
      },
      "execution_count": 140,
      "outputs": [
        {
          "output_type": "display_data",
          "data": {
            "text/plain": [
              "plot without title"
            ],
            "image/png": "[encoded data removed]"
          },
          "metadata": {
            "image/png": {
              "width": 420,
              "height": 420
            }
          }
        }
      ]
    },
    {
      "cell_type": "code",
      "source": [
        "# Box Plot\n",
        "plot(y ~ a)"
      ],
      "metadata": {
        "colab": {
          "base_uri": "https://localhost:8080/",
          "height": 437
        },
        "id": "xZH4lJTtpcF9",
        "outputId": "5dadc65e-9518-4fd7-f463-7bdb97bd87cc"
      },
      "execution_count": 141,
      "outputs": [
        {
          "output_type": "display_data",
          "data": {
            "text/plain": [
              "plot without title"
            ],
            "image/png": "[encoded data removed]"
          },
          "metadata": {
            "image/png": {
              "width": 420,
              "height": 420
            }
          }
        }
      ]
    },
    {
      "cell_type": "markdown",
      "source": [
        "---\n",
        "## **4.10 Function Plotting**\n",
        "---"
      ],
      "metadata": {
        "id": "Z-zzfHgB15f3"
      }
    },
    {
      "cell_type": "code",
      "source": [
        "plot(sin, from = -2 * pi, to = 2 * pi)"
      ],
      "metadata": {
        "id": "Cs7olKLo15f6"
      },
      "execution_count": null,
      "outputs": []
    },
    {
      "cell_type": "code",
      "source": [
        "plot(cos, from = -2 * pi, to = 2 * pi)"
      ],
      "metadata": {
        "id": "8L6FlK4e2CoV"
      },
      "execution_count": null,
      "outputs": []
    },
    {
      "cell_type": "code",
      "source": [
        " # Sign function\n",
        " damped_sin <- function(x) sin(5 * x) * exp(-x^2)"
      ],
      "metadata": {
        "id": "TIJ-1Dtz2GcJ"
      },
      "execution_count": null,
      "outputs": []
    },
    {
      "cell_type": "code",
      "source": [
        "class(damped_sin)"
      ],
      "metadata": {
        "id": "2ucuGinw2RXy"
      },
      "execution_count": null,
      "outputs": []
    },
    {
      "cell_type": "code",
      "source": [
        "plot(damped_sin, from = -pi, to = pi)"
      ],
      "metadata": {
        "id": "msV49Ob52R2Q"
      },
      "execution_count": null,
      "outputs": []
    },
    {
      "cell_type": "markdown",
      "source": [
        "---\n",
        "# **5. Working with iris Dataset using dplyr**\n",
        "---\n",
        "## **5.1 Import the iris**"
      ],
      "metadata": {
        "id": "li5M7YwOp9Lq"
      }
    },
    {
      "cell_type": "code",
      "source": [
        "data(iris)"
      ],
      "metadata": {
        "id": "j-nAN4lp9TKm"
      },
      "execution_count": null,
      "outputs": []
    },
    {
      "cell_type": "code",
      "source": [
        "# Plot iris\n",
        "plot(iris)"
      ],
      "metadata": {
        "id": "S1s4l5wf9GNF"
      },
      "execution_count": null,
      "outputs": []
    },
    {
      "cell_type": "code",
      "source": [
        "# color by Species\n",
        "plot(iris[1:4], col = as.numeric(iris$Species))"
      ],
      "metadata": {
        "id": "fouuT7uw88PB"
      },
      "execution_count": null,
      "outputs": []
    },
    {
      "cell_type": "markdown",
      "source": [
        "---\n",
        "## **5.2 Library inclusion**\n",
        "---"
      ],
      "metadata": {
        "id": "ixy_kpeX8-Ac"
      }
    },
    {
      "cell_type": "code",
      "source": [
        "# install.packages(\"dplyr\")\n",
        "library(dplyr)\n",
        "\n",
        "# Re-run again"
      ],
      "metadata": {
        "id": "sosf41zBp9Ls"
      },
      "execution_count": null,
      "outputs": []
    },
    {
      "cell_type": "markdown",
      "source": [
        "---\n",
        "## **5.3 Working with Select()**\n",
        "---"
      ],
      "metadata": {
        "id": "dOovhrtA7Nv6"
      }
    },
    {
      "cell_type": "code",
      "source": [
        "#To select the following columns\n",
        "selected <- select(iris, Sepal.Length, Sepal.Width, Petal.Length)\n",
        "head(selected)"
      ],
      "metadata": {
        "id": "QYQbKY177Nv9"
      },
      "execution_count": null,
      "outputs": []
    },
    {
      "cell_type": "code",
      "source": [
        "#To select all columns from Sepal.Length to Petal.Length\n",
        "selected1 <- select(iris, Sepal.Length:Petal.Length)\n",
        "head(selected1)"
      ],
      "metadata": {
        "id": "RwthP4Qz7xDO"
      },
      "execution_count": null,
      "outputs": []
    },
    {
      "cell_type": "code",
      "source": [
        "#To select columns with numeric indexes\n",
        "selected1 <- select(iris,c(3:5))\n",
        "head(selected1)"
      ],
      "metadata": {
        "id": "rT_PLGeD7z7S"
      },
      "execution_count": null,
      "outputs": []
    },
    {
      "cell_type": "code",
      "source": [
        "#We use(-)to hide a particular column\n",
        "selected <- select(iris, -Sepal.Length, -Sepal.Width)\n",
        "head(selected)"
      ],
      "metadata": {
        "id": "Q-oCVxwG9qf-"
      },
      "execution_count": null,
      "outputs": []
    },
    {
      "cell_type": "markdown",
      "source": [
        "---\n",
        "## **5.4 Working with filter()**\n",
        "---"
      ],
      "metadata": {
        "id": "MJ-nZI_r9xef"
      }
    },
    {
      "cell_type": "code",
      "source": [
        "#To select the first 3 rows with Species as setosa\n",
        "filtered <- filter(iris, Species == \"setosa\" )\n",
        "head(filtered)"
      ],
      "metadata": {
        "id": "OG0BW9lw9xeh"
      },
      "execution_count": null,
      "outputs": []
    },
    {
      "cell_type": "code",
      "source": [
        "#To select the last 5 rows with Species as versicolor and Sepal width more than 3\n",
        "filtered1 <- filter(iris, Species == \"versicolor\", Sepal.Width > 3)\n",
        "tail(filtered1)"
      ],
      "metadata": {
        "id": "ZActkG6N9-LF"
      },
      "execution_count": null,
      "outputs": []
    },
    {
      "cell_type": "markdown",
      "source": [
        "---\n",
        "## **5.5 Working with Mutate()**\n",
        "---"
      ],
      "metadata": {
        "id": "gRPnW7YG-NJE"
      }
    },
    {
      "cell_type": "code",
      "source": [
        "#To create a column “Greater.Half” which stores TRUE if given condition is TRUE\n",
        "col1 <- mutate(iris, Greater.Half = Sepal.Width > 0.5 * Sepal.Length)\n",
        "tail(col1)"
      ],
      "metadata": {
        "id": "s2PwcjXf-NJF"
      },
      "execution_count": null,
      "outputs": []
    },
    {
      "cell_type": "code",
      "source": [
        "#To check how many flowers satisfy this condition\n",
        "table(col1$Greater.Half)"
      ],
      "metadata": {
        "id": "O4x3vw55-dQs"
      },
      "execution_count": null,
      "outputs": []
    },
    {
      "cell_type": "markdown",
      "source": [
        "---\n",
        "## **5.6 Working with Arrange()**\n",
        "---"
      ],
      "metadata": {
        "id": "gDq504zZ-iRo"
      }
    },
    {
      "cell_type": "code",
      "source": [
        "#To arrange Sepal Width in ascending order\n",
        "arranged <- arrange(col1, Sepal.Width)\n",
        "head(arranged)"
      ],
      "metadata": {
        "id": "EPUuHV4G-iRp"
      },
      "execution_count": null,
      "outputs": []
    },
    {
      "cell_type": "code",
      "source": [
        "#To arrange Sepal Width in descending order\n",
        "arranged <- arrange(col1, desc(Sepal.Width))\n",
        "head(arranged)"
      ],
      "metadata": {
        "id": "NO8Cmw8y-r_U"
      },
      "execution_count": null,
      "outputs": []
    },
    {
      "cell_type": "markdown",
      "source": [
        "---\n",
        "## **5.7 Working with Arrange()**\n",
        "---"
      ],
      "metadata": {
        "id": "_S4-S3aQ-6-l"
      }
    },
    {
      "cell_type": "code",
      "source": [
        "#To arrange Sepal Width in ascending order\n",
        "arranged <- arrange(col1, Sepal.Width)\n",
        "head(arranged)"
      ],
      "metadata": {
        "id": "HzOUOSsd-6-n"
      },
      "execution_count": null,
      "outputs": []
    },
    {
      "cell_type": "markdown",
      "source": [
        "---\n",
        "# **6. Dataset Manipulation**\n",
        "---\n",
        "## **6.1 Merging Datasets (cbind, Colunm wise)**"
      ],
      "metadata": {
        "id": "dhBqvjmoDWZi"
      }
    },
    {
      "cell_type": "code",
      "source": [
        "m1 <- matrix(c(1:9),c(3,3))\n",
        "m2 <- matrix(c(10:18),c(3,3))\n",
        "cbind(m1,m2)"
      ],
      "metadata": {
        "id": "wBWm1BoMDWZn"
      },
      "execution_count": null,
      "outputs": []
    },
    {
      "cell_type": "markdown",
      "source": [
        "---\n",
        "## **6.2 Merging Datasets (rbind, Row wise)**\n",
        "---"
      ],
      "metadata": {
        "id": "ez49yMXcD5dB"
      }
    },
    {
      "cell_type": "code",
      "source": [
        "rbind(m1,m2)"
      ],
      "metadata": {
        "id": "t2hzWXI3D5dF"
      },
      "execution_count": null,
      "outputs": []
    },
    {
      "cell_type": "markdown",
      "source": [
        "---\n",
        "## **6.3 Merge Datasets (merge, Row wise)**\n",
        "---"
      ],
      "metadata": {
        "id": "oT3MPCH3IFMb"
      }
    },
    {
      "cell_type": "code",
      "source": [
        "names <- c('v1','v2','v3')\n",
        "colnames(m1) <- names\n",
        "colnames(m2) <- names\n",
        "merge(m1,m2, by = names, all = TRUE)"
      ],
      "metadata": {
        "id": "t1sl_sDNIFMe"
      },
      "execution_count": null,
      "outputs": []
    },
    {
      "cell_type": "markdown",
      "source": [
        "---\n",
        "## **6.4 Apply Datasets (apply())**\n",
        "---"
      ],
      "metadata": {
        "id": "CrxsZ0reIUXD"
      }
    },
    {
      "cell_type": "code",
      "source": [
        "# Sum the row wise\n",
        "m1\n",
        "apply(m1, 1, sum)"
      ],
      "metadata": {
        "id": "r1ZZPnTlIUXG"
      },
      "execution_count": null,
      "outputs": []
    },
    {
      "cell_type": "code",
      "source": [
        "# Sum the column wise\n",
        "m1\n",
        "apply(m1, 2, sum)"
      ],
      "metadata": {
        "id": "Be1nGrIQVSzZ"
      },
      "execution_count": null,
      "outputs": []
    },
    {
      "cell_type": "code",
      "source": [
        "# Mean the column wise\n",
        "m1\n",
        "apply(m1, 2, mean)"
      ],
      "metadata": {
        "id": "yttGDs_IVvHs"
      },
      "execution_count": null,
      "outputs": []
    },
    {
      "cell_type": "code",
      "source": [
        "# Square every value\n",
        "square<-function(x) x * x\n",
        "\n",
        "apply(m1, 2, square)"
      ],
      "metadata": {
        "id": "vHNFvKhcU8Lk"
      },
      "execution_count": null,
      "outputs": []
    },
    {
      "cell_type": "markdown",
      "source": [
        "---\n",
        "## **7. Model Evaluation Parameters for Regression and Classification using R**\n",
        "---\n",
        "- For Notebook **<a href=\"https://github.com/psrana/Model-Evaluation-Parameters-for-Regression-and-Classification\" target=\"_blank\"> Click Here</a>**\n"
      ],
      "metadata": {
        "id": "Gr-5KVIDWoSH"
      }
    },
    {
      "cell_type": "markdown",
      "source": [
        "---\n",
        "## **8. Multi-criteria decision making (MCDM) using Topsis**\n",
        "---\n",
        "- For Notebook **<a href=\"https://github.com/psrana/Topsis\" target=\"_blank\"> Click Here</a>**\n"
      ],
      "metadata": {
        "id": "9OsgF0EjeDiI"
      }
    }
  ]
}
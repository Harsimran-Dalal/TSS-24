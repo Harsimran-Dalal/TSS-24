{
  "nbformat": 4,
  "nbformat_minor": 0,
  "metadata": {
    "colab": {
      "provenance": [],
      "include_colab_link": true
    },
    "kernelspec": {
      "name": "python3",
      "display_name": "Python 3"
    },
    "language_info": {
      "name": "python"
    }
  },
  "cells": [
    {
      "cell_type": "markdown",
      "metadata": {
        "id": "view-in-github",
        "colab_type": "text"
      },
      "source": [
        "<a href=\"https://colab.research.google.com/github/Harsimran-Dalal/Convert-100-images-to-Grey-Scale/blob/main/Convert_100_images_to_Grey_Scale.ipynb\" target=\"_parent\"><img src=\"https://colab.research.google.com/assets/colab-badge.svg\" alt=\"Open In Colab\"/></a>"
      ]
    },
    {
      "cell_type": "code",
      "execution_count": 6,
      "metadata": {
        "colab": {
          "base_uri": "https://localhost:8080/"
        },
        "id": "8GdPm6OLfBJy",
        "outputId": "45681866-428c-4d9a-c19e-327d68d6c1b6"
      },
      "outputs": [
        {
          "output_type": "stream",
          "name": "stdout",
          "text": [
            "Collecting google_images_search\n",
            "  Downloading Google_Images_Search-1.4.7-py2.py3-none-any.whl (12 kB)\n",
            "Collecting colorama~=0.4 (from google_images_search)\n",
            "  Downloading colorama-0.4.6-py2.py3-none-any.whl (25 kB)\n",
            "Collecting pyfiglet~=0.8 (from google_images_search)\n",
            "  Downloading pyfiglet-0.8.post1-py2.py3-none-any.whl (865 kB)\n",
            "\u001b[2K     \u001b[90m━━━━━━━━━━━━━━━━━━━━━━━━━━━━━━━━━━━━━━━━\u001b[0m \u001b[32m865.8/865.8 kB\u001b[0m \u001b[31m18.9 MB/s\u001b[0m eta \u001b[36m0:00:00\u001b[0m\n",
            "\u001b[?25hCollecting termcolor~=1.1 (from google_images_search)\n",
            "  Downloading termcolor-1.1.0.tar.gz (3.9 kB)\n",
            "  Preparing metadata (setup.py) ... \u001b[?25l\u001b[?25hdone\n",
            "Requirement already satisfied: click<=8.2,>=7.0 in /usr/local/lib/python3.10/dist-packages (from google_images_search) (8.1.7)\n",
            "Requirement already satisfied: six~=1.12 in /usr/local/lib/python3.10/dist-packages (from google_images_search) (1.16.0)\n",
            "Requirement already satisfied: requests~=2.21 in /usr/local/lib/python3.10/dist-packages (from google_images_search) (2.31.0)\n",
            "Requirement already satisfied: Pillow>=8.1.1 in /usr/local/lib/python3.10/dist-packages (from google_images_search) (9.4.0)\n",
            "Collecting python-resize-image~=1.1 (from google_images_search)\n",
            "  Downloading python_resize_image-1.1.20-py2.py3-none-any.whl (8.4 kB)\n",
            "Collecting google-api-python-client~=2.48.0 (from google_images_search)\n",
            "  Downloading google_api_python_client-2.48.0-py2.py3-none-any.whl (8.5 MB)\n",
            "\u001b[2K     \u001b[90m━━━━━━━━━━━━━━━━━━━━━━━━━━━━━━━━━━━━━━━━\u001b[0m \u001b[32m8.5/8.5 MB\u001b[0m \u001b[31m51.6 MB/s\u001b[0m eta \u001b[36m0:00:00\u001b[0m\n",
            "\u001b[?25hRequirement already satisfied: httplib2<1dev,>=0.15.0 in /usr/local/lib/python3.10/dist-packages (from google-api-python-client~=2.48.0->google_images_search) (0.22.0)\n",
            "Requirement already satisfied: google-auth<3.0.0dev,>=1.16.0 in /usr/local/lib/python3.10/dist-packages (from google-api-python-client~=2.48.0->google_images_search) (2.27.0)\n",
            "Requirement already satisfied: google-auth-httplib2>=0.1.0 in /usr/local/lib/python3.10/dist-packages (from google-api-python-client~=2.48.0->google_images_search) (0.1.1)\n",
            "Requirement already satisfied: google-api-core!=2.0.*,!=2.1.*,!=2.2.*,!=2.3.0,<3.0.0dev,>=1.31.5 in /usr/local/lib/python3.10/dist-packages (from google-api-python-client~=2.48.0->google_images_search) (2.16.2)\n",
            "Requirement already satisfied: uritemplate<5,>=3.0.1 in /usr/local/lib/python3.10/dist-packages (from google-api-python-client~=2.48.0->google_images_search) (4.1.1)\n",
            "Requirement already satisfied: charset-normalizer<4,>=2 in /usr/local/lib/python3.10/dist-packages (from requests~=2.21->google_images_search) (3.3.2)\n",
            "Requirement already satisfied: idna<4,>=2.5 in /usr/local/lib/python3.10/dist-packages (from requests~=2.21->google_images_search) (3.7)\n",
            "Requirement already satisfied: urllib3<3,>=1.21.1 in /usr/local/lib/python3.10/dist-packages (from requests~=2.21->google_images_search) (2.0.7)\n",
            "Requirement already satisfied: certifi>=2017.4.17 in /usr/local/lib/python3.10/dist-packages (from requests~=2.21->google_images_search) (2024.6.2)\n",
            "Requirement already satisfied: googleapis-common-protos<2.0.dev0,>=1.56.2 in /usr/local/lib/python3.10/dist-packages (from google-api-core!=2.0.*,!=2.1.*,!=2.2.*,!=2.3.0,<3.0.0dev,>=1.31.5->google-api-python-client~=2.48.0->google_images_search) (1.63.2)\n",
            "Requirement already satisfied: protobuf!=3.20.0,!=3.20.1,!=4.21.0,!=4.21.1,!=4.21.2,!=4.21.3,!=4.21.4,!=4.21.5,<5.0.0.dev0,>=3.19.5 in /usr/local/lib/python3.10/dist-packages (from google-api-core!=2.0.*,!=2.1.*,!=2.2.*,!=2.3.0,<3.0.0dev,>=1.31.5->google-api-python-client~=2.48.0->google_images_search) (3.20.3)\n",
            "Requirement already satisfied: cachetools<6.0,>=2.0.0 in /usr/local/lib/python3.10/dist-packages (from google-auth<3.0.0dev,>=1.16.0->google-api-python-client~=2.48.0->google_images_search) (5.3.3)\n",
            "Requirement already satisfied: pyasn1-modules>=0.2.1 in /usr/local/lib/python3.10/dist-packages (from google-auth<3.0.0dev,>=1.16.0->google-api-python-client~=2.48.0->google_images_search) (0.4.0)\n",
            "Requirement already satisfied: rsa<5,>=3.1.4 in /usr/local/lib/python3.10/dist-packages (from google-auth<3.0.0dev,>=1.16.0->google-api-python-client~=2.48.0->google_images_search) (4.9)\n",
            "Requirement already satisfied: pyparsing!=3.0.0,!=3.0.1,!=3.0.2,!=3.0.3,<4,>=2.4.2 in /usr/local/lib/python3.10/dist-packages (from httplib2<1dev,>=0.15.0->google-api-python-client~=2.48.0->google_images_search) (3.1.2)\n",
            "Requirement already satisfied: pyasn1<0.7.0,>=0.4.6 in /usr/local/lib/python3.10/dist-packages (from pyasn1-modules>=0.2.1->google-auth<3.0.0dev,>=1.16.0->google-api-python-client~=2.48.0->google_images_search) (0.6.0)\n",
            "Building wheels for collected packages: termcolor\n",
            "  Building wheel for termcolor (setup.py) ... \u001b[?25l\u001b[?25hdone\n",
            "  Created wheel for termcolor: filename=termcolor-1.1.0-py3-none-any.whl size=4832 sha256=6095e653f09ce76ec235767d1b1adfc30be8cef71d3c3c9c20f1d77f7d10b3de\n",
            "  Stored in directory: /root/.cache/pip/wheels/a1/49/46/1b13a65d8da11238af9616b00fdde6d45b0f95d9291bac8452\n",
            "Successfully built termcolor\n",
            "Installing collected packages: termcolor, pyfiglet, colorama, python-resize-image, google-api-python-client, google_images_search\n",
            "  Attempting uninstall: termcolor\n",
            "    Found existing installation: termcolor 2.4.0\n",
            "    Uninstalling termcolor-2.4.0:\n",
            "      Successfully uninstalled termcolor-2.4.0\n",
            "  Attempting uninstall: google-api-python-client\n",
            "    Found existing installation: google-api-python-client 2.84.0\n",
            "    Uninstalling google-api-python-client-2.84.0:\n",
            "      Successfully uninstalled google-api-python-client-2.84.0\n",
            "Successfully installed colorama-0.4.6 google-api-python-client-2.48.0 google_images_search-1.4.7 pyfiglet-0.8.post1 python-resize-image-1.1.20 termcolor-1.1.0\n"
          ]
        }
      ],
      "source": [
        "!pip install google_images_search  #installation of library\n"
      ]
    },
    {
      "cell_type": "code",
      "source": [
        "from google_images_search import GoogleImagesSearch\n",
        "import zipfile\n",
        "import os\n",
        "# you can provide API key and CX using arguments,#custom search engine id\n",
        "gis = GoogleImagesSearch('Your_API_Key' , 'Your_CX' , validate_images=True)\n",
        "def search(keyword,imageNumber):\n",
        "    _search_params={\n",
        "        'q':keyword,\n",
        "        'num':imageNumber,\n",
        "    }\n",
        "    gis.search(search_params=_search_params, path_to_dir='./rgbimage/')\n",
        "search('bikes',100)"
      ],
      "metadata": {
        "id": "s3zuNWMNfK6l"
      },
      "execution_count": 16,
      "outputs": []
    },
    {
      "cell_type": "code",
      "source": [
        "from PIL import Image\n",
        "import matplotlib.pyplot as plt\n",
        "import os"
      ],
      "metadata": {
        "id": "sZ1YDPoRmpx2"
      },
      "execution_count": 17,
      "outputs": []
    },
    {
      "cell_type": "code",
      "source": [
        "import cv2\n",
        "from google.colab.patches import cv2_imshow\n"
      ],
      "metadata": {
        "id": "pqf0ddVaphNr"
      },
      "execution_count": 18,
      "outputs": []
    },
    {
      "cell_type": "code",
      "source": [
        "def convert_to_grayscale(image_path):\n",
        "    img=cv2.imread(image_path)\n",
        "    gray=cv2.cvtColor(img, cv2.COLOR_BGR2GRAY)\n",
        "    return gray"
      ],
      "metadata": {
        "id": "a8RxESw2plMM"
      },
      "execution_count": 19,
      "outputs": []
    },
    {
      "cell_type": "code",
      "source": [
        "input_directory='/content/rgbimage'\n"
      ],
      "metadata": {
        "id": "XPpcJHz-sHLe"
      },
      "execution_count": 20,
      "outputs": []
    },
    {
      "cell_type": "code",
      "source": [
        "output_directory='/content/grayscaleimages'"
      ],
      "metadata": {
        "id": "m05CnL3SsVpK"
      },
      "execution_count": 21,
      "outputs": []
    },
    {
      "cell_type": "code",
      "source": [
        "os.makedirs(output_directory, exist_ok=True)"
      ],
      "metadata": {
        "id": "2_Fubu51q_7s"
      },
      "execution_count": 22,
      "outputs": []
    },
    {
      "cell_type": "code",
      "source": [
        "image_files=os.listdir(input_directory)\n"
      ],
      "metadata": {
        "id": "rWZjBqIDstge"
      },
      "execution_count": 23,
      "outputs": []
    },
    {
      "cell_type": "code",
      "source": [
        "for image_file in image_files:\n",
        "    image_path=os.path.join(input_directory, image_file)\n",
        "    try:\n",
        "        gray_image = convert_to_grayscale(image_path)\n",
        "        output_path = os.path.join(output_directory, image_file)\n",
        "        cv2.imwrite(output_path, gray_image)\n",
        "        print(f\"Converted {image_file} to grayscale and saved as {output_path}\")\n",
        "    except Exception as e:\n",
        "        print(f\"Error processing {image_file}: {str(e)}\")\n"
      ],
      "metadata": {
        "colab": {
          "base_uri": "https://localhost:8080/"
        },
        "id": "1sXN5VV0s6PS",
        "outputId": "afa2b03a-d69a-4216-b042-601ef845e33c"
      },
      "execution_count": 24,
      "outputs": [
        {
          "output_type": "stream",
          "name": "stdout",
          "text": [
            "Converted 2021_FUJI_NEVADA_275_15_BLACK_FRONT.png to grayscale and saved as /content/grayscaleimages/2021_FUJI_NEVADA_275_15_BLACK_FRONT.png\n",
            "Converted 2022_SE_BIG-RIPPER_WOOD-GRAIN_REAR_1200x_b87596a8-a6fb-47d6-9185-f6f2e50a2da5.webp to grayscale and saved as /content/grayscaleimages/2022_SE_BIG-RIPPER_WOOD-GRAIN_REAR_1200x_b87596a8-a6fb-47d6-9185-f6f2e50a2da5.webp\n",
            "Converted surly-preamble-flat-bar-bike-blue-gray-bg-BK3643-1200x800.jpg to grayscale and saved as /content/grayscaleimages/surly-preamble-flat-bar-bike-blue-gray-bg-BK3643-1200x800.jpg\n",
            "Converted reid-cycles-australia-mtb-pro-27-5-disc-wsd-mountain-bike-light-blue-s-488.png to grayscale and saved as /content/grayscaleimages/reid-cycles-australia-mtb-pro-27-5-disc-wsd-mountain-bike-light-blue-s-488.png\n",
            "Converted kids-u-buddies.png to grayscale and saved as /content/grayscaleimages/kids-u-buddies.png\n",
            "Converted why-is-cocomelon-bad-for-kids-1682537691244.jpg to grayscale and saved as /content/grayscaleimages/why-is-cocomelon-bad-for-kids-1682537691244.jpg\n",
            "Converted state-bikes-best-fixie-bikes-64270e618a64a.jpg to grayscale and saved as /content/grayscaleimages/state-bikes-best-fixie-bikes-64270e618a64a.jpg\n",
            "Converted DSC03987.JPG to grayscale and saved as /content/grayscaleimages/DSC03987.JPG\n",
            "Converted android_192x192__xxxhdpi.png to grayscale and saved as /content/grayscaleimages/android_192x192__xxxhdpi.png\n",
            "Converted Kim-Kardashian-Kids-052023-2e1a6f5a912a44dd90e2552ec47a905d.jpg to grayscale and saved as /content/grayscaleimages/Kim-Kardashian-Kids-052023-2e1a6f5a912a44dd90e2552ec47a905d.jpg\n",
            "Converted 6AOTYku0j2Q6silxDLlOXbdWlHUg6q-WQCQRT9vWzdOHJ2UwnEbgtLj1QbWdyPTVUJIMmCQ7yfqWFvHgCTHCXxrAY9dhlNIcU_6QjS8=w600-h315-p-l80-sg-rj.jpg to grayscale and saved as /content/grayscaleimages/6AOTYku0j2Q6silxDLlOXbdWlHUg6q-WQCQRT9vWzdOHJ2UwnEbgtLj1QbWdyPTVUJIMmCQ7yfqWFvHgCTHCXxrAY9dhlNIcU_6QjS8=w600-h315-p-l80-sg-rj.jpg\n",
            "Converted DSCF0088-3.jpg to grayscale and saved as /content/grayscaleimages/DSCF0088-3.jpg\n",
            "Converted evil-bike-banner-insurgent_985ee63c-26b5-4b09-a59b-9da97671bd60.jpg to grayscale and saved as /content/grayscaleimages/evil-bike-banner-insurgent_985ee63c-26b5-4b09-a59b-9da97671bd60.jpg\n",
            "Converted 2022_SE_LIL-FLYER_WHITE_REAR.png to grayscale and saved as /content/grayscaleimages/2022_SE_LIL-FLYER_WHITE_REAR.png\n",
            "Converted yhj-image.jpg to grayscale and saved as /content/grayscaleimages/yhj-image.jpg\n",
            "Converted DSC03941_-_Copy.jpg to grayscale and saved as /content/grayscaleimages/DSC03941_-_Copy.jpg\n",
            "Converted se-bikes-bikes-red-ano-se-bikes-big-ripper-29-red-anodized-37312597754073@2x.png to grayscale and saved as /content/grayscaleimages/se-bikes-bikes-red-ano-se-bikes-big-ripper-29-red-anodized-37312597754073@2x.png\n",
            "Converted Cotton-On-Kids-6@2x-80.jpg to grayscale and saved as /content/grayscaleimages/Cotton-On-Kids-6@2x-80.jpg\n",
            "Converted Avatar-2.0-SO-side.jpg to grayscale and saved as /content/grayscaleimages/Avatar-2.0-SO-side.jpg\n",
            "Converted kidsclub-nebula-copy-1.jpg to grayscale and saved as /content/grayscaleimages/kidsclub-nebula-copy-1.jpg\n",
            "Converted BestOf-Kids-Sad-16.png to grayscale and saved as /content/grayscaleimages/BestOf-Kids-Sad-16.png\n",
            "Converted ride-mountain-bikes-raab-660c3f3e9a17c.jpg to grayscale and saved as /content/grayscaleimages/ride-mountain-bikes-raab-660c3f3e9a17c.jpg\n",
            "Converted 107203114-1677872178166-GettyImages-1382525205.jpg to grayscale and saved as /content/grayscaleimages/107203114-1677872178166-GettyImages-1382525205.jpg\n",
            "Converted Schatz_SP_9049-2-1140x500.jpg to grayscale and saved as /content/grayscaleimages/Schatz_SP_9049-2-1140x500.jpg\n",
            "Converted Lynx-16--BMX-Blue-Wildcat-Bikes-1655028490_1200x.jpg to grayscale and saved as /content/grayscaleimages/Lynx-16--BMX-Blue-Wildcat-Bikes-1655028490_1200x.jpg\n",
            "Converted family-photo-2022b-small.jpg to grayscale and saved as /content/grayscaleimages/family-photo-2022b-small.jpg\n",
            "Converted GettyImages-671260408.jpg to grayscale and saved as /content/grayscaleimages/GettyImages-671260408.jpg\n",
            "Converted allbikes-1539286251.jpg to grayscale and saved as /content/grayscaleimages/allbikes-1539286251.jpg\n",
            "Converted card-kids-hero.jpg to grayscale and saved as /content/grayscaleimages/card-kids-hero.jpg\n",
            "Converted jim-gaffigan-kids-1-5ecba9a6ed524891a89ee1e3d39dca46.jpg to grayscale and saved as /content/grayscaleimages/jim-gaffigan-kids-1-5ecba9a6ed524891a89ee1e3d39dca46.jpg\n",
            "Converted AdobeStock_57390451-1024x682.jpeg to grayscale and saved as /content/grayscaleimages/AdobeStock_57390451-1024x682.jpeg\n",
            "Converted child-gty-er-240108_1704734096411_hpMain_16x9.jpg to grayscale and saved as /content/grayscaleimages/child-gty-er-240108_1704734096411_hpMain_16x9.jpg\n",
            "Converted 20140405-nO-0122b-1.jpg to grayscale and saved as /content/grayscaleimages/20140405-nO-0122b-1.jpg\n",
            "Converted greens-bikes-outwyadironch42-64_600.jpg to grayscale and saved as /content/grayscaleimages/greens-bikes-outwyadironch42-64_600.jpg\n",
            "Converted Nature-loving-kids-featured.jpg to grayscale and saved as /content/grayscaleimages/Nature-loving-kids-featured.jpg\n",
            "Converted GettyImages-901208614-2000-9d4cdf4d1ad94fcb97ca78d67836a9d8.jpg to grayscale and saved as /content/grayscaleimages/GettyImages-901208614-2000-9d4cdf4d1ad94fcb97ca78d67836a9d8.jpg\n",
            "Converted surly-preamble-flat-bar-bike-421525-11.jpg to grayscale and saved as /content/grayscaleimages/surly-preamble-flat-bar-bike-421525-11.jpg\n",
            "Converted 2022_Fuji_TRANSONIC_11_Black_front.png to grayscale and saved as /content/grayscaleimages/2022_Fuji_TRANSONIC_11_Black_front.png\n",
            "Converted HowtoBuyaBike_kids_banner1920x1000.jpg to grayscale and saved as /content/grayscaleimages/HowtoBuyaBike_kids_banner1920x1000.jpg\n",
            "Converted getty_118389834_231136.jpg to grayscale and saved as /content/grayscaleimages/getty_118389834_231136.jpg\n",
            "Converted G23-allMTN.jpg to grayscale and saved as /content/grayscaleimages/G23-allMTN.jpg\n",
            "Converted 2154347937.jpg to grayscale and saved as /content/grayscaleimages/2154347937.jpg\n",
            "Converted DENVER+Main+Page.jpg to grayscale and saved as /content/grayscaleimages/DENVER+Main+Page.jpg\n",
            "Converted Hyper-Bicycles-Men-s-29-Explorer-Dual-Suspension-Mountain-Bike-Red_d885e90f-d5fa-4c8d-b79a-801ed6ae5bb2.38883fa729039ce5aaf1ffd4395718b7.jpeg to grayscale and saved as /content/grayscaleimages/Hyper-Bicycles-Men-s-29-Explorer-Dual-Suspension-Mountain-Bike-Red_d885e90f-d5fa-4c8d-b79a-801ed6ae5bb2.38883fa729039ce5aaf1ffd4395718b7.jpeg\n",
            "Converted YouTube_Kids_on_iPad_Screenshot.png to grayscale and saved as /content/grayscaleimages/YouTube_Kids_on_iPad_Screenshot.png\n",
            "Converted blacks-bikes-gm-lh-128-64_600.jpg to grayscale and saved as /content/grayscaleimages/blacks-bikes-gm-lh-128-64_600.jpg\n",
            "Converted Kids-Playing_Benefits-Sunshine_FAMILY_0322_2x1.jpg to grayscale and saved as /content/grayscaleimages/Kids-Playing_Benefits-Sunshine_FAMILY_0322_2x1.jpg\n",
            "Converted 2023_SE_BIGFLYER_MATTEGOLD_REAR.png to grayscale and saved as /content/grayscaleimages/2023_SE_BIGFLYER_MATTEGOLD_REAR.png\n",
            "Converted surly-preamble-flat-bar-bike-blue-gray-bg-BK3643-2000x1333.jpg to grayscale and saved as /content/grayscaleimages/surly-preamble-flat-bar-bike-blue-gray-bg-BK3643-2000x1333.jpg\n",
            "Converted reds-pinks-bikes-outwyadironch43-64_600.jpg to grayscale and saved as /content/grayscaleimages/reds-pinks-bikes-outwyadironch43-64_600.jpg\n",
            "Converted 3x25-9dymFsZ-WsoQd8MBLyLYP_iT3pAtBUBhxOsujx0dDNx7eXjo4Ys80rp7Xhvdu4=w526-h296-rw.jpg to grayscale and saved as /content/grayscaleimages/3x25-9dymFsZ-WsoQd8MBLyLYP_iT3pAtBUBhxOsujx0dDNx7eXjo4Ys80rp7Xhvdu4=w526-h296-rw.jpg\n",
            "Converted Supercargo_Grey_Website.jpg to grayscale and saved as /content/grayscaleimages/Supercargo_Grey_Website.jpg\n",
            "Error processing PBS_Kids_logo_%282022%29.svg: OpenCV(4.8.0) /io/opencv/modules/imgproc/src/color.cpp:182: error: (-215:Assertion failed) !_src.empty() in function 'cvtColor'\n",
            "\n",
            "Converted MV5BNTNmN2QyNTgtMTk0ZC00NmFhLWJlNzctZmMyYTczZTYyMzA1XkEyXkFqcGdeQXVyMTQxNzMzNDI@._V1_FMjpg_UX1000_.jpg to grayscale and saved as /content/grayscaleimages/MV5BNTNmN2QyNTgtMTk0ZC00NmFhLWJlNzctZmMyYTczZTYyMzA1XkEyXkFqcGdeQXVyMTQxNzMzNDI@._V1_FMjpg_UX1000_.jpg\n",
            "Converted featured_art_overparenting_istock.jpg to grayscale and saved as /content/grayscaleimages/featured_art_overparenting_istock.jpg\n",
            "Converted 2022_FUJI_GRANFONDO_11_MATTE_CARBON_GLOSSWHITE_FRONT.png to grayscale and saved as /content/grayscaleimages/2022_FUJI_GRANFONDO_11_MATTE_CARBON_GLOSSWHITE_FRONT.png\n",
            "Converted MV5BNTNmN2QyNTgtMTk0ZC00NmFhLWJlNzctZmMyYTczZTYyMzA1XkEyXkFqcGdeQXVyMTQxNzMzNDI@._V1_.jpg to grayscale and saved as /content/grayscaleimages/MV5BNTNmN2QyNTgtMTk0ZC00NmFhLWJlNzctZmMyYTczZTYyMzA1XkEyXkFqcGdeQXVyMTQxNzMzNDI@._V1_.jpg\n",
            "Converted G1147656393.jpg to grayscale and saved as /content/grayscaleimages/G1147656393.jpg\n",
            "Converted Pedego-Avenue-Step-Thru-in-Ocean-Teal.jpg to grayscale and saved as /content/grayscaleimages/Pedego-Avenue-Step-Thru-in-Ocean-Teal.jpg\n",
            "Converted 2021_SE_BIG-RIPPER_PURPLE_FRONT_1728x_76f140d0-1b07-4be6-879c-63e9400d4fcc.jpg to grayscale and saved as /content/grayscaleimages/2021_SE_BIG-RIPPER_PURPLE_FRONT_1728x_76f140d0-1b07-4be6-879c-63e9400d4fcc.jpg\n",
            "Converted yelling-at-kids_1296x728-header.jpg to grayscale and saved as /content/grayscaleimages/yelling-at-kids_1296x728-header.jpg\n",
            "Converted C_games_2.png to grayscale and saved as /content/grayscaleimages/C_games_2.png\n",
            "Converted ride-hybrid-bikes-66032d3679bfb.jpg to grayscale and saved as /content/grayscaleimages/ride-hybrid-bikes-66032d3679bfb.jpg\n",
            "Error processing cat_road_cy24.ashx: OpenCV(4.8.0) /io/opencv/modules/imgcodecs/src/loadsave.cpp:696: error: (-2:Unspecified error) could not find a writer for the specified extension in function 'imwrite_'\n",
            "\n",
            "Converted 2022_FUJI_JARI_11_MATTEBLACK_FRONT.png to grayscale and saved as /content/grayscaleimages/2022_FUJI_JARI_11_MATTEBLACK_FRONT.png\n",
            "Converted .jpg to grayscale and saved as /content/grayscaleimages/.jpg\n",
            "Converted 62a3191c43daec02602fe789_Image%201-%20Children%20playing%20at%20a%20summer%20camp.jpeg to grayscale and saved as /content/grayscaleimages/62a3191c43daec02602fe789_Image%201-%20Children%20playing%20at%20a%20summer%20camp.jpeg\n",
            "Converted blues-bikes-hp-27-b-64_600.jpg to grayscale and saved as /content/grayscaleimages/blues-bikes-hp-27-b-64_600.jpg\n",
            "Converted kid-bedtime-pajamas-bed-732x549-thumbnail-732x549.jpg to grayscale and saved as /content/grayscaleimages/kid-bedtime-pajamas-bed-732x549-thumbnail-732x549.jpg\n",
            "Converted 986078_091515-cc-happy-kids-img.jpg to grayscale and saved as /content/grayscaleimages/986078_091515-cc-happy-kids-img.jpg\n",
            "Converted 383687_8457_XL.jpg to grayscale and saved as /content/grayscaleimages/383687_8457_XL.jpg\n",
            "Converted iStock-494239087+kids+running+at+playground_web.jpg to grayscale and saved as /content/grayscaleimages/iStock-494239087+kids+running+at+playground_web.jpg\n",
            "Converted what-is-going-right-for-kids-blog.jpg to grayscale and saved as /content/grayscaleimages/what-is-going-right-for-kids-blog.jpg\n",
            "Converted C68-Limited-Edition-1.jpg to grayscale and saved as /content/grayscaleimages/C68-Limited-Edition-1.jpg\n",
            "Converted Best_Trail_Bike_2024_Review_Test_ENDURO_WEB_Res-7581.jpg to grayscale and saved as /content/grayscaleimages/Best_Trail_Bike_2024_Review_Test_ENDURO_WEB_Res-7581.jpg\n",
            "Converted Propella-blue-orange+background.jpeg to grayscale and saved as /content/grayscaleimages/Propella-blue-orange+background.jpeg\n",
            "Converted liverpool-fc-academy-pro-third-big-kids-dri-fit-soccer-pre-match-top-QRdtL1.png to grayscale and saved as /content/grayscaleimages/liverpool-fc-academy-pro-third-big-kids-dri-fit-soccer-pre-match-top-QRdtL1.png\n",
            "Converted 21_starlite_blue_lagoon-1024x1024.png to grayscale and saved as /content/grayscaleimages/21_starlite_blue_lagoon-1024x1024.png\n",
            "Converted 61tilO4erpL._AC_UF1000,1000_QL80_.jpg to grayscale and saved as /content/grayscaleimages/61tilO4erpL._AC_UF1000,1000_QL80_.jpg\n",
            "Converted 8c6ea02fd09aa8fc13ed5eaba5ad0f34.jpg to grayscale and saved as /content/grayscaleimages/8c6ea02fd09aa8fc13ed5eaba5ad0f34.jpg\n",
            "Converted ridestyle-touring-hero.jpg to grayscale and saved as /content/grayscaleimages/ridestyle-touring-hero.jpg\n",
            "Converted bob2023_kids-DreamKidSpa.jpg to grayscale and saved as /content/grayscaleimages/bob2023_kids-DreamKidSpa.jpg\n",
            "Converted Offering_LS_Front_GX_Reigning-Blood.png to grayscale and saved as /content/grayscaleimages/Offering_LS_Front_GX_Reigning-Blood.png\n",
            "Converted 1140x665-bike-types-collage.imgcache.rev.web.900.525.jpg to grayscale and saved as /content/grayscaleimages/1140x665-bike-types-collage.imgcache.rev.web.900.525.jpg\n",
            "Converted AKSCGym-027-745x655.jpg to grayscale and saved as /content/grayscaleimages/AKSCGym-027-745x655.jpg\n",
            "Converted PlayLearn_Screenshots_2688x1242_2.jpg to grayscale and saved as /content/grayscaleimages/PlayLearn_Screenshots_2688x1242_2.jpg\n",
            "Converted sharp-1.jpeg to grayscale and saved as /content/grayscaleimages/sharp-1.jpeg\n",
            "Error processing model_synapse_carbon_c23.ashx: OpenCV(4.8.0) /io/opencv/modules/imgcodecs/src/loadsave.cpp:696: error: (-2:Unspecified error) could not find a writer for the specified extension in function 'imwrite_'\n",
            "\n",
            "Converted 2023_SE_BEASTMODE-RIPPER_RED_FRONT__64596.1719000514.jpg to grayscale and saved as /content/grayscaleimages/2023_SE_BEASTMODE-RIPPER_RED_FRONT__64596.1719000514.jpg\n",
            "Converted full_2024_3211-2_stitched-trial_P04_P5.jpg to grayscale and saved as /content/grayscaleimages/full_2024_3211-2_stitched-trial_P04_P5.jpg\n",
            "Converted PlayLearn_Screenshots_2688x1242_3.jpg to grayscale and saved as /content/grayscaleimages/PlayLearn_Screenshots_2688x1242_3.jpg\n",
            "Converted KFB-Feature-Warm@1.5x.png to grayscale and saved as /content/grayscaleimages/KFB-Feature-Warm@1.5x.png\n",
            "Converted SEBikes22-21211200529-2.jpg to grayscale and saved as /content/grayscaleimages/SEBikes22-21211200529-2.jpg\n",
            "Converted benno_boost_glamour_c2.jpg to grayscale and saved as /content/grayscaleimages/benno_boost_glamour_c2.jpg\n",
            "Converted cube-nuride-riding-d7c69fe.jpg to grayscale and saved as /content/grayscaleimages/cube-nuride-riding-d7c69fe.jpg\n",
            "Converted am-170-1-hero.jpg to grayscale and saved as /content/grayscaleimages/am-170-1-hero.jpg\n",
            "Converted ride-folding-bikes-6491fb43ae3de.jpg to grayscale and saved as /content/grayscaleimages/ride-folding-bikes-6491fb43ae3de.jpg\n",
            "Converted 29WORKING-OUT-WITH-KIDS3-jvch-videoSixteenByNine3000-v2.jpg to grayscale and saved as /content/grayscaleimages/29WORKING-OUT-WITH-KIDS3-jvch-videoSixteenByNine3000-v2.jpg\n",
            "Converted 107081378-1656361235570-GettyImages-1225403728_2.jpg to grayscale and saved as /content/grayscaleimages/107081378-1656361235570-GettyImages-1225403728_2.jpg\n",
            "Converted childAngry-1202675391-770x533-1_jpg.jpg to grayscale and saved as /content/grayscaleimages/childAngry-1202675391-770x533-1_jpg.jpg\n",
            "Converted Kicd21517903-kids-classes-hero-xs-1536x1536.jpg to grayscale and saved as /content/grayscaleimages/Kicd21517903-kids-classes-hero-xs-1536x1536.jpg\n",
            "Error processing subcat_trail_c23.ashx: OpenCV(4.8.0) /io/opencv/modules/imgcodecs/src/loadsave.cpp:696: error: (-2:Unspecified error) could not find a writer for the specified extension in function 'imwrite_'\n",
            "\n",
            "Converted Folding-Bikes-In-Montana-Joe-Cruz_23.jpg to grayscale and saved as /content/grayscaleimages/Folding-Bikes-In-Montana-Joe-Cruz_23.jpg\n",
            "Converted hello-dave-gx-P1.jpg to grayscale and saved as /content/grayscaleimages/hello-dave-gx-P1.jpg\n",
            "Converted O30001KidsT-shirt_DustyMint_White_804x.jpg to grayscale and saved as /content/grayscaleimages/O30001KidsT-shirt_DustyMint_White_804x.jpg\n",
            "Converted GUEST_866f3501-1b60-4916-957c-1e20f1397ee9.jpg to grayscale and saved as /content/grayscaleimages/GUEST_866f3501-1b60-4916-957c-1e20f1397ee9.jpg\n",
            "Converted 2023_Spur_Gallery1.jpg to grayscale and saved as /content/grayscaleimages/2023_Spur_Gallery1.jpg\n",
            "Converted image.jpg to grayscale and saved as /content/grayscaleimages/image.jpg\n",
            "Converted O2B_013022_143.png to grayscale and saved as /content/grayscaleimages/O2B_013022_143.png\n",
            "Converted rihanna-asap-kids-pics-091923-6-4f8e899a9de149e491d529fe47239010.jpg to grayscale and saved as /content/grayscaleimages/rihanna-asap-kids-pics-091923-6-4f8e899a9de149e491d529fe47239010.jpg\n",
            "Error processing hero-image.29606438.svg: OpenCV(4.8.0) /io/opencv/modules/imgproc/src/color.cpp:182: error: (-215:Assertion failed) !_src.empty() in function 'cvtColor'\n",
            "\n",
            "Converted Lowside_BK0534_Background-2000x1333.jpg to grayscale and saved as /content/grayscaleimages/Lowside_BK0534_Background-2000x1333.jpg\n",
            "Converted Triban-RC500-06-a74a44a.jpg to grayscale and saved as /content/grayscaleimages/Triban-RC500-06-a74a44a.jpg\n",
            "Converted PR-1.jpg to grayscale and saved as /content/grayscaleimages/PR-1.jpg\n",
            "Converted baby-kids_1110x700.jpg to grayscale and saved as /content/grayscaleimages/baby-kids_1110x700.jpg\n",
            "Converted Best_Trail_Bike_2024_Review_Test_ENDURO_WEB_Res-7581-2000x500.jpg to grayscale and saved as /content/grayscaleimages/Best_Trail_Bike_2024_Review_Test_ENDURO_WEB_Res-7581-2000x500.jpg\n",
            "Converted 14-Inch-Nav-Updated_350x.jpg to grayscale and saved as /content/grayscaleimages/14-Inch-Nav-Updated_350x.jpg\n",
            "Converted surly-preamble-flat-bar-bike-blue-BK3643-800x600.jpg to grayscale and saved as /content/grayscaleimages/surly-preamble-flat-bar-bike-blue-BK3643-800x600.jpg\n",
            "Converted what-is-going-right-for-kids-blog-1024x536.jpg to grayscale and saved as /content/grayscaleimages/what-is-going-right-for-kids-blog-1024x536.jpg\n",
            "Converted iStock-When-Are-Kids-Ready-for-Social-Media-1.jpg to grayscale and saved as /content/grayscaleimages/iStock-When-Are-Kids-Ready-for-Social-Media-1.jpg\n",
            "Converted se-bikes-mike-buff-fast-ripper-29-inch-412038-1.png to grayscale and saved as /content/grayscaleimages/se-bikes-mike-buff-fast-ripper-29-inch-412038-1.png\n",
            "Converted bWFpbi9oZXJvLTEtd2ViLmpwZw==.jpg to grayscale and saved as /content/grayscaleimages/bWFpbi9oZXJvLTEtd2ViLmpwZw==.jpg\n",
            "Converted commute-stock-2023-0096-6601852c3e700.jpg to grayscale and saved as /content/grayscaleimages/commute-stock-2023-0096-6601852c3e700.jpg\n",
            "Converted SCOR_2030_Beste_Trail_Bike_2024_END_058_WEB_Res00001-600x400.jpg to grayscale and saved as /content/grayscaleimages/SCOR_2030_Beste_Trail_Bike_2024_END_058_WEB_Res00001-600x400.jpg\n",
            "Converted 8.jpg to grayscale and saved as /content/grayscaleimages/8.jpg\n",
            "Converted sco-bike-division-big-slider-kids-easter-1600x750-260224_2125767.jpg to grayscale and saved as /content/grayscaleimages/sco-bike-division-big-slider-kids-easter-1600x750-260224_2125767.jpg\n",
            "Converted hKtBs4lW0Ri1StwUKHlcYkYwHAmANgr5wt2MnoFrTYQ3Xkq107FCy-b1VhQEFDrKuE0u.jpg to grayscale and saved as /content/grayscaleimages/hKtBs4lW0Ri1StwUKHlcYkYwHAmANgr5wt2MnoFrTYQ3Xkq107FCy-b1VhQEFDrKuE0u.jpg\n",
            "Converted 71kX4vTDyqL._AC_UF1000,1000_QL80_.jpg to grayscale and saved as /content/grayscaleimages/71kX4vTDyqL._AC_UF1000,1000_QL80_.jpg\n",
            "Converted 2022_FUJI_CONDUCTOR_21__USA_SATIN_BLACK_FRONT.png to grayscale and saved as /content/grayscaleimages/2022_FUJI_CONDUCTOR_21__USA_SATIN_BLACK_FRONT.png\n",
            "Converted 41JBoKJeADL._AC_SX522_.jpg to grayscale and saved as /content/grayscaleimages/41JBoKJeADL._AC_SX522_.jpg\n",
            "Converted KDSummerPassport-Posters.png to grayscale and saved as /content/grayscaleimages/KDSummerPassport-Posters.png\n",
            "Converted UJZ7bWmDvIZgTKbg7sCIEYguvdLgr2ZmDYD4ThAlvHggzYSL2vlCUtEG9p4yHFRuySs=w526-h296-rw.jpg to grayscale and saved as /content/grayscaleimages/UJZ7bWmDvIZgTKbg7sCIEYguvdLgr2ZmDYD4ThAlvHggzYSL2vlCUtEG9p4yHFRuySs=w526-h296-rw.jpg\n",
            "Converted 76u-min-1200x834.jpg to grayscale and saved as /content/grayscaleimages/76u-min-1200x834.jpg\n",
            "Converted when-can-kids-get-vaccine.jpg to grayscale and saved as /content/grayscaleimages/when-can-kids-get-vaccine.jpg\n",
            "Converted 6387a23bd346c10018949695.jpg to grayscale and saved as /content/grayscaleimages/6387a23bd346c10018949695.jpg\n",
            "Converted leopard_gt_red-1.jpg to grayscale and saved as /content/grayscaleimages/leopard_gt_red-1.jpg\n",
            "Converted 035A4093-1-1920x1280.jpg to grayscale and saved as /content/grayscaleimages/035A4093-1-1920x1280.jpg\n",
            "Converted best-gravel-bikes-lead-cnnu.jpg to grayscale and saved as /content/grayscaleimages/best-gravel-bikes-lead-cnnu.jpg\n",
            "Converted sco-bike-category-page-tape-riding-mtb-530x300_2108529.jpg to grayscale and saved as /content/grayscaleimages/sco-bike-category-page-tape-riding-mtb-530x300_2108529.jpg\n",
            "Converted r7.png to grayscale and saved as /content/grayscaleimages/r7.png\n",
            "Converted fns-connecting-kids-meals-blog-052223.jpg to grayscale and saved as /content/grayscaleimages/fns-connecting-kids-meals-blog-052223.jpg\n",
            "Converted back-to-school-set-school-kids-education-concept-vector-illustration-72366188.jpg to grayscale and saved as /content/grayscaleimages/back-to-school-set-school-kids-education-concept-vector-illustration-72366188.jpg\n",
            "Converted Why-Kids-Fall-Apart-After-School-and-How-to-Help.jpg to grayscale and saved as /content/grayscaleimages/Why-Kids-Fall-Apart-After-School-and-How-to-Help.jpg\n",
            "Converted bullseye-monster-nautblu-21.jpg to grayscale and saved as /content/grayscaleimages/bullseye-monster-nautblu-21.jpg\n",
            "Converted gravel-bikes-sgg23_s.jpg to grayscale and saved as /content/grayscaleimages/gravel-bikes-sgg23_s.jpg\n",
            "Converted 2151785172.jpg to grayscale and saved as /content/grayscaleimages/2151785172.jpg\n",
            "Converted Shouts-Webster-NotSuitable-WontBeHavingKids.jpg to grayscale and saved as /content/grayscaleimages/Shouts-Webster-NotSuitable-WontBeHavingKids.jpg\n",
            "Converted 9-Hooray-1200x834.jpg to grayscale and saved as /content/grayscaleimages/9-Hooray-1200x834.jpg\n",
            "Converted bmx-bikes-gt-0077-644fdbea308a8.jpg to grayscale and saved as /content/grayscaleimages/bmx-bikes-gt-0077-644fdbea308a8.jpg\n",
            "Error processing subcat_race_c23.ashx: OpenCV(4.8.0) /io/opencv/modules/imgcodecs/src/loadsave.cpp:696: error: (-2:Unspecified error) could not find a writer for the specified extension in function 'imwrite_'\n",
            "\n",
            "Converted apple.jpg to grayscale and saved as /content/grayscaleimages/apple.jpg\n",
            "Converted blues-zeus-ruta-bikes-wq-189-64_600.jpg to grayscale and saved as /content/grayscaleimages/blues-zeus-ruta-bikes-wq-189-64_600.jpg\n",
            "Converted surly-ogre-bike-fermented-plum-BK00290-800x600.jpg to grayscale and saved as /content/grayscaleimages/surly-ogre-bike-fermented-plum-BK00290-800x600.jpg\n",
            "Converted jokes-for-kids-jp-6-230131-47cbda.jpg to grayscale and saved as /content/grayscaleimages/jokes-for-kids-jp-6-230131-47cbda.jpg\n",
            "Converted Teaching-Process-Art-To-Kids-Benefits-and-Activities.jpg to grayscale and saved as /content/grayscaleimages/Teaching-Process-Art-To-Kids-Benefits-and-Activities.jpg\n",
            "Converted 2024_Kids_Workshop_May_BloomingFrame_L_C.jpg to grayscale and saved as /content/grayscaleimages/2024_Kids_Workshop_May_BloomingFrame_L_C.jpg\n",
            "Converted 056e5bdc-8adb-4606-98be-d820ab028e13.jpeg to grayscale and saved as /content/grayscaleimages/056e5bdc-8adb-4606-98be-d820ab028e13.jpeg\n",
            "Converted Norco-Shore-2-freeride-mountain-bike-35-4a8b779.jpg to grayscale and saved as /content/grayscaleimages/Norco-Shore-2-freeride-mountain-bike-35-4a8b779.jpg\n",
            "Converted what%20is%20a%20jones.jpg to grayscale and saved as /content/grayscaleimages/what%20is%20a%20jones.jpg\n",
            "Converted pedego-ridge-rider-classic-650x536.jpg to grayscale and saved as /content/grayscaleimages/pedego-ridge-rider-classic-650x536.jpg\n",
            "Converted MV5BNjFkNjA0YmYtNDk4Yi00YjU1LWFjYTgtZmRkZTMzNTEwMzgxXkEyXkFqcGdeQXVyMTA0MTM5NjI2._V1_.jpg to grayscale and saved as /content/grayscaleimages/MV5BNjFkNjA0YmYtNDk4Yi00YjU1LWFjYTgtZmRkZTMzNTEwMzgxXkEyXkFqcGdeQXVyMTA0MTM5NjI2._V1_.jpg\n",
            "Converted _Prince-Jackson-Paris-Jackson-and-Bigi-Jackson-032724-2-980d8ff6a92647569a337721b871aa8f.jpg to grayscale and saved as /content/grayscaleimages/_Prince-Jackson-Paris-Jackson-and-Bigi-Jackson-032724-2-980d8ff6a92647569a337721b871aa8f.jpg\n",
            "Converted 383685_21601_XL.jpg to grayscale and saved as /content/grayscaleimages/383685_21601_XL.jpg\n",
            "Converted couple-biking-beach_s.jpg to grayscale and saved as /content/grayscaleimages/couple-biking-beach_s.jpg\n",
            "Converted Citi_Bike_Ride_experience_Get_ready_to_ride_2x.jpg to grayscale and saved as /content/grayscaleimages/Citi_Bike_Ride_experience_Get_ready_to_ride_2x.jpg\n",
            "Converted Best-E-Bikes-Roundup-March-2024-Gear.jpg to grayscale and saved as /content/grayscaleimages/Best-E-Bikes-Roundup-March-2024-Gear.jpg\n",
            "Converted Infants_3.jpg to grayscale and saved as /content/grayscaleimages/Infants_3.jpg\n",
            "Converted are-kids-hardwired-for-revenge.jpg to grayscale and saved as /content/grayscaleimages/are-kids-hardwired-for-revenge.jpg\n",
            "Converted Karbon-Stampede-Framset-Main-1200x1200.jpg to grayscale and saved as /content/grayscaleimages/Karbon-Stampede-Framset-Main-1200x1200.jpg\n",
            "Converted Front---Protein---Full-Build---Dark-Background.png to grayscale and saved as /content/grayscaleimages/Front---Protein---Full-Build---Dark-Background.png\n",
            "Converted 71pqeds8iwL.jpg to grayscale and saved as /content/grayscaleimages/71pqeds8iwL.jpg\n",
            "Converted 5-ways-to-help-your-kids-find-calm.jpg to grayscale and saved as /content/grayscaleimages/5-ways-to-help-your-kids-find-calm.jpg\n",
            "Converted G3G5_230908_debate_hero.jpg to grayscale and saved as /content/grayscaleimages/G3G5_230908_debate_hero.jpg\n",
            "Converted 04d43ffc4b696c419e748da794d88f74.jpg to grayscale and saved as /content/grayscaleimages/04d43ffc4b696c419e748da794d88f74.jpg\n",
            "Converted boys-and-girls-dancing-resize-e1676315540337-1024x558.png to grayscale and saved as /content/grayscaleimages/boys-and-girls-dancing-resize-e1676315540337-1024x558.png\n",
            "Converted 230.jpg to grayscale and saved as /content/grayscaleimages/230.jpg\n",
            "Converted greens-bikes-outwyadironch42-64_1000.jpg to grayscale and saved as /content/grayscaleimages/greens-bikes-outwyadironch42-64_1000.jpg\n",
            "Converted 2022_FUJI_ADVENTURE_275_MATTE_BLACK_FRONT_4fe2f97a-d808-4199-9bdd-1847f2115cd4.png to grayscale and saved as /content/grayscaleimages/2022_FUJI_ADVENTURE_275_MATTE_BLACK_FRONT_4fe2f97a-d808-4199-9bdd-1847f2115cd4.png\n",
            "Converted electric-mountain-bikes_s.jpg to grayscale and saved as /content/grayscaleimages/electric-mountain-bikes_s.jpg\n",
            "Converted Happy-Kids-Beach.jpg to grayscale and saved as /content/grayscaleimages/Happy-Kids-Beach.jpg\n",
            "Converted Kids_film.jpg to grayscale and saved as /content/grayscaleimages/Kids_film.jpg\n",
            "Converted G1290287581.png to grayscale and saved as /content/grayscaleimages/G1290287581.png\n",
            "Converted BMC_Roadmachine_PressRide_01_TWO_2024Christophe-Baer-0244-scaled.jpg to grayscale and saved as /content/grayscaleimages/BMC_Roadmachine_PressRide_01_TWO_2024Christophe-Baer-0244-scaled.jpg\n",
            "Converted 1920_kidsplayingsoccer.jpg to grayscale and saved as /content/grayscaleimages/1920_kidsplayingsoccer.jpg\n",
            "Converted Ridestyle-canyon-downhill-01.jpg to grayscale and saved as /content/grayscaleimages/Ridestyle-canyon-downhill-01.jpg\n",
            "Converted c5ee3bf816590b36b4b5adf17734c9e5.jpg to grayscale and saved as /content/grayscaleimages/c5ee3bf816590b36b4b5adf17734c9e5.jpg\n",
            "Converted R6HS_1_800x.jpg to grayscale and saved as /content/grayscaleimages/R6HS_1_800x.jpg\n",
            "Converted maxresdefault.jpg to grayscale and saved as /content/grayscaleimages/maxresdefault.jpg\n",
            "Converted AKP_DP_Hero_WithCopy_MO_EN_R4.png to grayscale and saved as /content/grayscaleimages/AKP_DP_Hero_WithCopy_MO_EN_R4.png\n",
            "Converted specialized-turbo-como-3.0-igh-397821-1.jpg to grayscale and saved as /content/grayscaleimages/specialized-turbo-como-3.0-igh-397821-1.jpg\n",
            "Converted SEBikes21-21211200429-2.jpg to grayscale and saved as /content/grayscaleimages/SEBikes21-21211200429-2.jpg\n",
            "Converted mxw_640,f_auto.jpg to grayscale and saved as /content/grayscaleimages/mxw_640,f_auto.jpg\n",
            "Converted trax-lightweight-navigation.jpg to grayscale and saved as /content/grayscaleimages/trax-lightweight-navigation.jpg\n",
            "Converted baby-toddler-kid-bath-bathtub-1200x628-facebook-1200x628.jpg to grayscale and saved as /content/grayscaleimages/baby-toddler-kid-bath-bathtub-1200x628-facebook-1200x628.jpg\n",
            "Converted shutterstock_50844475-cropped.jpg to grayscale and saved as /content/grayscaleimages/shutterstock_50844475-cropped.jpg\n",
            "Converted 20Chaos_HydroDip2_1800x.jpg to grayscale and saved as /content/grayscaleimages/20Chaos_HydroDip2_1800x.jpg\n",
            "Converted 1900x1900-000000-80-0-0.jpg to grayscale and saved as /content/grayscaleimages/1900x1900-000000-80-0-0.jpg\n",
            "Converted BestOf-Kids-Sad-16.png.webp to grayscale and saved as /content/grayscaleimages/BestOf-Kids-Sad-16.png.webp\n"
          ]
        }
      ]
    }
  ]
}